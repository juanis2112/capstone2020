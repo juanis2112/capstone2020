{
 "cells": [
  {
   "cell_type": "code",
   "execution_count": 6,
   "metadata": {
    "collapsed": false
   },
   "outputs": [
   ],
   "source": [
    "import random\n",
    "import string\n",
    "import pandas as pd"
   ]
  },
  {
   "cell_type": "markdown",
   "metadata": {
    "collapsed": false
   },
   "source": [
    "## Generacion de Listas\n",
    "1. Se genera una lista universal de codigos,documentos para que no se repitan registros con esas variables\n",
    "2. Se crean la listas predeterminadas que se saben que no se va a modificar que son accesos,subaccesos,sexo,facultad y programa"
   ]
  },
  {
   "cell_type": "code",
   "execution_count": 51,
   "metadata": {
    "collapsed": false
   },
   "outputs": [
   ],
   "source": [
    "Codigo_Universal =[]\n",
    "Doc_Universal =[]\n",
    "Documento_I_Universal =[]\n",
    "Codigos_asignaturas_universal = []\n",
    "\n",
    "accesos = [\"Nuevo al programa\",\"Extranjero\",\"Doble Programa\",\n",
    "                    \"Reingreso por Fortalecimiento académico\",\"Terminó condición doble programa\"]\n",
    "\n",
    "subaccesos = [\"Bachillerato con Examen de Estado\", \"SER PILO PAGA 4\",\n",
    "              \"Departamento de Admisiones\", \"Generación E\",\"SER PILO PAGA 3\",\n",
    "              \"GENERAL\",\"GENERAL\",\"GENERAL\",\"GENERAL\",\"GENERAL\"]\n",
    "sexo = [\"H\",\"M\"]\n",
    "\n",
    "facultad = [\"ESCUELA DE INGENIERIA,CIENCIA Y TECNOLOGIA\"]\n",
    "programa = [\"MATEMATICAS APLICADAS Y CIENCIAS DE LA COMPUTACION\"]"
   ]
  },
  {
   "cell_type": "markdown",
   "metadata": {
    "collapsed": false
   },
   "source": [
    "3. Se genera la lista de materias con sus respectivos creditos"
   ]
  },
  {
   "cell_type": "code",
   "execution_count": 8,
   "metadata": {
    "collapsed": false
   },
   "outputs": [
   ],
   "source": [
    "# Sin electivas generales ni HM\n",
    "materias_S1 = [\"Precalculo\",\"Pensamiento matematico\",\"Programacion de Computadores\", \"Logica, teoria de numeros y conjuntos\", \"Analisis de textos\",\"Etica\",\"Catedra Rosarista\"]\n",
    "creditos_S1 = [3,2,3,3,2,2,2]\n",
    "#\n",
    "materias_S2 = ['Calculo','Fundamentos de sistemas digitales','Algoritmos y estrucutra de datos','Logica para ciencias de la computación','Analisis de argumentos','Constitucion politica e instruccion civica']\n",
    "creditos_S2 =[3,3,3,2,2,2]\n",
    "\n",
    "#\n",
    "materias_S3 =['Calculo 2','Algebra lineal','Manejo de base de datos','Probabilidad y estadistica 1','Cornerstone project','Escritura de ensayos de opinion']\n",
    "creditos_S3 = [3,3,3,3,3,2]\n",
    "#\n",
    "materias_S4 = [\"Calculo 3\",\"Teoria de grafos\",\"Teoria de la computacion\",\"Probabilidad y estadistica 2\",\"Optimizacion\",\"Electivas de Profundizacion 1\"]\n",
    "creditos_S4 = [2,3,3,2,3,2]\n",
    "#\n",
    "materias_S5 = ['Variable compleja','Analisis real','Ecuaciones Diferenciales','Analisis estadistico de datos','Keystone project','Electiva de profundizacion 2']\n",
    "creditos_S5 = [2,3,3,3,2,2]\n",
    "#\n",
    "materias_S6 = [\"Elementos de fisica\",\"Algebra abstracta y codificacion\",\"Modelacion de sistemas dinamicos\",\"Electivas de profundicacion 6.1\", \"Electivas de profundicacion 6.2\",\"Seminario de grado\"]\n",
    "creditos_S6 = [3,4,3,2,2,1]"
   ]
  },
  {
   "cell_type": "markdown",
   "metadata": {
    "collapsed": false
   },
   "source": [
    "# Generación de códigos por asignatura\n",
    "4. Se genera una lista de códigos de asignatura por semestre, un numero aleatorio entero entre 0 y 100000"
   ]
  },
  {
   "cell_type": "code",
   "execution_count": 65,
   "metadata": {
    "collapsed": false
   },
   "outputs": [
    {
     "name": "stdout",
     "output_type": "stream",
     "text": [
      "[334804, 120904, 409421, 23363, 782560, 120484, 727251]\n",
      "[208612, 338809, 226526, 804202, 896196, 333884]\n",
      "[475141, 522303, 325743, 630729, 752483, 849874]\n",
      "[229199, 272485, 345930, 943794, 112740, 122916]\n",
      "[370791, 812164, 666610, 63938, 785345, 294737]\n",
      "[292065, 326405, 371594, 190022, 551099, 831109]\n"
     ]
    }
   ],
   "source": [
    "# Para el semestre 1\n",
    "codigos_semestre_1 = []\n",
    "for i in range(len(materias_S1)):\n",
    "    cod_asignatura_S1 = random.randint(0,1000000)\n",
    "    while cod_asignatura_S1 in Codigos_asignaturas_universal:\n",
    "        cod_asignatura_S1 = random.randint(0,1000000)\n",
    "    Codigos_asignaturas_universal.append(cod_asignatura_S1)\n",
    "    codigos_semestre_1.append(cod_asignatura_S1)\n",
    "# Para el semestre 2\n",
    "codigos_semestre_2 = []\n",
    "for i in range(len(materias_S2)):\n",
    "    cod_asignatura_S2 = random.randint(0,1000000)\n",
    "    while cod_asignatura_S2 in Codigos_asignaturas_universal:\n",
    "        cod_asignatura_S2 = random.randint(0,1000000)\n",
    "    Codigos_asignaturas_universal.append(cod_asignatura_S2)\n",
    "    codigos_semestre_2.append(cod_asignatura_S2)\n",
    "# Para el semestre 3\n",
    "codigos_semestre_3 = []\n",
    "for i in range(len(materias_S3)):\n",
    "    cod_asignatura_S3 = random.randint(0,1000000)\n",
    "    while cod_asignatura_S3 in Codigos_asignaturas_universal:\n",
    "        cod_asignatura_S3 = random.randint(0,1000000)\n",
    "    Codigos_asignaturas_universal.append(cod_asignatura_S3)\n",
    "    codigos_semestre_3.append(cod_asignatura_S3)\n",
    "# Para el semestre 4\n",
    "codigos_semestre_4 = []\n",
    "for i in range(len(materias_S4)):\n",
    "    cod_asignatura_S4 = random.randint(0,1000000)\n",
    "    while cod_asignatura_S4 in Codigos_asignaturas_universal:\n",
    "        cod_asignatura_S4 = random.randint(0,1000000)\n",
    "    Codigos_asignaturas_universal.append(cod_asignatura_S4)\n",
    "    codigos_semestre_4.append(cod_asignatura_S4)\n",
    "# Para el semestre 5\n",
    "codigos_semestre_5 = []\n",
    "for i in range(len(materias_S5)):\n",
    "    cod_asignatura_S5 = random.randint(0,1000000)\n",
    "    while cod_asignatura_S5 in Codigos_asignaturas_universal:\n",
    "        cod_asignatura_S5 = random.randint(0,1000000)\n",
    "    Codigos_asignaturas_universal.append(cod_asignatura_S5)\n",
    "    codigos_semestre_5.append(cod_asignatura_S5)\n",
    "# Para el semestre 6\n",
    "codigos_semestre_6 = []\n",
    "for i in range(len(materias_S6)):\n",
    "    cod_asignatura_S6 = random.randint(0,1000000)\n",
    "    while cod_asignatura_S6 in Codigos_asignaturas_universal:\n",
    "        cod_asignatura_S6 = random.randint(0,1000000)\n",
    "    Codigos_asignaturas_universal.append(cod_asignatura_S6)\n",
    "    codigos_semestre_6.append(cod_asignatura_S6)"
   ]
  },
  {
   "cell_type": "markdown",
   "metadata": {
    "collapsed": false
   },
   "source": [
    "Se crea una función que genere un nombre aleatorio, este despues se podra modificar por la libreria \"names\" para que genere nombres mas reales."
   ]
  },
  {
   "cell_type": "code",
   "execution_count": 21,
   "metadata": {
    "collapsed": false
   },
   "outputs": [
   ],
   "source": [
    "def randomString(stringLength=8):\n",
    "    letters = string.ascii_lowercase\n",
    "    return ''.join(random.choice(letters) for i in range(stringLength))"
   ]
  },
  {
   "cell_type": "markdown",
   "metadata": {
    "collapsed": false
   },
   "source": [
    "# Generar estudiante (parte 1)\n",
    "- Se genera el codigo de un estudiante de manera aleatoria\n",
    "- Se genera el documento actual del estudiante así como su documento de ingreso\n",
    " (Nombre , correo, sexo)\n",
    "- Se genera el nombre de la persona como una combinación aleatoria de 8 caracteres\n",
    "- A partir del nombre obtenido se crea una su correo institucional de la forma nombre@urosario.edu.co\n",
    "- El sexo de la persona se selecciona de manera aleatoria entre las opciones de hombre (H) y mujer (M)\n",
    "- Se selecciona de manera aleatoria el acceso de la persona de las posibles opciones: \n",
    "    - Nuevo al programa\n",
    "    - Extranjero\n",
    "    - Doble programa\n",
    "    - Reingreso por fortalecimiento\n",
    "    - Terminó Condición Doble Programa\n",
    "- Se Selecciona de manera aleatoria el sub-acceso de la persona de las posibles opciones:\n",
    "    - Bachillerato con Examen de Estado\n",
    "    - SER PILO PAGA i , con i el número de la generación\n",
    "    - Departamento de Admisiones\n",
    "    - GENERAL\n",
    "- Para la columna Facultad/Escuela y Programa el valor para cada estudiante por defecto es \"ESCUELA DE INGENIERÍA, CIENCIA Y TECNOLOGÍA\" y \"MATEMÁTICAS APLICADAS Y CIENCIAS DE LA COMPUTACIÓN\"\\\n",
    "\n",
    "Nota: Para propósitos de la generación de los datos de prueba esta información no necesariamente es coherente con la realidad\n"
   ]
  },
  {
   "cell_type": "code",
   "execution_count": 113,
   "metadata": {
    "collapsed": false
   },
   "outputs": [
   ],
   "source": [
    "def generar_estudiante1(accesos,subaccesos,sexo):\n",
    "    # Generando Codigo aleatorio\n",
    "    codigo = random.randint(0,1000000)\n",
    "    #Agregando en Lista universal de codigos, para que despues no se repitan codigos\n",
    "    while codigo in Codigo_Universal:\n",
    "        codigo = random.randint(0,1000000)\n",
    "    Codigo_Universal.append(codigo)\n",
    "    print(\"codigo: \", codigo)\n",
    "    #_actual = random.rand\n",
    "    # Generando Codigo aleatorio\n",
    "    doc_actual = random.randint(0,100000)\n",
    "    while doc_actual  in Doc_Universal:\n",
    "        doc_actual = random.randint(0,1000000)\n",
    "    #Agregando en Lista universal de codigos, para que despues no se repitan codigos\n",
    "    Doc_Universal.append(doc_actual)\n",
    "    print(\"Documento actual: \",doc_actual)\n",
    "    #\n",
    "    # Generando Codigo aleatorio\n",
    "    doc_ingreso= random.randint(0,1000000)\n",
    "    #Agregando en Lista universal de codigos, para que despues no se repitan codigos\n",
    "    while doc_ingreso in Documento_I_Universal:\n",
    "        doc_ingreso = random.randint(0,1000000)\n",
    "    Documento_I_Universal.append(doc_ingreso)\n",
    "    print(\"Documento de ingreso: \",doc_ingreso)\n",
    "    # Correo\n",
    "    #\n",
    "    Nombre = randomString()\n",
    "    print(\"Nombre: \",Nombre)\n",
    "    correo = Nombre +\"@urosario.edu.co\"\n",
    "    print(\"Correo: \",correo)\n",
    "    #\n",
    "    # Sexo\n",
    "    est_sexo = random.sample(sexo,1) # resultado = [\"M\"] o [\"H\"]\n",
    "    est_sexo = est_sexo[0]\n",
    "    print(\"Sexo: \",est_sexo)\n",
    "    #\n",
    "    # Acceso\n",
    "    est_acceso = random.sample(accesos,1)\n",
    "    est_acceso = est_acceso[0]\n",
    "    print(\"Acceso: \", est_acceso)\n",
    "    # Subacceso\n",
    "    est_subacceso = random.sample(subaccesos,1)\n",
    "    est_subacceso = est_subacceso[0]\n",
    "    print(\"Subacceso: \",est_subacceso)\n",
    "    # Facultad\n",
    "    Facultad = \"ESCUELA DE INGENIERIA,CIENCIA Y TECNOLOGIA\"\n",
    "    print(\"Facultad: \",Facultad)\n",
    "    Programa = \"MATEMATICAS APLICADAS Y CIENCIAS DE LA COMPUTACION\"\n",
    "    print(\"Programa: \",Programa)\n",
    "    registro = {'Documento Ingreso': doc_ingreso,'Documento Actual':doc_actual,'Código':codigo,'Apellido 1 Estudiante':\"-\",'Apellido 2 Estudiante':\"-\",'Nombres Estudiante':Nombre,'Acceso':est_acceso,     'Subacceso':est_subacceso, 'Correo Institucional':correo,'Sexo':est_sexo,'Facultad / Escuela':Facultad,'Programa':Programa}\n",
    "    return registro"
   ]
  },
  {
   "cell_type": "markdown",
   "metadata": {
    "collapsed": false
   },
   "source": [
    "Verificamos que funciona correctamente"
   ]
  },
  {
   "cell_type": "code",
   "execution_count": 115,
   "metadata": {
    "collapsed": false
   },
   "outputs": [
    {
     "name": "stdout",
     "output_type": "stream",
     "text": [
      "codigo:  133698\n",
      "Documento actual:  15297\n",
      "Documento de ingreso:  825301\n",
      "Nombre:  itxyuvvi\n",
      "Correo:  itxyuvvi@urosario.edu.co\n",
      "Sexo:  H\n",
      "Acceso:  Nuevo al programa\n",
      "Subacceso:  SER PILO PAGA 3\n",
      "Facultad:  ESCUELA DE INGENIERIA,CIENCIA Y TECNOLOGIA\n",
      "Programa:  MATEMATICAS APLICADAS Y CIENCIAS DE LA COMPUTACION\n"
     ]
    }
   ],
   "source": [
    "registro = generar_estudiante1(accesos,subaccesos,sexo)"
   ]
  },
  {
   "cell_type": "markdown",
   "metadata": {
    "collapsed": false
   },
   "source": [
    "#### GENERACION DE CERO BASE DE DATOS"
   ]
  },
  {
   "cell_type": "code",
   "execution_count": 218,
   "metadata": {
    "collapsed": false
   },
   "outputs": [
   ],
   "source": [
    "pd.set_option('display.max_columns', None) ##Opcion para que muestre todas las columnas que tiene la tabla"
   ]
  },
  {
   "cell_type": "markdown",
   "metadata": {
    "collapsed": false
   },
   "source": [
    "Se genera la base de datos sin ningun registro con las columnas correspondientes al excel."
   ]
  },
  {
   "cell_type": "code",
   "execution_count": 245,
   "metadata": {
    "collapsed": false
   },
   "outputs": [
    {
     "data": {
      "text/html": [
       "<div>\n",
       "<style scoped>\n",
       "    .dataframe tbody tr th:only-of-type {\n",
       "        vertical-align: middle;\n",
       "    }\n",
       "\n",
       "    .dataframe tbody tr th {\n",
       "        vertical-align: top;\n",
       "    }\n",
       "\n",
       "    .dataframe thead th {\n",
       "        text-align: right;\n",
       "    }\n",
       "</style>\n",
       "<table border=\"1\" class=\"dataframe\">\n",
       "  <thead>\n",
       "    <tr style=\"text-align: right;\">\n",
       "      <th></th>\n",
       "      <th>Documento Ingreso</th>\n",
       "      <th>Documento Actual</th>\n",
       "      <th>Código</th>\n",
       "      <th>Apellido 1 Estudiante</th>\n",
       "      <th>Apellido 2 Estudiante</th>\n",
       "      <th>Nombres Estudiante</th>\n",
       "      <th>Acceso</th>\n",
       "      <th>Subacceso</th>\n",
       "      <th>Correo Institucional</th>\n",
       "      <th>Sexo</th>\n",
       "      <th>Facultad / Escuela</th>\n",
       "      <th>Programa</th>\n",
       "      <th>Semestre</th>\n",
       "      <th>Creditos inscritos</th>\n",
       "      <th>Codigo Asignatura</th>\n",
       "      <th>Nombre Asignatura</th>\n",
       "      <th>Creditos Asignatura</th>\n",
       "      <th>Grupo Asignatura</th>\n",
       "      <th>Tipologia Asignatura</th>\n",
       "      <th>Nota 1er Corte</th>\n",
       "      <th>%1er Corte</th>\n",
       "      <th>Nota 2do Corte</th>\n",
       "      <th>%2do Corte</th>\n",
       "      <th>Nota 3er Corte</th>\n",
       "      <th>%3er Corte</th>\n",
       "      <th>Nota 4to Corte</th>\n",
       "      <th>%4to Corte</th>\n",
       "      <th>Nota 5to Corte</th>\n",
       "      <th>%5to Corte</th>\n",
       "    </tr>\n",
       "  </thead>\n",
       "  <tbody>\n",
       "  </tbody>\n",
       "</table>\n",
       "</div>"
      ],
      "text/plain": [
       "Empty DataFrame\n",
       "Columns: [Documento Ingreso, Documento Actual, Código, Apellido 1 Estudiante, Apellido 2 Estudiante, Nombres Estudiante, Acceso, Subacceso, Correo Institucional, Sexo, Facultad / Escuela, Programa, Semestre, Creditos inscritos, Codigo Asignatura, Nombre Asignatura, Creditos Asignatura, Grupo Asignatura, Tipologia Asignatura, Nota 1er Corte, %1er Corte, Nota 2do Corte, %2do Corte, Nota 3er Corte, %3er Corte, Nota 4to Corte, %4to Corte, Nota 5to Corte, %5to Corte]\n",
       "Index: []"
      ]
     },
     "execution_count": 245,
     "metadata": {
     },
     "output_type": "execute_result"
    }
   ],
   "source": [
    "columnas = ['Documento Ingreso','Documento Actual','Código','Apellido 1 Estudiante','Apellido 2 Estudiante','Nombres Estudiante','Acceso','Subacceso','Correo Institucional','Sexo','Facultad / Escuela','Programa','Semestre','Creditos inscritos','Codigo Asignatura','Nombre Asignatura','Creditos Asignatura','Grupo Asignatura','Tipologia Asignatura','Nota 1er Corte','%1er Corte','Nota 2do Corte','%2do Corte','Nota 3er Corte','%3er Corte','Nota 4to Corte','%4to Corte','Nota 5to Corte','%5to Corte']\n",
    "df =pd.DataFrame(columns = columnas)\n",
    "df.head()"
   ]
  },
  {
   "cell_type": "markdown",
   "metadata": {
    "collapsed": false
   },
   "source": [
    "Es necesario cuando generamos las notas con aleatoriedad, que es posible que nos de valores mayores a 5 y menores a 0, por la distribución normal que utilizamos. Si se pasa de 5, se pone 5 la nota y si pasa por debajo de 0, la nota es 0."
   ]
  },
  {
   "cell_type": "code",
   "execution_count": 246,
   "metadata": {
    "collapsed": false
   },
   "outputs": [
   ],
   "source": [
    "def corregir(nota):\n",
    "    if nota >5:\n",
    "        nota = 5\n",
    "    elif nota <0:\n",
    "        nota = 0\n",
    "    nota = round(nota,1) #Redondeo un decimal de la nota\n",
    "    return nota"
   ]
  },
  {
   "cell_type": "markdown",
   "metadata": {
    "collapsed": false
   },
   "source": [
    "## Generacion Estudiante (Parte 2)\n",
    "Esta funcion recibe : la base de datos(df), accesos(lista ya creada predeterminada),subaccesos(lista ya creada predeterminada), semestre del estudiante que se va a generar.\n",
    "Esta funcion tambien recibe una media$(\\mu)$ y varianza$(\\sigma)$ de tal manera que que genere un dato aleatorio basandose en una distribucion normal con $N \\sim (\\mu,\\sigma)$.\n",
    "1. Se genera un registro con solo las variables generadas en la parte 1.\n",
    "2. Se hace un if para cada caso del semestre. Dado el caso de semestre, se cambia la lista de materias,creditos y codigos.\n",
    "3. Se crea un i del tamaño de lista de materias, para que agregue cada materia con sus respectivos codigos y creditos.\n",
    "4. Se agregan el semestre, Creditos inscritos en ese semestre, Codigo Asignatura,Grupo Asignatura (solo un grupo por cada materia),Numero de creditos que vale la asignatura,tipologia asignatura ( solo hemos creado obligatorias)\n",
    "5. Se crean las notas con media$(\\mu)$ y varianza$(\\sigma)$, esto para que podamos tener control de el tipo de estudiante(Excelente,bueno,normal,malo,alerta) que vamos a generar para poder nutir el modelo estadistico despues.Se utiliza una aleatorizacion de la media y varianza con una distribucion normal$N \\sim (\\mu,\\sigma)$. Despues se redondea esa nota a un decimal con la funcion *corregir(nota)*\n",
    "6. Despues se agrega la nota  del corte respectivo con su respectivo porcentaje.\n",
    "7. Se agrega el registro a la base de datos\n",
    "8. Retorna la base de datos"
   ]
  },
  {
   "cell_type": "code",
   "execution_count": 247,
   "metadata": {
    "collapsed": false
   },
   "outputs": [
   ],
   "source": [
    "def generar_estudiante2(df, accesos, subaccesos, sexo, semestre,media,varianza):\n",
    "    registro = generar_estudiante1(accesos, subaccesos, sexo)\n",
    "    if semestre == 1:\n",
    "        materias = materias_S1\n",
    "        creditos = creditos_S1\n",
    "        codigos = codigos_semestre_1\n",
    "    elif semestre == 2:\n",
    "        materias = materias_S2\n",
    "        creditos = creditos_S2\n",
    "        codigos = codigos_semestre_2\n",
    "    elif semestre == 3:\n",
    "        materias = materias_S3\n",
    "        creditos = creditos_S3\n",
    "        codigos = codigos_semestre_3\n",
    "    elif semestre == 4:\n",
    "        materias = materias_S4\n",
    "        creditos = creditos_S4\n",
    "        codigos = codigos_semestre_4\n",
    "    elif semestre == 5:\n",
    "        materias = materias_S5\n",
    "        creditos = creditos_S5\n",
    "        codigos = codigos_semestre_5\n",
    "    elif semestre ==6:\n",
    "        materias = materias_S6\n",
    "        creditos = creditos_S6\n",
    "        codigos = codigos_semestre_6\n",
    "    for i in range(len(materias)):\n",
    "        materia = materias[i]\n",
    "        credito = creditos[i]\n",
    "        codigo = codigos[i]\n",
    "        registro['Semestre'] = semestre\n",
    "        registro['Creditos inscritos'] = sum(creditos)\n",
    "        registro['Codigo Asignatura'] = codigo\n",
    "        registro['Nombre Asignatura'] = materia\n",
    "        registro['Creditos Asignatura'] = credito\n",
    "        registro['Grupo Asignatura']= 1\n",
    "        registro['Tipologia Asignatura']=\"OBLIGATORIA\"\n",
    "        ###### CORRECION NOTAS\n",
    "        nota1 = random.normalvariate(media,varianza)\n",
    "        nota1 = corregir(nota1)\n",
    "        nota2 = random.normalvariate(media,varianza)\n",
    "        nota2 = corregir(nota2)\n",
    "        nota3 = random.normalvariate(media,varianza)\n",
    "        nota3 = corregir(nota3)\n",
    "        nota4 = random.normalvariate(media,varianza)\n",
    "        nota4 = corregir(nota3)\n",
    "        nota5 = random.normalvariate(media,varianza)\n",
    "        nota5 = corregir(nota3)\n",
    "        ######\n",
    "        registro['Nota 1er Corte'] = nota1\n",
    "        registro['%1er Corte'] = 20\n",
    "        registro['Nota 2do Corte'] = nota2\n",
    "        registro['%2do Corte'] = 20\n",
    "        registro['Nota 3er Corte'] = nota3\n",
    "        registro['%3er Corte'] = 20\n",
    "        registro['Nota 4to Corte'] = nota4\n",
    "        registro['%4to Corte'] = 15\n",
    "        registro['Nota 5to Corte'] = nota5\n",
    "        registro['%5to Corte'] = 25\n",
    "        print(\"Creditos: \",credito)\n",
    "        print(\"Materia: \", materia)\n",
    "        df = df.append(registro, ignore_index=True) # Agrega registro a base de datos\n",
    "    return df"
   ]
  },
  {
   "cell_type": "markdown",
   "metadata": {
    "collapsed": false
   },
   "source": [
    "# Generar estudiante antiguo\n",
    "Para generar un estudiante antiguo se llama a la función generar_estudiante2 de tal forma que para un semestre determinado genere todas sus notas en los semestres pasados"
   ]
  },
  {
   "cell_type": "code",
   "execution_count": 252,
   "metadata": {
    "collapsed": false
   },
   "outputs": [
   ],
   "source": [
    "def generar_estudiante_antiguo(df, accesos, subaccesos, sexo, semestre,media,varianza):\n",
    "    semestre_t = semestre\n",
    "    df_t = df\n",
    "    while semestre_t > 0 :\n",
    "        df_t = generar_estudiante2(df_t, accesos, subaccesos, sexo, semestre_t,media,varianza)\n",
    "        semestre_t = semestre_t -1\n",
    "    return df_t"
   ]
  },
  {
   "cell_type": "code",
   "execution_count": 253,
   "metadata": {
    "collapsed": false
   },
   "outputs": [
    {
     "name": "stdout",
     "output_type": "stream",
     "text": [
      "codigo:  504856\n",
      "Documento actual:  98389\n",
      "Documento de ingreso:  360251\n",
      "Nombre:  mnnodzle\n",
      "Correo:  mnnodzle@urosario.edu.co\n",
      "Sexo:  M\n",
      "Acceso:  Doble Programa\n",
      "Subacceso:  Generación E\n",
      "Facultad:  ESCUELA DE INGENIERIA,CIENCIA Y TECNOLOGIA\n",
      "Programa:  MATEMATICAS APLICADAS Y CIENCIAS DE LA COMPUTACION\n",
      "Creditos:  3\n",
      "Materia:  Calculo\n",
      "Creditos:  3\n",
      "Materia:  Fundamentos de sistemas digitales\n",
      "Creditos:  3\n",
      "Materia:  Algoritmos y estrucutra de datos\n",
      "Creditos:  2\n",
      "Materia:  Logica para ciencias de la computación\n",
      "Creditos:  2\n",
      "Materia:  Analisis de argumentos\n",
      "Creditos:  2\n",
      "Materia:  Constitucion politica e instruccion civica\n",
      "codigo:  512753\n",
      "Documento actual:  20772\n",
      "Documento de ingreso:  890045\n",
      "Nombre:  mplzsuzm\n",
      "Correo:  mplzsuzm@urosario.edu.co\n",
      "Sexo:  H\n",
      "Acceso:  Terminó condición doble programa\n",
      "Subacceso:  Departamento de Admisiones\n",
      "Facultad:  ESCUELA DE INGENIERIA,CIENCIA Y TECNOLOGIA\n",
      "Programa:  MATEMATICAS APLICADAS Y CIENCIAS DE LA COMPUTACION\n",
      "Creditos:  3\n",
      "Materia:  Precalculo\n",
      "Creditos:  2\n",
      "Materia:  Pensamiento matematico\n",
      "Creditos:  3\n",
      "Materia:  Programacion de Computadores\n",
      "Creditos:  3\n",
      "Materia:  Logica, teoria de numeros y conjuntos\n",
      "Creditos:  2\n",
      "Materia:  Analisis de textos\n"
     ]
    },
    {
     "name": "stdout",
     "output_type": "stream",
     "text": [
      "Creditos:  2\n",
      "Materia:  Etica\n",
      "Creditos:  2\n",
      "Materia:  Catedra Rosarista\n"
     ]
    }
   ],
   "source": [
    "df = generar_estudiante_antiguo(df,accesos,subaccesos,sexo,semestre=2,media=4,varianza=0.5)"
   ]
  },
  {
   "cell_type": "code",
   "execution_count": 250,
   "metadata": {
    "collapsed": false
   },
   "outputs": [
    {
     "data": {
      "text/html": [
       "<div>\n",
       "<style scoped>\n",
       "    .dataframe tbody tr th:only-of-type {\n",
       "        vertical-align: middle;\n",
       "    }\n",
       "\n",
       "    .dataframe tbody tr th {\n",
       "        vertical-align: top;\n",
       "    }\n",
       "\n",
       "    .dataframe thead th {\n",
       "        text-align: right;\n",
       "    }\n",
       "</style>\n",
       "<table border=\"1\" class=\"dataframe\">\n",
       "  <thead>\n",
       "    <tr style=\"text-align: right;\">\n",
       "      <th></th>\n",
       "      <th>Documento Ingreso</th>\n",
       "      <th>Documento Actual</th>\n",
       "      <th>Código</th>\n",
       "      <th>Apellido 1 Estudiante</th>\n",
       "      <th>Apellido 2 Estudiante</th>\n",
       "      <th>Nombres Estudiante</th>\n",
       "      <th>Acceso</th>\n",
       "      <th>Subacceso</th>\n",
       "      <th>Correo Institucional</th>\n",
       "      <th>Sexo</th>\n",
       "      <th>Facultad / Escuela</th>\n",
       "      <th>Programa</th>\n",
       "      <th>Semestre</th>\n",
       "      <th>Creditos inscritos</th>\n",
       "      <th>Codigo Asignatura</th>\n",
       "      <th>Nombre Asignatura</th>\n",
       "      <th>Creditos Asignatura</th>\n",
       "      <th>Grupo Asignatura</th>\n",
       "      <th>Tipologia Asignatura</th>\n",
       "      <th>Nota 1er Corte</th>\n",
       "      <th>%1er Corte</th>\n",
       "      <th>Nota 2do Corte</th>\n",
       "      <th>%2do Corte</th>\n",
       "      <th>Nota 3er Corte</th>\n",
       "      <th>%3er Corte</th>\n",
       "      <th>Nota 4to Corte</th>\n",
       "      <th>%4to Corte</th>\n",
       "      <th>Nota 5to Corte</th>\n",
       "      <th>%5to Corte</th>\n",
       "    </tr>\n",
       "  </thead>\n",
       "  <tbody>\n",
       "    <tr>\n",
       "      <th>0</th>\n",
       "      <td>179907</td>\n",
       "      <td>49942</td>\n",
       "      <td>372378</td>\n",
       "      <td>-</td>\n",
       "      <td>-</td>\n",
       "      <td>andzaiyu</td>\n",
       "      <td>Reingreso por Fortalecimiento académico</td>\n",
       "      <td>SER PILO PAGA 4</td>\n",
       "      <td>andzaiyu@urosario.edu.co</td>\n",
       "      <td>M</td>\n",
       "      <td>ESCUELA DE INGENIERIA,CIENCIA Y TECNOLOGIA</td>\n",
       "      <td>MATEMATICAS APLICADAS Y CIENCIAS DE LA COMPUTA...</td>\n",
       "      <td>2</td>\n",
       "      <td>15</td>\n",
       "      <td>208612</td>\n",
       "      <td>Calculo</td>\n",
       "      <td>3</td>\n",
       "      <td>1</td>\n",
       "      <td>OBLIGATORIA</td>\n",
       "      <td>3.7</td>\n",
       "      <td>20</td>\n",
       "      <td>3.5</td>\n",
       "      <td>20</td>\n",
       "      <td>3.6</td>\n",
       "      <td>20</td>\n",
       "      <td>3.6</td>\n",
       "      <td>15</td>\n",
       "      <td>3.6</td>\n",
       "      <td>25</td>\n",
       "    </tr>\n",
       "    <tr>\n",
       "      <th>1</th>\n",
       "      <td>179907</td>\n",
       "      <td>49942</td>\n",
       "      <td>372378</td>\n",
       "      <td>-</td>\n",
       "      <td>-</td>\n",
       "      <td>andzaiyu</td>\n",
       "      <td>Reingreso por Fortalecimiento académico</td>\n",
       "      <td>SER PILO PAGA 4</td>\n",
       "      <td>andzaiyu@urosario.edu.co</td>\n",
       "      <td>M</td>\n",
       "      <td>ESCUELA DE INGENIERIA,CIENCIA Y TECNOLOGIA</td>\n",
       "      <td>MATEMATICAS APLICADAS Y CIENCIAS DE LA COMPUTA...</td>\n",
       "      <td>2</td>\n",
       "      <td>15</td>\n",
       "      <td>338809</td>\n",
       "      <td>Fundamentos de sistemas digitales</td>\n",
       "      <td>3</td>\n",
       "      <td>1</td>\n",
       "      <td>OBLIGATORIA</td>\n",
       "      <td>3.9</td>\n",
       "      <td>20</td>\n",
       "      <td>4.9</td>\n",
       "      <td>20</td>\n",
       "      <td>4.5</td>\n",
       "      <td>20</td>\n",
       "      <td>4.5</td>\n",
       "      <td>15</td>\n",
       "      <td>4.5</td>\n",
       "      <td>25</td>\n",
       "    </tr>\n",
       "    <tr>\n",
       "      <th>2</th>\n",
       "      <td>179907</td>\n",
       "      <td>49942</td>\n",
       "      <td>372378</td>\n",
       "      <td>-</td>\n",
       "      <td>-</td>\n",
       "      <td>andzaiyu</td>\n",
       "      <td>Reingreso por Fortalecimiento académico</td>\n",
       "      <td>SER PILO PAGA 4</td>\n",
       "      <td>andzaiyu@urosario.edu.co</td>\n",
       "      <td>M</td>\n",
       "      <td>ESCUELA DE INGENIERIA,CIENCIA Y TECNOLOGIA</td>\n",
       "      <td>MATEMATICAS APLICADAS Y CIENCIAS DE LA COMPUTA...</td>\n",
       "      <td>2</td>\n",
       "      <td>15</td>\n",
       "      <td>226526</td>\n",
       "      <td>Algoritmos y estrucutra de datos</td>\n",
       "      <td>3</td>\n",
       "      <td>1</td>\n",
       "      <td>OBLIGATORIA</td>\n",
       "      <td>4.6</td>\n",
       "      <td>20</td>\n",
       "      <td>3.5</td>\n",
       "      <td>20</td>\n",
       "      <td>4.1</td>\n",
       "      <td>20</td>\n",
       "      <td>4.1</td>\n",
       "      <td>15</td>\n",
       "      <td>4.1</td>\n",
       "      <td>25</td>\n",
       "    </tr>\n",
       "    <tr>\n",
       "      <th>3</th>\n",
       "      <td>179907</td>\n",
       "      <td>49942</td>\n",
       "      <td>372378</td>\n",
       "      <td>-</td>\n",
       "      <td>-</td>\n",
       "      <td>andzaiyu</td>\n",
       "      <td>Reingreso por Fortalecimiento académico</td>\n",
       "      <td>SER PILO PAGA 4</td>\n",
       "      <td>andzaiyu@urosario.edu.co</td>\n",
       "      <td>M</td>\n",
       "      <td>ESCUELA DE INGENIERIA,CIENCIA Y TECNOLOGIA</td>\n",
       "      <td>MATEMATICAS APLICADAS Y CIENCIAS DE LA COMPUTA...</td>\n",
       "      <td>2</td>\n",
       "      <td>15</td>\n",
       "      <td>804202</td>\n",
       "      <td>Logica para ciencias de la computación</td>\n",
       "      <td>2</td>\n",
       "      <td>1</td>\n",
       "      <td>OBLIGATORIA</td>\n",
       "      <td>3.8</td>\n",
       "      <td>20</td>\n",
       "      <td>4.3</td>\n",
       "      <td>20</td>\n",
       "      <td>3.0</td>\n",
       "      <td>20</td>\n",
       "      <td>3.0</td>\n",
       "      <td>15</td>\n",
       "      <td>3.0</td>\n",
       "      <td>25</td>\n",
       "    </tr>\n",
       "    <tr>\n",
       "      <th>4</th>\n",
       "      <td>179907</td>\n",
       "      <td>49942</td>\n",
       "      <td>372378</td>\n",
       "      <td>-</td>\n",
       "      <td>-</td>\n",
       "      <td>andzaiyu</td>\n",
       "      <td>Reingreso por Fortalecimiento académico</td>\n",
       "      <td>SER PILO PAGA 4</td>\n",
       "      <td>andzaiyu@urosario.edu.co</td>\n",
       "      <td>M</td>\n",
       "      <td>ESCUELA DE INGENIERIA,CIENCIA Y TECNOLOGIA</td>\n",
       "      <td>MATEMATICAS APLICADAS Y CIENCIAS DE LA COMPUTA...</td>\n",
       "      <td>2</td>\n",
       "      <td>15</td>\n",
       "      <td>896196</td>\n",
       "      <td>Analisis de argumentos</td>\n",
       "      <td>2</td>\n",
       "      <td>1</td>\n",
       "      <td>OBLIGATORIA</td>\n",
       "      <td>4.0</td>\n",
       "      <td>20</td>\n",
       "      <td>4.6</td>\n",
       "      <td>20</td>\n",
       "      <td>4.0</td>\n",
       "      <td>20</td>\n",
       "      <td>4.0</td>\n",
       "      <td>15</td>\n",
       "      <td>4.0</td>\n",
       "      <td>25</td>\n",
       "    </tr>\n",
       "  </tbody>\n",
       "</table>\n",
       "</div>"
      ],
      "text/plain": [
       "  Documento Ingreso Documento Actual  Código Apellido 1 Estudiante  \\\n",
       "0            179907            49942  372378                     -   \n",
       "1            179907            49942  372378                     -   \n",
       "2            179907            49942  372378                     -   \n",
       "3            179907            49942  372378                     -   \n",
       "4            179907            49942  372378                     -   \n",
       "\n",
       "  Apellido 2 Estudiante Nombres Estudiante  \\\n",
       "0                     -           andzaiyu   \n",
       "1                     -           andzaiyu   \n",
       "2                     -           andzaiyu   \n",
       "3                     -           andzaiyu   \n",
       "4                     -           andzaiyu   \n",
       "\n",
       "                                    Acceso        Subacceso  \\\n",
       "0  Reingreso por Fortalecimiento académico  SER PILO PAGA 4   \n",
       "1  Reingreso por Fortalecimiento académico  SER PILO PAGA 4   \n",
       "2  Reingreso por Fortalecimiento académico  SER PILO PAGA 4   \n",
       "3  Reingreso por Fortalecimiento académico  SER PILO PAGA 4   \n",
       "4  Reingreso por Fortalecimiento académico  SER PILO PAGA 4   \n",
       "\n",
       "       Correo Institucional Sexo                          Facultad / Escuela  \\\n",
       "0  andzaiyu@urosario.edu.co    M  ESCUELA DE INGENIERIA,CIENCIA Y TECNOLOGIA   \n",
       "1  andzaiyu@urosario.edu.co    M  ESCUELA DE INGENIERIA,CIENCIA Y TECNOLOGIA   \n",
       "2  andzaiyu@urosario.edu.co    M  ESCUELA DE INGENIERIA,CIENCIA Y TECNOLOGIA   \n",
       "3  andzaiyu@urosario.edu.co    M  ESCUELA DE INGENIERIA,CIENCIA Y TECNOLOGIA   \n",
       "4  andzaiyu@urosario.edu.co    M  ESCUELA DE INGENIERIA,CIENCIA Y TECNOLOGIA   \n",
       "\n",
       "                                            Programa Semestre  \\\n",
       "0  MATEMATICAS APLICADAS Y CIENCIAS DE LA COMPUTA...        2   \n",
       "1  MATEMATICAS APLICADAS Y CIENCIAS DE LA COMPUTA...        2   \n",
       "2  MATEMATICAS APLICADAS Y CIENCIAS DE LA COMPUTA...        2   \n",
       "3  MATEMATICAS APLICADAS Y CIENCIAS DE LA COMPUTA...        2   \n",
       "4  MATEMATICAS APLICADAS Y CIENCIAS DE LA COMPUTA...        2   \n",
       "\n",
       "  Creditos inscritos Codigo Asignatura  \\\n",
       "0                 15            208612   \n",
       "1                 15            338809   \n",
       "2                 15            226526   \n",
       "3                 15            804202   \n",
       "4                 15            896196   \n",
       "\n",
       "                        Nombre Asignatura Creditos Asignatura  \\\n",
       "0                                 Calculo                   3   \n",
       "1       Fundamentos de sistemas digitales                   3   \n",
       "2        Algoritmos y estrucutra de datos                   3   \n",
       "3  Logica para ciencias de la computación                   2   \n",
       "4                  Analisis de argumentos                   2   \n",
       "\n",
       "  Grupo Asignatura Tipologia Asignatura  Nota 1er Corte %1er Corte  \\\n",
       "0                1          OBLIGATORIA             3.7         20   \n",
       "1                1          OBLIGATORIA             3.9         20   \n",
       "2                1          OBLIGATORIA             4.6         20   \n",
       "3                1          OBLIGATORIA             3.8         20   \n",
       "4                1          OBLIGATORIA             4.0         20   \n",
       "\n",
       "   Nota 2do Corte %2do Corte  Nota 3er Corte %3er Corte  Nota 4to Corte  \\\n",
       "0             3.5         20             3.6         20             3.6   \n",
       "1             4.9         20             4.5         20             4.5   \n",
       "2             3.5         20             4.1         20             4.1   \n",
       "3             4.3         20             3.0         20             3.0   \n",
       "4             4.6         20             4.0         20             4.0   \n",
       "\n",
       "  %4to Corte  Nota 5to Corte %5to Corte  \n",
       "0         15             3.6         25  \n",
       "1         15             4.5         25  \n",
       "2         15             4.1         25  \n",
       "3         15             3.0         25  \n",
       "4         15             4.0         25  "
      ]
     },
     "execution_count": 250,
     "metadata": {
     },
     "output_type": "execute_result"
    }
   ],
   "source": [
    "df.head()"
   ]
  },
  {
   "cell_type": "code",
   "execution_count": 0,
   "metadata": {
    "collapsed": false
   },
   "outputs": [
   ],
   "source": [
   ]
  },
  {
   "cell_type": "code",
   "execution_count": 0,
   "metadata": {
    "collapsed": false
   },
   "outputs": [
   ],
   "source": [
   ]
  },
  {
   "cell_type": "code",
   "execution_count": 0,
   "metadata": {
    "collapsed": false
   },
   "outputs": [
   ],
   "source": [
   ]
  },
  {
   "cell_type": "code",
   "execution_count": 0,
   "metadata": {
    "collapsed": false
   },
   "outputs": [
   ],
   "source": [
   ]
  },
  {
   "cell_type": "code",
   "execution_count": 0,
   "metadata": {
    "collapsed": false
   },
   "outputs": [
   ],
   "source": [
   ]
  }
 ],
 "metadata": {
  "kernelspec": {
   "display_name": "Python 3 (system-wide)",
   "language": "python",
   "metadata": {
    "cocalc": {
     "description": "Python 3 programming language",
     "priority": 100,
     "url": "https://www.python.org/"
    }
   },
   "name": "python3"
  },
  "language_info": {
   "codemirror_mode": {
    "name": "ipython",
    "version": 3
   },
   "file_extension": ".py",
   "mimetype": "text/x-python",
   "name": "python",
   "nbconvert_exporter": "python",
   "pygments_lexer": "ipython3",
   "version": "3.6.9"
  }
 },
 "nbformat": 4,
 "nbformat_minor": 4
}