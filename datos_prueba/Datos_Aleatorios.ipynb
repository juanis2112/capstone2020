{
 "cells": [
  {
   "cell_type": "code",
   "execution_count": 61,
   "metadata": {
    "collapsed": false
   },
   "outputs": [
   ],
   "source": [
    "import random\n",
    "import string\n",
    "import pandas as pd"
   ]
  },
  {
   "cell_type": "code",
   "execution_count": 7,
   "metadata": {
    "collapsed": false
   },
   "outputs": [
   ],
   "source": [
    "Codigo_Universal =[]\n",
    "Doc_Universal =[]\n",
    "Documento_I_Universal =[]\n",
    "\n",
    "accesos = [\"Nuevo al programa\",\"Extranjero\",\"Doble Programa\",\n",
    "                    \"Reingreso por Fortalecimiento académico\",\"Terminó condición doble programa\"]\n",
    "\n",
    "subaccesos = [\"Bachillerato con Examen de Estado\", \"SER PILO PAGA 4\",\n",
    "              \"Departamento de Admisiones\", \"Generación E\",\"SER PILO PAGA 3\",\n",
    "              \"GENERAL\",\"GENERAL\",\"GENERAL\",\"GENERAL\",\"GENERAL\"]\n",
    "sexo = [\"H\",\"M\"]\n",
    "\n",
    "facultad = [\"ESCUELA DE INGENIERIA,CIENCIA Y TECNOLOGIA\"]\n",
    "programa = [\"MATEMATICAS APLICADAS Y CIENCIAS DE LA COMPUTACION\"]"
   ]
  },
  {
   "cell_type": "code",
   "execution_count": 0,
   "metadata": {
    "collapsed": false
   },
   "outputs": [
   ],
   "source": [
    "# Sin electivas generales ni HM\n",
    "materias_S1 = [\"Precalculo\",\"Pensamiento matematico\",\"Programacion de Computadores\", \"Logica, teoria de numeros y conjuntos\", \"Analisis de textos\",\"Etica\",\"Catedra Rosarista\"]\n",
    "creditos_S1 = [3,2,3,3,2,2,2]\n",
    "#\n",
    "materias_S2 = ['Calculo','Fundamentos de sistemas digitales','Algoritmos y estrucutra de datos','Logica para ciencias de la computación','Analisis de argumentos','Constitucion politica e instruccion civica']\n",
    "creditos_S2 =[3,3,3,2,2,2]\n",
    "#\n",
    "materias_S3 =['Calculo 2','Algebra lineal','Manejo de base de datos','Probabilidad y estadistica 1','Cornerstone project','Escritura de ensayos de opinion']\n",
    "creditos_S3 = [3,3,3,3,3,2]\n",
    "#\n",
    "materias_S4 = [\"Calculo 3\",\"Teoria de grafos\",\"Teoria de la computacion\",\"Probabilidad y estadistica 2\",\"Optimizacion\",\"Electivas de Profundizacion 1\"]\n",
    "creditos_S4 = [2,3,3,2,3,2]\n",
    "#\n",
    "materias_S5 = ['Variable compleja','Analisis real','Ecuaciones Diferenciales','Analisis estadistico de datos','Keystone project','Electiva de profundizacion 2']\n",
    "creditos_S5 = [2,3,3,3,2,2]\n",
    "#\n",
    "materias_S6 = [\"Elementos de fisica\",\"Algebra abstracta y codificacion\",\"Modelacion de sistemas dinamicos\",\"Electivas de profundicacion 6.1\", \"Electivas de profundicacion 6.2\",\"Seminario de grado\"]\n",
    "creditos_S6 = [3,4,3,2,2,1]"
   ]
  },
  {
   "cell_type": "code",
   "execution_count": 8,
   "metadata": {
    "collapsed": false
   },
   "outputs": [
   ],
   "source": [
    "def randomString(stringLength=8):\n",
    "    letters = string.ascii_lowercase\n",
    "    return ''.join(random.choice(letters) for i in range(stringLength))"
   ]
  },
  {
   "cell_type": "code",
   "execution_count": 88,
   "metadata": {
    "collapsed": false
   },
   "outputs": [
   ],
   "source": [
    "def generar_estudiante1(accesos,subaccesos,sexo):\n",
    "    # Generando Codigo aleatorio\n",
    "    codigo = random.randint(0,1000000)\n",
    "    #Agregando en Lista universal de codigos, para que despues no se repitan codigos\n",
    "    while codigo in Codigo_Universal:\n",
    "        codigo = random.randint(0,1000000)\n",
    "    Codigo_Universal.append(codigo)\n",
    "    print(\"codigo: \", codigo)\n",
    "    #_actual = random.rand\n",
    "    # Generando Codigo aleatorio\n",
    "    doc_actual = random.randint(0,100000)\n",
    "    while doc_actual  in Doc_Universal:\n",
    "        doc_actual = random.randint(0,1000000)\n",
    "    #Agregando en Lista universal de codigos, para que despues no se repitan codigos\n",
    "    Doc_Universal.append(doc_actual)\n",
    "    print(\"Documento actual: \",doc_actual)\n",
    "    #\n",
    "    # Generando Codigo aleatorio\n",
    "    doc_ingreso= random.randint(0,1000000)\n",
    "    #Agregando en Lista universal de codigos, para que despues no se repitan codigos\n",
    "    while doc_ingreso in Documento_I_Universal:\n",
    "        doc_ingreso = random.randint(0,1000000)\n",
    "    Documento_I_Universal.append(doc_ingreso)\n",
    "    print(\"Documento de ingreso: \",doc_ingreso)\n",
    "    # Correo\n",
    "    #\n",
    "    Nombre = randomString()\n",
    "    print(\"Nombre: \",Nombre)\n",
    "    correo = Nombre +\"@urosario.edu.co\"\n",
    "    print(\"Correo: \",correo)\n",
    "    #\n",
    "    # Sexo\n",
    "    est_sexo = random.sample(sexo,1) # resultado = [\"M\"] o [\"H\"]\n",
    "    est_sexo = est_sexo[0]\n",
    "    print(\"Sexo: \",est_sexo)\n",
    "    #\n",
    "    # Acceso\n",
    "    est_acceso = random.sample(accesos,1)\n",
    "    est_acceso = est_acceso[0]\n",
    "    print(\"Acceso: \", est_acceso)\n",
    "    # Subacceso\n",
    "    est_subacceso = random.sample(subaccesos,1)\n",
    "    est_subacceso = est_subacceso[0]\n",
    "    print(\"Subacceso: \",est_subacceso)\n",
    "    # Facultad\n",
    "    Facultad = \"ESCUELA DE INGENIERIA,CIENCIA Y TECNOLOGIA\"\n",
    "    print(\"Facultad: \",Facultad)\n",
    "    Programa = \"MATEMATICAS APLICADAS Y CIENCIAS DE LA COMPUTACION\"\n",
    "    print(\"Programa: \",Programa)\n",
    "    registro = {'Documento Ingreso': doc_ingreso,'Documento Actual':doc_actual,'Código':codigo,'Apellido 1 Estudiante':\"-\",'Apellido 2 Estudiante':\"-\",'Nombres Estudiante':Nombre,'Acceso':est_acceso, 'Subacceso':est_subacceso, 'Correo Institucional':correo,'Sexo':sexo,'Facultad / Escuela':Facultad,'Programa':Programa}\n",
    "    return registro"
   ]
  },
  {
   "cell_type": "code",
   "execution_count": 0,
   "metadata": {
    "collapsed": false
   },
   "outputs": [
   ],
   "source": [
    "def generar_estudiante2(accesos,subaccesos,sexo,semestre):"
   ]
  },
  {
   "cell_type": "code",
   "execution_count": 89,
   "metadata": {
    "collapsed": false
   },
   "outputs": [
   ],
   "source": [
    "def generar_estudiante(accesos,subaccesos,sexo,semestre):\n",
    "    registro = generar_estudiante1(accesos,subaccesos,sexo)"
   ]
  },
  {
   "cell_type": "code",
   "execution_count": 83,
   "metadata": {
    "collapsed": false
   },
   "outputs": [
    {
     "name": "stdout",
     "output_type": "stream",
     "text": [
      "codigo:  127116\n",
      "Documento actual:  2687\n",
      "Documento de ingreso:  748159\n",
      "Nombre:  irukgbcy\n",
      "Correo:  irukgbcy@urosario.edu.co\n",
      "Sexo:  H\n",
      "Acceso:  Reingreso por Fortalecimiento académico\n",
      "Subacceso:  Generación E\n",
      "Facultad:  ESCUELA DE INGENIERIA,CIENCIA Y TECNOLOGIA\n",
      "Programa:  MATEMATICAS APLICADAS Y CIENCIAS DE LA COMPUTACION\n"
     ]
    }
   ],
   "source": [
    "registro = generar_estudiante(accesos,subaccesos,sexo,facultad)"
   ]
  },
  {
   "cell_type": "code",
   "execution_count": 84,
   "metadata": {
    "collapsed": false
   },
   "outputs": [
    {
     "data": {
      "text/html": [
       "<div>\n",
       "<style scoped>\n",
       "    .dataframe tbody tr th:only-of-type {\n",
       "        vertical-align: middle;\n",
       "    }\n",
       "\n",
       "    .dataframe tbody tr th {\n",
       "        vertical-align: top;\n",
       "    }\n",
       "\n",
       "    .dataframe thead th {\n",
       "        text-align: right;\n",
       "    }\n",
       "</style>\n",
       "<table border=\"1\" class=\"dataframe\">\n",
       "  <thead>\n",
       "    <tr style=\"text-align: right;\">\n",
       "      <th></th>\n",
       "      <th>Documento Ingreso</th>\n",
       "      <th>Documento Actual</th>\n",
       "      <th>Código</th>\n",
       "      <th>Apellido 1 Estudiante</th>\n",
       "      <th>Apellido 2 Estudiante</th>\n",
       "      <th>Nombres Estudiante</th>\n",
       "      <th>Acceso</th>\n",
       "      <th>Subacceso</th>\n",
       "      <th>Correo Institucional</th>\n",
       "      <th>Sexo</th>\n",
       "      <th>Facultad / Escuela</th>\n",
       "      <th>Programa</th>\n",
       "    </tr>\n",
       "  </thead>\n",
       "  <tbody>\n",
       "  </tbody>\n",
       "</table>\n",
       "</div>"
      ],
      "text/plain": [
       "Empty DataFrame\n",
       "Columns: [Documento Ingreso, Documento Actual, Código, Apellido 1 Estudiante, Apellido 2 Estudiante, Nombres Estudiante, Acceso, Subacceso, Correo Institucional, Sexo, Facultad / Escuela, Programa]\n",
       "Index: []"
      ]
     },
     "execution_count": 84,
     "metadata": {
     },
     "output_type": "execute_result"
    }
   ],
   "source": [
    "columnas = ['Documento Ingreso','Documento Actual','Código','Apellido 1 Estudiante','Apellido 2 Estudiante','Nombres Estudiante','Acceso','Subacceso','Correo Institucional','Sexo','Facultad / Escuela','Programa']\n",
    "df =pd.DataFrame(columns = columnas)\n",
    "df.head()"
   ]
  },
  {
   "cell_type": "code",
   "execution_count": 86,
   "metadata": {
    "collapsed": false
   },
   "outputs": [
   ],
   "source": [
    "df = df.append(registro,ignore_index=True)"
   ]
  },
  {
   "cell_type": "code",
   "execution_count": 87,
   "metadata": {
    "collapsed": false
   },
   "outputs": [
    {
     "data": {
      "text/html": [
       "<div>\n",
       "<style scoped>\n",
       "    .dataframe tbody tr th:only-of-type {\n",
       "        vertical-align: middle;\n",
       "    }\n",
       "\n",
       "    .dataframe tbody tr th {\n",
       "        vertical-align: top;\n",
       "    }\n",
       "\n",
       "    .dataframe thead th {\n",
       "        text-align: right;\n",
       "    }\n",
       "</style>\n",
       "<table border=\"1\" class=\"dataframe\">\n",
       "  <thead>\n",
       "    <tr style=\"text-align: right;\">\n",
       "      <th></th>\n",
       "      <th>Documento Ingreso</th>\n",
       "      <th>Documento Actual</th>\n",
       "      <th>Código</th>\n",
       "      <th>Apellido 1 Estudiante</th>\n",
       "      <th>Apellido 2 Estudiante</th>\n",
       "      <th>Nombres Estudiante</th>\n",
       "      <th>Acceso</th>\n",
       "      <th>Subacceso</th>\n",
       "      <th>Correo Institucional</th>\n",
       "      <th>Sexo</th>\n",
       "      <th>Facultad / Escuela</th>\n",
       "      <th>Programa</th>\n",
       "    </tr>\n",
       "  </thead>\n",
       "  <tbody>\n",
       "    <tr>\n",
       "      <th>0</th>\n",
       "      <td>748159</td>\n",
       "      <td>2687</td>\n",
       "      <td>127116</td>\n",
       "      <td>-</td>\n",
       "      <td>-</td>\n",
       "      <td>irukgbcy</td>\n",
       "      <td>Reingreso por Fortalecimiento académico</td>\n",
       "      <td>Generación E</td>\n",
       "      <td>irukgbcy@urosario.edu.co</td>\n",
       "      <td>[H, M]</td>\n",
       "      <td>ESCUELA DE INGENIERIA,CIENCIA Y TECNOLOGIA</td>\n",
       "      <td>MATEMATICAS APLICADAS Y CIENCIAS DE LA COMPUTA...</td>\n",
       "    </tr>\n",
       "  </tbody>\n",
       "</table>\n",
       "</div>"
      ],
      "text/plain": [
       "  Documento Ingreso Documento Actual  Código Apellido 1 Estudiante  \\\n",
       "0            748159             2687  127116                     -   \n",
       "\n",
       "  Apellido 2 Estudiante Nombres Estudiante  \\\n",
       "0                     -           irukgbcy   \n",
       "\n",
       "                                    Acceso     Subacceso  \\\n",
       "0  Reingreso por Fortalecimiento académico  Generación E   \n",
       "\n",
       "       Correo Institucional    Sexo  \\\n",
       "0  irukgbcy@urosario.edu.co  [H, M]   \n",
       "\n",
       "                           Facultad / Escuela  \\\n",
       "0  ESCUELA DE INGENIERIA,CIENCIA Y TECNOLOGIA   \n",
       "\n",
       "                                            Programa  \n",
       "0  MATEMATICAS APLICADAS Y CIENCIAS DE LA COMPUTA...  "
      ]
     },
     "execution_count": 87,
     "metadata": {
     },
     "output_type": "execute_result"
    }
   ],
   "source": [
    "df.head()"
   ]
  },
  {
   "cell_type": "code",
   "execution_count": 0,
   "metadata": {
    "collapsed": false
   },
   "outputs": [
   ],
   "source": [
   ]
  },
  {
   "cell_type": "code",
   "execution_count": 0,
   "metadata": {
    "collapsed": false
   },
   "outputs": [
   ],
   "source": [
   ]
  }
 ],
 "metadata": {
  "kernelspec": {
   "display_name": "Python 3 (system-wide)",
   "language": "python",
   "metadata": {
    "cocalc": {
     "description": "Python 3 programming language",
     "priority": 100,
     "url": "https://www.python.org/"
    }
   },
   "name": "python3"
  },
  "language_info": {
   "codemirror_mode": {
    "name": "ipython",
    "version": 3
   },
   "file_extension": ".py",
   "mimetype": "text/x-python",
   "name": "python",
   "nbconvert_exporter": "python",
   "pygments_lexer": "ipython3",
   "version": "3.6.9"
  }
 },
 "nbformat": 4,
 "nbformat_minor": 4
}