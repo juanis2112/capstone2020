{
 "cells": [
  {
   "cell_type": "code",
   "execution_count": 1,
   "metadata": {
    "collapsed": false
   },
   "outputs": [
   ],
   "source": [
    "import pandas as pd\n",
    "import numpy as np\n",
    "import seaborn as sns\n",
    "import matplotlib.pyplot as plt\n",
    "import seaborn as sns\n",
    "from sklearn.cluster import KMeans\n",
    "from sklearn.model_selection import train_test_split\n",
    "from sklearn.neighbors import KNeighborsClassifier\n",
    "from sklearn.naive_bayes import GaussianNB\n",
    "from sklearn.linear_model import LogisticRegression\n",
    "from sklearn.metrics import silhouette_score, confusion_matrix,classification_report,accuracy_score, precision_score\n",
    "from sklearn import metrics\n",
    "from sklearn.tree import DecisionTreeClassifier\n",
    "from sklearn import svm\n",
    "from scipy.stats import entropy\n",
    "import pickle"
   ]
  },
  {
   "cell_type": "code",
   "execution_count": 2,
   "metadata": {
    "collapsed": false
   },
   "outputs": [
    {
     "data": {
      "text/html": [
       "<div>\n",
       "<style scoped>\n",
       "    .dataframe tbody tr th:only-of-type {\n",
       "        vertical-align: middle;\n",
       "    }\n",
       "\n",
       "    .dataframe tbody tr th {\n",
       "        vertical-align: top;\n",
       "    }\n",
       "\n",
       "    .dataframe thead th {\n",
       "        text-align: right;\n",
       "    }\n",
       "</style>\n",
       "<table border=\"1\" class=\"dataframe\">\n",
       "  <thead>\n",
       "    <tr style=\"text-align: right;\">\n",
       "      <th></th>\n",
       "      <th>index</th>\n",
       "      <th>Documento_Ingreso</th>\n",
       "      <th>Documento_Actual</th>\n",
       "      <th>Codigo</th>\n",
       "      <th>Apellido_1_Estudiante</th>\n",
       "      <th>Apellido_2_Estudiante</th>\n",
       "      <th>Nombres_Estudiante</th>\n",
       "      <th>Acceso</th>\n",
       "      <th>Subacceso</th>\n",
       "      <th>Correo_Institucional</th>\n",
       "      <th>...</th>\n",
       "      <th>Corte_3p</th>\n",
       "      <th>Nota_4to_Corte</th>\n",
       "      <th>Corte_4p</th>\n",
       "      <th>Nota_5to_Corte</th>\n",
       "      <th>Corte_5p</th>\n",
       "      <th>Nombre_completo</th>\n",
       "      <th>Correo</th>\n",
       "      <th>Grupo</th>\n",
       "      <th>usuario</th>\n",
       "      <th>Nota_final</th>\n",
       "    </tr>\n",
       "  </thead>\n",
       "  <tbody>\n",
       "    <tr>\n",
       "      <th>0</th>\n",
       "      <td>0</td>\n",
       "      <td>221123</td>\n",
       "      <td>44867</td>\n",
       "      <td>751433</td>\n",
       "      <td>-</td>\n",
       "      <td>-</td>\n",
       "      <td>alcjobxj</td>\n",
       "      <td>Nuevo al programa</td>\n",
       "      <td>Bachillerato con Examen de Estado</td>\n",
       "      <td>alcjobxj@urosario.edu.co</td>\n",
       "      <td>...</td>\n",
       "      <td>20</td>\n",
       "      <td>3.7</td>\n",
       "      <td>15</td>\n",
       "      <td>4.0</td>\n",
       "      <td>25</td>\n",
       "      <td>Norma Sarmiento</td>\n",
       "      <td>norma.sarmiento@urosario.edu.co</td>\n",
       "      <td>1</td>\n",
       "      <td>norma.sarmiento</td>\n",
       "      <td>3.855</td>\n",
       "    </tr>\n",
       "    <tr>\n",
       "      <th>1</th>\n",
       "      <td>1</td>\n",
       "      <td>166515</td>\n",
       "      <td>40599</td>\n",
       "      <td>749859</td>\n",
       "      <td>-</td>\n",
       "      <td>-</td>\n",
       "      <td>orhawgyi</td>\n",
       "      <td>Termino condición doble programa</td>\n",
       "      <td>GENERAL</td>\n",
       "      <td>orhawgyi@urosario.edu.co</td>\n",
       "      <td>...</td>\n",
       "      <td>20</td>\n",
       "      <td>3.5</td>\n",
       "      <td>15</td>\n",
       "      <td>3.5</td>\n",
       "      <td>25</td>\n",
       "      <td>Norma Sarmiento</td>\n",
       "      <td>norma.sarmiento@urosario.edu.co</td>\n",
       "      <td>1</td>\n",
       "      <td>norma.sarmiento</td>\n",
       "      <td>3.820</td>\n",
       "    </tr>\n",
       "    <tr>\n",
       "      <th>2</th>\n",
       "      <td>2</td>\n",
       "      <td>133161</td>\n",
       "      <td>98669</td>\n",
       "      <td>31366</td>\n",
       "      <td>-</td>\n",
       "      <td>-</td>\n",
       "      <td>mdfaizgp</td>\n",
       "      <td>Doble Programa</td>\n",
       "      <td>GENERAL</td>\n",
       "      <td>mdfaizgp@urosario.edu.co</td>\n",
       "      <td>...</td>\n",
       "      <td>20</td>\n",
       "      <td>3.9</td>\n",
       "      <td>15</td>\n",
       "      <td>3.6</td>\n",
       "      <td>25</td>\n",
       "      <td>Norma Sarmiento</td>\n",
       "      <td>norma.sarmiento@urosario.edu.co</td>\n",
       "      <td>1</td>\n",
       "      <td>norma.sarmiento</td>\n",
       "      <td>4.225</td>\n",
       "    </tr>\n",
       "    <tr>\n",
       "      <th>3</th>\n",
       "      <td>3</td>\n",
       "      <td>164862</td>\n",
       "      <td>25568</td>\n",
       "      <td>111363</td>\n",
       "      <td>-</td>\n",
       "      <td>-</td>\n",
       "      <td>mwuaqnnz</td>\n",
       "      <td>Extranjero</td>\n",
       "      <td>GENERAL</td>\n",
       "      <td>mwuaqnnz@urosario.edu.co</td>\n",
       "      <td>...</td>\n",
       "      <td>20</td>\n",
       "      <td>3.5</td>\n",
       "      <td>15</td>\n",
       "      <td>3.8</td>\n",
       "      <td>25</td>\n",
       "      <td>Norma Sarmiento</td>\n",
       "      <td>norma.sarmiento@urosario.edu.co</td>\n",
       "      <td>1</td>\n",
       "      <td>norma.sarmiento</td>\n",
       "      <td>3.575</td>\n",
       "    </tr>\n",
       "    <tr>\n",
       "      <th>4</th>\n",
       "      <td>4</td>\n",
       "      <td>879672</td>\n",
       "      <td>73231</td>\n",
       "      <td>667248</td>\n",
       "      <td>-</td>\n",
       "      <td>-</td>\n",
       "      <td>pgooxicb</td>\n",
       "      <td>Doble Programa</td>\n",
       "      <td>Departamento de Admisiones</td>\n",
       "      <td>pgooxicb@urosario.edu.co</td>\n",
       "      <td>...</td>\n",
       "      <td>20</td>\n",
       "      <td>2.6</td>\n",
       "      <td>15</td>\n",
       "      <td>2.7</td>\n",
       "      <td>25</td>\n",
       "      <td>Norma Sarmiento</td>\n",
       "      <td>norma.sarmiento@urosario.edu.co</td>\n",
       "      <td>1</td>\n",
       "      <td>norma.sarmiento</td>\n",
       "      <td>2.545</td>\n",
       "    </tr>\n",
       "    <tr>\n",
       "      <th>...</th>\n",
       "      <td>...</td>\n",
       "      <td>...</td>\n",
       "      <td>...</td>\n",
       "      <td>...</td>\n",
       "      <td>...</td>\n",
       "      <td>...</td>\n",
       "      <td>...</td>\n",
       "      <td>...</td>\n",
       "      <td>...</td>\n",
       "      <td>...</td>\n",
       "      <td>...</td>\n",
       "      <td>...</td>\n",
       "      <td>...</td>\n",
       "      <td>...</td>\n",
       "      <td>...</td>\n",
       "      <td>...</td>\n",
       "      <td>...</td>\n",
       "      <td>...</td>\n",
       "      <td>...</td>\n",
       "      <td>...</td>\n",
       "      <td>...</td>\n",
       "    </tr>\n",
       "    <tr>\n",
       "      <th>1249</th>\n",
       "      <td>1315</td>\n",
       "      <td>515977</td>\n",
       "      <td>27417</td>\n",
       "      <td>126984</td>\n",
       "      <td>-</td>\n",
       "      <td>-</td>\n",
       "      <td>jnkgwinp</td>\n",
       "      <td>Extranjero</td>\n",
       "      <td>GENERAL</td>\n",
       "      <td>jnkgwinp@urosario.edu.co</td>\n",
       "      <td>...</td>\n",
       "      <td>20</td>\n",
       "      <td>2.6</td>\n",
       "      <td>15</td>\n",
       "      <td>2.4</td>\n",
       "      <td>25</td>\n",
       "      <td>Lazaro Ramirez</td>\n",
       "      <td>lazaro.ramirez@urosario.edu.co</td>\n",
       "      <td>1</td>\n",
       "      <td>lazaro.ramirez</td>\n",
       "      <td>2.230</td>\n",
       "    </tr>\n",
       "    <tr>\n",
       "      <th>1250</th>\n",
       "      <td>1316</td>\n",
       "      <td>989769</td>\n",
       "      <td>86022</td>\n",
       "      <td>706697</td>\n",
       "      <td>-</td>\n",
       "      <td>-</td>\n",
       "      <td>llnuonlp</td>\n",
       "      <td>Reingreso por Fortalecimiento académico</td>\n",
       "      <td>GENERAL</td>\n",
       "      <td>llnuonlp@urosario.edu.co</td>\n",
       "      <td>...</td>\n",
       "      <td>20</td>\n",
       "      <td>3.1</td>\n",
       "      <td>15</td>\n",
       "      <td>2.2</td>\n",
       "      <td>25</td>\n",
       "      <td>Lazaro Ramirez</td>\n",
       "      <td>lazaro.ramirez@urosario.edu.co</td>\n",
       "      <td>1</td>\n",
       "      <td>lazaro.ramirez</td>\n",
       "      <td>2.755</td>\n",
       "    </tr>\n",
       "    <tr>\n",
       "      <th>1251</th>\n",
       "      <td>1317</td>\n",
       "      <td>480565</td>\n",
       "      <td>94961</td>\n",
       "      <td>29130</td>\n",
       "      <td>-</td>\n",
       "      <td>-</td>\n",
       "      <td>xrszqdqk</td>\n",
       "      <td>Termino condición doble programa</td>\n",
       "      <td>Departamento de Admisiones</td>\n",
       "      <td>xrszqdqk@urosario.edu.co</td>\n",
       "      <td>...</td>\n",
       "      <td>20</td>\n",
       "      <td>2.5</td>\n",
       "      <td>15</td>\n",
       "      <td>2.4</td>\n",
       "      <td>25</td>\n",
       "      <td>Lazaro Ramirez</td>\n",
       "      <td>lazaro.ramirez@urosario.edu.co</td>\n",
       "      <td>1</td>\n",
       "      <td>lazaro.ramirez</td>\n",
       "      <td>2.695</td>\n",
       "    </tr>\n",
       "    <tr>\n",
       "      <th>1252</th>\n",
       "      <td>1318</td>\n",
       "      <td>43699</td>\n",
       "      <td>8785</td>\n",
       "      <td>130825</td>\n",
       "      <td>-</td>\n",
       "      <td>-</td>\n",
       "      <td>tskxxthh</td>\n",
       "      <td>Termino condición doble programa</td>\n",
       "      <td>Departamento de Admisiones</td>\n",
       "      <td>tskxxthh@urosario.edu.co</td>\n",
       "      <td>...</td>\n",
       "      <td>20</td>\n",
       "      <td>2.7</td>\n",
       "      <td>15</td>\n",
       "      <td>2.6</td>\n",
       "      <td>25</td>\n",
       "      <td>Lazaro Ramirez</td>\n",
       "      <td>lazaro.ramirez@urosario.edu.co</td>\n",
       "      <td>1</td>\n",
       "      <td>lazaro.ramirez</td>\n",
       "      <td>2.655</td>\n",
       "    </tr>\n",
       "    <tr>\n",
       "      <th>1253</th>\n",
       "      <td>1319</td>\n",
       "      <td>66252</td>\n",
       "      <td>36341</td>\n",
       "      <td>126266</td>\n",
       "      <td>-</td>\n",
       "      <td>-</td>\n",
       "      <td>pqggjqjy</td>\n",
       "      <td>Reingreso por Fortalecimiento académico</td>\n",
       "      <td>GENERAL</td>\n",
       "      <td>pqggjqjy@urosario.edu.co</td>\n",
       "      <td>...</td>\n",
       "      <td>20</td>\n",
       "      <td>2.8</td>\n",
       "      <td>15</td>\n",
       "      <td>2.5</td>\n",
       "      <td>25</td>\n",
       "      <td>Lazaro Ramirez</td>\n",
       "      <td>lazaro.ramirez@urosario.edu.co</td>\n",
       "      <td>1</td>\n",
       "      <td>lazaro.ramirez</td>\n",
       "      <td>2.585</td>\n",
       "    </tr>\n",
       "  </tbody>\n",
       "</table>\n",
       "<p>1254 rows × 35 columns</p>\n",
       "</div>"
      ],
      "text/plain": [
       "      index  Documento_Ingreso  Documento_Actual  Codigo  \\\n",
       "0         0             221123             44867  751433   \n",
       "1         1             166515             40599  749859   \n",
       "2         2             133161             98669   31366   \n",
       "3         3             164862             25568  111363   \n",
       "4         4             879672             73231  667248   \n",
       "...     ...                ...               ...     ...   \n",
       "1249   1315             515977             27417  126984   \n",
       "1250   1316             989769             86022  706697   \n",
       "1251   1317             480565             94961   29130   \n",
       "1252   1318              43699              8785  130825   \n",
       "1253   1319              66252             36341  126266   \n",
       "\n",
       "     Apellido_1_Estudiante Apellido_2_Estudiante Nombres_Estudiante  \\\n",
       "0                        -                     -           alcjobxj   \n",
       "1                        -                     -           orhawgyi   \n",
       "2                        -                     -           mdfaizgp   \n",
       "3                        -                     -           mwuaqnnz   \n",
       "4                        -                     -           pgooxicb   \n",
       "...                    ...                   ...                ...   \n",
       "1249                     -                     -           jnkgwinp   \n",
       "1250                     -                     -           llnuonlp   \n",
       "1251                     -                     -           xrszqdqk   \n",
       "1252                     -                     -           tskxxthh   \n",
       "1253                     -                     -           pqggjqjy   \n",
       "\n",
       "                                       Acceso  \\\n",
       "0                           Nuevo al programa   \n",
       "1            Termino condición doble programa   \n",
       "2                              Doble Programa   \n",
       "3                                  Extranjero   \n",
       "4                              Doble Programa   \n",
       "...                                       ...   \n",
       "1249                               Extranjero   \n",
       "1250  Reingreso por Fortalecimiento académico   \n",
       "1251         Termino condición doble programa   \n",
       "1252         Termino condición doble programa   \n",
       "1253  Reingreso por Fortalecimiento académico   \n",
       "\n",
       "                              Subacceso      Correo_Institucional  ...  \\\n",
       "0     Bachillerato con Examen de Estado  alcjobxj@urosario.edu.co  ...   \n",
       "1                               GENERAL  orhawgyi@urosario.edu.co  ...   \n",
       "2                               GENERAL  mdfaizgp@urosario.edu.co  ...   \n",
       "3                               GENERAL  mwuaqnnz@urosario.edu.co  ...   \n",
       "4            Departamento de Admisiones  pgooxicb@urosario.edu.co  ...   \n",
       "...                                 ...                       ...  ...   \n",
       "1249                            GENERAL  jnkgwinp@urosario.edu.co  ...   \n",
       "1250                            GENERAL  llnuonlp@urosario.edu.co  ...   \n",
       "1251         Departamento de Admisiones  xrszqdqk@urosario.edu.co  ...   \n",
       "1252         Departamento de Admisiones  tskxxthh@urosario.edu.co  ...   \n",
       "1253                            GENERAL  pqggjqjy@urosario.edu.co  ...   \n",
       "\n",
       "     Corte_3p Nota_4to_Corte Corte_4p  Nota_5to_Corte  Corte_5p  \\\n",
       "0          20            3.7       15             4.0        25   \n",
       "1          20            3.5       15             3.5        25   \n",
       "2          20            3.9       15             3.6        25   \n",
       "3          20            3.5       15             3.8        25   \n",
       "4          20            2.6       15             2.7        25   \n",
       "...       ...            ...      ...             ...       ...   \n",
       "1249       20            2.6       15             2.4        25   \n",
       "1250       20            3.1       15             2.2        25   \n",
       "1251       20            2.5       15             2.4        25   \n",
       "1252       20            2.7       15             2.6        25   \n",
       "1253       20            2.8       15             2.5        25   \n",
       "\n",
       "      Nombre_completo                           Correo  Grupo  \\\n",
       "0     Norma Sarmiento  norma.sarmiento@urosario.edu.co      1   \n",
       "1     Norma Sarmiento  norma.sarmiento@urosario.edu.co      1   \n",
       "2     Norma Sarmiento  norma.sarmiento@urosario.edu.co      1   \n",
       "3     Norma Sarmiento  norma.sarmiento@urosario.edu.co      1   \n",
       "4     Norma Sarmiento  norma.sarmiento@urosario.edu.co      1   \n",
       "...               ...                              ...    ...   \n",
       "1249   Lazaro Ramirez   lazaro.ramirez@urosario.edu.co      1   \n",
       "1250   Lazaro Ramirez   lazaro.ramirez@urosario.edu.co      1   \n",
       "1251   Lazaro Ramirez   lazaro.ramirez@urosario.edu.co      1   \n",
       "1252   Lazaro Ramirez   lazaro.ramirez@urosario.edu.co      1   \n",
       "1253   Lazaro Ramirez   lazaro.ramirez@urosario.edu.co      1   \n",
       "\n",
       "              usuario Nota_final  \n",
       "0     norma.sarmiento      3.855  \n",
       "1     norma.sarmiento      3.820  \n",
       "2     norma.sarmiento      4.225  \n",
       "3     norma.sarmiento      3.575  \n",
       "4     norma.sarmiento      2.545  \n",
       "...               ...        ...  \n",
       "1249   lazaro.ramirez      2.230  \n",
       "1250   lazaro.ramirez      2.755  \n",
       "1251   lazaro.ramirez      2.695  \n",
       "1252   lazaro.ramirez      2.655  \n",
       "1253   lazaro.ramirez      2.585  \n",
       "\n",
       "[1254 rows x 35 columns]"
      ]
     },
     "execution_count": 2,
     "metadata": {
     },
     "output_type": "execute_result"
    }
   ],
   "source": [
    "completo = pd.read_csv(\"Datos_completos.csv\")\n",
    "completo"
   ]
  },
  {
   "cell_type": "markdown",
   "metadata": {
    "collapsed": false
   },
   "source": [
    "%%latex\n",
    "\\usepackage{amsmath,amssymb,amsfonts}\n",
    "\n"
   ]
  },
  {
   "cell_type": "markdown",
   "metadata": {
    "collapsed": false
   },
   "source": [
    "### Tareas\n",
    "1. Leer paper https://reader.elsevier.com/reader/sd/pii/S0360131516301634?token=DB86640804CC9FE6B7FB5B1D080396823D2094FD36E393FA33E1D62F8CCB331555272C9D164BCAFA28296E5B1C692630\n",
    "2. Ver cada uno sus modelos teoricos (Escribirlos aca en latex en español), y despues aplicarlo a la base de datos completos (Hecho - Falta Decision Tree)\n",
    "3. Reunion Lunes para explicarle al otro los modelos y la aplicación (Hecho)\n",
    "4. Hacer modelo por cada materia y si es posible que dependa de las notas obtenidas anteriormente en las pre-requisito.(En proceso)\n",
    "5. Generar distribución notas a partir de la base de datos de notas ()\n",
    "6. Sacar $F_{1.5}$, medidas precision\n",
    "\n",
    "Preguntas:\n",
    "1. Como podemos generar la distribucion de notas\n",
    "2. Hasta que corte seria ideal la alerta\n",
    "\n",
    "\n",
    "Ruiz : K-Nearest, Decision Tree\n",
    "Miguel : Regresion Logistica y Clasificador bayesiano"
   ]
  },
  {
   "cell_type": "markdown",
   "metadata": {
    "collapsed": false
   },
   "source": [
    "## Notas Paper Miguel\n",
    "\n",
    "* Que el estudiante sepa del modelo predictivo podria considerarse malo, ya que él podria creer que sus notas futuras ya estan predichas por el modelo. Luego seria ideal que solo lo supiera el administrador\n",
    "* Utilizaron tres notas de examenes como indicadores del performance durante el semestre. Asi como el GPA acumulativo fue tenido en cuenta y las notas en las materias pre-requisito de la materia.\n",
    "* Las primeras notas del semestre tienden a ser muy buenas predictoras de como van a ser el rendimiento del estudiante de la materia\n",
    "* Plantean que es mejor crear un modelo por cada materia que uno generalizado\n",
    "* Recomiendan este libro para ver los metodos: \"Principle of Data Mining,D.J. Hand, H. Mannila and P. Smyth MIT press, New York (2001)\", Link : https://www.researchgate.net/publication/220688376_Principles_of_Data_Mining (Se ve como bueno)\n",
    "* Calculan la precisión del modelo de los que pasaron con los que no, para encontrar un mejor modelo que prediga mejor a los malos. Si fueran unidos podria que un modelo diera menos errores en general pero que falle muchisimo en los malos estudiantes , lo cual seria un problema. Tambien calcularon un $F_{1.5}$ puntaje que le da mas peso a los estudiantes que fallaron que los que pasaron.\n",
    "* Utilizaron el coeficiente de Pearson para saber que tan corelacionadas estaban las variables explicativas, si pasaba de 0,3 las escogian. (Podriamos hacer eso)\n",
    "* Parece que es necesario acotar el numero de estudiantes de los datos de entrenamiento, para que el modelo no se descarrile. (Recordad base Juan F el numero de notas varia mucho).\n",
    "* Falso negativo : No identificar estudiantes que se encontraban en riesgo.\n",
    "* Termina siendo mejor haciendo un modelo combinado de otros modelos (Ensemble)."
   ]
  },
  {
   "cell_type": "markdown",
   "metadata": {
    "collapsed": false
   },
   "source": [
    "## K-Nearest Neighbours\n",
    "\n"
   ]
  },
  {
   "cell_type": "markdown",
   "metadata": {
    "collapsed": false
   },
   "source": [
    "K-Nearest Neighbours (KNN) es un modelo de aprendizaje supervisado. Se necesita de etiquetas de cada uno de los estudiantes en cada uno de los cortes o con el promedio final.\n",
    "\n"
   ]
  },
  {
   "cell_type": "code",
   "execution_count": 3,
   "metadata": {
    "collapsed": false
   },
   "outputs": [
    {
     "data": {
      "text/html": [
       "<div>\n",
       "<style scoped>\n",
       "    .dataframe tbody tr th:only-of-type {\n",
       "        vertical-align: middle;\n",
       "    }\n",
       "\n",
       "    .dataframe tbody tr th {\n",
       "        vertical-align: top;\n",
       "    }\n",
       "\n",
       "    .dataframe thead th {\n",
       "        text-align: right;\n",
       "    }\n",
       "</style>\n",
       "<table border=\"1\" class=\"dataframe\">\n",
       "  <thead>\n",
       "    <tr style=\"text-align: right;\">\n",
       "      <th></th>\n",
       "      <th>index</th>\n",
       "      <th>Documento_Ingreso</th>\n",
       "      <th>Documento_Actual</th>\n",
       "      <th>Codigo</th>\n",
       "      <th>Apellido_1_Estudiante</th>\n",
       "      <th>Apellido_2_Estudiante</th>\n",
       "      <th>Nombres_Estudiante</th>\n",
       "      <th>Acceso</th>\n",
       "      <th>Subacceso</th>\n",
       "      <th>Correo_Institucional</th>\n",
       "      <th>...</th>\n",
       "      <th>Corte_3p</th>\n",
       "      <th>Nota_4to_Corte</th>\n",
       "      <th>Corte_4p</th>\n",
       "      <th>Nota_5to_Corte</th>\n",
       "      <th>Corte_5p</th>\n",
       "      <th>Nombre_completo</th>\n",
       "      <th>Correo</th>\n",
       "      <th>Grupo</th>\n",
       "      <th>usuario</th>\n",
       "      <th>Nota_final</th>\n",
       "    </tr>\n",
       "  </thead>\n",
       "  <tbody>\n",
       "    <tr>\n",
       "      <th>66</th>\n",
       "      <td>66</td>\n",
       "      <td>221123</td>\n",
       "      <td>44867</td>\n",
       "      <td>751433</td>\n",
       "      <td>-</td>\n",
       "      <td>-</td>\n",
       "      <td>alcjobxj</td>\n",
       "      <td>Nuevo al programa</td>\n",
       "      <td>Bachillerato con Examen de Estado</td>\n",
       "      <td>alcjobxj@urosario.edu.co</td>\n",
       "      <td>...</td>\n",
       "      <td>20</td>\n",
       "      <td>3.4</td>\n",
       "      <td>15</td>\n",
       "      <td>4.3</td>\n",
       "      <td>25</td>\n",
       "      <td>Margot Salas</td>\n",
       "      <td>margot.salas@urosario.edu.co</td>\n",
       "      <td>1</td>\n",
       "      <td>margot.salas</td>\n",
       "      <td>3.905</td>\n",
       "    </tr>\n",
       "    <tr>\n",
       "      <th>67</th>\n",
       "      <td>67</td>\n",
       "      <td>166515</td>\n",
       "      <td>40599</td>\n",
       "      <td>749859</td>\n",
       "      <td>-</td>\n",
       "      <td>-</td>\n",
       "      <td>orhawgyi</td>\n",
       "      <td>Termino condición doble programa</td>\n",
       "      <td>GENERAL</td>\n",
       "      <td>orhawgyi@urosario.edu.co</td>\n",
       "      <td>...</td>\n",
       "      <td>20</td>\n",
       "      <td>3.4</td>\n",
       "      <td>15</td>\n",
       "      <td>4.2</td>\n",
       "      <td>25</td>\n",
       "      <td>Margot Salas</td>\n",
       "      <td>margot.salas@urosario.edu.co</td>\n",
       "      <td>1</td>\n",
       "      <td>margot.salas</td>\n",
       "      <td>4.040</td>\n",
       "    </tr>\n",
       "    <tr>\n",
       "      <th>68</th>\n",
       "      <td>68</td>\n",
       "      <td>133161</td>\n",
       "      <td>98669</td>\n",
       "      <td>31366</td>\n",
       "      <td>-</td>\n",
       "      <td>-</td>\n",
       "      <td>mdfaizgp</td>\n",
       "      <td>Doble Programa</td>\n",
       "      <td>GENERAL</td>\n",
       "      <td>mdfaizgp@urosario.edu.co</td>\n",
       "      <td>...</td>\n",
       "      <td>20</td>\n",
       "      <td>4.2</td>\n",
       "      <td>15</td>\n",
       "      <td>4.7</td>\n",
       "      <td>25</td>\n",
       "      <td>Margot Salas</td>\n",
       "      <td>margot.salas@urosario.edu.co</td>\n",
       "      <td>1</td>\n",
       "      <td>margot.salas</td>\n",
       "      <td>4.305</td>\n",
       "    </tr>\n",
       "    <tr>\n",
       "      <th>69</th>\n",
       "      <td>69</td>\n",
       "      <td>164862</td>\n",
       "      <td>25568</td>\n",
       "      <td>111363</td>\n",
       "      <td>-</td>\n",
       "      <td>-</td>\n",
       "      <td>mwuaqnnz</td>\n",
       "      <td>Extranjero</td>\n",
       "      <td>GENERAL</td>\n",
       "      <td>mwuaqnnz@urosario.edu.co</td>\n",
       "      <td>...</td>\n",
       "      <td>20</td>\n",
       "      <td>3.3</td>\n",
       "      <td>15</td>\n",
       "      <td>3.7</td>\n",
       "      <td>25</td>\n",
       "      <td>Margot Salas</td>\n",
       "      <td>margot.salas@urosario.edu.co</td>\n",
       "      <td>1</td>\n",
       "      <td>margot.salas</td>\n",
       "      <td>3.560</td>\n",
       "    </tr>\n",
       "    <tr>\n",
       "      <th>70</th>\n",
       "      <td>70</td>\n",
       "      <td>879672</td>\n",
       "      <td>73231</td>\n",
       "      <td>667248</td>\n",
       "      <td>-</td>\n",
       "      <td>-</td>\n",
       "      <td>pgooxicb</td>\n",
       "      <td>Doble Programa</td>\n",
       "      <td>Departamento de Admisiones</td>\n",
       "      <td>pgooxicb@urosario.edu.co</td>\n",
       "      <td>...</td>\n",
       "      <td>20</td>\n",
       "      <td>2.6</td>\n",
       "      <td>15</td>\n",
       "      <td>2.5</td>\n",
       "      <td>25</td>\n",
       "      <td>Margot Salas</td>\n",
       "      <td>margot.salas@urosario.edu.co</td>\n",
       "      <td>1</td>\n",
       "      <td>margot.salas</td>\n",
       "      <td>2.815</td>\n",
       "    </tr>\n",
       "    <tr>\n",
       "      <th>...</th>\n",
       "      <td>...</td>\n",
       "      <td>...</td>\n",
       "      <td>...</td>\n",
       "      <td>...</td>\n",
       "      <td>...</td>\n",
       "      <td>...</td>\n",
       "      <td>...</td>\n",
       "      <td>...</td>\n",
       "      <td>...</td>\n",
       "      <td>...</td>\n",
       "      <td>...</td>\n",
       "      <td>...</td>\n",
       "      <td>...</td>\n",
       "      <td>...</td>\n",
       "      <td>...</td>\n",
       "      <td>...</td>\n",
       "      <td>...</td>\n",
       "      <td>...</td>\n",
       "      <td>...</td>\n",
       "      <td>...</td>\n",
       "      <td>...</td>\n",
       "    </tr>\n",
       "    <tr>\n",
       "      <th>127</th>\n",
       "      <td>127</td>\n",
       "      <td>515977</td>\n",
       "      <td>27417</td>\n",
       "      <td>126984</td>\n",
       "      <td>-</td>\n",
       "      <td>-</td>\n",
       "      <td>jnkgwinp</td>\n",
       "      <td>Extranjero</td>\n",
       "      <td>GENERAL</td>\n",
       "      <td>jnkgwinp@urosario.edu.co</td>\n",
       "      <td>...</td>\n",
       "      <td>20</td>\n",
       "      <td>2.6</td>\n",
       "      <td>15</td>\n",
       "      <td>2.1</td>\n",
       "      <td>25</td>\n",
       "      <td>Margot Salas</td>\n",
       "      <td>margot.salas@urosario.edu.co</td>\n",
       "      <td>1</td>\n",
       "      <td>margot.salas</td>\n",
       "      <td>2.395</td>\n",
       "    </tr>\n",
       "    <tr>\n",
       "      <th>128</th>\n",
       "      <td>128</td>\n",
       "      <td>989769</td>\n",
       "      <td>86022</td>\n",
       "      <td>706697</td>\n",
       "      <td>-</td>\n",
       "      <td>-</td>\n",
       "      <td>llnuonlp</td>\n",
       "      <td>Reingreso por Fortalecimiento académico</td>\n",
       "      <td>GENERAL</td>\n",
       "      <td>llnuonlp@urosario.edu.co</td>\n",
       "      <td>...</td>\n",
       "      <td>20</td>\n",
       "      <td>2.9</td>\n",
       "      <td>15</td>\n",
       "      <td>2.2</td>\n",
       "      <td>25</td>\n",
       "      <td>Margot Salas</td>\n",
       "      <td>margot.salas@urosario.edu.co</td>\n",
       "      <td>1</td>\n",
       "      <td>margot.salas</td>\n",
       "      <td>2.505</td>\n",
       "    </tr>\n",
       "    <tr>\n",
       "      <th>129</th>\n",
       "      <td>129</td>\n",
       "      <td>480565</td>\n",
       "      <td>94961</td>\n",
       "      <td>29130</td>\n",
       "      <td>-</td>\n",
       "      <td>-</td>\n",
       "      <td>xrszqdqk</td>\n",
       "      <td>Termino condición doble programa</td>\n",
       "      <td>Departamento de Admisiones</td>\n",
       "      <td>xrszqdqk@urosario.edu.co</td>\n",
       "      <td>...</td>\n",
       "      <td>20</td>\n",
       "      <td>2.7</td>\n",
       "      <td>15</td>\n",
       "      <td>3.3</td>\n",
       "      <td>25</td>\n",
       "      <td>Margot Salas</td>\n",
       "      <td>margot.salas@urosario.edu.co</td>\n",
       "      <td>1</td>\n",
       "      <td>margot.salas</td>\n",
       "      <td>2.630</td>\n",
       "    </tr>\n",
       "    <tr>\n",
       "      <th>130</th>\n",
       "      <td>130</td>\n",
       "      <td>43699</td>\n",
       "      <td>8785</td>\n",
       "      <td>130825</td>\n",
       "      <td>-</td>\n",
       "      <td>-</td>\n",
       "      <td>tskxxthh</td>\n",
       "      <td>Termino condición doble programa</td>\n",
       "      <td>Departamento de Admisiones</td>\n",
       "      <td>tskxxthh@urosario.edu.co</td>\n",
       "      <td>...</td>\n",
       "      <td>20</td>\n",
       "      <td>3.0</td>\n",
       "      <td>15</td>\n",
       "      <td>3.0</td>\n",
       "      <td>25</td>\n",
       "      <td>Margot Salas</td>\n",
       "      <td>margot.salas@urosario.edu.co</td>\n",
       "      <td>1</td>\n",
       "      <td>margot.salas</td>\n",
       "      <td>2.500</td>\n",
       "    </tr>\n",
       "    <tr>\n",
       "      <th>131</th>\n",
       "      <td>131</td>\n",
       "      <td>66252</td>\n",
       "      <td>36341</td>\n",
       "      <td>126266</td>\n",
       "      <td>-</td>\n",
       "      <td>-</td>\n",
       "      <td>pqggjqjy</td>\n",
       "      <td>Reingreso por Fortalecimiento académico</td>\n",
       "      <td>GENERAL</td>\n",
       "      <td>pqggjqjy@urosario.edu.co</td>\n",
       "      <td>...</td>\n",
       "      <td>20</td>\n",
       "      <td>2.9</td>\n",
       "      <td>15</td>\n",
       "      <td>1.9</td>\n",
       "      <td>25</td>\n",
       "      <td>Margot Salas</td>\n",
       "      <td>margot.salas@urosario.edu.co</td>\n",
       "      <td>1</td>\n",
       "      <td>margot.salas</td>\n",
       "      <td>2.670</td>\n",
       "    </tr>\n",
       "  </tbody>\n",
       "</table>\n",
       "<p>66 rows × 35 columns</p>\n",
       "</div>"
      ],
      "text/plain": [
       "     index  Documento_Ingreso  Documento_Actual  Codigo Apellido_1_Estudiante  \\\n",
       "66      66             221123             44867  751433                     -   \n",
       "67      67             166515             40599  749859                     -   \n",
       "68      68             133161             98669   31366                     -   \n",
       "69      69             164862             25568  111363                     -   \n",
       "70      70             879672             73231  667248                     -   \n",
       "..     ...                ...               ...     ...                   ...   \n",
       "127    127             515977             27417  126984                     -   \n",
       "128    128             989769             86022  706697                     -   \n",
       "129    129             480565             94961   29130                     -   \n",
       "130    130              43699              8785  130825                     -   \n",
       "131    131              66252             36341  126266                     -   \n",
       "\n",
       "    Apellido_2_Estudiante Nombres_Estudiante  \\\n",
       "66                      -           alcjobxj   \n",
       "67                      -           orhawgyi   \n",
       "68                      -           mdfaizgp   \n",
       "69                      -           mwuaqnnz   \n",
       "70                      -           pgooxicb   \n",
       "..                    ...                ...   \n",
       "127                     -           jnkgwinp   \n",
       "128                     -           llnuonlp   \n",
       "129                     -           xrszqdqk   \n",
       "130                     -           tskxxthh   \n",
       "131                     -           pqggjqjy   \n",
       "\n",
       "                                      Acceso  \\\n",
       "66                         Nuevo al programa   \n",
       "67          Termino condición doble programa   \n",
       "68                            Doble Programa   \n",
       "69                                Extranjero   \n",
       "70                            Doble Programa   \n",
       "..                                       ...   \n",
       "127                               Extranjero   \n",
       "128  Reingreso por Fortalecimiento académico   \n",
       "129         Termino condición doble programa   \n",
       "130         Termino condición doble programa   \n",
       "131  Reingreso por Fortalecimiento académico   \n",
       "\n",
       "                             Subacceso      Correo_Institucional  ...  \\\n",
       "66   Bachillerato con Examen de Estado  alcjobxj@urosario.edu.co  ...   \n",
       "67                             GENERAL  orhawgyi@urosario.edu.co  ...   \n",
       "68                             GENERAL  mdfaizgp@urosario.edu.co  ...   \n",
       "69                             GENERAL  mwuaqnnz@urosario.edu.co  ...   \n",
       "70          Departamento de Admisiones  pgooxicb@urosario.edu.co  ...   \n",
       "..                                 ...                       ...  ...   \n",
       "127                            GENERAL  jnkgwinp@urosario.edu.co  ...   \n",
       "128                            GENERAL  llnuonlp@urosario.edu.co  ...   \n",
       "129         Departamento de Admisiones  xrszqdqk@urosario.edu.co  ...   \n",
       "130         Departamento de Admisiones  tskxxthh@urosario.edu.co  ...   \n",
       "131                            GENERAL  pqggjqjy@urosario.edu.co  ...   \n",
       "\n",
       "    Corte_3p Nota_4to_Corte Corte_4p  Nota_5to_Corte  Corte_5p  \\\n",
       "66        20            3.4       15             4.3        25   \n",
       "67        20            3.4       15             4.2        25   \n",
       "68        20            4.2       15             4.7        25   \n",
       "69        20            3.3       15             3.7        25   \n",
       "70        20            2.6       15             2.5        25   \n",
       "..       ...            ...      ...             ...       ...   \n",
       "127       20            2.6       15             2.1        25   \n",
       "128       20            2.9       15             2.2        25   \n",
       "129       20            2.7       15             3.3        25   \n",
       "130       20            3.0       15             3.0        25   \n",
       "131       20            2.9       15             1.9        25   \n",
       "\n",
       "     Nombre_completo                        Correo  Grupo       usuario  \\\n",
       "66      Margot Salas  margot.salas@urosario.edu.co      1  margot.salas   \n",
       "67      Margot Salas  margot.salas@urosario.edu.co      1  margot.salas   \n",
       "68      Margot Salas  margot.salas@urosario.edu.co      1  margot.salas   \n",
       "69      Margot Salas  margot.salas@urosario.edu.co      1  margot.salas   \n",
       "70      Margot Salas  margot.salas@urosario.edu.co      1  margot.salas   \n",
       "..               ...                           ...    ...           ...   \n",
       "127     Margot Salas  margot.salas@urosario.edu.co      1  margot.salas   \n",
       "128     Margot Salas  margot.salas@urosario.edu.co      1  margot.salas   \n",
       "129     Margot Salas  margot.salas@urosario.edu.co      1  margot.salas   \n",
       "130     Margot Salas  margot.salas@urosario.edu.co      1  margot.salas   \n",
       "131     Margot Salas  margot.salas@urosario.edu.co      1  margot.salas   \n",
       "\n",
       "    Nota_final  \n",
       "66       3.905  \n",
       "67       4.040  \n",
       "68       4.305  \n",
       "69       3.560  \n",
       "70       2.815  \n",
       "..         ...  \n",
       "127      2.395  \n",
       "128      2.505  \n",
       "129      2.630  \n",
       "130      2.500  \n",
       "131      2.670  \n",
       "\n",
       "[66 rows x 35 columns]"
      ]
     },
     "execution_count": 3,
     "metadata": {
     },
     "output_type": "execute_result"
    }
   ],
   "source": [
    "#Se selecciona el nombre de una asignatura\n",
    "materia = completo[completo[\"Nombre_Asignatura\"]==\"Algebra lineal\"]\n",
    "materia"
   ]
  },
  {
   "cell_type": "markdown",
   "metadata": {
    "collapsed": false
   },
   "source": [
    "Se selecciona el dataframe (o matriz) con las variables de interés"
   ]
  },
  {
   "cell_type": "code",
   "execution_count": 4,
   "metadata": {
    "collapsed": false
   },
   "outputs": [
   ],
   "source": [
    "#X = np.array(list(zip(x,y)))\n",
    "X = materia[[\"Nota_1er_Corte\",\"Nota_2do_Corte\"]]"
   ]
  },
  {
   "cell_type": "markdown",
   "metadata": {
    "collapsed": false
   },
   "source": [
    "## Análisis con KNN"
   ]
  },
  {
   "cell_type": "code",
   "execution_count": 5,
   "metadata": {
    "collapsed": false
   },
   "outputs": [
   ],
   "source": [
    "def funcion_paso(x):\n",
    "    #x nota final\n",
    "    #return si paso o perdio como etiquetas para modelos de predicción\n",
    "    if(x >= 3):\n",
    "        return 1\n",
    "    elif(x <3):\n",
    "        return 0"
   ]
  },
  {
   "cell_type": "code",
   "execution_count": 6,
   "metadata": {
    "collapsed": false
   },
   "outputs": [
    {
     "name": "stderr",
     "output_type": "stream",
     "text": [
      "/ext/anaconda-2019.03/lib/python3.7/site-packages/ipykernel/__main__.py:2: SettingWithCopyWarning: \n",
      "A value is trying to be set on a copy of a slice from a DataFrame.\n",
      "Try using .loc[row_indexer,col_indexer] = value instead\n",
      "\n",
      "See the caveats in the documentation: https://pandas.pydata.org/pandas-docs/stable/user_guide/indexing.html#returning-a-view-versus-a-copy\n",
      "  from ipykernel import kernelapp as app\n"
     ]
    }
   ],
   "source": [
    "#materia = completo[completo[\"Nombre_Asignatura\"]==\"Algebra lineal\"]\n",
    "materia[\"Paso\"] = materia.apply(lambda row: funcion_paso(row[\"Nota_final\"]),axis=1 )\n",
    "my_labels = materia[\"Paso\"]"
   ]
  },
  {
   "cell_type": "code",
   "execution_count": 7,
   "metadata": {
    "collapsed": false
   },
   "outputs": [
   ],
   "source": [
    "# Separacion de los datos de prueba y datos de entrenamiento\n",
    "X_train,X_test,Y_train,Y_test=train_test_split(X,my_labels)"
   ]
  },
  {
   "cell_type": "code",
   "execution_count": 8,
   "metadata": {
    "collapsed": false
   },
   "outputs": [
   ],
   "source": [
    "n = 2 # numero de grupos, i.e., paso o no paso\n",
    "knn = KNeighborsClassifier(n_neighbors=n)"
   ]
  },
  {
   "cell_type": "code",
   "execution_count": 9,
   "metadata": {
    "collapsed": false
   },
   "outputs": [
    {
     "data": {
      "text/plain": [
       "KNeighborsClassifier(algorithm='auto', leaf_size=30, metric='minkowski',\n",
       "                     metric_params=None, n_jobs=None, n_neighbors=2, p=2,\n",
       "                     weights='uniform')"
      ]
     },
     "execution_count": 9,
     "metadata": {
     },
     "output_type": "execute_result"
    }
   ],
   "source": [
    "knn.fit(X_train,Y_train)"
   ]
  },
  {
   "cell_type": "code",
   "execution_count": 10,
   "metadata": {
    "collapsed": false
   },
   "outputs": [
    {
     "data": {
      "text/plain": [
       "0.8235294117647058"
      ]
     },
     "execution_count": 10,
     "metadata": {
     },
     "output_type": "execute_result"
    }
   ],
   "source": [
    "knn.score(X_test,Y_test) # Si es 1 es demasiado bueno"
   ]
  },
  {
   "cell_type": "code",
   "execution_count": 11,
   "metadata": {
    "collapsed": false
   },
   "outputs": [
    {
     "name": "stdout",
     "output_type": "stream",
     "text": [
      "Accuracy: 0.8235294117647058\n"
     ]
    }
   ],
   "source": [
    "y_pred=knn.predict(X_test)\n",
    "print(\"Accuracy:\",metrics.accuracy_score(Y_test, y_pred))"
   ]
  },
  {
   "cell_type": "code",
   "execution_count": 12,
   "metadata": {
    "collapsed": false
   },
   "outputs": [
   ],
   "source": [
    "# Prediciendo a partir de nuevos registros  de la misma dimension a los registros con los que se entrenó el modelo\n",
    "Y_pred = knn.predict(X_test)"
   ]
  },
  {
   "cell_type": "code",
   "execution_count": 13,
   "metadata": {
    "collapsed": false
   },
   "outputs": [
    {
     "data": {
      "image/png": "[encoded data removed]",
      "text/plain": [
       "<Figure size 576x576 with 1 Axes>"
      ]
     },
     "execution_count": 13,
     "metadata": {
      "image/png": {
       "height": 465,
       "width": 534
      },
      "needs_background": "light"
     },
     "output_type": "execute_result"
    }
   ],
   "source": [
    "# Matriz de confusion\n",
    "cm = confusion_matrix(Y_test,Y_pred,labels = [0, 1])\n",
    "\n",
    "fig, ax = plt.subplots(figsize=(8, 8))\n",
    "ax.imshow(cm)\n",
    "ax.grid(False)\n",
    "ax.xaxis.set(ticks=(0, 1), ticklabels=('Predicho 0: Perdio', 'Predicho 1: Paso'))\n",
    "ax.yaxis.set(ticks=(0, 1), ticklabels=('Actual 0: Perdio', 'Actual 1: Paso'))\n",
    "ax.set_ylim(1.5, -0.5)\n",
    "for i in range(2):\n",
    "    for j in range(2):\n",
    "        ax.text(j, i, cm[i, j], ha='center', va='center', color='red')\n",
    "plt.show()"
   ]
  },
  {
   "cell_type": "code",
   "execution_count": 14,
   "metadata": {
    "collapsed": false
   },
   "outputs": [
    {
     "name": "stdout",
     "output_type": "stream",
     "text": [
      "              precision    recall  f1-score   support\n",
      "\n",
      "           0       0.83      0.71      0.77         7\n",
      "           1       0.82      0.90      0.86        10\n",
      "\n",
      "    accuracy                           0.82        17\n",
      "   macro avg       0.83      0.81      0.81        17\n",
      "weighted avg       0.82      0.82      0.82        17\n",
      "\n"
     ]
    }
   ],
   "source": [
    "# Reporte de precision del modelo KNN:\n",
    "print(classification_report(Y_test,Y_pred,labels=[0,1]))"
   ]
  },
  {
   "cell_type": "markdown",
   "metadata": {
    "collapsed": false
   },
   "source": [
    "# Conclusion de modelos KNN y KMC a partir de estudiantes con resultados buenos y malos\n",
    "Los puntajes Elbow score y Silhouette score mostraron que 2 clusters es el mejor valor para hacer la clasificación de los datos. Como esta clasificación tiene en cuenta tanto las notas buenas como las malas se va a examinar ahora como fue la clasificación para los resultados malos y como se puede mejorar estas clasificaciones."
   ]
  },
  {
   "cell_type": "markdown",
   "metadata": {
    "collapsed": false
   },
   "source": [
    "## Clasificador Bayesiano"
   ]
  },
  {
   "cell_type": "markdown",
   "metadata": {
    "collapsed": false
   },
   "source": [
    "* *Probabilidad Condicional* : $P(Pase \\ algo | dado \\ que \\ paso \\ algo)$\n",
    "* *Probabilidad a Priori*: Probabilidad de un caso dividido por el numero total de casos.\n",
    "\n",
    "**Definición**\n",
    "\n",
    "Dado un conjunto de clasificaciones mutualmente exclusivo y exhaustivo de classificaciones $c_1,c_2,c_k$, las cuales poseen probabilidades a priori $P(c_1),P(c_2),...,P(c_k)$ respectivamente, y $n$ atributos $a_1,a_2,...,a_n$ para los cuales dada una instancia(record/registro) posee valores $v_1,v_2,...,v_n$ respectivamente, la probabilidad posterior de la clase $c_i$ que ocurre para la estancia especificad puede ser mostrada proporcionalmente a :\n",
    "\n",
    "\\begin{equation*}\n",
    "    P(c_i) \\times P(a_1=v_1 \\ y \\ a_2=v_2... \\ y \\ a_n=v_n|c_i)\n",
    "\\end{equation*}\n",
    "\n",
    "Suponiendo que la probabilidad de los atributos son independientes (Generalmente no pasa, pero sigue funcionando), el valor de esta expresión puede ser calculado utilizando el producto.\n",
    "\\begin{equation*}\n",
    "    P(c_i) \\times P(a_1=v_1|c_i) \\times P(a_2=v_2|c_i) \\times P(a_3=v_3|c_i) \\times P(a_3=v_3|c_i) \\times\n",
    "\\end{equation*}\n",
    "\n",
    "Se calcula este producto por cada valor de $i \\in [k]$ (Es decir cada clase) y se elige la clasificacion que posee el valor mas grande.\n",
    "\n",
    "__________________________________________________________________________\n",
    "\n",
    "Esta ultima expresión es escrita aveces como $P(C_i)\\times \\prod_{j=1}^n P(a_j=v_j | class =c_i)$. La suma de estas probabilidades no da 1, sin embargo se puede nomr"
   ]
  },
  {
   "cell_type": "code",
   "execution_count": 15,
   "metadata": {
    "collapsed": false
   },
   "outputs": [
    {
     "data": {
      "text/plain": [
       "66     3.905\n",
       "67     4.040\n",
       "68     4.305\n",
       "69     3.560\n",
       "70     2.815\n",
       "       ...  \n",
       "127    2.395\n",
       "128    2.505\n",
       "129    2.630\n",
       "130    2.500\n",
       "131    2.670\n",
       "Name: Nota_final, Length: 66, dtype: float64"
      ]
     },
     "execution_count": 15,
     "metadata": {
     },
     "output_type": "execute_result"
    }
   ],
   "source": [
    "materia[\"Nota_final\"]"
   ]
  },
  {
   "cell_type": "code",
   "execution_count": 16,
   "metadata": {
    "collapsed": false
   },
   "outputs": [
   ],
   "source": [
    "X = materia[[\"Nota_1er_Corte\"]]\n",
    "Y= materia[\"Paso\"]"
   ]
  },
  {
   "cell_type": "code",
   "execution_count": 17,
   "metadata": {
    "collapsed": false
   },
   "outputs": [
    {
     "name": "stdout",
     "output_type": "stream",
     "text": [
      "Accuracy: 0.9\n"
     ]
    }
   ],
   "source": [
    "from sklearn import metrics\n",
    "X_train, X_test, y_train, y_test = train_test_split(X, Y, test_size=0.3)\n",
    "gnb = GaussianNB()\n",
    "gnb.fit(X_train,y_train)\n",
    "y_pred = gnb.predict(X_test)\n",
    "print(\"Accuracy:\",metrics.accuracy_score(y_test, y_pred))"
   ]
  },
  {
   "cell_type": "code",
   "execution_count": 18,
   "metadata": {
    "collapsed": false
   },
   "outputs": [
    {
     "data": {
      "image/png": "[encoded data removed]",
      "text/plain": [
       "<Figure size 576x576 with 1 Axes>"
      ]
     },
     "execution_count": 18,
     "metadata": {
      "image/png": {
       "height": 465,
       "width": 534
      },
      "needs_background": "light"
     },
     "output_type": "execute_result"
    }
   ],
   "source": [
    "cm = confusion_matrix(y_test,y_pred)\n",
    "\n",
    "fig, ax = plt.subplots(figsize=(8, 8))\n",
    "ax.imshow(cm)\n",
    "ax.grid(False)\n",
    "ax.xaxis.set(ticks=(0, 1), ticklabels=('Predicho 0: Perdio', 'Predicho 1: Paso'))\n",
    "ax.yaxis.set(ticks=(0, 1), ticklabels=('Actual 0: Perdio', 'Actual 1: Paso'))\n",
    "ax.set_ylim(1.5, -0.5)\n",
    "for i in range(2):\n",
    "    for j in range(2):\n",
    "        ax.text(j, i, cm[i, j], ha='center', va='center', color='red')\n",
    "plt.show()"
   ]
  },
  {
   "cell_type": "markdown",
   "metadata": {
    "collapsed": false
   },
   "source": [
    "## Regresion Logistica"
   ]
  },
  {
   "cell_type": "markdown",
   "metadata": {
    "collapsed": false
   },
   "source": [
    "La regresión logitica trabaja con posibilidades en vez de proporciones. Las posibilidades es simplemente la division/radio de proporción de los dos posibles resultados. Si $p$ es la proporcion de un resultado y $1-p$ la proporción del segundo resultado:\n",
    "\n",
    "\\begin{equation*}\n",
    "    posibilidades = \\frac{p}{1-p}\n",
    "\\end{equation*}\n",
    "\n",
    "La regresión logistica modela las posibilidades en terminos de variables explicativas. Es decir:\n",
    "\n",
    "\\begin{equation*}\n",
    "    log(\\frac{p}{1-p}) = B_0+B_1x\n",
    "\\end{equation*}\n",
    "\n",
    "Las probabilidades son estimadas con la función sigmoide $p(x)=\\frac{1}{1+exp(-f(x_1,x_2))}$"
   ]
  },
  {
   "cell_type": "code",
   "execution_count": 19,
   "metadata": {
    "collapsed": false
   },
   "outputs": [
   ],
   "source": [
    "model = LogisticRegression(solver='liblinear')"
   ]
  },
  {
   "cell_type": "code",
   "execution_count": 20,
   "metadata": {
    "collapsed": false
   },
   "outputs": [
   ],
   "source": [
    "result = model.fit(X_train,y_train)"
   ]
  },
  {
   "cell_type": "code",
   "execution_count": 21,
   "metadata": {
    "collapsed": false
   },
   "outputs": [
    {
     "name": "stdout",
     "output_type": "stream",
     "text": [
      "Accuracy: 0.8\n"
     ]
    }
   ],
   "source": [
    "y_pred=model.predict(X_test)\n",
    "print(\"Accuracy:\",metrics.accuracy_score(y_test, y_pred))"
   ]
  },
  {
   "cell_type": "code",
   "execution_count": 22,
   "metadata": {
    "collapsed": false
   },
   "outputs": [
    {
     "data": {
      "image/png": "[encoded data removed]",
      "text/plain": [
       "<Figure size 576x576 with 1 Axes>"
      ]
     },
     "execution_count": 22,
     "metadata": {
      "image/png": {
       "height": 465,
       "width": 534
      },
      "needs_background": "light"
     },
     "output_type": "execute_result"
    }
   ],
   "source": [
    "cm = confusion_matrix(y_test,y_pred)\n",
    "\n",
    "fig, ax = plt.subplots(figsize=(8, 8))\n",
    "ax.imshow(cm)\n",
    "ax.grid(False)\n",
    "ax.xaxis.set(ticks=(0, 1), ticklabels=('Predicho 0: Perdio', 'Predicho 1: Paso'))\n",
    "ax.yaxis.set(ticks=(0, 1), ticklabels=('Actual 0: Perdio', 'Actual 1: Paso'))\n",
    "ax.set_ylim(1.5, -0.5)\n",
    "for i in range(2):\n",
    "    for j in range(2):\n",
    "        ax.text(j, i, cm[i, j], ha='center', va='center', color='red')\n",
    "plt.show()"
   ]
  },
  {
   "cell_type": "code",
   "execution_count": 23,
   "metadata": {
    "collapsed": false
   },
   "outputs": [
    {
     "data": {
      "text/plain": [
       "array([[ 0,  4],\n",
       "       [ 0, 16]])"
      ]
     },
     "execution_count": 23,
     "metadata": {
     },
     "output_type": "execute_result"
    }
   ],
   "source": [
    "confusion_matrix(y_test,y_pred)"
   ]
  },
  {
   "cell_type": "code",
   "execution_count": 24,
   "metadata": {
    "collapsed": false
   },
   "outputs": [
    {
     "name": "stdout",
     "output_type": "stream",
     "text": [
      "              precision    recall  f1-score   support\n",
      "\n",
      "           0       0.00      0.00      0.00         4\n",
      "           1       0.80      1.00      0.89        16\n",
      "\n",
      "    accuracy                           0.80        20\n",
      "   macro avg       0.40      0.50      0.44        20\n",
      "weighted avg       0.64      0.80      0.71        20\n",
      "\n"
     ]
    },
    {
     "name": "stderr",
     "output_type": "stream",
     "text": [
      "/ext/anaconda-2019.03/lib/python3.7/site-packages/sklearn/metrics/_classification.py:1272: UndefinedMetricWarning: Precision and F-score are ill-defined and being set to 0.0 in labels with no predicted samples. Use `zero_division` parameter to control this behavior.\n",
      "  _warn_prf(average, modifier, msg_start, len(result))\n"
     ]
    }
   ],
   "source": [
    "print(classification_report(y_test, y_pred))"
   ]
  },
  {
   "cell_type": "markdown",
   "metadata": {
    "collapsed": false
   },
   "source": [
    "## Decision Tree\n",
    "Un árbol de decisión es una árbol en la que cada nodo interno representa un \"test\" de un atributo. Cada rama representa el resultado del test y cada hoja del árbol representa una etiqueta de un grupo. Los caminos desde la raíz hasta la as hojas representan las reglas de clasificación."
   ]
  },
  {
   "cell_type": "code",
   "execution_count": 25,
   "metadata": {
    "collapsed": false
   },
   "outputs": [
   ],
   "source": [
    "# Separating train data and split data\n",
    "X_train, X_test, y_train, y_test = train_test_split(X,my_labels,test_size = 0.3, random_state = 100)"
   ]
  },
  {
   "cell_type": "code",
   "execution_count": 26,
   "metadata": {
    "collapsed": false
   },
   "outputs": [
   ],
   "source": [
    "# Creating the classifier object\n",
    "tree_clf = DecisionTreeClassifier(criterion = \"gini\",max_depth = 10,min_samples_leaf=5)"
   ]
  },
  {
   "cell_type": "code",
   "execution_count": 27,
   "metadata": {
    "collapsed": false
   },
   "outputs": [
    {
     "data": {
      "text/plain": [
       "DecisionTreeClassifier(ccp_alpha=0.0, class_weight=None, criterion='gini',\n",
       "                       max_depth=10, max_features=None, max_leaf_nodes=None,\n",
       "                       min_impurity_decrease=0.0, min_impurity_split=None,\n",
       "                       min_samples_leaf=5, min_samples_split=2,\n",
       "                       min_weight_fraction_leaf=0.0, presort='deprecated',\n",
       "                       random_state=None, splitter='best')"
      ]
     },
     "execution_count": 27,
     "metadata": {
     },
     "output_type": "execute_result"
    }
   ],
   "source": [
    "# Performing training\n",
    "tree_clf.fit(X_train, y_train)"
   ]
  },
  {
   "cell_type": "code",
   "execution_count": 28,
   "metadata": {
    "collapsed": false
   },
   "outputs": [
    {
     "name": "stdout",
     "output_type": "stream",
     "text": [
      "Predicted values:\n",
      "[0 1 1 0 0 1 1 0 1 1 1 1 1 1 1 1 1 0 1 1]\n"
     ]
    }
   ],
   "source": [
    "# Prediction on test with giniIndex\n",
    "y_pred = tree_clf.predict(X_test)\n",
    "print(\"Predicted values:\")\n",
    "print(y_pred)"
   ]
  },
  {
   "cell_type": "code",
   "execution_count": 29,
   "metadata": {
    "collapsed": false
   },
   "outputs": [
    {
     "name": "stdout",
     "output_type": "stream",
     "text": [
      "Accuracy:  0.8\n",
      "              precision    recall  f1-score   support\n",
      "\n",
      "           0       0.40      0.67      0.50         3\n",
      "           1       0.93      0.82      0.87        17\n",
      "\n",
      "    accuracy                           0.80        20\n",
      "   macro avg       0.67      0.75      0.69        20\n",
      "weighted avg       0.85      0.80      0.82        20\n",
      "\n"
     ]
    }
   ],
   "source": [
    "# Calculations of accuracy\n",
    "\n",
    "# Confusion matrix\n",
    "cm = confusion_matrix(y_test,y_pred)\n",
    "# Accuracy score of the model\n",
    "print(\"Accuracy: \",accuracy_score(y_test,y_pred))\n",
    "# Reporte\n",
    "print(classification_report(y_test, y_pred))"
   ]
  },
  {
   "cell_type": "code",
   "execution_count": 30,
   "metadata": {
    "collapsed": false
   },
   "outputs": [
    {
     "data": {
      "image/png": "[encoded data removed]",
      "text/plain": [
       "<Figure size 576x576 with 1 Axes>"
      ]
     },
     "execution_count": 30,
     "metadata": {
      "image/png": {
       "height": 465,
       "width": 534
      },
      "needs_background": "light"
     },
     "output_type": "execute_result"
    }
   ],
   "source": [
    "fig, ax = plt.subplots(figsize=(8, 8))\n",
    "ax.imshow(cm)\n",
    "ax.grid(False)\n",
    "ax.xaxis.set(ticks=(0, 1), ticklabels=('Predicho 0: Perdio', 'Predicho 1: Paso'))\n",
    "ax.yaxis.set(ticks=(0, 1), ticklabels=('Actual 0: Perdio', 'Actual 1: Paso'))\n",
    "ax.set_ylim(1.5, -0.5)\n",
    "for i in range(2):\n",
    "    for j in range(2):\n",
    "        ax.text(j, i, cm[i, j], ha='center', va='center', color='red')\n",
    "plt.show()"
   ]
  },
  {
   "cell_type": "code",
   "execution_count": 31,
   "metadata": {
    "collapsed": false
   },
   "outputs": [
   ],
   "source": [
    "from math import log\n",
    "\n",
    "def calculateEntropy(dataSet):\n",
    "    number = len(dataSet)\n",
    "    labelCounts = {}\n",
    "    for featureVector in dataSet:\n",
    "        currentLabel = featureVector[-1]\n",
    "        if currentLabel not in labelCounts.keys():\n",
    "            labelCounts[currentLabel] = 0\n",
    "        labelCounts[currentLabel] +=1\n",
    "    entropy = 0\n",
    "    for i in labelCounts:\n",
    "        probability = float(labelCounts[keys])/number\n",
    "        entropy -=probability*log(probability,2)\n",
    "    return entropy"
   ]
  },
  {
   "cell_type": "code",
   "execution_count": 32,
   "metadata": {
    "collapsed": false
   },
   "outputs": [
    {
     "ename": "NameError",
     "evalue": "name 'keys' is not defined",
     "output_type": "error",
     "traceback": [
      "\u001b[0;31m---------------------------------------------------------------------------\u001b[0m",
      "\u001b[0;31mNameError\u001b[0m                                 Traceback (most recent call last)",
      "\u001b[0;32m<ipython-input-32-03a743f2f07d>\u001b[0m in \u001b[0;36m<module>\u001b[0;34m()\u001b[0m\n\u001b[0;32m----> 1\u001b[0;31m \u001b[0mprint\u001b[0m\u001b[0;34m(\u001b[0m\u001b[0mcalculateEntropy\u001b[0m\u001b[0;34m(\u001b[0m\u001b[0mX\u001b[0m\u001b[0;34m)\u001b[0m\u001b[0;34m)\u001b[0m\u001b[0;34m\u001b[0m\u001b[0;34m\u001b[0m\u001b[0m\n\u001b[0m\u001b[1;32m      2\u001b[0m \u001b[0mdata\u001b[0m \u001b[0;34m=\u001b[0m \u001b[0mX\u001b[0m\u001b[0;34m.\u001b[0m\u001b[0mto_numpy\u001b[0m\u001b[0;34m(\u001b[0m\u001b[0;34m)\u001b[0m\u001b[0;34m\u001b[0m\u001b[0;34m\u001b[0m\u001b[0m\n\u001b[1;32m      3\u001b[0m \u001b[0mprint\u001b[0m\u001b[0;34m(\u001b[0m\u001b[0mentropy\u001b[0m\u001b[0;34m(\u001b[0m\u001b[0mdata\u001b[0m\u001b[0;34m)\u001b[0m\u001b[0;34m)\u001b[0m\u001b[0;34m\u001b[0m\u001b[0;34m\u001b[0m\u001b[0m\n",
      "\u001b[0;32m<ipython-input-31-2096a77649cd>\u001b[0m in \u001b[0;36mcalculateEntropy\u001b[0;34m(dataSet)\u001b[0m\n\u001b[1;32m     11\u001b[0m     \u001b[0mentropy\u001b[0m \u001b[0;34m=\u001b[0m \u001b[0;36m0\u001b[0m\u001b[0;34m\u001b[0m\u001b[0;34m\u001b[0m\u001b[0m\n\u001b[1;32m     12\u001b[0m     \u001b[0;32mfor\u001b[0m \u001b[0mi\u001b[0m \u001b[0;32min\u001b[0m \u001b[0mlabelCounts\u001b[0m\u001b[0;34m:\u001b[0m\u001b[0;34m\u001b[0m\u001b[0;34m\u001b[0m\u001b[0m\n\u001b[0;32m---> 13\u001b[0;31m         \u001b[0mprobability\u001b[0m \u001b[0;34m=\u001b[0m \u001b[0mfloat\u001b[0m\u001b[0;34m(\u001b[0m\u001b[0mlabelCounts\u001b[0m\u001b[0;34m[\u001b[0m\u001b[0mkeys\u001b[0m\u001b[0;34m]\u001b[0m\u001b[0;34m)\u001b[0m\u001b[0;34m/\u001b[0m\u001b[0mnumber\u001b[0m\u001b[0;34m\u001b[0m\u001b[0;34m\u001b[0m\u001b[0m\n\u001b[0m\u001b[1;32m     14\u001b[0m         \u001b[0mentropy\u001b[0m \u001b[0;34m-=\u001b[0m\u001b[0mprobability\u001b[0m\u001b[0;34m*\u001b[0m\u001b[0mlog\u001b[0m\u001b[0;34m(\u001b[0m\u001b[0mprobability\u001b[0m\u001b[0;34m,\u001b[0m\u001b[0;36m2\u001b[0m\u001b[0;34m)\u001b[0m\u001b[0;34m\u001b[0m\u001b[0;34m\u001b[0m\u001b[0m\n\u001b[1;32m     15\u001b[0m     \u001b[0;32mreturn\u001b[0m \u001b[0mentropy\u001b[0m\u001b[0;34m\u001b[0m\u001b[0;34m\u001b[0m\u001b[0m\n",
      "\u001b[0;31mNameError\u001b[0m: name 'keys' is not defined"
     ]
    }
   ],
   "source": [
    "print(calculateEntropy(X))\n",
    "data = X.to_numpy()\n",
    "print(entropy(data))"
   ]
  },
  {
   "cell_type": "markdown",
   "metadata": {
    "collapsed": false
   },
   "source": [
    "## Medidas de precisión para estudiantes con riesgo de perdida"
   ]
  },
  {
   "cell_type": "code",
   "execution_count": 33,
   "metadata": {
    "collapsed": false
   },
   "outputs": [
    {
     "data": {
      "text/plain": [
       "array([[5, 2],\n",
       "       [1, 9]])"
      ]
     },
     "execution_count": 33,
     "metadata": {
     },
     "output_type": "execute_result"
    }
   ],
   "source": [
    "cm = confusion_matrix(Y_test,Y_pred,labels = [0, 1])\n",
    "cm"
   ]
  },
  {
   "cell_type": "code",
   "execution_count": 34,
   "metadata": {
    "collapsed": false
   },
   "outputs": [
    {
     "name": "stdout",
     "output_type": "stream",
     "text": [
      "5 9 1 2\n"
     ]
    }
   ],
   "source": [
    "True_posit=cm[0][0]\n",
    "True_neg=cm[1][1]\n",
    "False_neg=[1][0]\n",
    "False_posit=cm[0][1]\n",
    "Total = True_posit+True_neg+False_neg+False_posit\n",
    "print(True_posit,True_neg,False_neg,False_posit)"
   ]
  },
  {
   "cell_type": "markdown",
   "metadata": {
    "collapsed": false
   },
   "source": [
    "Verdaderos Positivos : Estudiantes que perdieron y fueren identificado como en riesgo.\n",
    "\n",
    "Verdadero Negativos : Estudiantes que pasaron y no fueron identificados como en riesgo.\n",
    "\n",
    "Falsos negativos (Tipo II error): Es el numero de estudiantes que perdieron el curso y no fueron identificados por los modelos de riesgo.\n",
    "\n",
    "Falsos positivos (Tipo I error): el numero de estudiantes que pasaron el curso y fueron identificados como en riesgo.\n"
   ]
  },
  {
   "cell_type": "code",
   "execution_count": 35,
   "metadata": {
    "collapsed": false
   },
   "outputs": [
    {
     "name": "stdout",
     "output_type": "stream",
     "text": [
      "Acurracy:0.8235294117647058\n",
      "Acurracy (Pass):0.8181818181818182\n",
      "Acurracy (Fail):0.8333333333333334\n",
      "F_{1.5}$:0.7926829268292683\n"
     ]
    }
   ],
   "source": [
    "Accuracy = (True_posit+True_neg)/Total\n",
    "print(\"Acurracy:\" +str(Accuracy))\n",
    "Accuracy_pass = (True_neg)/(True_neg+False_posit)\n",
    "print(\"Acurracy (Pass):\" +str(Accuracy_pass))\n",
    "Accuracy_fail = (True_posit)/(True_posit+False_neg)\n",
    "print(\"Acurracy (Fail):\" +str(Accuracy_fail))\n",
    "F15=((1+1.5*1.5)*True_posit)/((1+1.5*1.5)*True_posit+(1.5*1.5)*False_neg+False_posit)\n",
    "print(\"F_{1.5}$:\" +str(F15))"
   ]
  },
  {
   "cell_type": "markdown",
   "metadata": {
    "collapsed": false
   },
   "source": [
    "Accuracy (Pass): Precision de los estudiantes que pasaron.\n",
    "\n",
    "Accuracy (Fail): Precision de los estudiantes que fallaron.\n",
    "\n",
    "$F_{1.5}$ : Puntaje que mida la combinacion de las dos precisiones dandole mas peso a los estudiantes que perdieron."
   ]
  },
  {
   "cell_type": "markdown",
   "metadata": {
    "collapsed": false
   },
   "source": [
    "## Support Vector Machine (SVM)\n",
    "Es un algoritmo de aprendizaje supervisado, que busca construir el mejor hiperplano que separe grupos de datos. Este clasificador puede ser lineal o no lineal.\n",
    "En algunos casos, construir el hiperplano de separación no es tan fácil por lo que se usa un truco con kernels (transformaciones) que permiten aumentar la dimensión de los datos para.\n",
    "Existen varios tipos de kernels para los SVM. Entre los más usados se encuentran:\n",
    "* Kernels lineales: \n",
    "* Kernels polinómicos:\n",
    "* Kernel de función de base radial:"
   ]
  },
  {
   "cell_type": "code",
   "execution_count": 1,
   "metadata": {
    "collapsed": false
   },
   "outputs": [
    {
     "ename": "NameError",
     "evalue": "name 'train_test_split' is not defined",
     "output_type": "error",
     "traceback": [
      "\u001b[0;31m---------------------------------------------------------------------------\u001b[0m",
      "\u001b[0;31mNameError\u001b[0m                                 Traceback (most recent call last)",
      "\u001b[0;32m<ipython-input-1-1397d3dd397f>\u001b[0m in \u001b[0;36m<module>\u001b[0;34m()\u001b[0m\n\u001b[0;32m----> 1\u001b[0;31m \u001b[0mX_train\u001b[0m\u001b[0;34m,\u001b[0m \u001b[0mX_test\u001b[0m\u001b[0;34m,\u001b[0m \u001b[0my_train\u001b[0m\u001b[0;34m,\u001b[0m \u001b[0my_test\u001b[0m \u001b[0;34m=\u001b[0m \u001b[0mtrain_test_split\u001b[0m\u001b[0;34m(\u001b[0m\u001b[0mX\u001b[0m\u001b[0;34m,\u001b[0m\u001b[0mmy_labels\u001b[0m\u001b[0;34m,\u001b[0m\u001b[0mtest_size\u001b[0m\u001b[0;34m=\u001b[0m\u001b[0;36m0.3\u001b[0m\u001b[0;34m)\u001b[0m\u001b[0;34m\u001b[0m\u001b[0;34m\u001b[0m\u001b[0m\n\u001b[0m",
      "\u001b[0;31mNameError\u001b[0m: name 'train_test_split' is not defined"
     ]
    }
   ],
   "source": [
    "X_train, X_test, y_train, y_test = train_test_split(X,my_labels,test_size=0.3)"
   ]
  },
  {
   "cell_type": "code",
   "execution_count": 37,
   "metadata": {
    "collapsed": false
   },
   "outputs": [
   ],
   "source": [
    "# Se inicia el clasificadores SVM\n",
    "# NOTA: revisar significado de parametro C y ver como seleccionarlo\n",
    "cls_lin = svm.SVC(kernel=\"linear\")\n",
    "cls_poly = svm.SVC(kernel=\"poly\")\n",
    "cls_rbf = svm.SVC(kernel='rbf')"
   ]
  },
  {
   "cell_type": "code",
   "execution_count": 38,
   "metadata": {
    "collapsed": false
   },
   "outputs": [
    {
     "data": {
      "text/plain": [
       "SVC(C=1.0, break_ties=False, cache_size=200, class_weight=None, coef0=0.0,\n",
       "    decision_function_shape='ovr', degree=3, gamma='scale', kernel='rbf',\n",
       "    max_iter=-1, probability=False, random_state=None, shrinking=True,\n",
       "    tol=0.001, verbose=False)"
      ]
     },
     "execution_count": 38,
     "metadata": {
     },
     "output_type": "execute_result"
    }
   ],
   "source": [
    "# training the models\n",
    "cls_lin.fit(X_train,y_train)\n",
    "cls_poly.fit(X_train,y_train)\n",
    "cls_rbf.fit(X_train,y_train)"
   ]
  },
  {
   "cell_type": "code",
   "execution_count": 39,
   "metadata": {
    "collapsed": false
   },
   "outputs": [
    {
     "name": "stdout",
     "output_type": "stream",
     "text": [
      "Accuracy lin_SVM:  0.85\n",
      "Accuracy poly_SVM:  0.9\n",
      "Accuracy rbf_SVM:  0.85\n"
     ]
    }
   ],
   "source": [
    "# Predict the rsponse\n",
    "pred_lin = cls_lin.predict(X_test)\n",
    "print(\"Accuracy lin_SVM: \",accuracy_score(y_test,pred_lin))\n",
    "#print(\"Precision lin_SVM:\",y_test,pred_lin)\n",
    "#\n",
    "pred_poly = cls_poly.predict(X_test)\n",
    "print(\"Accuracy poly_SVM: \",accuracy_score(y_test,pred_poly))\n",
    "#print(\"Precision poly_SVM:\",y_test,pred_poly)\n",
    "#\n",
    "pred_rbf = cls_rbf.predict(X_test)\n",
    "print(\"Accuracy rbf_SVM: \",accuracy_score(y_test,pred_rbf))\n",
    "#print(\"Precision rbf_SVM:\",y_test,pred_rbf)"
   ]
  },
  {
   "cell_type": "markdown",
   "metadata": {
    "collapsed": false
   },
   "source": [
    "Si se aumenta el valor del parametro C la accuracy de los modelos cambia y converge al mismo valor."
   ]
  },
  {
   "cell_type": "code",
   "execution_count": 44,
   "metadata": {
    "collapsed": false
   },
   "outputs": [
    {
     "name": "stdout",
     "output_type": "stream",
     "text": [
      "Reporte linear SVM:\n",
      "              precision    recall  f1-score   support\n",
      "\n",
      "           0       1.00      0.57      0.73         7\n",
      "           1       0.81      1.00      0.90        13\n",
      "\n",
      "    accuracy                           0.85        20\n",
      "   macro avg       0.91      0.79      0.81        20\n",
      "weighted avg       0.88      0.85      0.84        20\n",
      "\n",
      "Reporte polinomial SVM:\n",
      "              precision    recall  f1-score   support\n",
      "\n",
      "           0       1.00      0.57      0.73         7\n",
      "           1       0.81      1.00      0.90        13\n",
      "\n",
      "    accuracy                           0.85        20\n",
      "   macro avg       0.91      0.79      0.81        20\n",
      "weighted avg       0.88      0.85      0.84        20\n",
      "\n",
      "Reporte SVM con kernel RBF:\n",
      "              precision    recall  f1-score   support\n",
      "\n",
      "           0       1.00      0.57      0.73         7\n",
      "           1       0.81      1.00      0.90        13\n",
      "\n",
      "    accuracy                           0.85        20\n",
      "   macro avg       0.91      0.79      0.81        20\n",
      "weighted avg       0.88      0.85      0.84        20\n",
      "\n"
     ]
    }
   ],
   "source": [
    "# Matrices de confusion\n",
    "cm_lin = confusion_matrix(y_test,pred_lin, labels=[0,1])\n",
    "cm_poly = confusion_matrix(y_test,pred_poly, labels=[0,1])\n",
    "cm_rbf = confusion_matrix(y_test, pred_rbf, labels=[0,1])\n",
    "# Reportes de clasificacion\n",
    "print(\"Reporte linear SVM:\")\n",
    "print(classification_report(y_test,pred_lin))\n",
    "#\n",
    "print(\"Reporte polinomial SVM:\")\n",
    "print(classification_report(y_test,pred_lin))\n",
    "#\n",
    "print(\"Reporte SVM con kernel RBF:\")\n",
    "print(classification_report(y_test,pred_lin))"
   ]
  },
  {
   "cell_type": "code",
   "execution_count": 41,
   "metadata": {
    "collapsed": false
   },
   "outputs": [
    {
     "data": {
      "image/png": "[encoded data removed]",
      "text/plain": [
       "<Figure size 576x576 with 1 Axes>"
      ]
     },
     "execution_count": 41,
     "metadata": {
      "image/png": {
       "height": 481,
       "width": 534
      },
      "needs_background": "light"
     },
     "output_type": "execute_result"
    }
   ],
   "source": [
    "# Grafica para SVM lineal\n",
    "fig, ax = plt.subplots(figsize=(8, 8))\n",
    "ax.imshow(cm)\n",
    "ax.grid(False)\n",
    "ax.xaxis.set(ticks=(0, 1), ticklabels=('Predicho 0: Perdio', 'Predicho 1: Paso'))\n",
    "ax.yaxis.set(ticks=(0, 1), ticklabels=('Actual 0: Perdio', 'Actual 1: Paso'))\n",
    "ax.set_ylim(1.5, -0.5)\n",
    "for i in range(2):\n",
    "    for j in range(2):\n",
    "        ax.text(j, i, cm_lin[i, j], ha='center', va='center', color='red')\n",
    "plt.title(\"Matriz de confusion para SVM con kernel lineal\")\n",
    "plt.show()"
   ]
  },
  {
   "cell_type": "code",
   "execution_count": 42,
   "metadata": {
    "collapsed": false
   },
   "outputs": [
    {
     "data": {
      "image/png": "[encoded data removed]",
      "text/plain": [
       "<Figure size 576x576 with 1 Axes>"
      ]
     },
     "execution_count": 42,
     "metadata": {
      "image/png": {
       "height": 481,
       "width": 534
      },
      "needs_background": "light"
     },
     "output_type": "execute_result"
    }
   ],
   "source": [
    "# Grafica para SVM con kernel polinomial\n",
    "fig, ax = plt.subplots(figsize=(8, 8))\n",
    "ax.imshow(cm)\n",
    "ax.grid(False)\n",
    "ax.xaxis.set(ticks=(0, 1), ticklabels=('Predicho 0: Perdio', 'Predicho 1: Paso'))\n",
    "ax.yaxis.set(ticks=(0, 1), ticklabels=('Actual 0: Perdio', 'Actual 1: Paso'))\n",
    "ax.set_ylim(1.5, -0.5)\n",
    "for i in range(2):\n",
    "    for j in range(2):\n",
    "        ax.text(j, i, cm_poly[i, j], ha='center', va='center', color='red')\n",
    "plt.title(\"Matriz de confusion para SVM con kernel polinomial\")\n",
    "plt.show()"
   ]
  },
  {
   "cell_type": "code",
   "execution_count": 43,
   "metadata": {
    "collapsed": false
   },
   "outputs": [
    {
     "data": {
      "image/png": "[encoded data removed]",
      "text/plain": [
       "<Figure size 576x576 with 1 Axes>"
      ]
     },
     "execution_count": 43,
     "metadata": {
      "image/png": {
       "height": 481,
       "width": 534
      },
      "needs_background": "light"
     },
     "output_type": "execute_result"
    }
   ],
   "source": [
    "# Grafica para SVM con kernel RBF\n",
    "fig, ax = plt.subplots(figsize=(8, 8))\n",
    "ax.imshow(cm)\n",
    "ax.grid(False)\n",
    "ax.xaxis.set(ticks=(0, 1), ticklabels=('Predicho 0: Perdio', 'Predicho 1: Paso'))\n",
    "ax.yaxis.set(ticks=(0, 1), ticklabels=('Actual 0: Perdio', 'Actual 1: Paso'))\n",
    "ax.set_ylim(1.5, -0.5)\n",
    "for i in range(2):\n",
    "    for j in range(2):\n",
    "        ax.text(j, i, cm_rbf[i, j], ha='center', va='center', color='red')\n",
    "plt.title(\"Matriz de confusion para SVM con kernel RBF\")\n",
    "plt.show()"
   ]
  },
  {
   "cell_type": "markdown",
   "metadata": {
    "collapsed": false
   },
   "source": [
    "## Modelo por materia - cortes"
   ]
  },
  {
   "cell_type": "code",
   "execution_count": 0,
   "metadata": {
    "collapsed": false
   },
   "outputs": [
   ],
   "source": [
    "notas = pd.read_csv(\"datos_notas_macc_cortes_historico_20172_20201.csv\",encoding='utf-8',header=0,sep=\";\")\n",
    "notas"
   ]
  },
  {
   "cell_type": "code",
   "execution_count": 0,
   "metadata": {
    "collapsed": false
   },
   "outputs": [
   ],
   "source": [
    "# Eliminar Nans\n",
    "notas = notas.dropna()\n",
    "#notas"
   ]
  },
  {
   "cell_type": "code",
   "execution_count": 0,
   "metadata": {
    "collapsed": false
   },
   "outputs": [
   ],
   "source": [
    "#Agregando nota final para predicción:\n",
    "notas[\"Notas Final\"]= notas.apply(lambda row: (row[\"Nota 1er Corte\"]+row[\"Nota 2do Corte\"]+row[\"Nota 3er Corte\"]+row[\"Nota 4to Corte\"]+row[\"Nota 5to Corte\"])/5,axis=1)\n",
    "notas"
   ]
  },
  {
   "cell_type": "code",
   "execution_count": 0,
   "metadata": {
    "collapsed": false
   },
   "outputs": [
   ],
   "source": [
    "def funcion_paso(x):\n",
    "    #x nota final\n",
    "    #return si paso o perdio como etiquetas para modelos de predicción\n",
    "    if(x >= 3):\n",
    "        return 1\n",
    "    elif(x <3):\n",
    "        return 0"
   ]
  },
  {
   "cell_type": "code",
   "execution_count": 0,
   "metadata": {
    "collapsed": false
   },
   "outputs": [
   ],
   "source": [
    "notas[\"Paso\"] = notas.apply(lambda row: funcion_paso(row[\"Notas Final\"]),axis=1 )"
   ]
  },
  {
   "cell_type": "code",
   "execution_count": 0,
   "metadata": {
    "collapsed": false
   },
   "outputs": [
   ],
   "source": [
    "nombre_materia = \"CÁLCULO 1\"\n",
    "materia = notas[notas[\"Nombre Asignatura\"] == nombre_materia]\n",
    "materia"
   ]
  },
  {
   "cell_type": "code",
   "execution_count": 0,
   "metadata": {
    "collapsed": false
   },
   "outputs": [
   ],
   "source": [
    "X = materia[[\"Nota 1er Corte\",\"Nota 2do Corte\"]]\n",
    "Y = materia[[\"Paso\"]]"
   ]
  },
  {
   "cell_type": "code",
   "execution_count": 0,
   "metadata": {
    "collapsed": false
   },
   "outputs": [
   ],
   "source": [
    "lista_modelos =[GaussianNB(),LogisticRegression(),DecisionTreeClassifier(),KNeighborsClassifier()]\n",
    "# Clasificarod K- Vecinos, Clasificador Bayesiano, Regresion Logistica, Arbol de decisión\n",
    "X_train, X_test, Y_train, Y_test = train_test_split(X, Y, test_size=0.3)"
   ]
  },
  {
   "cell_type": "markdown",
   "metadata": {
    "collapsed": false
   },
   "source": [
    "Seleccion de mejor modelo para la materia"
   ]
  },
  {
   "cell_type": "code",
   "execution_count": 0,
   "metadata": {
    "collapsed": false
   },
   "outputs": [
   ],
   "source": [
    "def mejor_modelo(materia):\n",
    "    X = materia[[\"Nota 1er Corte\",\"Nota 2do Corte\"]]\n",
    "    Y = materia[[\"Paso\"]]\n",
    "    X_train, X_test, Y_train, Y_test = train_test_split(X, Y, test_size=0.3)\n",
    "    mejor_modelo = lista_modelos[0] #Inicializando para eleccion de modelo\n",
    "    F15_mejor_modelo = 0 # Inicializando puntaje F.15, el cual es el que nos vamos a basar para la elección del modelo\n",
    "    for i in range(len(lista_modelos)):\n",
    "        modelo = lista_modelos[i]\n",
    "        modelo.fit(X_train,Y_train)\n",
    "        Y_pred = modelo.predict(X_test)\n",
    "        cm = confusion_matrix(Y_test,Y_pred,labels = [0, 1])\n",
    "        True_posit=cm[0][0]\n",
    "        True_neg=cm[1][1]\n",
    "        False_neg=[1][0]\n",
    "        False_posit=cm[0][1]\n",
    "        Total = True_posit+True_neg+False_neg+False_posit\n",
    "        Accuracy = (True_posit+True_neg)/Total\n",
    "        Accuracy_pass = (True_neg)/(True_neg+False_posit)\n",
    "        Accuracy_fail = (True_posit)/(True_posit+False_neg)\n",
    "        F15=((1+1.5*1.5)*True_posit)/((1+1.5*1.5)*True_posit+(1.5*1.5)*False_neg+False_posit)\n",
    "\n",
    "        if F15 > F15_mejor_modelo:\n",
    "            F15_mejor_modelo = F15\n",
    "            mejor_modelo = modelo\n",
    "\n",
    "        print(r\"F_{1.5}$:\" +str(F15))\n",
    "    return mejor_modelo,F15_mejor_modelo"
   ]
  },
  {
   "cell_type": "code",
   "execution_count": 0,
   "metadata": {
    "collapsed": false
   },
   "outputs": [
   ],
   "source": [
    "mejor_modelo,F15 = mejor_modelo(materia)\n",
    "#Guardar el modelo en disco\n",
    "filename = \"mejor_modelo\"+nombre_materia+\".sav\"\n",
    "pickle.dump(mejor_modelo, open(filename, 'wb'))\n",
    "# load the model from disk\n",
    "loaded_model = pickle.load(open(filename, 'rb'))\n",
    "Y_pred = loaded_model.predict(X_test)\n",
    "print(\"Accuracy:\",metrics.accuracy_score(Y_test, Y_pred))"
   ]
  },
  {
   "cell_type": "markdown",
   "metadata": {
    "collapsed": false
   },
   "source": [
    "## Guardar Modelo en memoria\n",
    "\n",
    "La idea es que este modelo quede guardado en memoria, de tal manera que se pueda llamar e utilizar para la predicción de la materia correspondiente. Tambien la idea es que una vez pase un semestre se vuelva alimentar el modelo para mejora de predicciones."
   ]
  },
  {
   "cell_type": "code",
   "execution_count": 0,
   "metadata": {
    "collapsed": false
   },
   "outputs": [
   ],
   "source": [
   ]
  },
  {
   "cell_type": "markdown",
   "metadata": {
    "collapsed": false
   },
   "source": [
    "## ¡ FALTA HACER MODELOS ENSEMBLE !"
   ]
  },
  {
   "cell_type": "code",
   "execution_count": 0,
   "metadata": {
    "collapsed": false
   },
   "outputs": [
   ],
   "source": [
   ]
  }
 ],
 "metadata": {
  "kernelspec": {
   "display_name": "Python 3 (Anaconda 2019)",
   "env": {
    "AR": "/ext/anaconda-2019.03/bin/x86_64-conda_cos6-linux-gnu-ar",
    "AS": "/ext/anaconda-2019.03/bin/x86_64-conda_cos6-linux-gnu-as",
    "CC": "/ext/anaconda-2019.03/bin/x86_64-conda_cos6-linux-gnu-cc",
    "CONDA_EXE": "/ext/anaconda-2019.03/bin/conda",
    "CONDA_PREFIX": "/ext/anaconda-2019.03",
    "CONDA_PYTHON_EXE": "/ext/anaconda-2019.03/bin/python",
    "CPP": "/ext/anaconda-2019.03/bin/x86_64-conda_cos6-linux-gnu-cpp",
    "CXX": "/ext/anaconda-2019.03/bin/x86_64-conda_cos6-linux-gnu-c++",
    "CXXFILT": "/ext/anaconda-2019.03/bin/x86_64-conda_cos6-linux-gnu-c++filt",
    "ELFEDIT": "/ext/anaconda-2019.03/bin/x86_64-conda_cos6-linux-gnu-elfedit",
    "F77": "/ext/anaconda-2019.03/bin/x86_64-conda_cos6-linux-gnu-gfortran",
    "F90": "/ext/anaconda-2019.03/bin/x86_64-conda_cos6-linux-gnu-gfortran",
    "F95": "/ext/anaconda-2019.03/bin/x86_64-conda_cos6-linux-gnu-f95",
    "FC": "/ext/anaconda-2019.03/bin/x86_64-conda_cos6-linux-gnu-gfortran",
    "GCC": "/ext/anaconda-2019.03/bin/x86_64-conda_cos6-linux-gnu-gcc",
    "GCC_AR": "/ext/anaconda-2019.03/bin/x86_64-conda_cos6-linux-gnu-gcc-ar",
    "GCC_NM": "/ext/anaconda-2019.03/bin/x86_64-conda_cos6-linux-gnu-gcc-nm",
    "GCC_RANLIB": "/ext/anaconda-2019.03/bin/x86_64-conda_cos6-linux-gnu-gcc-ranlib",
    "GDAL_DATA": "/ext/anaconda-2019.03/share/gdal",
    "GFORTRAN": "/ext/anaconda-2019.03/bin/x86_64-conda_cos6-linux-gnu-gfortran",
    "GPROF": "/ext/anaconda-2019.03/bin/x86_64-conda_cos6-linux-gnu-gprof",
    "GXX": "/ext/anaconda-2019.03/bin/x86_64-conda_cos6-linux-gnu-g++",
    "JAVA_HOME": "/ext/anaconda-2019.03",
    "JAVA_LD_LIBRARY_PATH": "/ext/anaconda-2019.03/lib/server",
    "LD": "/ext/anaconda-2019.03/bin/x86_64-conda_cos6-linux-gnu-ld",
    "LD_GOLD": "/ext/anaconda-2019.03/bin/x86_64-conda_cos6-linux-gnu-ld.gold",
    "LD_LIBRARY_PATH": "/ext/anaconda-2019.03/lib",
    "NM": "/ext/anaconda-2019.03/bin/x86_64-conda_cos6-linux-gnu-nm",
    "OBJCOPY": "/ext/anaconda-2019.03/bin/x86_64-conda_cos6-linux-gnu-objcopy",
    "OBJDUMP": "/ext/anaconda-2019.03/bin/x86_64-conda_cos6-linux-gnu-objdump",
    "OCAMLFIND_CONF": "/ext/anaconda-2019.03/etc/findlib.conf",
    "OCAMLLIB": "/ext/anaconda-2019.03/lib/ocaml",
    "OCAML_PREFIX": "/ext/anaconda-2019.03",
    "PATH": "/ext/anaconda-2019.03/bin:/ext/anaconda-2019.03/condabin:/cocalc/bin:/cocalc/src/smc-project/bin:/home/user/bin:/home/user/.local/bin:/ext/bin:/usr/lib/xpra:/opt/ghc/bin:/usr/local/bin:/usr/bin:/bin:/ext/data/homer/bin:/ext/data/weblogo:/ext/intellij/idea/bin:/ext/pycharm/pycharm/bin:/usr/lib/postgresql/10/bin",
    "PROJ_LIB": "/ext/anaconda-2019.03/share/proj",
    "PYTHONHOME": "/ext/anaconda-2019.03/lib/python3.7",
    "PYTHONPATH": "/ext/anaconda-2019.03/lib/python3.7:/ext/anaconda-2019.03/lib/python3.7/site-packages",
    "RANLIB": "/ext/anaconda-2019.03/bin/x86_64-conda_cos6-linux-gnu-ranlib",
    "READELF": "/ext/anaconda-2019.03/bin/x86_64-conda_cos6-linux-gnu-readelf",
    "RSTUDIO_WHICH_R": "/ext/anaconda-2019.03/bin/R",
    "SIZE": "/ext/anaconda-2019.03/bin/x86_64-conda_cos6-linux-gnu-size",
    "STRINGS": "/ext/anaconda-2019.03/bin/x86_64-conda_cos6-linux-gnu-strings",
    "STRIP": "/ext/anaconda-2019.03/bin/x86_64-conda_cos6-linux-gnu-strip"
   },
   "language": "python",
   "metadata": {
    "cocalc": {
     "description": "Python/R distribution for data science",
     "priority": 5,
     "url": "https://www.anaconda.com/distribution/"
    }
   },
   "name": "anaconda2019"
  },
  "language_info": {
   "codemirror_mode": {
    "name": "ipython",
    "version": 3
   },
   "file_extension": ".py",
   "mimetype": "text/x-python",
   "name": "python",
   "nbconvert_exporter": "python",
   "pygments_lexer": "ipython3",
   "version": "3.7.7"
  }
 },
 "nbformat": 4,
 "nbformat_minor": 4
}