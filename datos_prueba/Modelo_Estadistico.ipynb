{
 "cells": [
  {
   "cell_type": "code",
   "execution_count": 1,
   "metadata": {
    "collapsed": false
   },
   "outputs": [
   ],
   "source": [
    "import pandas as pd\n",
    "import numpy as np\n",
    "import seaborn as sns\n",
    "import matplotlib.pyplot as plt\n",
    "import seaborn as sns\n",
    "from sklearn.cluster import KMeans\n",
    "from sklearn.model_selection import train_test_split\n",
    "from sklearn.neighbors import KNeighborsClassifier\n",
    "from sklearn.naive_bayes import GaussianNB\n",
    "from sklearn.linear_model import LogisticRegression\n",
    "from sklearn.metrics import silhouette_score, confusion_matrix,classification_report,accuracy_score, precision_score\n",
    "from sklearn import metrics\n",
    "from sklearn.tree import DecisionTreeClassifier\n",
    "from sklearn import svm\n",
    "from scipy.stats import entropy\n",
    "import pickle"
   ]
  },
  {
   "cell_type": "code",
   "execution_count": 2,
   "metadata": {
    "collapsed": false
   },
   "outputs": [
    {
     "data": {
      "text/html": [
       "<div>\n",
       "<style scoped>\n",
       "    .dataframe tbody tr th:only-of-type {\n",
       "        vertical-align: middle;\n",
       "    }\n",
       "\n",
       "    .dataframe tbody tr th {\n",
       "        vertical-align: top;\n",
       "    }\n",
       "\n",
       "    .dataframe thead th {\n",
       "        text-align: right;\n",
       "    }\n",
       "</style>\n",
       "<table border=\"1\" class=\"dataframe\">\n",
       "  <thead>\n",
       "    <tr style=\"text-align: right;\">\n",
       "      <th></th>\n",
       "      <th>index</th>\n",
       "      <th>Documento_Ingreso</th>\n",
       "      <th>Documento_Actual</th>\n",
       "      <th>Codigo</th>\n",
       "      <th>Apellido_1_Estudiante</th>\n",
       "      <th>Apellido_2_Estudiante</th>\n",
       "      <th>Nombres_Estudiante</th>\n",
       "      <th>Acceso</th>\n",
       "      <th>Subacceso</th>\n",
       "      <th>Correo_Institucional</th>\n",
       "      <th>...</th>\n",
       "      <th>Corte_3p</th>\n",
       "      <th>Nota_4to_Corte</th>\n",
       "      <th>Corte_4p</th>\n",
       "      <th>Nota_5to_Corte</th>\n",
       "      <th>Corte_5p</th>\n",
       "      <th>Nombre_completo</th>\n",
       "      <th>Correo</th>\n",
       "      <th>Grupo</th>\n",
       "      <th>usuario</th>\n",
       "      <th>Nota_final</th>\n",
       "    </tr>\n",
       "  </thead>\n",
       "  <tbody>\n",
       "    <tr>\n",
       "      <th>0</th>\n",
       "      <td>0</td>\n",
       "      <td>221123</td>\n",
       "      <td>44867</td>\n",
       "      <td>751433</td>\n",
       "      <td>-</td>\n",
       "      <td>-</td>\n",
       "      <td>alcjobxj</td>\n",
       "      <td>Nuevo al programa</td>\n",
       "      <td>Bachillerato con Examen de Estado</td>\n",
       "      <td>alcjobxj@urosario.edu.co</td>\n",
       "      <td>...</td>\n",
       "      <td>20</td>\n",
       "      <td>3.7</td>\n",
       "      <td>15</td>\n",
       "      <td>4.0</td>\n",
       "      <td>25</td>\n",
       "      <td>Norma Sarmiento</td>\n",
       "      <td>norma.sarmiento@urosario.edu.co</td>\n",
       "      <td>1</td>\n",
       "      <td>norma.sarmiento</td>\n",
       "      <td>3.855</td>\n",
       "    </tr>\n",
       "    <tr>\n",
       "      <th>1</th>\n",
       "      <td>1</td>\n",
       "      <td>166515</td>\n",
       "      <td>40599</td>\n",
       "      <td>749859</td>\n",
       "      <td>-</td>\n",
       "      <td>-</td>\n",
       "      <td>orhawgyi</td>\n",
       "      <td>Termino condición doble programa</td>\n",
       "      <td>GENERAL</td>\n",
       "      <td>orhawgyi@urosario.edu.co</td>\n",
       "      <td>...</td>\n",
       "      <td>20</td>\n",
       "      <td>3.5</td>\n",
       "      <td>15</td>\n",
       "      <td>3.5</td>\n",
       "      <td>25</td>\n",
       "      <td>Norma Sarmiento</td>\n",
       "      <td>norma.sarmiento@urosario.edu.co</td>\n",
       "      <td>1</td>\n",
       "      <td>norma.sarmiento</td>\n",
       "      <td>3.820</td>\n",
       "    </tr>\n",
       "    <tr>\n",
       "      <th>2</th>\n",
       "      <td>2</td>\n",
       "      <td>133161</td>\n",
       "      <td>98669</td>\n",
       "      <td>31366</td>\n",
       "      <td>-</td>\n",
       "      <td>-</td>\n",
       "      <td>mdfaizgp</td>\n",
       "      <td>Doble Programa</td>\n",
       "      <td>GENERAL</td>\n",
       "      <td>mdfaizgp@urosario.edu.co</td>\n",
       "      <td>...</td>\n",
       "      <td>20</td>\n",
       "      <td>3.9</td>\n",
       "      <td>15</td>\n",
       "      <td>3.6</td>\n",
       "      <td>25</td>\n",
       "      <td>Norma Sarmiento</td>\n",
       "      <td>norma.sarmiento@urosario.edu.co</td>\n",
       "      <td>1</td>\n",
       "      <td>norma.sarmiento</td>\n",
       "      <td>4.225</td>\n",
       "    </tr>\n",
       "    <tr>\n",
       "      <th>3</th>\n",
       "      <td>3</td>\n",
       "      <td>164862</td>\n",
       "      <td>25568</td>\n",
       "      <td>111363</td>\n",
       "      <td>-</td>\n",
       "      <td>-</td>\n",
       "      <td>mwuaqnnz</td>\n",
       "      <td>Extranjero</td>\n",
       "      <td>GENERAL</td>\n",
       "      <td>mwuaqnnz@urosario.edu.co</td>\n",
       "      <td>...</td>\n",
       "      <td>20</td>\n",
       "      <td>3.5</td>\n",
       "      <td>15</td>\n",
       "      <td>3.8</td>\n",
       "      <td>25</td>\n",
       "      <td>Norma Sarmiento</td>\n",
       "      <td>norma.sarmiento@urosario.edu.co</td>\n",
       "      <td>1</td>\n",
       "      <td>norma.sarmiento</td>\n",
       "      <td>3.575</td>\n",
       "    </tr>\n",
       "    <tr>\n",
       "      <th>4</th>\n",
       "      <td>4</td>\n",
       "      <td>879672</td>\n",
       "      <td>73231</td>\n",
       "      <td>667248</td>\n",
       "      <td>-</td>\n",
       "      <td>-</td>\n",
       "      <td>pgooxicb</td>\n",
       "      <td>Doble Programa</td>\n",
       "      <td>Departamento de Admisiones</td>\n",
       "      <td>pgooxicb@urosario.edu.co</td>\n",
       "      <td>...</td>\n",
       "      <td>20</td>\n",
       "      <td>2.6</td>\n",
       "      <td>15</td>\n",
       "      <td>2.7</td>\n",
       "      <td>25</td>\n",
       "      <td>Norma Sarmiento</td>\n",
       "      <td>norma.sarmiento@urosario.edu.co</td>\n",
       "      <td>1</td>\n",
       "      <td>norma.sarmiento</td>\n",
       "      <td>2.545</td>\n",
       "    </tr>\n",
       "    <tr>\n",
       "      <th>...</th>\n",
       "      <td>...</td>\n",
       "      <td>...</td>\n",
       "      <td>...</td>\n",
       "      <td>...</td>\n",
       "      <td>...</td>\n",
       "      <td>...</td>\n",
       "      <td>...</td>\n",
       "      <td>...</td>\n",
       "      <td>...</td>\n",
       "      <td>...</td>\n",
       "      <td>...</td>\n",
       "      <td>...</td>\n",
       "      <td>...</td>\n",
       "      <td>...</td>\n",
       "      <td>...</td>\n",
       "      <td>...</td>\n",
       "      <td>...</td>\n",
       "      <td>...</td>\n",
       "      <td>...</td>\n",
       "      <td>...</td>\n",
       "      <td>...</td>\n",
       "    </tr>\n",
       "    <tr>\n",
       "      <th>1249</th>\n",
       "      <td>1315</td>\n",
       "      <td>515977</td>\n",
       "      <td>27417</td>\n",
       "      <td>126984</td>\n",
       "      <td>-</td>\n",
       "      <td>-</td>\n",
       "      <td>jnkgwinp</td>\n",
       "      <td>Extranjero</td>\n",
       "      <td>GENERAL</td>\n",
       "      <td>jnkgwinp@urosario.edu.co</td>\n",
       "      <td>...</td>\n",
       "      <td>20</td>\n",
       "      <td>2.6</td>\n",
       "      <td>15</td>\n",
       "      <td>2.4</td>\n",
       "      <td>25</td>\n",
       "      <td>Lazaro Ramirez</td>\n",
       "      <td>lazaro.ramirez@urosario.edu.co</td>\n",
       "      <td>1</td>\n",
       "      <td>lazaro.ramirez</td>\n",
       "      <td>2.230</td>\n",
       "    </tr>\n",
       "    <tr>\n",
       "      <th>1250</th>\n",
       "      <td>1316</td>\n",
       "      <td>989769</td>\n",
       "      <td>86022</td>\n",
       "      <td>706697</td>\n",
       "      <td>-</td>\n",
       "      <td>-</td>\n",
       "      <td>llnuonlp</td>\n",
       "      <td>Reingreso por Fortalecimiento académico</td>\n",
       "      <td>GENERAL</td>\n",
       "      <td>llnuonlp@urosario.edu.co</td>\n",
       "      <td>...</td>\n",
       "      <td>20</td>\n",
       "      <td>3.1</td>\n",
       "      <td>15</td>\n",
       "      <td>2.2</td>\n",
       "      <td>25</td>\n",
       "      <td>Lazaro Ramirez</td>\n",
       "      <td>lazaro.ramirez@urosario.edu.co</td>\n",
       "      <td>1</td>\n",
       "      <td>lazaro.ramirez</td>\n",
       "      <td>2.755</td>\n",
       "    </tr>\n",
       "    <tr>\n",
       "      <th>1251</th>\n",
       "      <td>1317</td>\n",
       "      <td>480565</td>\n",
       "      <td>94961</td>\n",
       "      <td>29130</td>\n",
       "      <td>-</td>\n",
       "      <td>-</td>\n",
       "      <td>xrszqdqk</td>\n",
       "      <td>Termino condición doble programa</td>\n",
       "      <td>Departamento de Admisiones</td>\n",
       "      <td>xrszqdqk@urosario.edu.co</td>\n",
       "      <td>...</td>\n",
       "      <td>20</td>\n",
       "      <td>2.5</td>\n",
       "      <td>15</td>\n",
       "      <td>2.4</td>\n",
       "      <td>25</td>\n",
       "      <td>Lazaro Ramirez</td>\n",
       "      <td>lazaro.ramirez@urosario.edu.co</td>\n",
       "      <td>1</td>\n",
       "      <td>lazaro.ramirez</td>\n",
       "      <td>2.695</td>\n",
       "    </tr>\n",
       "    <tr>\n",
       "      <th>1252</th>\n",
       "      <td>1318</td>\n",
       "      <td>43699</td>\n",
       "      <td>8785</td>\n",
       "      <td>130825</td>\n",
       "      <td>-</td>\n",
       "      <td>-</td>\n",
       "      <td>tskxxthh</td>\n",
       "      <td>Termino condición doble programa</td>\n",
       "      <td>Departamento de Admisiones</td>\n",
       "      <td>tskxxthh@urosario.edu.co</td>\n",
       "      <td>...</td>\n",
       "      <td>20</td>\n",
       "      <td>2.7</td>\n",
       "      <td>15</td>\n",
       "      <td>2.6</td>\n",
       "      <td>25</td>\n",
       "      <td>Lazaro Ramirez</td>\n",
       "      <td>lazaro.ramirez@urosario.edu.co</td>\n",
       "      <td>1</td>\n",
       "      <td>lazaro.ramirez</td>\n",
       "      <td>2.655</td>\n",
       "    </tr>\n",
       "    <tr>\n",
       "      <th>1253</th>\n",
       "      <td>1319</td>\n",
       "      <td>66252</td>\n",
       "      <td>36341</td>\n",
       "      <td>126266</td>\n",
       "      <td>-</td>\n",
       "      <td>-</td>\n",
       "      <td>pqggjqjy</td>\n",
       "      <td>Reingreso por Fortalecimiento académico</td>\n",
       "      <td>GENERAL</td>\n",
       "      <td>pqggjqjy@urosario.edu.co</td>\n",
       "      <td>...</td>\n",
       "      <td>20</td>\n",
       "      <td>2.8</td>\n",
       "      <td>15</td>\n",
       "      <td>2.5</td>\n",
       "      <td>25</td>\n",
       "      <td>Lazaro Ramirez</td>\n",
       "      <td>lazaro.ramirez@urosario.edu.co</td>\n",
       "      <td>1</td>\n",
       "      <td>lazaro.ramirez</td>\n",
       "      <td>2.585</td>\n",
       "    </tr>\n",
       "  </tbody>\n",
       "</table>\n",
       "<p>1254 rows × 35 columns</p>\n",
       "</div>"
      ],
      "text/plain": [
       "      index  Documento_Ingreso  Documento_Actual  Codigo  \\\n",
       "0         0             221123             44867  751433   \n",
       "1         1             166515             40599  749859   \n",
       "2         2             133161             98669   31366   \n",
       "3         3             164862             25568  111363   \n",
       "4         4             879672             73231  667248   \n",
       "...     ...                ...               ...     ...   \n",
       "1249   1315             515977             27417  126984   \n",
       "1250   1316             989769             86022  706697   \n",
       "1251   1317             480565             94961   29130   \n",
       "1252   1318              43699              8785  130825   \n",
       "1253   1319              66252             36341  126266   \n",
       "\n",
       "     Apellido_1_Estudiante Apellido_2_Estudiante Nombres_Estudiante  \\\n",
       "0                        -                     -           alcjobxj   \n",
       "1                        -                     -           orhawgyi   \n",
       "2                        -                     -           mdfaizgp   \n",
       "3                        -                     -           mwuaqnnz   \n",
       "4                        -                     -           pgooxicb   \n",
       "...                    ...                   ...                ...   \n",
       "1249                     -                     -           jnkgwinp   \n",
       "1250                     -                     -           llnuonlp   \n",
       "1251                     -                     -           xrszqdqk   \n",
       "1252                     -                     -           tskxxthh   \n",
       "1253                     -                     -           pqggjqjy   \n",
       "\n",
       "                                       Acceso  \\\n",
       "0                           Nuevo al programa   \n",
       "1            Termino condición doble programa   \n",
       "2                              Doble Programa   \n",
       "3                                  Extranjero   \n",
       "4                              Doble Programa   \n",
       "...                                       ...   \n",
       "1249                               Extranjero   \n",
       "1250  Reingreso por Fortalecimiento académico   \n",
       "1251         Termino condición doble programa   \n",
       "1252         Termino condición doble programa   \n",
       "1253  Reingreso por Fortalecimiento académico   \n",
       "\n",
       "                              Subacceso      Correo_Institucional  ...  \\\n",
       "0     Bachillerato con Examen de Estado  alcjobxj@urosario.edu.co  ...   \n",
       "1                               GENERAL  orhawgyi@urosario.edu.co  ...   \n",
       "2                               GENERAL  mdfaizgp@urosario.edu.co  ...   \n",
       "3                               GENERAL  mwuaqnnz@urosario.edu.co  ...   \n",
       "4            Departamento de Admisiones  pgooxicb@urosario.edu.co  ...   \n",
       "...                                 ...                       ...  ...   \n",
       "1249                            GENERAL  jnkgwinp@urosario.edu.co  ...   \n",
       "1250                            GENERAL  llnuonlp@urosario.edu.co  ...   \n",
       "1251         Departamento de Admisiones  xrszqdqk@urosario.edu.co  ...   \n",
       "1252         Departamento de Admisiones  tskxxthh@urosario.edu.co  ...   \n",
       "1253                            GENERAL  pqggjqjy@urosario.edu.co  ...   \n",
       "\n",
       "     Corte_3p Nota_4to_Corte Corte_4p  Nota_5to_Corte  Corte_5p  \\\n",
       "0          20            3.7       15             4.0        25   \n",
       "1          20            3.5       15             3.5        25   \n",
       "2          20            3.9       15             3.6        25   \n",
       "3          20            3.5       15             3.8        25   \n",
       "4          20            2.6       15             2.7        25   \n",
       "...       ...            ...      ...             ...       ...   \n",
       "1249       20            2.6       15             2.4        25   \n",
       "1250       20            3.1       15             2.2        25   \n",
       "1251       20            2.5       15             2.4        25   \n",
       "1252       20            2.7       15             2.6        25   \n",
       "1253       20            2.8       15             2.5        25   \n",
       "\n",
       "      Nombre_completo                           Correo  Grupo  \\\n",
       "0     Norma Sarmiento  norma.sarmiento@urosario.edu.co      1   \n",
       "1     Norma Sarmiento  norma.sarmiento@urosario.edu.co      1   \n",
       "2     Norma Sarmiento  norma.sarmiento@urosario.edu.co      1   \n",
       "3     Norma Sarmiento  norma.sarmiento@urosario.edu.co      1   \n",
       "4     Norma Sarmiento  norma.sarmiento@urosario.edu.co      1   \n",
       "...               ...                              ...    ...   \n",
       "1249   Lazaro Ramirez   lazaro.ramirez@urosario.edu.co      1   \n",
       "1250   Lazaro Ramirez   lazaro.ramirez@urosario.edu.co      1   \n",
       "1251   Lazaro Ramirez   lazaro.ramirez@urosario.edu.co      1   \n",
       "1252   Lazaro Ramirez   lazaro.ramirez@urosario.edu.co      1   \n",
       "1253   Lazaro Ramirez   lazaro.ramirez@urosario.edu.co      1   \n",
       "\n",
       "              usuario Nota_final  \n",
       "0     norma.sarmiento      3.855  \n",
       "1     norma.sarmiento      3.820  \n",
       "2     norma.sarmiento      4.225  \n",
       "3     norma.sarmiento      3.575  \n",
       "4     norma.sarmiento      2.545  \n",
       "...               ...        ...  \n",
       "1249   lazaro.ramirez      2.230  \n",
       "1250   lazaro.ramirez      2.755  \n",
       "1251   lazaro.ramirez      2.695  \n",
       "1252   lazaro.ramirez      2.655  \n",
       "1253   lazaro.ramirez      2.585  \n",
       "\n",
       "[1254 rows x 35 columns]"
      ]
     },
     "execution_count": 2,
     "metadata": {
     },
     "output_type": "execute_result"
    }
   ],
   "source": [
    "completo = pd.read_csv(\"Datos_completos.csv\")\n",
    "completo"
   ]
  },
  {
   "cell_type": "markdown",
   "metadata": {
    "collapsed": false
   },
   "source": [
    "%%latex\n",
    "\\usepackage{amsmath,amssymb,amsfonts}\n",
    "\n"
   ]
  },
  {
   "cell_type": "markdown",
   "metadata": {
    "collapsed": false
   },
   "source": [
    "### Tareas\n",
    "1. Leer paper https://reader.elsevier.com/reader/sd/pii/S0360131516301634?token=DB86640804CC9FE6B7FB5B1D080396823D2094FD36E393FA33E1D62F8CCB331555272C9D164BCAFA28296E5B1C692630\n",
    "2. Ver cada uno sus modelos teoricos (Escribirlos aca en latex en español), y despues aplicarlo a la base de datos completos (Hecho)\n",
    "3. Reunion Lunes para explicarle al otro los modelos y la aplicación (Hecho)\n",
    "4. Hacer modelo por cada materia y si es posible que dependa de las notas obtenidas anteriormente en las pre-requisito.(En proceso)\n",
    "5. Generar distribución notas a partir de la base de datos de notas (No es necesario, y termina siendo muy complicado- YA NO)\n",
    "6. Sacar $F_{1.5}$, medidas precision (Hecho)\n",
    "7. Ver como se pueden hacer los modelos Ensemble.(Casi-Hecho)\n",
    "8. Generar un modelo por cada materia.(Hecho)\n",
    "9. Grabar satisfactoriamente todos los modelos, y que se puedan cargar y retroalimentar con nuevos datos.(Hecho)\n",
    "\n",
    "Preguntas:\n",
    "2. Hasta que corte seria ideal la alerta\n",
    "\n",
    "\n",
    "Ruiz : K-Nearest, Decision Tree\n",
    "Miguel : Regresion Logistica y Clasificador bayesiano"
   ]
  },
  {
   "cell_type": "markdown",
   "metadata": {
    "collapsed": false
   },
   "source": [
    "## Notas Paper Miguel\n",
    "\n",
    "* Que el estudiante sepa del modelo predictivo podria considerarse malo, ya que él podria creer que sus notas futuras ya estan predichas por el modelo. Luego seria ideal que solo lo supiera el administrador\n",
    "* Utilizaron tres notas de examenes como indicadores del performance durante el semestre. Asi como el GPA acumulativo fue tenido en cuenta y las notas en las materias pre-requisito de la materia.\n",
    "* Las primeras notas del semestre tienden a ser muy buenas predictoras de como van a ser el rendimiento del estudiante de la materia\n",
    "* Plantean que es mejor crear un modelo por cada materia que uno generalizado\n",
    "* Recomiendan este libro para ver los metodos: \"Principle of Data Mining,D.J. Hand, H. Mannila and P. Smyth MIT press, New York (2001)\", Link : https://www.researchgate.net/publication/220688376_Principles_of_Data_Mining (Se ve como bueno)\n",
    "* Calculan la precisión del modelo de los que pasaron con los que no, para encontrar un mejor modelo que prediga mejor a los malos. Si fueran unidos podria que un modelo diera menos errores en general pero que falle muchisimo en los malos estudiantes , lo cual seria un problema. Tambien calcularon un $F_{1.5}$ puntaje que le da mas peso a los estudiantes que fallaron que los que pasaron.\n",
    "* Utilizaron el coeficiente de Pearson para saber que tan corelacionadas estaban las variables explicativas, si pasaba de 0,3 las escogian. (Podriamos hacer eso)\n",
    "* Parece que es necesario acotar el numero de estudiantes de los datos de entrenamiento, para que el modelo no se descarrile. (Recordad base Juan F el numero de notas varia mucho).\n",
    "* Falso negativo : No identificar estudiantes que se encontraban en riesgo.\n",
    "* Termina siendo mejor haciendo un modelo combinado de otros modelos (Ensemble)."
   ]
  },
  {
   "cell_type": "markdown",
   "metadata": {
    "collapsed": false
   },
   "source": [
    "## K-Nearest Neighbours\n",
    "\n"
   ]
  },
  {
   "cell_type": "markdown",
   "metadata": {
    "collapsed": false
   },
   "source": [
    "K-Nearest Neighbours (KNN) es un modelo de aprendizaje supervisado. Se necesita de etiquetas de cada uno de los estudiantes en cada uno de los cortes o con el promedio final.\n",
    "\n"
   ]
  },
  {
   "cell_type": "code",
   "execution_count": 3,
   "metadata": {
    "collapsed": false
   },
   "outputs": [
    {
     "data": {
      "text/html": [
       "<div>\n",
       "<style scoped>\n",
       "    .dataframe tbody tr th:only-of-type {\n",
       "        vertical-align: middle;\n",
       "    }\n",
       "\n",
       "    .dataframe tbody tr th {\n",
       "        vertical-align: top;\n",
       "    }\n",
       "\n",
       "    .dataframe thead th {\n",
       "        text-align: right;\n",
       "    }\n",
       "</style>\n",
       "<table border=\"1\" class=\"dataframe\">\n",
       "  <thead>\n",
       "    <tr style=\"text-align: right;\">\n",
       "      <th></th>\n",
       "      <th>index</th>\n",
       "      <th>Documento_Ingreso</th>\n",
       "      <th>Documento_Actual</th>\n",
       "      <th>Codigo</th>\n",
       "      <th>Apellido_1_Estudiante</th>\n",
       "      <th>Apellido_2_Estudiante</th>\n",
       "      <th>Nombres_Estudiante</th>\n",
       "      <th>Acceso</th>\n",
       "      <th>Subacceso</th>\n",
       "      <th>Correo_Institucional</th>\n",
       "      <th>...</th>\n",
       "      <th>Corte_3p</th>\n",
       "      <th>Nota_4to_Corte</th>\n",
       "      <th>Corte_4p</th>\n",
       "      <th>Nota_5to_Corte</th>\n",
       "      <th>Corte_5p</th>\n",
       "      <th>Nombre_completo</th>\n",
       "      <th>Correo</th>\n",
       "      <th>Grupo</th>\n",
       "      <th>usuario</th>\n",
       "      <th>Nota_final</th>\n",
       "    </tr>\n",
       "  </thead>\n",
       "  <tbody>\n",
       "    <tr>\n",
       "      <th>66</th>\n",
       "      <td>66</td>\n",
       "      <td>221123</td>\n",
       "      <td>44867</td>\n",
       "      <td>751433</td>\n",
       "      <td>-</td>\n",
       "      <td>-</td>\n",
       "      <td>alcjobxj</td>\n",
       "      <td>Nuevo al programa</td>\n",
       "      <td>Bachillerato con Examen de Estado</td>\n",
       "      <td>alcjobxj@urosario.edu.co</td>\n",
       "      <td>...</td>\n",
       "      <td>20</td>\n",
       "      <td>3.4</td>\n",
       "      <td>15</td>\n",
       "      <td>4.3</td>\n",
       "      <td>25</td>\n",
       "      <td>Margot Salas</td>\n",
       "      <td>margot.salas@urosario.edu.co</td>\n",
       "      <td>1</td>\n",
       "      <td>margot.salas</td>\n",
       "      <td>3.905</td>\n",
       "    </tr>\n",
       "    <tr>\n",
       "      <th>67</th>\n",
       "      <td>67</td>\n",
       "      <td>166515</td>\n",
       "      <td>40599</td>\n",
       "      <td>749859</td>\n",
       "      <td>-</td>\n",
       "      <td>-</td>\n",
       "      <td>orhawgyi</td>\n",
       "      <td>Termino condición doble programa</td>\n",
       "      <td>GENERAL</td>\n",
       "      <td>orhawgyi@urosario.edu.co</td>\n",
       "      <td>...</td>\n",
       "      <td>20</td>\n",
       "      <td>3.4</td>\n",
       "      <td>15</td>\n",
       "      <td>4.2</td>\n",
       "      <td>25</td>\n",
       "      <td>Margot Salas</td>\n",
       "      <td>margot.salas@urosario.edu.co</td>\n",
       "      <td>1</td>\n",
       "      <td>margot.salas</td>\n",
       "      <td>4.040</td>\n",
       "    </tr>\n",
       "    <tr>\n",
       "      <th>68</th>\n",
       "      <td>68</td>\n",
       "      <td>133161</td>\n",
       "      <td>98669</td>\n",
       "      <td>31366</td>\n",
       "      <td>-</td>\n",
       "      <td>-</td>\n",
       "      <td>mdfaizgp</td>\n",
       "      <td>Doble Programa</td>\n",
       "      <td>GENERAL</td>\n",
       "      <td>mdfaizgp@urosario.edu.co</td>\n",
       "      <td>...</td>\n",
       "      <td>20</td>\n",
       "      <td>4.2</td>\n",
       "      <td>15</td>\n",
       "      <td>4.7</td>\n",
       "      <td>25</td>\n",
       "      <td>Margot Salas</td>\n",
       "      <td>margot.salas@urosario.edu.co</td>\n",
       "      <td>1</td>\n",
       "      <td>margot.salas</td>\n",
       "      <td>4.305</td>\n",
       "    </tr>\n",
       "    <tr>\n",
       "      <th>69</th>\n",
       "      <td>69</td>\n",
       "      <td>164862</td>\n",
       "      <td>25568</td>\n",
       "      <td>111363</td>\n",
       "      <td>-</td>\n",
       "      <td>-</td>\n",
       "      <td>mwuaqnnz</td>\n",
       "      <td>Extranjero</td>\n",
       "      <td>GENERAL</td>\n",
       "      <td>mwuaqnnz@urosario.edu.co</td>\n",
       "      <td>...</td>\n",
       "      <td>20</td>\n",
       "      <td>3.3</td>\n",
       "      <td>15</td>\n",
       "      <td>3.7</td>\n",
       "      <td>25</td>\n",
       "      <td>Margot Salas</td>\n",
       "      <td>margot.salas@urosario.edu.co</td>\n",
       "      <td>1</td>\n",
       "      <td>margot.salas</td>\n",
       "      <td>3.560</td>\n",
       "    </tr>\n",
       "    <tr>\n",
       "      <th>70</th>\n",
       "      <td>70</td>\n",
       "      <td>879672</td>\n",
       "      <td>73231</td>\n",
       "      <td>667248</td>\n",
       "      <td>-</td>\n",
       "      <td>-</td>\n",
       "      <td>pgooxicb</td>\n",
       "      <td>Doble Programa</td>\n",
       "      <td>Departamento de Admisiones</td>\n",
       "      <td>pgooxicb@urosario.edu.co</td>\n",
       "      <td>...</td>\n",
       "      <td>20</td>\n",
       "      <td>2.6</td>\n",
       "      <td>15</td>\n",
       "      <td>2.5</td>\n",
       "      <td>25</td>\n",
       "      <td>Margot Salas</td>\n",
       "      <td>margot.salas@urosario.edu.co</td>\n",
       "      <td>1</td>\n",
       "      <td>margot.salas</td>\n",
       "      <td>2.815</td>\n",
       "    </tr>\n",
       "    <tr>\n",
       "      <th>...</th>\n",
       "      <td>...</td>\n",
       "      <td>...</td>\n",
       "      <td>...</td>\n",
       "      <td>...</td>\n",
       "      <td>...</td>\n",
       "      <td>...</td>\n",
       "      <td>...</td>\n",
       "      <td>...</td>\n",
       "      <td>...</td>\n",
       "      <td>...</td>\n",
       "      <td>...</td>\n",
       "      <td>...</td>\n",
       "      <td>...</td>\n",
       "      <td>...</td>\n",
       "      <td>...</td>\n",
       "      <td>...</td>\n",
       "      <td>...</td>\n",
       "      <td>...</td>\n",
       "      <td>...</td>\n",
       "      <td>...</td>\n",
       "      <td>...</td>\n",
       "    </tr>\n",
       "    <tr>\n",
       "      <th>127</th>\n",
       "      <td>127</td>\n",
       "      <td>515977</td>\n",
       "      <td>27417</td>\n",
       "      <td>126984</td>\n",
       "      <td>-</td>\n",
       "      <td>-</td>\n",
       "      <td>jnkgwinp</td>\n",
       "      <td>Extranjero</td>\n",
       "      <td>GENERAL</td>\n",
       "      <td>jnkgwinp@urosario.edu.co</td>\n",
       "      <td>...</td>\n",
       "      <td>20</td>\n",
       "      <td>2.6</td>\n",
       "      <td>15</td>\n",
       "      <td>2.1</td>\n",
       "      <td>25</td>\n",
       "      <td>Margot Salas</td>\n",
       "      <td>margot.salas@urosario.edu.co</td>\n",
       "      <td>1</td>\n",
       "      <td>margot.salas</td>\n",
       "      <td>2.395</td>\n",
       "    </tr>\n",
       "    <tr>\n",
       "      <th>128</th>\n",
       "      <td>128</td>\n",
       "      <td>989769</td>\n",
       "      <td>86022</td>\n",
       "      <td>706697</td>\n",
       "      <td>-</td>\n",
       "      <td>-</td>\n",
       "      <td>llnuonlp</td>\n",
       "      <td>Reingreso por Fortalecimiento académico</td>\n",
       "      <td>GENERAL</td>\n",
       "      <td>llnuonlp@urosario.edu.co</td>\n",
       "      <td>...</td>\n",
       "      <td>20</td>\n",
       "      <td>2.9</td>\n",
       "      <td>15</td>\n",
       "      <td>2.2</td>\n",
       "      <td>25</td>\n",
       "      <td>Margot Salas</td>\n",
       "      <td>margot.salas@urosario.edu.co</td>\n",
       "      <td>1</td>\n",
       "      <td>margot.salas</td>\n",
       "      <td>2.505</td>\n",
       "    </tr>\n",
       "    <tr>\n",
       "      <th>129</th>\n",
       "      <td>129</td>\n",
       "      <td>480565</td>\n",
       "      <td>94961</td>\n",
       "      <td>29130</td>\n",
       "      <td>-</td>\n",
       "      <td>-</td>\n",
       "      <td>xrszqdqk</td>\n",
       "      <td>Termino condición doble programa</td>\n",
       "      <td>Departamento de Admisiones</td>\n",
       "      <td>xrszqdqk@urosario.edu.co</td>\n",
       "      <td>...</td>\n",
       "      <td>20</td>\n",
       "      <td>2.7</td>\n",
       "      <td>15</td>\n",
       "      <td>3.3</td>\n",
       "      <td>25</td>\n",
       "      <td>Margot Salas</td>\n",
       "      <td>margot.salas@urosario.edu.co</td>\n",
       "      <td>1</td>\n",
       "      <td>margot.salas</td>\n",
       "      <td>2.630</td>\n",
       "    </tr>\n",
       "    <tr>\n",
       "      <th>130</th>\n",
       "      <td>130</td>\n",
       "      <td>43699</td>\n",
       "      <td>8785</td>\n",
       "      <td>130825</td>\n",
       "      <td>-</td>\n",
       "      <td>-</td>\n",
       "      <td>tskxxthh</td>\n",
       "      <td>Termino condición doble programa</td>\n",
       "      <td>Departamento de Admisiones</td>\n",
       "      <td>tskxxthh@urosario.edu.co</td>\n",
       "      <td>...</td>\n",
       "      <td>20</td>\n",
       "      <td>3.0</td>\n",
       "      <td>15</td>\n",
       "      <td>3.0</td>\n",
       "      <td>25</td>\n",
       "      <td>Margot Salas</td>\n",
       "      <td>margot.salas@urosario.edu.co</td>\n",
       "      <td>1</td>\n",
       "      <td>margot.salas</td>\n",
       "      <td>2.500</td>\n",
       "    </tr>\n",
       "    <tr>\n",
       "      <th>131</th>\n",
       "      <td>131</td>\n",
       "      <td>66252</td>\n",
       "      <td>36341</td>\n",
       "      <td>126266</td>\n",
       "      <td>-</td>\n",
       "      <td>-</td>\n",
       "      <td>pqggjqjy</td>\n",
       "      <td>Reingreso por Fortalecimiento académico</td>\n",
       "      <td>GENERAL</td>\n",
       "      <td>pqggjqjy@urosario.edu.co</td>\n",
       "      <td>...</td>\n",
       "      <td>20</td>\n",
       "      <td>2.9</td>\n",
       "      <td>15</td>\n",
       "      <td>1.9</td>\n",
       "      <td>25</td>\n",
       "      <td>Margot Salas</td>\n",
       "      <td>margot.salas@urosario.edu.co</td>\n",
       "      <td>1</td>\n",
       "      <td>margot.salas</td>\n",
       "      <td>2.670</td>\n",
       "    </tr>\n",
       "  </tbody>\n",
       "</table>\n",
       "<p>66 rows × 35 columns</p>\n",
       "</div>"
      ],
      "text/plain": [
       "     index  Documento_Ingreso  Documento_Actual  Codigo Apellido_1_Estudiante  \\\n",
       "66      66             221123             44867  751433                     -   \n",
       "67      67             166515             40599  749859                     -   \n",
       "68      68             133161             98669   31366                     -   \n",
       "69      69             164862             25568  111363                     -   \n",
       "70      70             879672             73231  667248                     -   \n",
       "..     ...                ...               ...     ...                   ...   \n",
       "127    127             515977             27417  126984                     -   \n",
       "128    128             989769             86022  706697                     -   \n",
       "129    129             480565             94961   29130                     -   \n",
       "130    130              43699              8785  130825                     -   \n",
       "131    131              66252             36341  126266                     -   \n",
       "\n",
       "    Apellido_2_Estudiante Nombres_Estudiante  \\\n",
       "66                      -           alcjobxj   \n",
       "67                      -           orhawgyi   \n",
       "68                      -           mdfaizgp   \n",
       "69                      -           mwuaqnnz   \n",
       "70                      -           pgooxicb   \n",
       "..                    ...                ...   \n",
       "127                     -           jnkgwinp   \n",
       "128                     -           llnuonlp   \n",
       "129                     -           xrszqdqk   \n",
       "130                     -           tskxxthh   \n",
       "131                     -           pqggjqjy   \n",
       "\n",
       "                                      Acceso  \\\n",
       "66                         Nuevo al programa   \n",
       "67          Termino condición doble programa   \n",
       "68                            Doble Programa   \n",
       "69                                Extranjero   \n",
       "70                            Doble Programa   \n",
       "..                                       ...   \n",
       "127                               Extranjero   \n",
       "128  Reingreso por Fortalecimiento académico   \n",
       "129         Termino condición doble programa   \n",
       "130         Termino condición doble programa   \n",
       "131  Reingreso por Fortalecimiento académico   \n",
       "\n",
       "                             Subacceso      Correo_Institucional  ...  \\\n",
       "66   Bachillerato con Examen de Estado  alcjobxj@urosario.edu.co  ...   \n",
       "67                             GENERAL  orhawgyi@urosario.edu.co  ...   \n",
       "68                             GENERAL  mdfaizgp@urosario.edu.co  ...   \n",
       "69                             GENERAL  mwuaqnnz@urosario.edu.co  ...   \n",
       "70          Departamento de Admisiones  pgooxicb@urosario.edu.co  ...   \n",
       "..                                 ...                       ...  ...   \n",
       "127                            GENERAL  jnkgwinp@urosario.edu.co  ...   \n",
       "128                            GENERAL  llnuonlp@urosario.edu.co  ...   \n",
       "129         Departamento de Admisiones  xrszqdqk@urosario.edu.co  ...   \n",
       "130         Departamento de Admisiones  tskxxthh@urosario.edu.co  ...   \n",
       "131                            GENERAL  pqggjqjy@urosario.edu.co  ...   \n",
       "\n",
       "    Corte_3p Nota_4to_Corte Corte_4p  Nota_5to_Corte  Corte_5p  \\\n",
       "66        20            3.4       15             4.3        25   \n",
       "67        20            3.4       15             4.2        25   \n",
       "68        20            4.2       15             4.7        25   \n",
       "69        20            3.3       15             3.7        25   \n",
       "70        20            2.6       15             2.5        25   \n",
       "..       ...            ...      ...             ...       ...   \n",
       "127       20            2.6       15             2.1        25   \n",
       "128       20            2.9       15             2.2        25   \n",
       "129       20            2.7       15             3.3        25   \n",
       "130       20            3.0       15             3.0        25   \n",
       "131       20            2.9       15             1.9        25   \n",
       "\n",
       "     Nombre_completo                        Correo  Grupo       usuario  \\\n",
       "66      Margot Salas  margot.salas@urosario.edu.co      1  margot.salas   \n",
       "67      Margot Salas  margot.salas@urosario.edu.co      1  margot.salas   \n",
       "68      Margot Salas  margot.salas@urosario.edu.co      1  margot.salas   \n",
       "69      Margot Salas  margot.salas@urosario.edu.co      1  margot.salas   \n",
       "70      Margot Salas  margot.salas@urosario.edu.co      1  margot.salas   \n",
       "..               ...                           ...    ...           ...   \n",
       "127     Margot Salas  margot.salas@urosario.edu.co      1  margot.salas   \n",
       "128     Margot Salas  margot.salas@urosario.edu.co      1  margot.salas   \n",
       "129     Margot Salas  margot.salas@urosario.edu.co      1  margot.salas   \n",
       "130     Margot Salas  margot.salas@urosario.edu.co      1  margot.salas   \n",
       "131     Margot Salas  margot.salas@urosario.edu.co      1  margot.salas   \n",
       "\n",
       "    Nota_final  \n",
       "66       3.905  \n",
       "67       4.040  \n",
       "68       4.305  \n",
       "69       3.560  \n",
       "70       2.815  \n",
       "..         ...  \n",
       "127      2.395  \n",
       "128      2.505  \n",
       "129      2.630  \n",
       "130      2.500  \n",
       "131      2.670  \n",
       "\n",
       "[66 rows x 35 columns]"
      ]
     },
     "execution_count": 3,
     "metadata": {
     },
     "output_type": "execute_result"
    }
   ],
   "source": [
    "#Se selecciona el nombre de una asignatura\n",
    "materia = completo[completo[\"Nombre_Asignatura\"]==\"Algebra lineal\"]\n",
    "materia"
   ]
  },
  {
   "cell_type": "markdown",
   "metadata": {
    "collapsed": false
   },
   "source": [
    "Se selecciona el dataframe (o matriz) con las variables de interés"
   ]
  },
  {
   "cell_type": "code",
   "execution_count": 4,
   "metadata": {
    "collapsed": false
   },
   "outputs": [
   ],
   "source": [
    "#X = np.array(list(zip(x,y)))\n",
    "X = materia[[\"Nota_1er_Corte\",\"Nota_2do_Corte\"]]"
   ]
  },
  {
   "cell_type": "markdown",
   "metadata": {
    "collapsed": false
   },
   "source": [
    "## Análisis con KNN"
   ]
  },
  {
   "cell_type": "code",
   "execution_count": 5,
   "metadata": {
    "collapsed": false
   },
   "outputs": [
   ],
   "source": [
    "def funcion_paso(x):\n",
    "    #x nota final\n",
    "    #return si paso o perdio como etiquetas para modelos de predicción\n",
    "    if(x >= 3):\n",
    "        return 1\n",
    "    elif(x <3):\n",
    "        return 0"
   ]
  },
  {
   "cell_type": "code",
   "execution_count": 6,
   "metadata": {
    "collapsed": false
   },
   "outputs": [
    {
     "name": "stderr",
     "output_type": "stream",
     "text": [
      "/ext/anaconda-2019.03/lib/python3.7/site-packages/ipykernel/__main__.py:2: SettingWithCopyWarning: \n",
      "A value is trying to be set on a copy of a slice from a DataFrame.\n",
      "Try using .loc[row_indexer,col_indexer] = value instead\n",
      "\n",
      "See the caveats in the documentation: https://pandas.pydata.org/pandas-docs/stable/user_guide/indexing.html#returning-a-view-versus-a-copy\n",
      "  from ipykernel import kernelapp as app\n"
     ]
    }
   ],
   "source": [
    "#materia = completo[completo[\"Nombre_Asignatura\"]==\"Algebra lineal\"]\n",
    "materia[\"Paso\"] = materia.apply(lambda row: funcion_paso(row[\"Nota_final\"]),axis=1 )\n",
    "my_labels = materia[\"Paso\"]"
   ]
  },
  {
   "cell_type": "code",
   "execution_count": 7,
   "metadata": {
    "collapsed": false
   },
   "outputs": [
   ],
   "source": [
    "# Separacion de los datos de prueba y datos de entrenamiento\n",
    "X_train,X_test,Y_train,Y_test=train_test_split(X,my_labels)"
   ]
  },
  {
   "cell_type": "code",
   "execution_count": 8,
   "metadata": {
    "collapsed": false
   },
   "outputs": [
   ],
   "source": [
    "n = 2 # numero de grupos, i.e., paso o no paso\n",
    "knn = KNeighborsClassifier(n_neighbors=n)"
   ]
  },
  {
   "cell_type": "code",
   "execution_count": 9,
   "metadata": {
    "collapsed": false
   },
   "outputs": [
    {
     "data": {
      "text/plain": [
       "KNeighborsClassifier(algorithm='auto', leaf_size=30, metric='minkowski',\n",
       "                     metric_params=None, n_jobs=None, n_neighbors=2, p=2,\n",
       "                     weights='uniform')"
      ]
     },
     "execution_count": 9,
     "metadata": {
     },
     "output_type": "execute_result"
    }
   ],
   "source": [
    "knn.fit(X_train,Y_train)"
   ]
  },
  {
   "cell_type": "code",
   "execution_count": 10,
   "metadata": {
    "collapsed": false
   },
   "outputs": [
    {
     "data": {
      "text/plain": [
       "0.8823529411764706"
      ]
     },
     "execution_count": 10,
     "metadata": {
     },
     "output_type": "execute_result"
    }
   ],
   "source": [
    "knn.score(X_test,Y_test) # Si es 1 es demasiado bueno"
   ]
  },
  {
   "cell_type": "code",
   "execution_count": 11,
   "metadata": {
    "collapsed": false
   },
   "outputs": [
    {
     "name": "stdout",
     "output_type": "stream",
     "text": [
      "Accuracy: 0.8823529411764706\n"
     ]
    }
   ],
   "source": [
    "y_pred=knn.predict(X_test)\n",
    "print(\"Accuracy:\",metrics.accuracy_score(Y_test, y_pred))"
   ]
  },
  {
   "cell_type": "code",
   "execution_count": 12,
   "metadata": {
    "collapsed": false
   },
   "outputs": [
   ],
   "source": [
    "# Prediciendo a partir de nuevos registros  de la misma dimension a los registros con los que se entrenó el modelo\n",
    "Y_pred = knn.predict(X_test)"
   ]
  },
  {
   "cell_type": "code",
   "execution_count": 13,
   "metadata": {
    "collapsed": false
   },
   "outputs": [
    {
     "data": {
      "image/png": "[encoded data removed]",
      "text/plain": [
       "<Figure size 576x576 with 1 Axes>"
      ]
     },
     "execution_count": 13,
     "metadata": {
      "image/png": {
       "height": 465,
       "width": 534
      },
      "needs_background": "light"
     },
     "output_type": "execute_result"
    }
   ],
   "source": [
    "# Matriz de confusion\n",
    "cm = confusion_matrix(Y_test,Y_pred,labels = [0, 1])\n",
    "\n",
    "fig, ax = plt.subplots(figsize=(8, 8))\n",
    "ax.imshow(cm)\n",
    "ax.grid(False)\n",
    "ax.xaxis.set(ticks=(0, 1), ticklabels=('Predicho 0: Perdio', 'Predicho 1: Paso'))\n",
    "ax.yaxis.set(ticks=(0, 1), ticklabels=('Actual 0: Perdio', 'Actual 1: Paso'))\n",
    "ax.set_ylim(1.5, -0.5)\n",
    "for i in range(2):\n",
    "    for j in range(2):\n",
    "        ax.text(j, i, cm[i, j], ha='center', va='center', color='red')\n",
    "plt.show()"
   ]
  },
  {
   "cell_type": "code",
   "execution_count": 14,
   "metadata": {
    "collapsed": false
   },
   "outputs": [
    {
     "name": "stdout",
     "output_type": "stream",
     "text": [
      "              precision    recall  f1-score   support\n",
      "\n",
      "           0       1.00      0.60      0.75         5\n",
      "           1       0.86      1.00      0.92        12\n",
      "\n",
      "    accuracy                           0.88        17\n",
      "   macro avg       0.93      0.80      0.84        17\n",
      "weighted avg       0.90      0.88      0.87        17\n",
      "\n"
     ]
    }
   ],
   "source": [
    "# Reporte de precision del modelo KNN:\n",
    "print(classification_report(Y_test,Y_pred,labels=[0,1]))"
   ]
  },
  {
   "cell_type": "markdown",
   "metadata": {
    "collapsed": false
   },
   "source": [
    "# Conclusion de modelos KNN y KMC a partir de estudiantes con resultados buenos y malos\n",
    "Los puntajes Elbow score y Silhouette score mostraron que 2 clusters es el mejor valor para hacer la clasificación de los datos. Como esta clasificación tiene en cuenta tanto las notas buenas como las malas se va a examinar ahora como fue la clasificación para los resultados malos y como se puede mejorar estas clasificaciones."
   ]
  },
  {
   "cell_type": "markdown",
   "metadata": {
    "collapsed": false
   },
   "source": [
    "## Clasificador Bayesiano"
   ]
  },
  {
   "cell_type": "markdown",
   "metadata": {
    "collapsed": false
   },
   "source": [
    "* *Probabilidad Condicional* : $P(Pase \\ algo | dado \\ que \\ paso \\ algo)$\n",
    "* *Probabilidad a Priori*: Probabilidad de un caso dividido por el numero total de casos.\n",
    "\n",
    "**Definición**\n",
    "\n",
    "Dado un conjunto de clasificaciones mutualmente exclusivo y exhaustivo de classificaciones $c_1,c_2,c_k$, las cuales poseen probabilidades a priori $P(c_1),P(c_2),...,P(c_k)$ respectivamente, y $n$ atributos $a_1,a_2,...,a_n$ para los cuales dada una instancia(record/registro) posee valores $v_1,v_2,...,v_n$ respectivamente, la probabilidad posterior de la clase $c_i$ que ocurre para la estancia especificad puede ser mostrada proporcionalmente a :\n",
    "\n",
    "\\begin{equation*}\n",
    "    P(c_i) \\times P(a_1=v_1 \\ y \\ a_2=v_2... \\ y \\ a_n=v_n|c_i)\n",
    "\\end{equation*}\n",
    "\n",
    "Suponiendo que la probabilidad de los atributos son independientes (Generalmente no pasa, pero sigue funcionando), el valor de esta expresión puede ser calculado utilizando el producto.\n",
    "\\begin{equation*}\n",
    "    P(c_i) \\times P(a_1=v_1|c_i) \\times P(a_2=v_2|c_i) \\times P(a_3=v_3|c_i) \\times P(a_3=v_3|c_i) \\times\n",
    "\\end{equation*}\n",
    "\n",
    "Se calcula este producto por cada valor de $i \\in [k]$ (Es decir cada clase) y se elige la clasificacion que posee el valor mas grande.\n",
    "\n",
    "__________________________________________________________________________\n",
    "\n",
    "Esta ultima expresión es escrita aveces como $P(C_i)\\times \\prod_{j=1}^n P(a_j=v_j | class =c_i)$. La suma de estas probabilidades no da 1, sin embargo se puede nomr"
   ]
  },
  {
   "cell_type": "code",
   "execution_count": 15,
   "metadata": {
    "collapsed": false
   },
   "outputs": [
    {
     "data": {
      "text/plain": [
       "66     3.905\n",
       "67     4.040\n",
       "68     4.305\n",
       "69     3.560\n",
       "70     2.815\n",
       "       ...  \n",
       "127    2.395\n",
       "128    2.505\n",
       "129    2.630\n",
       "130    2.500\n",
       "131    2.670\n",
       "Name: Nota_final, Length: 66, dtype: float64"
      ]
     },
     "execution_count": 15,
     "metadata": {
     },
     "output_type": "execute_result"
    }
   ],
   "source": [
    "materia[\"Nota_final\"]"
   ]
  },
  {
   "cell_type": "code",
   "execution_count": 16,
   "metadata": {
    "collapsed": false
   },
   "outputs": [
   ],
   "source": [
    "X = materia[[\"Nota_1er_Corte\"]]\n",
    "Y= materia[\"Paso\"]"
   ]
  },
  {
   "cell_type": "code",
   "execution_count": 17,
   "metadata": {
    "collapsed": false
   },
   "outputs": [
    {
     "name": "stdout",
     "output_type": "stream",
     "text": [
      "Accuracy: 0.85\n"
     ]
    }
   ],
   "source": [
    "from sklearn import metrics\n",
    "X_train, X_test, y_train, y_test = train_test_split(X, Y, test_size=0.3)\n",
    "gnb = GaussianNB()\n",
    "gnb.fit(X_train,y_train)\n",
    "y_pred = gnb.predict(X_test)\n",
    "print(\"Accuracy:\",metrics.accuracy_score(y_test, y_pred))"
   ]
  },
  {
   "cell_type": "code",
   "execution_count": 18,
   "metadata": {
    "collapsed": false
   },
   "outputs": [
    {
     "data": {
      "image/png": "[encoded data removed]",
      "text/plain": [
       "<Figure size 576x576 with 1 Axes>"
      ]
     },
     "execution_count": 18,
     "metadata": {
      "image/png": {
       "height": 465,
       "width": 534
      },
      "needs_background": "light"
     },
     "output_type": "execute_result"
    }
   ],
   "source": [
    "cm = confusion_matrix(y_test,y_pred)\n",
    "\n",
    "fig, ax = plt.subplots(figsize=(8, 8))\n",
    "ax.imshow(cm)\n",
    "ax.grid(False)\n",
    "ax.xaxis.set(ticks=(0, 1), ticklabels=('Predicho 0: Perdio', 'Predicho 1: Paso'))\n",
    "ax.yaxis.set(ticks=(0, 1), ticklabels=('Actual 0: Perdio', 'Actual 1: Paso'))\n",
    "ax.set_ylim(1.5, -0.5)\n",
    "for i in range(2):\n",
    "    for j in range(2):\n",
    "        ax.text(j, i, cm[i, j], ha='center', va='center', color='red')\n",
    "plt.show()"
   ]
  },
  {
   "cell_type": "markdown",
   "metadata": {
    "collapsed": false
   },
   "source": [
    "## Regresion Logistica"
   ]
  },
  {
   "cell_type": "markdown",
   "metadata": {
    "collapsed": false
   },
   "source": [
    "La regresión logitica trabaja con posibilidades en vez de proporciones. Las posibilidades es simplemente la division/radio de proporción de los dos posibles resultados. Si $p$ es la proporcion de un resultado y $1-p$ la proporción del segundo resultado:\n",
    "\n",
    "\\begin{equation*}\n",
    "    posibilidades = \\frac{p}{1-p}\n",
    "\\end{equation*}\n",
    "\n",
    "La regresión logistica modela las posibilidades en terminos de variables explicativas. Es decir:\n",
    "\n",
    "\\begin{equation*}\n",
    "    log(\\frac{p}{1-p}) = B_0+B_1x\n",
    "\\end{equation*}\n",
    "\n",
    "Las probabilidades son estimadas con la función sigmoide $p(x)=\\frac{1}{1+exp(-f(x_1,x_2))}$"
   ]
  },
  {
   "cell_type": "code",
   "execution_count": 19,
   "metadata": {
    "collapsed": false
   },
   "outputs": [
   ],
   "source": [
    "model = LogisticRegression(solver='liblinear')"
   ]
  },
  {
   "cell_type": "code",
   "execution_count": 20,
   "metadata": {
    "collapsed": false
   },
   "outputs": [
   ],
   "source": [
    "result = model.fit(X_train,y_train)"
   ]
  },
  {
   "cell_type": "code",
   "execution_count": 21,
   "metadata": {
    "collapsed": false
   },
   "outputs": [
    {
     "name": "stdout",
     "output_type": "stream",
     "text": [
      "Accuracy: 0.9\n"
     ]
    }
   ],
   "source": [
    "y_pred=model.predict(X_test)\n",
    "print(\"Accuracy:\",metrics.accuracy_score(y_test, y_pred))"
   ]
  },
  {
   "cell_type": "code",
   "execution_count": 22,
   "metadata": {
    "collapsed": false
   },
   "outputs": [
    {
     "data": {
      "image/png": "[encoded data removed]",
      "text/plain": [
       "<Figure size 576x576 with 1 Axes>"
      ]
     },
     "execution_count": 22,
     "metadata": {
      "image/png": {
       "height": 465,
       "width": 534
      },
      "needs_background": "light"
     },
     "output_type": "execute_result"
    }
   ],
   "source": [
    "cm = confusion_matrix(y_test,y_pred)\n",
    "\n",
    "fig, ax = plt.subplots(figsize=(8, 8))\n",
    "ax.imshow(cm)\n",
    "ax.grid(False)\n",
    "ax.xaxis.set(ticks=(0, 1), ticklabels=('Predicho 0: Perdio', 'Predicho 1: Paso'))\n",
    "ax.yaxis.set(ticks=(0, 1), ticklabels=('Actual 0: Perdio', 'Actual 1: Paso'))\n",
    "ax.set_ylim(1.5, -0.5)\n",
    "for i in range(2):\n",
    "    for j in range(2):\n",
    "        ax.text(j, i, cm[i, j], ha='center', va='center', color='red')\n",
    "plt.show()"
   ]
  },
  {
   "cell_type": "code",
   "execution_count": 23,
   "metadata": {
    "collapsed": false
   },
   "outputs": [
    {
     "data": {
      "text/plain": [
       "array([[ 1,  2],\n",
       "       [ 0, 17]])"
      ]
     },
     "execution_count": 23,
     "metadata": {
     },
     "output_type": "execute_result"
    }
   ],
   "source": [
    "confusion_matrix(y_test,y_pred)"
   ]
  },
  {
   "cell_type": "code",
   "execution_count": 24,
   "metadata": {
    "collapsed": false
   },
   "outputs": [
    {
     "name": "stdout",
     "output_type": "stream",
     "text": [
      "              precision    recall  f1-score   support\n",
      "\n",
      "           0       1.00      0.33      0.50         3\n",
      "           1       0.89      1.00      0.94        17\n",
      "\n",
      "    accuracy                           0.90        20\n",
      "   macro avg       0.95      0.67      0.72        20\n",
      "weighted avg       0.91      0.90      0.88        20\n",
      "\n"
     ]
    }
   ],
   "source": [
    "print(classification_report(y_test, y_pred))"
   ]
  },
  {
   "cell_type": "markdown",
   "metadata": {
    "collapsed": false
   },
   "source": [
    "## Decision Tree\n",
    "Un árbol de decisión es una árbol en la que cada nodo interno representa un \"test\" de un atributo. Cada rama representa el resultado del test y cada hoja del árbol representa una etiqueta de un grupo. Los caminos desde la raíz hasta la as hojas representan las reglas de clasificación."
   ]
  },
  {
   "cell_type": "code",
   "execution_count": 25,
   "metadata": {
    "collapsed": false
   },
   "outputs": [
   ],
   "source": [
    "# Separating train data and split data\n",
    "X_train, X_test, y_train, y_test = train_test_split(X,my_labels,test_size = 0.3, random_state = 100)"
   ]
  },
  {
   "cell_type": "code",
   "execution_count": 26,
   "metadata": {
    "collapsed": false
   },
   "outputs": [
   ],
   "source": [
    "# Creating the classifier object\n",
    "tree_clf = DecisionTreeClassifier(criterion = \"gini\",max_depth = 10,min_samples_leaf=5)"
   ]
  },
  {
   "cell_type": "code",
   "execution_count": 27,
   "metadata": {
    "collapsed": false
   },
   "outputs": [
    {
     "data": {
      "text/plain": [
       "DecisionTreeClassifier(ccp_alpha=0.0, class_weight=None, criterion='gini',\n",
       "                       max_depth=10, max_features=None, max_leaf_nodes=None,\n",
       "                       min_impurity_decrease=0.0, min_impurity_split=None,\n",
       "                       min_samples_leaf=5, min_samples_split=2,\n",
       "                       min_weight_fraction_leaf=0.0, presort='deprecated',\n",
       "                       random_state=None, splitter='best')"
      ]
     },
     "execution_count": 27,
     "metadata": {
     },
     "output_type": "execute_result"
    }
   ],
   "source": [
    "# Performing training\n",
    "tree_clf.fit(X_train, y_train)"
   ]
  },
  {
   "cell_type": "code",
   "execution_count": 28,
   "metadata": {
    "collapsed": false
   },
   "outputs": [
    {
     "name": "stdout",
     "output_type": "stream",
     "text": [
      "Predicted values:\n",
      "[0 1 1 0 0 1 1 0 1 1 1 1 1 1 1 1 1 0 1 1]\n"
     ]
    }
   ],
   "source": [
    "# Prediction on test with giniIndex\n",
    "y_pred = tree_clf.predict(X_test)\n",
    "print(\"Predicted values:\")\n",
    "print(y_pred)"
   ]
  },
  {
   "cell_type": "code",
   "execution_count": 29,
   "metadata": {
    "collapsed": false
   },
   "outputs": [
    {
     "name": "stdout",
     "output_type": "stream",
     "text": [
      "Accuracy:  0.8\n",
      "              precision    recall  f1-score   support\n",
      "\n",
      "           0       0.40      0.67      0.50         3\n",
      "           1       0.93      0.82      0.87        17\n",
      "\n",
      "    accuracy                           0.80        20\n",
      "   macro avg       0.67      0.75      0.69        20\n",
      "weighted avg       0.85      0.80      0.82        20\n",
      "\n"
     ]
    }
   ],
   "source": [
    "# Calculations of accuracy\n",
    "\n",
    "# Confusion matrix\n",
    "cm = confusion_matrix(y_test,y_pred)\n",
    "# Accuracy score of the model\n",
    "print(\"Accuracy: \",accuracy_score(y_test,y_pred))\n",
    "# Reporte\n",
    "print(classification_report(y_test, y_pred))"
   ]
  },
  {
   "cell_type": "code",
   "execution_count": 30,
   "metadata": {
    "collapsed": false
   },
   "outputs": [
    {
     "data": {
      "image/png": "[encoded data removed]",
      "text/plain": [
       "<Figure size 576x576 with 1 Axes>"
      ]
     },
     "execution_count": 30,
     "metadata": {
      "image/png": {
       "height": 465,
       "width": 534
      },
      "needs_background": "light"
     },
     "output_type": "execute_result"
    }
   ],
   "source": [
    "fig, ax = plt.subplots(figsize=(8, 8))\n",
    "ax.imshow(cm)\n",
    "ax.grid(False)\n",
    "ax.xaxis.set(ticks=(0, 1), ticklabels=('Predicho 0: Perdio', 'Predicho 1: Paso'))\n",
    "ax.yaxis.set(ticks=(0, 1), ticklabels=('Actual 0: Perdio', 'Actual 1: Paso'))\n",
    "ax.set_ylim(1.5, -0.5)\n",
    "for i in range(2):\n",
    "    for j in range(2):\n",
    "        ax.text(j, i, cm[i, j], ha='center', va='center', color='red')\n",
    "plt.show()"
   ]
  },
  {
   "cell_type": "markdown",
   "metadata": {
    "collapsed": false
   },
   "source": [
    "from math import log\n",
    "\n",
    "def calculateEntropy(dataSet):\n",
    "    number = len(dataSet)\n",
    "    labelCounts = {}\n",
    "    for featureVector in dataSet:\n",
    "        currentLabel = featureVector[-1]\n",
    "        if currentLabel not in labelCounts.keys():\n",
    "            labelCounts[currentLabel] = 0\n",
    "        labelCounts[currentLabel] +=1\n",
    "    entropy = 0\n",
    "    for i in labelCounts:\n",
    "        probability = float(labelCounts[keys])/number\n",
    "        entropy -=probability*log(probability,2)\n",
    "    return entropy"
   ]
  },
  {
   "cell_type": "markdown",
   "metadata": {
    "collapsed": false
   },
   "source": [
    "print(calculateEntropy(X))\n",
    "data = X.to_numpy()\n",
    "print(entropy(data))"
   ]
  },
  {
   "cell_type": "markdown",
   "metadata": {
    "collapsed": false
   },
   "source": [
    "## Medidas de precisión para estudiantes con riesgo de perdida"
   ]
  },
  {
   "cell_type": "code",
   "execution_count": 31,
   "metadata": {
    "collapsed": false
   },
   "outputs": [
    {
     "data": {
      "text/plain": [
       "array([[ 3,  2],\n",
       "       [ 0, 12]])"
      ]
     },
     "execution_count": 31,
     "metadata": {
     },
     "output_type": "execute_result"
    }
   ],
   "source": [
    "cm = confusion_matrix(Y_test,Y_pred,labels = [0, 1])\n",
    "cm"
   ]
  },
  {
   "cell_type": "code",
   "execution_count": 32,
   "metadata": {
    "collapsed": false
   },
   "outputs": [
    {
     "name": "stdout",
     "output_type": "stream",
     "text": [
      "3 12 1 2\n"
     ]
    }
   ],
   "source": [
    "True_posit=cm[0][0]\n",
    "True_neg=cm[1][1]\n",
    "False_neg=[1][0]\n",
    "False_posit=cm[0][1]\n",
    "Total = True_posit+True_neg+False_neg+False_posit\n",
    "print(True_posit,True_neg,False_neg,False_posit)"
   ]
  },
  {
   "cell_type": "markdown",
   "metadata": {
    "collapsed": false
   },
   "source": [
    "Verdaderos Positivos : Estudiantes que perdieron y fueren identificado como en riesgo.\n",
    "\n",
    "Verdadero Negativos : Estudiantes que pasaron y no fueron identificados como en riesgo.\n",
    "\n",
    "Falsos negativos (Tipo II error): Es el numero de estudiantes que perdieron el curso y no fueron identificados por los modelos de riesgo.\n",
    "\n",
    "Falsos positivos (Tipo I error): el numero de estudiantes que pasaron el curso y fueron identificados como en riesgo.\n"
   ]
  },
  {
   "cell_type": "code",
   "execution_count": 33,
   "metadata": {
    "collapsed": false
   },
   "outputs": [
    {
     "name": "stdout",
     "output_type": "stream",
     "text": [
      "Acurracy:0.8333333333333334\n",
      "Acurracy (Pass):0.8571428571428571\n",
      "Acurracy (Fail):0.75\n",
      "F_{1.5}$:0.6964285714285714\n"
     ]
    }
   ],
   "source": [
    "Accuracy = (True_posit+True_neg)/Total\n",
    "print(\"Acurracy:\" +str(Accuracy))\n",
    "Accuracy_pass = (True_neg)/(True_neg+False_posit)\n",
    "print(\"Acurracy (Pass):\" +str(Accuracy_pass))\n",
    "Accuracy_fail = (True_posit)/(True_posit+False_neg)\n",
    "print(\"Acurracy (Fail):\" +str(Accuracy_fail))\n",
    "F15=((1+1.5*1.5)*True_posit)/((1+1.5*1.5)*True_posit+(1.5*1.5)*False_neg+False_posit)\n",
    "print(\"F_{1.5}$:\" +str(F15))"
   ]
  },
  {
   "cell_type": "markdown",
   "metadata": {
    "collapsed": false
   },
   "source": [
    "Accuracy (Pass): Precision de los estudiantes que pasaron.\n",
    "\n",
    "Accuracy (Fail): Precision de los estudiantes que fallaron.\n",
    "\n",
    "$F_{1.5}$ : Puntaje que mida la combinacion de las dos precisiones dandole mas peso a los estudiantes que perdieron."
   ]
  },
  {
   "cell_type": "markdown",
   "metadata": {
    "collapsed": false
   },
   "source": [
    "## Support Vector Machine (SVM)\n",
    "Es un algoritmo de aprendizaje supervisado, que busca construir el mejor hiperplano que separe grupos de datos. Este clasificador puede ser lineal o no lineal.\n",
    "En algunos casos, construir el hiperplano de separación no es tan fácil por lo que se usa un truco con kernels (transformaciones) que permiten aumentar la dimensión de los datos para.\n",
    "Existen varios tipos de kernels para los SVM. Entre los más usados se encuentran:\n",
    "* Kernels lineales: \n",
    "* Kernels polinómicos:\n",
    "* Kernel de función de base radial:"
   ]
  },
  {
   "cell_type": "code",
   "execution_count": 34,
   "metadata": {
    "collapsed": false
   },
   "outputs": [
   ],
   "source": [
    "X_train, X_test, y_train, y_test = train_test_split(X,my_labels,test_size=0.3)"
   ]
  },
  {
   "cell_type": "code",
   "execution_count": 35,
   "metadata": {
    "collapsed": false
   },
   "outputs": [
   ],
   "source": [
    "# Se inicia el clasificadores SVM\n",
    "# NOTA: revisar significado de parametro C y ver como seleccionarlo\n",
    "cls_lin = svm.SVC(kernel=\"linear\")\n",
    "cls_poly = svm.SVC(kernel=\"poly\")\n",
    "cls_rbf = svm.SVC(kernel='rbf')"
   ]
  },
  {
   "cell_type": "code",
   "execution_count": 36,
   "metadata": {
    "collapsed": false
   },
   "outputs": [
    {
     "data": {
      "text/plain": [
       "SVC(C=1.0, break_ties=False, cache_size=200, class_weight=None, coef0=0.0,\n",
       "    decision_function_shape='ovr', degree=3, gamma='scale', kernel='rbf',\n",
       "    max_iter=-1, probability=False, random_state=None, shrinking=True,\n",
       "    tol=0.001, verbose=False)"
      ]
     },
     "execution_count": 36,
     "metadata": {
     },
     "output_type": "execute_result"
    }
   ],
   "source": [
    "# training the models\n",
    "cls_lin.fit(X_train,y_train)\n",
    "cls_poly.fit(X_train,y_train)\n",
    "cls_rbf.fit(X_train,y_train)"
   ]
  },
  {
   "cell_type": "code",
   "execution_count": 37,
   "metadata": {
    "collapsed": false
   },
   "outputs": [
    {
     "name": "stdout",
     "output_type": "stream",
     "text": [
      "Accuracy lin_SVM:  0.95\n",
      "Accuracy poly_SVM:  1.0\n",
      "Accuracy rbf_SVM:  1.0\n"
     ]
    }
   ],
   "source": [
    "# Predict the rsponse\n",
    "pred_lin = cls_lin.predict(X_test)\n",
    "print(\"Accuracy lin_SVM: \",accuracy_score(y_test,pred_lin))\n",
    "#print(\"Precision lin_SVM:\",y_test,pred_lin)\n",
    "#\n",
    "pred_poly = cls_poly.predict(X_test)\n",
    "print(\"Accuracy poly_SVM: \",accuracy_score(y_test,pred_poly))\n",
    "#print(\"Precision poly_SVM:\",y_test,pred_poly)\n",
    "#\n",
    "pred_rbf = cls_rbf.predict(X_test)\n",
    "print(\"Accuracy rbf_SVM: \",accuracy_score(y_test,pred_rbf))\n",
    "#print(\"Precision rbf_SVM:\",y_test,pred_rbf)"
   ]
  },
  {
   "cell_type": "markdown",
   "metadata": {
    "collapsed": false
   },
   "source": [
    "Si se aumenta el valor del parametro C la accuracy de los modelos cambia y converge al mismo valor."
   ]
  },
  {
   "cell_type": "code",
   "execution_count": 38,
   "metadata": {
    "collapsed": false
   },
   "outputs": [
    {
     "name": "stdout",
     "output_type": "stream",
     "text": [
      "Reporte linear SVM:\n",
      "              precision    recall  f1-score   support\n",
      "\n",
      "           0       1.00      0.83      0.91         6\n",
      "           1       0.93      1.00      0.97        14\n",
      "\n",
      "    accuracy                           0.95        20\n",
      "   macro avg       0.97      0.92      0.94        20\n",
      "weighted avg       0.95      0.95      0.95        20\n",
      "\n",
      "Reporte polinomial SVM:\n",
      "              precision    recall  f1-score   support\n",
      "\n",
      "           0       1.00      0.83      0.91         6\n",
      "           1       0.93      1.00      0.97        14\n",
      "\n",
      "    accuracy                           0.95        20\n",
      "   macro avg       0.97      0.92      0.94        20\n",
      "weighted avg       0.95      0.95      0.95        20\n",
      "\n",
      "Reporte SVM con kernel RBF:\n",
      "              precision    recall  f1-score   support\n",
      "\n",
      "           0       1.00      0.83      0.91         6\n",
      "           1       0.93      1.00      0.97        14\n",
      "\n",
      "    accuracy                           0.95        20\n",
      "   macro avg       0.97      0.92      0.94        20\n",
      "weighted avg       0.95      0.95      0.95        20\n",
      "\n"
     ]
    }
   ],
   "source": [
    "# Matrices de confusion\n",
    "cm_lin = confusion_matrix(y_test,pred_lin, labels=[0,1])\n",
    "cm_poly = confusion_matrix(y_test,pred_poly, labels=[0,1])\n",
    "cm_rbf = confusion_matrix(y_test, pred_rbf, labels=[0,1])\n",
    "# Reportes de clasificacion\n",
    "print(\"Reporte linear SVM:\")\n",
    "print(classification_report(y_test,pred_lin))\n",
    "#\n",
    "print(\"Reporte polinomial SVM:\")\n",
    "print(classification_report(y_test,pred_lin))\n",
    "#\n",
    "print(\"Reporte SVM con kernel RBF:\")\n",
    "print(classification_report(y_test,pred_lin))"
   ]
  },
  {
   "cell_type": "code",
   "execution_count": 39,
   "metadata": {
    "collapsed": false
   },
   "outputs": [
    {
     "data": {
      "image/png": "[encoded data removed]",
      "text/plain": [
       "<Figure size 576x576 with 1 Axes>"
      ]
     },
     "execution_count": 39,
     "metadata": {
      "image/png": {
       "height": 481,
       "width": 534
      },
      "needs_background": "light"
     },
     "output_type": "execute_result"
    }
   ],
   "source": [
    "# Grafica para SVM lineal\n",
    "fig, ax = plt.subplots(figsize=(8, 8))\n",
    "ax.imshow(cm)\n",
    "ax.grid(False)\n",
    "ax.xaxis.set(ticks=(0, 1), ticklabels=('Predicho 0: Perdio', 'Predicho 1: Paso'))\n",
    "ax.yaxis.set(ticks=(0, 1), ticklabels=('Actual 0: Perdio', 'Actual 1: Paso'))\n",
    "ax.set_ylim(1.5, -0.5)\n",
    "for i in range(2):\n",
    "    for j in range(2):\n",
    "        ax.text(j, i, cm_lin[i, j], ha='center', va='center', color='red')\n",
    "plt.title(\"Matriz de confusion para SVM con kernel lineal\")\n",
    "plt.show()"
   ]
  },
  {
   "cell_type": "code",
   "execution_count": 40,
   "metadata": {
    "collapsed": false
   },
   "outputs": [
    {
     "data": {
      "image/png": "[encoded data removed]",
      "text/plain": [
       "<Figure size 576x576 with 1 Axes>"
      ]
     },
     "execution_count": 40,
     "metadata": {
      "image/png": {
       "height": 481,
       "width": 534
      },
      "needs_background": "light"
     },
     "output_type": "execute_result"
    }
   ],
   "source": [
    "# Grafica para SVM con kernel polinomial\n",
    "fig, ax = plt.subplots(figsize=(8, 8))\n",
    "ax.imshow(cm)\n",
    "ax.grid(False)\n",
    "ax.xaxis.set(ticks=(0, 1), ticklabels=('Predicho 0: Perdio', 'Predicho 1: Paso'))\n",
    "ax.yaxis.set(ticks=(0, 1), ticklabels=('Actual 0: Perdio', 'Actual 1: Paso'))\n",
    "ax.set_ylim(1.5, -0.5)\n",
    "for i in range(2):\n",
    "    for j in range(2):\n",
    "        ax.text(j, i, cm_poly[i, j], ha='center', va='center', color='red')\n",
    "plt.title(\"Matriz de confusion para SVM con kernel polinomial\")\n",
    "plt.show()"
   ]
  },
  {
   "cell_type": "code",
   "execution_count": 41,
   "metadata": {
    "collapsed": false,
    "scrolled": true
   },
   "outputs": [
    {
     "data": {
      "image/png": "[encoded data removed]",
      "text/plain": [
       "<Figure size 576x576 with 1 Axes>"
      ]
     },
     "execution_count": 41,
     "metadata": {
      "image/png": {
       "height": 481,
       "width": 534
      },
      "needs_background": "light"
     },
     "output_type": "execute_result"
    }
   ],
   "source": [
    "# Grafica para SVM con kernel RBF\n",
    "fig, ax = plt.subplots(figsize=(8, 8))\n",
    "ax.imshow(cm)\n",
    "ax.grid(False)\n",
    "ax.xaxis.set(ticks=(0, 1), ticklabels=('Predicho 0: Perdio', 'Predicho 1: Paso'))\n",
    "ax.yaxis.set(ticks=(0, 1), ticklabels=('Actual 0: Perdio', 'Actual 1: Paso'))\n",
    "ax.set_ylim(1.5, -0.5)\n",
    "for i in range(2):\n",
    "    for j in range(2):\n",
    "        ax.text(j, i, cm_rbf[i, j], ha='center', va='center', color='red')\n",
    "plt.title(\"Matriz de confusion para SVM con kernel RBF\")\n",
    "plt.show()"
   ]
  },
  {
   "cell_type": "markdown",
   "metadata": {
    "collapsed": false
   },
   "source": [
    "## Modelo por materia - cortes"
   ]
  },
  {
   "cell_type": "code",
   "execution_count": 42,
   "metadata": {
    "collapsed": false
   },
   "outputs": [
   ],
   "source": [
    "def funcion_paso(x):\n",
    "    #x nota final\n",
    "    #return si paso o perdio como etiquetas para modelos de predicción\n",
    "    if(x >= 3):\n",
    "        return 1\n",
    "    elif(x <3):\n",
    "        return 0"
   ]
  },
  {
   "cell_type": "code",
   "execution_count": 43,
   "metadata": {
    "collapsed": false
   },
   "outputs": [
   ],
   "source": [
    "completo[\"Paso\"] = completo.apply(lambda row: funcion_paso(row[\"Nota_final\"]),axis=1 )"
   ]
  },
  {
   "cell_type": "code",
   "execution_count": 44,
   "metadata": {
    "collapsed": false
   },
   "outputs": [
    {
     "data": {
      "text/plain": [
       "Index(['index', 'Documento_Ingreso', 'Documento_Actual', 'Codigo',\n",
       "       'Apellido_1_Estudiante', 'Apellido_2_Estudiante', 'Nombres_Estudiante',\n",
       "       'Acceso', 'Subacceso', 'Correo_Institucional', 'Sexo',\n",
       "       'Facultad_o_Escuela', 'Programa', 'Semestre', 'Creditos_inscritos',\n",
       "       'Codigo_Asignatura', 'Nombre_Asignatura', 'Creditos_Asignatura',\n",
       "       'Grupo_Asignatura', 'Tipologia_Asignatura', 'Nota_1er_Corte',\n",
       "       'Corte_1p', 'Nota_2do_Corte', 'Corte_2p', 'Nota_3er_Corte', 'Corte_3p',\n",
       "       'Nota_4to_Corte', 'Corte_4p', 'Nota_5to_Corte', 'Corte_5p',\n",
       "       'Nombre_completo', 'Correo', 'Grupo', 'usuario', 'Nota_final', 'Paso'],\n",
       "      dtype='object')"
      ]
     },
     "execution_count": 44,
     "metadata": {
     },
     "output_type": "execute_result"
    }
   ],
   "source": [
    "completo.columns"
   ]
  },
  {
   "cell_type": "code",
   "execution_count": 45,
   "metadata": {
    "collapsed": false
   },
   "outputs": [
    {
     "data": {
      "text/html": [
       "<div>\n",
       "<style scoped>\n",
       "    .dataframe tbody tr th:only-of-type {\n",
       "        vertical-align: middle;\n",
       "    }\n",
       "\n",
       "    .dataframe tbody tr th {\n",
       "        vertical-align: top;\n",
       "    }\n",
       "\n",
       "    .dataframe thead th {\n",
       "        text-align: right;\n",
       "    }\n",
       "</style>\n",
       "<table border=\"1\" class=\"dataframe\">\n",
       "  <thead>\n",
       "    <tr style=\"text-align: right;\">\n",
       "      <th></th>\n",
       "      <th>index</th>\n",
       "      <th>Documento_Ingreso</th>\n",
       "      <th>Documento_Actual</th>\n",
       "      <th>Codigo</th>\n",
       "      <th>Apellido_1_Estudiante</th>\n",
       "      <th>Apellido_2_Estudiante</th>\n",
       "      <th>Nombres_Estudiante</th>\n",
       "      <th>Acceso</th>\n",
       "      <th>Subacceso</th>\n",
       "      <th>Correo_Institucional</th>\n",
       "      <th>...</th>\n",
       "      <th>Nota_4to_Corte</th>\n",
       "      <th>Corte_4p</th>\n",
       "      <th>Nota_5to_Corte</th>\n",
       "      <th>Corte_5p</th>\n",
       "      <th>Nombre_completo</th>\n",
       "      <th>Correo</th>\n",
       "      <th>Grupo</th>\n",
       "      <th>usuario</th>\n",
       "      <th>Nota_final</th>\n",
       "      <th>Paso</th>\n",
       "    </tr>\n",
       "  </thead>\n",
       "  <tbody>\n",
       "    <tr>\n",
       "      <th>0</th>\n",
       "      <td>0</td>\n",
       "      <td>221123</td>\n",
       "      <td>44867</td>\n",
       "      <td>751433</td>\n",
       "      <td>-</td>\n",
       "      <td>-</td>\n",
       "      <td>alcjobxj</td>\n",
       "      <td>Nuevo al programa</td>\n",
       "      <td>Bachillerato con Examen de Estado</td>\n",
       "      <td>alcjobxj@urosario.edu.co</td>\n",
       "      <td>...</td>\n",
       "      <td>3.7</td>\n",
       "      <td>15</td>\n",
       "      <td>4.0</td>\n",
       "      <td>25</td>\n",
       "      <td>Norma Sarmiento</td>\n",
       "      <td>norma.sarmiento@urosario.edu.co</td>\n",
       "      <td>1</td>\n",
       "      <td>norma.sarmiento</td>\n",
       "      <td>3.855</td>\n",
       "      <td>1</td>\n",
       "    </tr>\n",
       "    <tr>\n",
       "      <th>1</th>\n",
       "      <td>1</td>\n",
       "      <td>166515</td>\n",
       "      <td>40599</td>\n",
       "      <td>749859</td>\n",
       "      <td>-</td>\n",
       "      <td>-</td>\n",
       "      <td>orhawgyi</td>\n",
       "      <td>Termino condición doble programa</td>\n",
       "      <td>GENERAL</td>\n",
       "      <td>orhawgyi@urosario.edu.co</td>\n",
       "      <td>...</td>\n",
       "      <td>3.5</td>\n",
       "      <td>15</td>\n",
       "      <td>3.5</td>\n",
       "      <td>25</td>\n",
       "      <td>Norma Sarmiento</td>\n",
       "      <td>norma.sarmiento@urosario.edu.co</td>\n",
       "      <td>1</td>\n",
       "      <td>norma.sarmiento</td>\n",
       "      <td>3.820</td>\n",
       "      <td>1</td>\n",
       "    </tr>\n",
       "    <tr>\n",
       "      <th>2</th>\n",
       "      <td>2</td>\n",
       "      <td>133161</td>\n",
       "      <td>98669</td>\n",
       "      <td>31366</td>\n",
       "      <td>-</td>\n",
       "      <td>-</td>\n",
       "      <td>mdfaizgp</td>\n",
       "      <td>Doble Programa</td>\n",
       "      <td>GENERAL</td>\n",
       "      <td>mdfaizgp@urosario.edu.co</td>\n",
       "      <td>...</td>\n",
       "      <td>3.9</td>\n",
       "      <td>15</td>\n",
       "      <td>3.6</td>\n",
       "      <td>25</td>\n",
       "      <td>Norma Sarmiento</td>\n",
       "      <td>norma.sarmiento@urosario.edu.co</td>\n",
       "      <td>1</td>\n",
       "      <td>norma.sarmiento</td>\n",
       "      <td>4.225</td>\n",
       "      <td>1</td>\n",
       "    </tr>\n",
       "    <tr>\n",
       "      <th>3</th>\n",
       "      <td>3</td>\n",
       "      <td>164862</td>\n",
       "      <td>25568</td>\n",
       "      <td>111363</td>\n",
       "      <td>-</td>\n",
       "      <td>-</td>\n",
       "      <td>mwuaqnnz</td>\n",
       "      <td>Extranjero</td>\n",
       "      <td>GENERAL</td>\n",
       "      <td>mwuaqnnz@urosario.edu.co</td>\n",
       "      <td>...</td>\n",
       "      <td>3.5</td>\n",
       "      <td>15</td>\n",
       "      <td>3.8</td>\n",
       "      <td>25</td>\n",
       "      <td>Norma Sarmiento</td>\n",
       "      <td>norma.sarmiento@urosario.edu.co</td>\n",
       "      <td>1</td>\n",
       "      <td>norma.sarmiento</td>\n",
       "      <td>3.575</td>\n",
       "      <td>1</td>\n",
       "    </tr>\n",
       "    <tr>\n",
       "      <th>4</th>\n",
       "      <td>4</td>\n",
       "      <td>879672</td>\n",
       "      <td>73231</td>\n",
       "      <td>667248</td>\n",
       "      <td>-</td>\n",
       "      <td>-</td>\n",
       "      <td>pgooxicb</td>\n",
       "      <td>Doble Programa</td>\n",
       "      <td>Departamento de Admisiones</td>\n",
       "      <td>pgooxicb@urosario.edu.co</td>\n",
       "      <td>...</td>\n",
       "      <td>2.6</td>\n",
       "      <td>15</td>\n",
       "      <td>2.7</td>\n",
       "      <td>25</td>\n",
       "      <td>Norma Sarmiento</td>\n",
       "      <td>norma.sarmiento@urosario.edu.co</td>\n",
       "      <td>1</td>\n",
       "      <td>norma.sarmiento</td>\n",
       "      <td>2.545</td>\n",
       "      <td>0</td>\n",
       "    </tr>\n",
       "    <tr>\n",
       "      <th>...</th>\n",
       "      <td>...</td>\n",
       "      <td>...</td>\n",
       "      <td>...</td>\n",
       "      <td>...</td>\n",
       "      <td>...</td>\n",
       "      <td>...</td>\n",
       "      <td>...</td>\n",
       "      <td>...</td>\n",
       "      <td>...</td>\n",
       "      <td>...</td>\n",
       "      <td>...</td>\n",
       "      <td>...</td>\n",
       "      <td>...</td>\n",
       "      <td>...</td>\n",
       "      <td>...</td>\n",
       "      <td>...</td>\n",
       "      <td>...</td>\n",
       "      <td>...</td>\n",
       "      <td>...</td>\n",
       "      <td>...</td>\n",
       "      <td>...</td>\n",
       "    </tr>\n",
       "    <tr>\n",
       "      <th>61</th>\n",
       "      <td>61</td>\n",
       "      <td>515977</td>\n",
       "      <td>27417</td>\n",
       "      <td>126984</td>\n",
       "      <td>-</td>\n",
       "      <td>-</td>\n",
       "      <td>jnkgwinp</td>\n",
       "      <td>Extranjero</td>\n",
       "      <td>GENERAL</td>\n",
       "      <td>jnkgwinp@urosario.edu.co</td>\n",
       "      <td>...</td>\n",
       "      <td>3.0</td>\n",
       "      <td>15</td>\n",
       "      <td>2.0</td>\n",
       "      <td>25</td>\n",
       "      <td>Norma Sarmiento</td>\n",
       "      <td>norma.sarmiento@urosario.edu.co</td>\n",
       "      <td>1</td>\n",
       "      <td>norma.sarmiento</td>\n",
       "      <td>2.590</td>\n",
       "      <td>0</td>\n",
       "    </tr>\n",
       "    <tr>\n",
       "      <th>62</th>\n",
       "      <td>62</td>\n",
       "      <td>989769</td>\n",
       "      <td>86022</td>\n",
       "      <td>706697</td>\n",
       "      <td>-</td>\n",
       "      <td>-</td>\n",
       "      <td>llnuonlp</td>\n",
       "      <td>Reingreso por Fortalecimiento académico</td>\n",
       "      <td>GENERAL</td>\n",
       "      <td>llnuonlp@urosario.edu.co</td>\n",
       "      <td>...</td>\n",
       "      <td>2.4</td>\n",
       "      <td>15</td>\n",
       "      <td>2.7</td>\n",
       "      <td>25</td>\n",
       "      <td>Norma Sarmiento</td>\n",
       "      <td>norma.sarmiento@urosario.edu.co</td>\n",
       "      <td>1</td>\n",
       "      <td>norma.sarmiento</td>\n",
       "      <td>2.515</td>\n",
       "      <td>0</td>\n",
       "    </tr>\n",
       "    <tr>\n",
       "      <th>63</th>\n",
       "      <td>63</td>\n",
       "      <td>480565</td>\n",
       "      <td>94961</td>\n",
       "      <td>29130</td>\n",
       "      <td>-</td>\n",
       "      <td>-</td>\n",
       "      <td>xrszqdqk</td>\n",
       "      <td>Termino condición doble programa</td>\n",
       "      <td>Departamento de Admisiones</td>\n",
       "      <td>xrszqdqk@urosario.edu.co</td>\n",
       "      <td>...</td>\n",
       "      <td>2.2</td>\n",
       "      <td>15</td>\n",
       "      <td>2.4</td>\n",
       "      <td>25</td>\n",
       "      <td>Norma Sarmiento</td>\n",
       "      <td>norma.sarmiento@urosario.edu.co</td>\n",
       "      <td>1</td>\n",
       "      <td>norma.sarmiento</td>\n",
       "      <td>2.630</td>\n",
       "      <td>0</td>\n",
       "    </tr>\n",
       "    <tr>\n",
       "      <th>64</th>\n",
       "      <td>64</td>\n",
       "      <td>43699</td>\n",
       "      <td>8785</td>\n",
       "      <td>130825</td>\n",
       "      <td>-</td>\n",
       "      <td>-</td>\n",
       "      <td>tskxxthh</td>\n",
       "      <td>Termino condición doble programa</td>\n",
       "      <td>Departamento de Admisiones</td>\n",
       "      <td>tskxxthh@urosario.edu.co</td>\n",
       "      <td>...</td>\n",
       "      <td>3.2</td>\n",
       "      <td>15</td>\n",
       "      <td>2.8</td>\n",
       "      <td>25</td>\n",
       "      <td>Norma Sarmiento</td>\n",
       "      <td>norma.sarmiento@urosario.edu.co</td>\n",
       "      <td>1</td>\n",
       "      <td>norma.sarmiento</td>\n",
       "      <td>2.660</td>\n",
       "      <td>0</td>\n",
       "    </tr>\n",
       "    <tr>\n",
       "      <th>65</th>\n",
       "      <td>65</td>\n",
       "      <td>66252</td>\n",
       "      <td>36341</td>\n",
       "      <td>126266</td>\n",
       "      <td>-</td>\n",
       "      <td>-</td>\n",
       "      <td>pqggjqjy</td>\n",
       "      <td>Reingreso por Fortalecimiento académico</td>\n",
       "      <td>GENERAL</td>\n",
       "      <td>pqggjqjy@urosario.edu.co</td>\n",
       "      <td>...</td>\n",
       "      <td>2.8</td>\n",
       "      <td>15</td>\n",
       "      <td>3.3</td>\n",
       "      <td>25</td>\n",
       "      <td>Norma Sarmiento</td>\n",
       "      <td>norma.sarmiento@urosario.edu.co</td>\n",
       "      <td>1</td>\n",
       "      <td>norma.sarmiento</td>\n",
       "      <td>2.745</td>\n",
       "      <td>0</td>\n",
       "    </tr>\n",
       "  </tbody>\n",
       "</table>\n",
       "<p>66 rows × 36 columns</p>\n",
       "</div>"
      ],
      "text/plain": [
       "    index  Documento_Ingreso  Documento_Actual  Codigo Apellido_1_Estudiante  \\\n",
       "0       0             221123             44867  751433                     -   \n",
       "1       1             166515             40599  749859                     -   \n",
       "2       2             133161             98669   31366                     -   \n",
       "3       3             164862             25568  111363                     -   \n",
       "4       4             879672             73231  667248                     -   \n",
       "..    ...                ...               ...     ...                   ...   \n",
       "61     61             515977             27417  126984                     -   \n",
       "62     62             989769             86022  706697                     -   \n",
       "63     63             480565             94961   29130                     -   \n",
       "64     64              43699              8785  130825                     -   \n",
       "65     65              66252             36341  126266                     -   \n",
       "\n",
       "   Apellido_2_Estudiante Nombres_Estudiante  \\\n",
       "0                      -           alcjobxj   \n",
       "1                      -           orhawgyi   \n",
       "2                      -           mdfaizgp   \n",
       "3                      -           mwuaqnnz   \n",
       "4                      -           pgooxicb   \n",
       "..                   ...                ...   \n",
       "61                     -           jnkgwinp   \n",
       "62                     -           llnuonlp   \n",
       "63                     -           xrszqdqk   \n",
       "64                     -           tskxxthh   \n",
       "65                     -           pqggjqjy   \n",
       "\n",
       "                                     Acceso  \\\n",
       "0                         Nuevo al programa   \n",
       "1          Termino condición doble programa   \n",
       "2                            Doble Programa   \n",
       "3                                Extranjero   \n",
       "4                            Doble Programa   \n",
       "..                                      ...   \n",
       "61                               Extranjero   \n",
       "62  Reingreso por Fortalecimiento académico   \n",
       "63         Termino condición doble programa   \n",
       "64         Termino condición doble programa   \n",
       "65  Reingreso por Fortalecimiento académico   \n",
       "\n",
       "                            Subacceso      Correo_Institucional  ...  \\\n",
       "0   Bachillerato con Examen de Estado  alcjobxj@urosario.edu.co  ...   \n",
       "1                             GENERAL  orhawgyi@urosario.edu.co  ...   \n",
       "2                             GENERAL  mdfaizgp@urosario.edu.co  ...   \n",
       "3                             GENERAL  mwuaqnnz@urosario.edu.co  ...   \n",
       "4          Departamento de Admisiones  pgooxicb@urosario.edu.co  ...   \n",
       "..                                ...                       ...  ...   \n",
       "61                            GENERAL  jnkgwinp@urosario.edu.co  ...   \n",
       "62                            GENERAL  llnuonlp@urosario.edu.co  ...   \n",
       "63         Departamento de Admisiones  xrszqdqk@urosario.edu.co  ...   \n",
       "64         Departamento de Admisiones  tskxxthh@urosario.edu.co  ...   \n",
       "65                            GENERAL  pqggjqjy@urosario.edu.co  ...   \n",
       "\n",
       "   Nota_4to_Corte Corte_4p Nota_5to_Corte  Corte_5p  Nombre_completo  \\\n",
       "0             3.7       15            4.0        25  Norma Sarmiento   \n",
       "1             3.5       15            3.5        25  Norma Sarmiento   \n",
       "2             3.9       15            3.6        25  Norma Sarmiento   \n",
       "3             3.5       15            3.8        25  Norma Sarmiento   \n",
       "4             2.6       15            2.7        25  Norma Sarmiento   \n",
       "..            ...      ...            ...       ...              ...   \n",
       "61            3.0       15            2.0        25  Norma Sarmiento   \n",
       "62            2.4       15            2.7        25  Norma Sarmiento   \n",
       "63            2.2       15            2.4        25  Norma Sarmiento   \n",
       "64            3.2       15            2.8        25  Norma Sarmiento   \n",
       "65            2.8       15            3.3        25  Norma Sarmiento   \n",
       "\n",
       "                             Correo Grupo          usuario  Nota_final Paso  \n",
       "0   norma.sarmiento@urosario.edu.co     1  norma.sarmiento       3.855    1  \n",
       "1   norma.sarmiento@urosario.edu.co     1  norma.sarmiento       3.820    1  \n",
       "2   norma.sarmiento@urosario.edu.co     1  norma.sarmiento       4.225    1  \n",
       "3   norma.sarmiento@urosario.edu.co     1  norma.sarmiento       3.575    1  \n",
       "4   norma.sarmiento@urosario.edu.co     1  norma.sarmiento       2.545    0  \n",
       "..                              ...   ...              ...         ...  ...  \n",
       "61  norma.sarmiento@urosario.edu.co     1  norma.sarmiento       2.590    0  \n",
       "62  norma.sarmiento@urosario.edu.co     1  norma.sarmiento       2.515    0  \n",
       "63  norma.sarmiento@urosario.edu.co     1  norma.sarmiento       2.630    0  \n",
       "64  norma.sarmiento@urosario.edu.co     1  norma.sarmiento       2.660    0  \n",
       "65  norma.sarmiento@urosario.edu.co     1  norma.sarmiento       2.745    0  \n",
       "\n",
       "[66 rows x 36 columns]"
      ]
     },
     "execution_count": 45,
     "metadata": {
     },
     "output_type": "execute_result"
    }
   ],
   "source": [
    "nombre_materia = \"Calculo 2\"\n",
    "materia = completo[completo[\"Nombre_Asignatura\"] == nombre_materia]\n",
    "materia"
   ]
  },
  {
   "cell_type": "code",
   "execution_count": 46,
   "metadata": {
    "collapsed": false
   },
   "outputs": [
    {
     "data": {
      "text/plain": [
       "False"
      ]
     },
     "execution_count": 46,
     "metadata": {
     },
     "output_type": "execute_result"
    }
   ],
   "source": [
    "X = materia[[\"Nota_1er_Corte\",\"Nota_2do_Corte\"]]\n",
    "Y = materia[[\"Paso\"]]\n",
    "Y[\"Paso\"].nunique()==1 # Codigo para saber si solo posee una clase de prediccion o dos"
   ]
  },
  {
   "cell_type": "markdown",
   "metadata": {
    "collapsed": false
   },
   "source": [
    "# Mejores Modelos"
   ]
  },
  {
   "cell_type": "code",
   "execution_count": 47,
   "metadata": {
    "collapsed": false
   },
   "outputs": [
   ],
   "source": [
    "lista_modelos =[GaussianNB(),LogisticRegression(),DecisionTreeClassifier(),KNeighborsClassifier()]\n",
    "# Clasificarod K- Vecinos, Clasificador Bayesiano, Regresion Logistica, Arbol de decisión\n",
    "X_train, X_test, Y_train, Y_test = train_test_split(X, Y, test_size=0.3)"
   ]
  },
  {
   "cell_type": "markdown",
   "metadata": {
    "collapsed": false
   },
   "source": [
    "## Mejor Modelo 1er y 2do Corte"
   ]
  },
  {
   "cell_type": "markdown",
   "metadata": {
    "collapsed": false
   },
   "source": [
    "Seleccion de mejor modelo para la materia"
   ]
  },
  {
   "cell_type": "code",
   "execution_count": 100,
   "metadata": {
    "collapsed": false
   },
   "outputs": [
   ],
   "source": [
    "def mejor_modelo_general_2(materia):\n",
    "    X = materia[[\"Nota_1er_Corte\",\"Nota_2do_Corte\"]]\n",
    "    Y = materia[[\"Paso\"]]\n",
    "    X_train, X_test, Y_train, Y_test = train_test_split(X, Y, test_size=0.3)\n",
    "    mejor_modelo = lista_modelos[0] #Inicializando para eleccion de modelo\n",
    "    F15_mejor_modelo = 0 # Inicializando puntaje F.15, el cual es el que nos vamos a basar para la elección del modelo\n",
    "    for i in range(len(lista_modelos)):\n",
    "        modelo = lista_modelos[i]\n",
    "        modelo.fit(X_train,Y_train)\n",
    "        Y_pred = modelo.predict(X_test)\n",
    "        cm = confusion_matrix(Y_test,Y_pred,labels = [0, 1])\n",
    "        True_posit=cm[0][0]\n",
    "        True_neg=cm[1][1]\n",
    "        False_neg=[1][0]\n",
    "        False_posit=cm[0][1]\n",
    "        Total = True_posit+True_neg+False_neg+False_posit\n",
    "        Accuracy = (True_posit+True_neg)/Total\n",
    "        Accuracy_pass = (True_neg)/(True_neg+False_posit)\n",
    "        Accuracy_fail = (True_posit)/(True_posit+False_neg)\n",
    "        F15=((1+1.5*1.5)*True_posit)/((1+1.5*1.5)*True_posit+(1.5*1.5)*False_neg+False_posit)\n",
    "\n",
    "        if F15 > F15_mejor_modelo:\n",
    "            F15_mejor_modelo = F15\n",
    "            mejor_modelo = modelo\n",
    "\n",
    "        print(r\"F_{1.5}$:\" +str(F15))\n",
    "    return mejor_modelo,F15_mejor_modelo"
   ]
  },
  {
   "cell_type": "code",
   "execution_count": 101,
   "metadata": {
    "collapsed": false
   },
   "outputs": [
   ],
   "source": [
    "def mejor_modelo_2(materia,modelo_general):\n",
    "    X = materia[[\"Nota_1er_Corte\",\"Nota_2do_Corte\"]]\n",
    "    Y = materia[[\"Paso\"]]\n",
    "    X_train, X_test, Y_train, Y_test = train_test_split(X, Y, test_size=0.3)\n",
    "    if Y_train[\"Paso\"].nunique()==1: # Codigo para saber si solo posee una clase de prediccion o dos\n",
    "        Y_pred = modelo_general.predict(X_test)\n",
    "        cm = confusion_matrix(Y_test,Y_pred,labels = [0, 1])\n",
    "        True_posit=cm[0][0]\n",
    "        True_neg=cm[1][1]\n",
    "        False_neg=[1][0]\n",
    "        False_posit=cm[0][1]\n",
    "        Total = True_posit+True_neg+False_neg+False_posit\n",
    "        Accuracy = (True_posit+True_neg)/Total\n",
    "        Accuracy_pass = (True_neg)/(True_neg+False_posit)\n",
    "        Accuracy_fail = (True_posit)/(True_posit+False_neg)\n",
    "        F15=((1+1.5*1.5)*True_posit)/((1+1.5*1.5)*True_posit+(1.5*1.5)*False_neg+False_posit)\n",
    "        return modelo_general,F15\n",
    "    else:\n",
    "        mejor_modelo = lista_modelos[0] #Inicializando para eleccion de modelo\n",
    "        F15_mejor_modelo = 0 # Inicializando puntaje F.15, el cual es el que nos vamos a basar para la elección del modelo\n",
    "        for i in range(len(lista_modelos)):\n",
    "            modelo = lista_modelos[i]\n",
    "            modelo.fit(X_train,Y_train)\n",
    "            Y_pred = modelo.predict(X_test)\n",
    "            cm = confusion_matrix(Y_test,Y_pred,labels = [0, 1])\n",
    "            True_posit=cm[0][0]\n",
    "            True_neg=cm[1][1]\n",
    "            False_neg=[1][0]\n",
    "            False_posit=cm[0][1]\n",
    "            Total = True_posit+True_neg+False_neg+False_posit\n",
    "            Accuracy = (True_posit+True_neg)/Total\n",
    "            Accuracy_pass = (True_neg)/(True_neg+False_posit)\n",
    "            Accuracy_fail = (True_posit)/(True_posit+False_neg)\n",
    "            F15=((1+1.5*1.5)*True_posit)/((1+1.5*1.5)*True_posit+(1.5*1.5)*False_neg+False_posit)\n",
    "\n",
    "            if F15 > F15_mejor_modelo:\n",
    "                F15_mejor_modelo = F15\n",
    "                mejor_modelo = modelo\n",
    "\n",
    "            #print(r\"F_{1.5}$:\" +str(F15))\n",
    "        return mejor_modelo,F15_mejor_modelo"
   ]
  },
  {
   "cell_type": "markdown",
   "metadata": {
    "collapsed": false
   },
   "source": [
    "## Guardar Modelo en memoria\n",
    "\n",
    "La idea es que este modelo quede guardado en memoria, de tal manera que se pueda llamar e utilizar para la predicción de la materia correspondiente. Tambien la idea es que una vez pase un semestre se vuelva alimentar el modelo para mejora de predicciones."
   ]
  },
  {
   "cell_type": "code",
   "execution_count": 102,
   "metadata": {
    "collapsed": false
   },
   "outputs": [
   ],
   "source": [
    "def seleccionar_guardar_modelo_general_2(materia,nombre_materia):\n",
    "    mejor_modelo1,F15 = mejor_modelo_general_2(materia)\n",
    "    #Guardar el modelo en disco\n",
    "    filename = \"modelos/mejor_modelo_\"+nombre_materia+\"1,2.sav\"\n",
    "    pickle.dump(mejor_modelo1, open(filename, 'wb'))\n",
    "    # load the model from disk\n",
    "    loaded_model = pickle.load(open(filename, 'rb'))"
   ]
  },
  {
   "cell_type": "code",
   "execution_count": 103,
   "metadata": {
    "collapsed": false
   },
   "outputs": [
   ],
   "source": [
    "def seleccionar_guardar_modelo_2(materia,nombre_materia,modelo_general):\n",
    "    mejor_modelo1,F15 = mejor_modelo(materia,modelo_general)\n",
    "    #Guardar el modelo en disco\n",
    "    filename = \"modelos/mejor_modelo_\"+nombre_materia+\"1,2.sav\"\n",
    "    pickle.dump(mejor_modelo1, open(filename, 'wb'))\n",
    "    # load the model from disk\n",
    "    loaded_model = pickle.load(open(filename, 'rb'))"
   ]
  },
  {
   "cell_type": "code",
   "execution_count": 104,
   "metadata": {
    "collapsed": false
   },
   "outputs": [
   ],
   "source": [
    "# Para cargar modelo para posterior prediccion\n",
    "# Y_pred = loaded_model.predict(X_test)\n",
    "#### LA LINEA DE ARRIBA SIRVE PARA ESO"
   ]
  },
  {
   "cell_type": "code",
   "execution_count": 0,
   "metadata": {
    "collapsed": false
   },
   "outputs": [
   ],
   "source": [
   ]
  },
  {
   "cell_type": "markdown",
   "metadata": {
    "collapsed": false
   },
   "source": [
    "## Modelo general\n",
    "Este modelo general se aplicar para aquellas materias que no se pueda crear un modelo propio dado que todos los estudiantes han pasado la materia."
   ]
  },
  {
   "cell_type": "code",
   "execution_count": 105,
   "metadata": {
    "collapsed": false
   },
   "outputs": [
    {
     "name": "stdout",
     "output_type": "stream",
     "text": [
      "F_{1.5}$:0.9545454545454546\n",
      "F_{1.5}$:0.9451176051318603\n",
      "F_{1.5}$:0.9251297257227576\n",
      "F_{1.5}$:0.9576094510076442\n",
      "F_{1.5}$:0.931314623338257\n",
      "F_{1.5}$:0.8986645718774549\n",
      "F_{1.5}$:0.917298937784522\n",
      "F_{1.5}$:0.917298937784522\n"
     ]
    },
    {
     "name": "stderr",
     "output_type": "stream",
     "text": [
      "/ext/anaconda-2019.03/lib/python3.7/site-packages/sklearn/naive_bayes.py:206: DataConversionWarning: A column-vector y was passed when a 1d array was expected. Please change the shape of y to (n_samples, ), for example using ravel().\n",
      "  y = column_or_1d(y, warn=True)\n",
      "/ext/anaconda-2019.03/lib/python3.7/site-packages/sklearn/utils/validation.py:760: DataConversionWarning: A column-vector y was passed when a 1d array was expected. Please change the shape of y to (n_samples, ), for example using ravel().\n",
      "  y = column_or_1d(y, warn=True)\n",
      "/ext/anaconda-2019.03/lib/python3.7/site-packages/ipykernel/__main__.py:9: DataConversionWarning: A column-vector y was passed when a 1d array was expected. Please change the shape of y to (n_samples, ), for example using ravel().\n",
      "/ext/anaconda-2019.03/lib/python3.7/site-packages/sklearn/naive_bayes.py:206: DataConversionWarning: A column-vector y was passed when a 1d array was expected. Please change the shape of y to (n_samples, ), for example using ravel().\n",
      "  y = column_or_1d(y, warn=True)\n",
      "/ext/anaconda-2019.03/lib/python3.7/site-packages/sklearn/utils/validation.py:760: DataConversionWarning: A column-vector y was passed when a 1d array was expected. Please change the shape of y to (n_samples, ), for example using ravel().\n",
      "  y = column_or_1d(y, warn=True)\n",
      "/ext/anaconda-2019.03/lib/python3.7/site-packages/ipykernel/__main__.py:9: DataConversionWarning: A column-vector y was passed when a 1d array was expected. Please change the shape of y to (n_samples, ), for example using ravel().\n"
     ]
    }
   ],
   "source": [
    "X_general = completo[[\"Nota_1er_Corte\",\"Nota_2do_Corte\"]]\n",
    "Y_general = completo[[\"Paso\"]]\n",
    "seleccionar_guardar_modelo_general_2(completo,\"Modelo_General\")\n",
    "modelo_general,F15_general = mejor_modelo_general_2(completo)"
   ]
  },
  {
   "cell_type": "markdown",
   "metadata": {
    "collapsed": false
   },
   "source": [
    "### Haremos esto para todas las materias\n",
    "Primero deberemos reconocer cada tipo de materia en la base de datos"
   ]
  },
  {
   "cell_type": "code",
   "execution_count": 106,
   "metadata": {
    "collapsed": false
   },
   "outputs": [
    {
     "data": {
      "text/html": [
       "<div>\n",
       "<style scoped>\n",
       "    .dataframe tbody tr th:only-of-type {\n",
       "        vertical-align: middle;\n",
       "    }\n",
       "\n",
       "    .dataframe tbody tr th {\n",
       "        vertical-align: top;\n",
       "    }\n",
       "\n",
       "    .dataframe thead th {\n",
       "        text-align: right;\n",
       "    }\n",
       "</style>\n",
       "<table border=\"1\" class=\"dataframe\">\n",
       "  <thead>\n",
       "    <tr style=\"text-align: right;\">\n",
       "      <th></th>\n",
       "      <th>index</th>\n",
       "      <th>0</th>\n",
       "      <th>1</th>\n",
       "    </tr>\n",
       "  </thead>\n",
       "  <tbody>\n",
       "    <tr>\n",
       "      <th>0</th>\n",
       "      <td>0</td>\n",
       "      <td>Algebra lineal</td>\n",
       "      <td>index  Documento_Ingreso  Documento_Actua...</td>\n",
       "    </tr>\n",
       "    <tr>\n",
       "      <th>1</th>\n",
       "      <td>1</td>\n",
       "      <td>Algoritmos y estrucutra de datos</td>\n",
       "      <td>index  Documento_Ingreso  Documento_Actua...</td>\n",
       "    </tr>\n",
       "    <tr>\n",
       "      <th>2</th>\n",
       "      <td>2</td>\n",
       "      <td>Analisis de argumentos</td>\n",
       "      <td>index  Documento_Ingreso  Documento_Actua...</td>\n",
       "    </tr>\n",
       "    <tr>\n",
       "      <th>3</th>\n",
       "      <td>3</td>\n",
       "      <td>Analisis de textos</td>\n",
       "      <td>index  Documento_Ingreso  Documento_Actu...</td>\n",
       "    </tr>\n",
       "    <tr>\n",
       "      <th>4</th>\n",
       "      <td>4</td>\n",
       "      <td>Calculo</td>\n",
       "      <td>index  Documento_Ingreso  Documento_Actua...</td>\n",
       "    </tr>\n",
       "    <tr>\n",
       "      <th>5</th>\n",
       "      <td>5</td>\n",
       "      <td>Calculo 2</td>\n",
       "      <td>index  Documento_Ingreso  Documento_Actual...</td>\n",
       "    </tr>\n",
       "    <tr>\n",
       "      <th>6</th>\n",
       "      <td>6</td>\n",
       "      <td>Catedra Rosarista</td>\n",
       "      <td>index  Documento_Ingreso  Documento_Actu...</td>\n",
       "    </tr>\n",
       "    <tr>\n",
       "      <th>7</th>\n",
       "      <td>7</td>\n",
       "      <td>Constitucion politica e instruccion civica</td>\n",
       "      <td>index  Documento_Ingreso  Documento_Actua...</td>\n",
       "    </tr>\n",
       "    <tr>\n",
       "      <th>8</th>\n",
       "      <td>8</td>\n",
       "      <td>Cornerstone project</td>\n",
       "      <td>index  Documento_Ingreso  Documento_Actua...</td>\n",
       "    </tr>\n",
       "    <tr>\n",
       "      <th>9</th>\n",
       "      <td>9</td>\n",
       "      <td>Electiva HM 1</td>\n",
       "      <td>index  Documento_Ingreso  Documento_Actua...</td>\n",
       "    </tr>\n",
       "    <tr>\n",
       "      <th>10</th>\n",
       "      <td>10</td>\n",
       "      <td>Escritura de ensayos de opinion</td>\n",
       "      <td>index  Documento_Ingreso  Documento_Actua...</td>\n",
       "    </tr>\n",
       "    <tr>\n",
       "      <th>11</th>\n",
       "      <td>11</td>\n",
       "      <td>Etica</td>\n",
       "      <td>index  Documento_Ingreso  Documento_Actu...</td>\n",
       "    </tr>\n",
       "    <tr>\n",
       "      <th>12</th>\n",
       "      <td>12</td>\n",
       "      <td>Fundamentos de sistemas digitales</td>\n",
       "      <td>index  Documento_Ingreso  Documento_Actua...</td>\n",
       "    </tr>\n",
       "    <tr>\n",
       "      <th>13</th>\n",
       "      <td>13</td>\n",
       "      <td>Logica para ciencias de la computación</td>\n",
       "      <td>index  Documento_Ingreso  Documento_Actua...</td>\n",
       "    </tr>\n",
       "    <tr>\n",
       "      <th>14</th>\n",
       "      <td>14</td>\n",
       "      <td>Logica, teoria de numeros y conjuntos</td>\n",
       "      <td>index  Documento_Ingreso  Documento_Actu...</td>\n",
       "    </tr>\n",
       "    <tr>\n",
       "      <th>15</th>\n",
       "      <td>15</td>\n",
       "      <td>Manejo de base de datos</td>\n",
       "      <td>index  Documento_Ingreso  Documento_Actua...</td>\n",
       "    </tr>\n",
       "    <tr>\n",
       "      <th>16</th>\n",
       "      <td>16</td>\n",
       "      <td>Pensamiento matematico</td>\n",
       "      <td>index  Documento_Ingreso  Documento_Actua...</td>\n",
       "    </tr>\n",
       "    <tr>\n",
       "      <th>17</th>\n",
       "      <td>17</td>\n",
       "      <td>Probabilidad y estadistica 1</td>\n",
       "      <td>index  Documento_Ingreso  Documento_Actua...</td>\n",
       "    </tr>\n",
       "    <tr>\n",
       "      <th>18</th>\n",
       "      <td>18</td>\n",
       "      <td>Programacion de Computadores</td>\n",
       "      <td>index  Documento_Ingreso  Documento_Actua...</td>\n",
       "    </tr>\n",
       "  </tbody>\n",
       "</table>\n",
       "</div>"
      ],
      "text/plain": [
       "    index                                           0  \\\n",
       "0       0                              Algebra lineal   \n",
       "1       1            Algoritmos y estrucutra de datos   \n",
       "2       2                      Analisis de argumentos   \n",
       "3       3                          Analisis de textos   \n",
       "4       4                                     Calculo   \n",
       "5       5                                   Calculo 2   \n",
       "6       6                           Catedra Rosarista   \n",
       "7       7  Constitucion politica e instruccion civica   \n",
       "8       8                         Cornerstone project   \n",
       "9       9                               Electiva HM 1   \n",
       "10     10             Escritura de ensayos de opinion   \n",
       "11     11                                       Etica   \n",
       "12     12           Fundamentos de sistemas digitales   \n",
       "13     13      Logica para ciencias de la computación   \n",
       "14     14       Logica, teoria de numeros y conjuntos   \n",
       "15     15                     Manejo de base de datos   \n",
       "16     16                      Pensamiento matematico   \n",
       "17     17                Probabilidad y estadistica 1   \n",
       "18     18                Programacion de Computadores   \n",
       "\n",
       "                                                    1  \n",
       "0        index  Documento_Ingreso  Documento_Actua...  \n",
       "1        index  Documento_Ingreso  Documento_Actua...  \n",
       "2        index  Documento_Ingreso  Documento_Actua...  \n",
       "3         index  Documento_Ingreso  Documento_Actu...  \n",
       "4        index  Documento_Ingreso  Documento_Actua...  \n",
       "5       index  Documento_Ingreso  Documento_Actual...  \n",
       "6         index  Documento_Ingreso  Documento_Actu...  \n",
       "7        index  Documento_Ingreso  Documento_Actua...  \n",
       "8        index  Documento_Ingreso  Documento_Actua...  \n",
       "9        index  Documento_Ingreso  Documento_Actua...  \n",
       "10       index  Documento_Ingreso  Documento_Actua...  \n",
       "11        index  Documento_Ingreso  Documento_Actu...  \n",
       "12       index  Documento_Ingreso  Documento_Actua...  \n",
       "13       index  Documento_Ingreso  Documento_Actua...  \n",
       "14        index  Documento_Ingreso  Documento_Actu...  \n",
       "15       index  Documento_Ingreso  Documento_Actua...  \n",
       "16       index  Documento_Ingreso  Documento_Actua...  \n",
       "17       index  Documento_Ingreso  Documento_Actua...  \n",
       "18       index  Documento_Ingreso  Documento_Actua...  "
      ]
     },
     "execution_count": 106,
     "metadata": {
     },
     "output_type": "execute_result"
    }
   ],
   "source": [
    "materias = pd.DataFrame(completo.groupby(\"Nombre_Asignatura\")).reset_index()\n",
    "materias"
   ]
  },
  {
   "cell_type": "code",
   "execution_count": 107,
   "metadata": {
    "collapsed": false
   },
   "outputs": [
    {
     "data": {
      "text/plain": [
       "['Algebra lineal',\n",
       " 'Algoritmos y estrucutra de datos',\n",
       " 'Analisis de argumentos',\n",
       " 'Analisis de textos',\n",
       " 'Calculo',\n",
       " 'Calculo 2',\n",
       " 'Catedra Rosarista',\n",
       " 'Constitucion politica e instruccion civica',\n",
       " 'Cornerstone project',\n",
       " 'Electiva HM 1',\n",
       " 'Escritura de ensayos de opinion',\n",
       " 'Etica',\n",
       " 'Fundamentos de sistemas digitales',\n",
       " 'Logica para ciencias de la computación',\n",
       " 'Logica, teoria de numeros y conjuntos',\n",
       " 'Manejo de base de datos',\n",
       " 'Pensamiento matematico',\n",
       " 'Probabilidad y estadistica 1',\n",
       " 'Programacion de Computadores']"
      ]
     },
     "execution_count": 107,
     "metadata": {
     },
     "output_type": "execute_result"
    }
   ],
   "source": [
    "#Reconocimiento de asignaturas dictadas\n",
    "lista_materias = []\n",
    "for index,row in materias.iterrows():\n",
    "    lista_materias.append(row[0])\n",
    "lista_materias"
   ]
  },
  {
   "cell_type": "code",
   "execution_count": 108,
   "metadata": {
    "collapsed": false
   },
   "outputs": [
    {
     "name": "stdout",
     "output_type": "stream",
     "text": [
      "Algebra lineal\n",
      "Algoritmos y estrucutra de datos\n",
      "Analisis de argumentos\n",
      "Analisis de textos\n",
      "Calculo\n",
      "Calculo 2\n",
      "Catedra Rosarista\n",
      "Constitucion politica e instruccion civica\n"
     ]
    },
    {
     "name": "stderr",
     "output_type": "stream",
     "text": [
      "/ext/anaconda-2019.03/lib/python3.7/site-packages/sklearn/naive_bayes.py:206: DataConversionWarning: A column-vector y was passed when a 1d array was expected. Please change the shape of y to (n_samples, ), for example using ravel().\n",
      "  y = column_or_1d(y, warn=True)\n",
      "/ext/anaconda-2019.03/lib/python3.7/site-packages/sklearn/utils/validation.py:760: DataConversionWarning: A column-vector y was passed when a 1d array was expected. Please change the shape of y to (n_samples, ), for example using ravel().\n",
      "  y = column_or_1d(y, warn=True)\n",
      "/ext/anaconda-2019.03/lib/python3.7/site-packages/ipykernel/__main__.py:23: DataConversionWarning: A column-vector y was passed when a 1d array was expected. Please change the shape of y to (n_samples, ), for example using ravel().\n",
      "/ext/anaconda-2019.03/lib/python3.7/site-packages/sklearn/naive_bayes.py:206: DataConversionWarning: A column-vector y was passed when a 1d array was expected. Please change the shape of y to (n_samples, ), for example using ravel().\n",
      "  y = column_or_1d(y, warn=True)\n",
      "/ext/anaconda-2019.03/lib/python3.7/site-packages/sklearn/utils/validation.py:760: DataConversionWarning: A column-vector y was passed when a 1d array was expected. Please change the shape of y to (n_samples, ), for example using ravel().\n",
      "  y = column_or_1d(y, warn=True)\n",
      "/ext/anaconda-2019.03/lib/python3.7/site-packages/ipykernel/__main__.py:23: DataConversionWarning: A column-vector y was passed when a 1d array was expected. Please change the shape of y to (n_samples, ), for example using ravel().\n",
      "/ext/anaconda-2019.03/lib/python3.7/site-packages/sklearn/naive_bayes.py:206: DataConversionWarning: A column-vector y was passed when a 1d array was expected. Please change the shape of y to (n_samples, ), for example using ravel().\n",
      "  y = column_or_1d(y, warn=True)\n",
      "/ext/anaconda-2019.03/lib/python3.7/site-packages/sklearn/utils/validation.py:760: DataConversionWarning: A column-vector y was passed when a 1d array was expected. Please change the shape of y to (n_samples, ), for example using ravel().\n",
      "  y = column_or_1d(y, warn=True)\n",
      "/ext/anaconda-2019.03/lib/python3.7/site-packages/ipykernel/__main__.py:23: DataConversionWarning: A column-vector y was passed when a 1d array was expected. Please change the shape of y to (n_samples, ), for example using ravel().\n",
      "/ext/anaconda-2019.03/lib/python3.7/site-packages/sklearn/naive_bayes.py:206: DataConversionWarning: A column-vector y was passed when a 1d array was expected. Please change the shape of y to (n_samples, ), for example using ravel().\n",
      "  y = column_or_1d(y, warn=True)\n",
      "/ext/anaconda-2019.03/lib/python3.7/site-packages/sklearn/utils/validation.py:760: DataConversionWarning: A column-vector y was passed when a 1d array was expected. Please change the shape of y to (n_samples, ), for example using ravel().\n",
      "  y = column_or_1d(y, warn=True)\n",
      "/ext/anaconda-2019.03/lib/python3.7/site-packages/ipykernel/__main__.py:23: DataConversionWarning: A column-vector y was passed when a 1d array was expected. Please change the shape of y to (n_samples, ), for example using ravel().\n",
      "/ext/anaconda-2019.03/lib/python3.7/site-packages/sklearn/naive_bayes.py:206: DataConversionWarning: A column-vector y was passed when a 1d array was expected. Please change the shape of y to (n_samples, ), for example using ravel().\n",
      "  y = column_or_1d(y, warn=True)\n",
      "/ext/anaconda-2019.03/lib/python3.7/site-packages/sklearn/utils/validation.py:760: DataConversionWarning: A column-vector y was passed when a 1d array was expected. Please change the shape of y to (n_samples, ), for example using ravel().\n",
      "  y = column_or_1d(y, warn=True)\n",
      "/ext/anaconda-2019.03/lib/python3.7/site-packages/ipykernel/__main__.py:23: DataConversionWarning: A column-vector y was passed when a 1d array was expected. Please change the shape of y to (n_samples, ), for example using ravel().\n",
      "/ext/anaconda-2019.03/lib/python3.7/site-packages/sklearn/naive_bayes.py:206: DataConversionWarning: A column-vector y was passed when a 1d array was expected. Please change the shape of y to (n_samples, ), for example using ravel().\n",
      "  y = column_or_1d(y, warn=True)\n",
      "/ext/anaconda-2019.03/lib/python3.7/site-packages/sklearn/utils/validation.py:760: DataConversionWarning: A column-vector y was passed when a 1d array was expected. Please change the shape of y to (n_samples, ), for example using ravel().\n",
      "  y = column_or_1d(y, warn=True)\n",
      "/ext/anaconda-2019.03/lib/python3.7/site-packages/ipykernel/__main__.py:23: DataConversionWarning: A column-vector y was passed when a 1d array was expected. Please change the shape of y to (n_samples, ), for example using ravel().\n",
      "/ext/anaconda-2019.03/lib/python3.7/site-packages/sklearn/naive_bayes.py:206: DataConversionWarning: A column-vector y was passed when a 1d array was expected. Please change the shape of y to (n_samples, ), for example using ravel().\n",
      "  y = column_or_1d(y, warn=True)\n",
      "/ext/anaconda-2019.03/lib/python3.7/site-packages/sklearn/utils/validation.py:760: DataConversionWarning: A column-vector y was passed when a 1d array was expected. Please change the shape of y to (n_samples, ), for example using ravel().\n",
      "  y = column_or_1d(y, warn=True)\n",
      "/ext/anaconda-2019.03/lib/python3.7/site-packages/ipykernel/__main__.py:23: DataConversionWarning: A column-vector y was passed when a 1d array was expected. Please change the shape of y to (n_samples, ), for example using ravel().\n",
      "/ext/anaconda-2019.03/lib/python3.7/site-packages/sklearn/naive_bayes.py:206: DataConversionWarning: A column-vector y was passed when a 1d array was expected. Please change the shape of y to (n_samples, ), for example using ravel().\n",
      "  y = column_or_1d(y, warn=True)\n",
      "/ext/anaconda-2019.03/lib/python3.7/site-packages/sklearn/utils/validation.py:760: DataConversionWarning: A column-vector y was passed when a 1d array was expected. Please change the shape of y to (n_samples, ), for example using ravel().\n",
      "  y = column_or_1d(y, warn=True)\n"
     ]
    },
    {
     "name": "stderr",
     "output_type": "stream",
     "text": [
      "/ext/anaconda-2019.03/lib/python3.7/site-packages/ipykernel/__main__.py:23: DataConversionWarning: A column-vector y was passed when a 1d array was expected. Please change the shape of y to (n_samples, ), for example using ravel().\n",
      "/ext/anaconda-2019.03/lib/python3.7/site-packages/sklearn/naive_bayes.py:206: DataConversionWarning: A column-vector y was passed when a 1d array was expected. Please change the shape of y to (n_samples, ), for example using ravel().\n",
      "  y = column_or_1d(y, warn=True)\n",
      "/ext/anaconda-2019.03/lib/python3.7/site-packages/sklearn/utils/validation.py:760: DataConversionWarning: A column-vector y was passed when a 1d array was expected. Please change the shape of y to (n_samples, ), for example using ravel().\n",
      "  y = column_or_1d(y, warn=True)\n",
      "/ext/anaconda-2019.03/lib/python3.7/site-packages/ipykernel/__main__.py:23: DataConversionWarning: A column-vector y was passed when a 1d array was expected. Please change the shape of y to (n_samples, ), for example using ravel().\n",
      "/ext/anaconda-2019.03/lib/python3.7/site-packages/sklearn/naive_bayes.py:206: DataConversionWarning: A column-vector y was passed when a 1d array was expected. Please change the shape of y to (n_samples, ), for example using ravel().\n",
      "  y = column_or_1d(y, warn=True)\n",
      "/ext/anaconda-2019.03/lib/python3.7/site-packages/sklearn/utils/validation.py:760: DataConversionWarning: A column-vector y was passed when a 1d array was expected. Please change the shape of y to (n_samples, ), for example using ravel().\n",
      "  y = column_or_1d(y, warn=True)\n",
      "/ext/anaconda-2019.03/lib/python3.7/site-packages/ipykernel/__main__.py:23: DataConversionWarning: A column-vector y was passed when a 1d array was expected. Please change the shape of y to (n_samples, ), for example using ravel().\n",
      "/ext/anaconda-2019.03/lib/python3.7/site-packages/sklearn/naive_bayes.py:206: DataConversionWarning: A column-vector y was passed when a 1d array was expected. Please change the shape of y to (n_samples, ), for example using ravel().\n",
      "  y = column_or_1d(y, warn=True)\n",
      "/ext/anaconda-2019.03/lib/python3.7/site-packages/sklearn/utils/validation.py:760: DataConversionWarning: A column-vector y was passed when a 1d array was expected. Please change the shape of y to (n_samples, ), for example using ravel().\n",
      "  y = column_or_1d(y, warn=True)\n",
      "/ext/anaconda-2019.03/lib/python3.7/site-packages/ipykernel/__main__.py:23: DataConversionWarning: A column-vector y was passed when a 1d array was expected. Please change the shape of y to (n_samples, ), for example using ravel().\n",
      "/ext/anaconda-2019.03/lib/python3.7/site-packages/sklearn/naive_bayes.py:206: DataConversionWarning: A column-vector y was passed when a 1d array was expected. Please change the shape of y to (n_samples, ), for example using ravel().\n",
      "  y = column_or_1d(y, warn=True)\n",
      "/ext/anaconda-2019.03/lib/python3.7/site-packages/sklearn/utils/validation.py:760: DataConversionWarning: A column-vector y was passed when a 1d array was expected. Please change the shape of y to (n_samples, ), for example using ravel().\n",
      "  y = column_or_1d(y, warn=True)\n",
      "/ext/anaconda-2019.03/lib/python3.7/site-packages/ipykernel/__main__.py:23: DataConversionWarning: A column-vector y was passed when a 1d array was expected. Please change the shape of y to (n_samples, ), for example using ravel().\n",
      "/ext/anaconda-2019.03/lib/python3.7/site-packages/sklearn/naive_bayes.py:206: DataConversionWarning: A column-vector y was passed when a 1d array was expected. Please change the shape of y to (n_samples, ), for example using ravel().\n",
      "  y = column_or_1d(y, warn=True)\n",
      "/ext/anaconda-2019.03/lib/python3.7/site-packages/sklearn/utils/validation.py:760: DataConversionWarning: A column-vector y was passed when a 1d array was expected. Please change the shape of y to (n_samples, ), for example using ravel().\n",
      "  y = column_or_1d(y, warn=True)\n",
      "/ext/anaconda-2019.03/lib/python3.7/site-packages/ipykernel/__main__.py:23: DataConversionWarning: A column-vector y was passed when a 1d array was expected. Please change the shape of y to (n_samples, ), for example using ravel().\n",
      "/ext/anaconda-2019.03/lib/python3.7/site-packages/sklearn/naive_bayes.py:206: DataConversionWarning: A column-vector y was passed when a 1d array was expected. Please change the shape of y to (n_samples, ), for example using ravel().\n",
      "  y = column_or_1d(y, warn=True)\n",
      "/ext/anaconda-2019.03/lib/python3.7/site-packages/sklearn/utils/validation.py:760: DataConversionWarning: A column-vector y was passed when a 1d array was expected. Please change the shape of y to (n_samples, ), for example using ravel().\n",
      "  y = column_or_1d(y, warn=True)\n",
      "/ext/anaconda-2019.03/lib/python3.7/site-packages/ipykernel/__main__.py:23: DataConversionWarning: A column-vector y was passed when a 1d array was expected. Please change the shape of y to (n_samples, ), for example using ravel().\n",
      "/ext/anaconda-2019.03/lib/python3.7/site-packages/sklearn/naive_bayes.py:206: DataConversionWarning: A column-vector y was passed when a 1d array was expected. Please change the shape of y to (n_samples, ), for example using ravel().\n",
      "  y = column_or_1d(y, warn=True)\n",
      "/ext/anaconda-2019.03/lib/python3.7/site-packages/sklearn/utils/validation.py:760: DataConversionWarning: A column-vector y was passed when a 1d array was expected. Please change the shape of y to (n_samples, ), for example using ravel().\n",
      "  y = column_or_1d(y, warn=True)\n",
      "/ext/anaconda-2019.03/lib/python3.7/site-packages/ipykernel/__main__.py:23: DataConversionWarning: A column-vector y was passed when a 1d array was expected. Please change the shape of y to (n_samples, ), for example using ravel().\n",
      "/ext/anaconda-2019.03/lib/python3.7/site-packages/sklearn/naive_bayes.py:206: DataConversionWarning: A column-vector y was passed when a 1d array was expected. Please change the shape of y to (n_samples, ), for example using ravel().\n",
      "  y = column_or_1d(y, warn=True)\n",
      "/ext/anaconda-2019.03/lib/python3.7/site-packages/sklearn/utils/validation.py:760: DataConversionWarning: A column-vector y was passed when a 1d array was expected. Please change the shape of y to (n_samples, ), for example using ravel().\n",
      "  y = column_or_1d(y, warn=True)\n",
      "/ext/anaconda-2019.03/lib/python3.7/site-packages/ipykernel/__main__.py:23: DataConversionWarning: A column-vector y was passed when a 1d array was expected. Please change the shape of y to (n_samples, ), for example using ravel().\n"
     ]
    },
    {
     "name": "stdout",
     "output_type": "stream",
     "text": [
      "Cornerstone project\n",
      "Electiva HM 1\n",
      "Escritura de ensayos de opinion\n",
      "Etica\n",
      "Fundamentos de sistemas digitales\n",
      "Logica para ciencias de la computación\n",
      "Logica, teoria de numeros y conjuntos\n",
      "Manejo de base de datos\n"
     ]
    },
    {
     "name": "stdout",
     "output_type": "stream",
     "text": [
      "Pensamiento matematico\n",
      "Probabilidad y estadistica 1\n",
      "Programacion de Computadores\n"
     ]
    },
    {
     "name": "stderr",
     "output_type": "stream",
     "text": [
      "/ext/anaconda-2019.03/lib/python3.7/site-packages/sklearn/naive_bayes.py:206: DataConversionWarning: A column-vector y was passed when a 1d array was expected. Please change the shape of y to (n_samples, ), for example using ravel().\n",
      "  y = column_or_1d(y, warn=True)\n",
      "/ext/anaconda-2019.03/lib/python3.7/site-packages/sklearn/utils/validation.py:760: DataConversionWarning: A column-vector y was passed when a 1d array was expected. Please change the shape of y to (n_samples, ), for example using ravel().\n",
      "  y = column_or_1d(y, warn=True)\n",
      "/ext/anaconda-2019.03/lib/python3.7/site-packages/ipykernel/__main__.py:23: DataConversionWarning: A column-vector y was passed when a 1d array was expected. Please change the shape of y to (n_samples, ), for example using ravel().\n",
      "/ext/anaconda-2019.03/lib/python3.7/site-packages/sklearn/naive_bayes.py:206: DataConversionWarning: A column-vector y was passed when a 1d array was expected. Please change the shape of y to (n_samples, ), for example using ravel().\n",
      "  y = column_or_1d(y, warn=True)\n",
      "/ext/anaconda-2019.03/lib/python3.7/site-packages/sklearn/utils/validation.py:760: DataConversionWarning: A column-vector y was passed when a 1d array was expected. Please change the shape of y to (n_samples, ), for example using ravel().\n",
      "  y = column_or_1d(y, warn=True)\n",
      "/ext/anaconda-2019.03/lib/python3.7/site-packages/ipykernel/__main__.py:23: DataConversionWarning: A column-vector y was passed when a 1d array was expected. Please change the shape of y to (n_samples, ), for example using ravel().\n",
      "/ext/anaconda-2019.03/lib/python3.7/site-packages/sklearn/naive_bayes.py:206: DataConversionWarning: A column-vector y was passed when a 1d array was expected. Please change the shape of y to (n_samples, ), for example using ravel().\n",
      "  y = column_or_1d(y, warn=True)\n",
      "/ext/anaconda-2019.03/lib/python3.7/site-packages/sklearn/utils/validation.py:760: DataConversionWarning: A column-vector y was passed when a 1d array was expected. Please change the shape of y to (n_samples, ), for example using ravel().\n",
      "  y = column_or_1d(y, warn=True)\n",
      "/ext/anaconda-2019.03/lib/python3.7/site-packages/ipykernel/__main__.py:23: DataConversionWarning: A column-vector y was passed when a 1d array was expected. Please change the shape of y to (n_samples, ), for example using ravel().\n"
     ]
    }
   ],
   "source": [
    "for i in range(len(lista_materias)):\n",
    "    nombre_materia = lista_materias[i]\n",
    "    materia = completo[completo[\"Nombre_Asignatura\"] == nombre_materia]\n",
    "    print(nombre_materia)\n",
    "    seleccionar_guardar_modelo_2(materia,nombre_materia,modelo_general)"
   ]
  },
  {
   "cell_type": "markdown",
   "metadata": {
    "collapsed": false
   },
   "source": [
    "## Obtencion de Estudiantes predichos de perder"
   ]
  },
  {
   "cell_type": "code",
   "execution_count": 109,
   "metadata": {
    "collapsed": false
   },
   "outputs": [
    {
     "data": {
      "text/html": [
       "<div>\n",
       "<style scoped>\n",
       "    .dataframe tbody tr th:only-of-type {\n",
       "        vertical-align: middle;\n",
       "    }\n",
       "\n",
       "    .dataframe tbody tr th {\n",
       "        vertical-align: top;\n",
       "    }\n",
       "\n",
       "    .dataframe thead th {\n",
       "        text-align: right;\n",
       "    }\n",
       "</style>\n",
       "<table border=\"1\" class=\"dataframe\">\n",
       "  <thead>\n",
       "    <tr style=\"text-align: right;\">\n",
       "      <th></th>\n",
       "      <th>index</th>\n",
       "      <th>Documento_Ingreso</th>\n",
       "      <th>Documento_Actual</th>\n",
       "      <th>Codigo</th>\n",
       "      <th>Apellido_1_Estudiante</th>\n",
       "      <th>Apellido_2_Estudiante</th>\n",
       "      <th>Nombres_Estudiante</th>\n",
       "      <th>Acceso</th>\n",
       "      <th>Subacceso</th>\n",
       "      <th>Correo_Institucional</th>\n",
       "      <th>...</th>\n",
       "      <th>Nota_4to_Corte</th>\n",
       "      <th>Corte_4p</th>\n",
       "      <th>Nota_5to_Corte</th>\n",
       "      <th>Corte_5p</th>\n",
       "      <th>Nombre_completo</th>\n",
       "      <th>Correo</th>\n",
       "      <th>Grupo</th>\n",
       "      <th>usuario</th>\n",
       "      <th>Nota_final</th>\n",
       "      <th>Paso</th>\n",
       "    </tr>\n",
       "  </thead>\n",
       "  <tbody>\n",
       "    <tr>\n",
       "      <th>924</th>\n",
       "      <td>990</td>\n",
       "      <td>221123</td>\n",
       "      <td>44867</td>\n",
       "      <td>751433</td>\n",
       "      <td>-</td>\n",
       "      <td>-</td>\n",
       "      <td>alcjobxj</td>\n",
       "      <td>Nuevo al programa</td>\n",
       "      <td>Bachillerato con Examen de Estado</td>\n",
       "      <td>alcjobxj@urosario.edu.co</td>\n",
       "      <td>...</td>\n",
       "      <td>3.6</td>\n",
       "      <td>15</td>\n",
       "      <td>4.5</td>\n",
       "      <td>25</td>\n",
       "      <td>Carlos Alvarez</td>\n",
       "      <td>carlos.alvarez@urosario.edu.co</td>\n",
       "      <td>1</td>\n",
       "      <td>carlos.alvarez</td>\n",
       "      <td>4.225</td>\n",
       "      <td>1</td>\n",
       "    </tr>\n",
       "    <tr>\n",
       "      <th>925</th>\n",
       "      <td>991</td>\n",
       "      <td>166515</td>\n",
       "      <td>40599</td>\n",
       "      <td>749859</td>\n",
       "      <td>-</td>\n",
       "      <td>-</td>\n",
       "      <td>orhawgyi</td>\n",
       "      <td>Termino condición doble programa</td>\n",
       "      <td>GENERAL</td>\n",
       "      <td>orhawgyi@urosario.edu.co</td>\n",
       "      <td>...</td>\n",
       "      <td>4.5</td>\n",
       "      <td>15</td>\n",
       "      <td>4.2</td>\n",
       "      <td>25</td>\n",
       "      <td>Carlos Alvarez</td>\n",
       "      <td>carlos.alvarez@urosario.edu.co</td>\n",
       "      <td>1</td>\n",
       "      <td>carlos.alvarez</td>\n",
       "      <td>4.105</td>\n",
       "      <td>1</td>\n",
       "    </tr>\n",
       "    <tr>\n",
       "      <th>926</th>\n",
       "      <td>992</td>\n",
       "      <td>133161</td>\n",
       "      <td>98669</td>\n",
       "      <td>31366</td>\n",
       "      <td>-</td>\n",
       "      <td>-</td>\n",
       "      <td>mdfaizgp</td>\n",
       "      <td>Doble Programa</td>\n",
       "      <td>GENERAL</td>\n",
       "      <td>mdfaizgp@urosario.edu.co</td>\n",
       "      <td>...</td>\n",
       "      <td>4.2</td>\n",
       "      <td>15</td>\n",
       "      <td>4.1</td>\n",
       "      <td>25</td>\n",
       "      <td>Carlos Alvarez</td>\n",
       "      <td>carlos.alvarez@urosario.edu.co</td>\n",
       "      <td>1</td>\n",
       "      <td>carlos.alvarez</td>\n",
       "      <td>4.335</td>\n",
       "      <td>1</td>\n",
       "    </tr>\n",
       "    <tr>\n",
       "      <th>927</th>\n",
       "      <td>993</td>\n",
       "      <td>164862</td>\n",
       "      <td>25568</td>\n",
       "      <td>111363</td>\n",
       "      <td>-</td>\n",
       "      <td>-</td>\n",
       "      <td>mwuaqnnz</td>\n",
       "      <td>Extranjero</td>\n",
       "      <td>GENERAL</td>\n",
       "      <td>mwuaqnnz@urosario.edu.co</td>\n",
       "      <td>...</td>\n",
       "      <td>3.5</td>\n",
       "      <td>15</td>\n",
       "      <td>3.5</td>\n",
       "      <td>25</td>\n",
       "      <td>Carlos Alvarez</td>\n",
       "      <td>carlos.alvarez@urosario.edu.co</td>\n",
       "      <td>1</td>\n",
       "      <td>carlos.alvarez</td>\n",
       "      <td>3.540</td>\n",
       "      <td>1</td>\n",
       "    </tr>\n",
       "    <tr>\n",
       "      <th>928</th>\n",
       "      <td>994</td>\n",
       "      <td>879672</td>\n",
       "      <td>73231</td>\n",
       "      <td>667248</td>\n",
       "      <td>-</td>\n",
       "      <td>-</td>\n",
       "      <td>pgooxicb</td>\n",
       "      <td>Doble Programa</td>\n",
       "      <td>Departamento de Admisiones</td>\n",
       "      <td>pgooxicb@urosario.edu.co</td>\n",
       "      <td>...</td>\n",
       "      <td>2.8</td>\n",
       "      <td>15</td>\n",
       "      <td>3.8</td>\n",
       "      <td>25</td>\n",
       "      <td>Carlos Alvarez</td>\n",
       "      <td>carlos.alvarez@urosario.edu.co</td>\n",
       "      <td>1</td>\n",
       "      <td>carlos.alvarez</td>\n",
       "      <td>2.990</td>\n",
       "      <td>0</td>\n",
       "    </tr>\n",
       "    <tr>\n",
       "      <th>...</th>\n",
       "      <td>...</td>\n",
       "      <td>...</td>\n",
       "      <td>...</td>\n",
       "      <td>...</td>\n",
       "      <td>...</td>\n",
       "      <td>...</td>\n",
       "      <td>...</td>\n",
       "      <td>...</td>\n",
       "      <td>...</td>\n",
       "      <td>...</td>\n",
       "      <td>...</td>\n",
       "      <td>...</td>\n",
       "      <td>...</td>\n",
       "      <td>...</td>\n",
       "      <td>...</td>\n",
       "      <td>...</td>\n",
       "      <td>...</td>\n",
       "      <td>...</td>\n",
       "      <td>...</td>\n",
       "      <td>...</td>\n",
       "      <td>...</td>\n",
       "    </tr>\n",
       "    <tr>\n",
       "      <th>985</th>\n",
       "      <td>1051</td>\n",
       "      <td>515977</td>\n",
       "      <td>27417</td>\n",
       "      <td>126984</td>\n",
       "      <td>-</td>\n",
       "      <td>-</td>\n",
       "      <td>jnkgwinp</td>\n",
       "      <td>Extranjero</td>\n",
       "      <td>GENERAL</td>\n",
       "      <td>jnkgwinp@urosario.edu.co</td>\n",
       "      <td>...</td>\n",
       "      <td>2.6</td>\n",
       "      <td>15</td>\n",
       "      <td>2.9</td>\n",
       "      <td>25</td>\n",
       "      <td>Carlos Alvarez</td>\n",
       "      <td>carlos.alvarez@urosario.edu.co</td>\n",
       "      <td>1</td>\n",
       "      <td>carlos.alvarez</td>\n",
       "      <td>2.655</td>\n",
       "      <td>0</td>\n",
       "    </tr>\n",
       "    <tr>\n",
       "      <th>986</th>\n",
       "      <td>1052</td>\n",
       "      <td>989769</td>\n",
       "      <td>86022</td>\n",
       "      <td>706697</td>\n",
       "      <td>-</td>\n",
       "      <td>-</td>\n",
       "      <td>llnuonlp</td>\n",
       "      <td>Reingreso por Fortalecimiento académico</td>\n",
       "      <td>GENERAL</td>\n",
       "      <td>llnuonlp@urosario.edu.co</td>\n",
       "      <td>...</td>\n",
       "      <td>2.7</td>\n",
       "      <td>15</td>\n",
       "      <td>2.7</td>\n",
       "      <td>25</td>\n",
       "      <td>Carlos Alvarez</td>\n",
       "      <td>carlos.alvarez@urosario.edu.co</td>\n",
       "      <td>1</td>\n",
       "      <td>carlos.alvarez</td>\n",
       "      <td>2.520</td>\n",
       "      <td>0</td>\n",
       "    </tr>\n",
       "    <tr>\n",
       "      <th>987</th>\n",
       "      <td>1053</td>\n",
       "      <td>480565</td>\n",
       "      <td>94961</td>\n",
       "      <td>29130</td>\n",
       "      <td>-</td>\n",
       "      <td>-</td>\n",
       "      <td>xrszqdqk</td>\n",
       "      <td>Termino condición doble programa</td>\n",
       "      <td>Departamento de Admisiones</td>\n",
       "      <td>xrszqdqk@urosario.edu.co</td>\n",
       "      <td>...</td>\n",
       "      <td>2.4</td>\n",
       "      <td>15</td>\n",
       "      <td>2.5</td>\n",
       "      <td>25</td>\n",
       "      <td>Carlos Alvarez</td>\n",
       "      <td>carlos.alvarez@urosario.edu.co</td>\n",
       "      <td>1</td>\n",
       "      <td>carlos.alvarez</td>\n",
       "      <td>2.485</td>\n",
       "      <td>0</td>\n",
       "    </tr>\n",
       "    <tr>\n",
       "      <th>988</th>\n",
       "      <td>1054</td>\n",
       "      <td>43699</td>\n",
       "      <td>8785</td>\n",
       "      <td>130825</td>\n",
       "      <td>-</td>\n",
       "      <td>-</td>\n",
       "      <td>tskxxthh</td>\n",
       "      <td>Termino condición doble programa</td>\n",
       "      <td>Departamento de Admisiones</td>\n",
       "      <td>tskxxthh@urosario.edu.co</td>\n",
       "      <td>...</td>\n",
       "      <td>2.7</td>\n",
       "      <td>15</td>\n",
       "      <td>3.5</td>\n",
       "      <td>25</td>\n",
       "      <td>Carlos Alvarez</td>\n",
       "      <td>carlos.alvarez@urosario.edu.co</td>\n",
       "      <td>1</td>\n",
       "      <td>carlos.alvarez</td>\n",
       "      <td>3.040</td>\n",
       "      <td>1</td>\n",
       "    </tr>\n",
       "    <tr>\n",
       "      <th>989</th>\n",
       "      <td>1055</td>\n",
       "      <td>66252</td>\n",
       "      <td>36341</td>\n",
       "      <td>126266</td>\n",
       "      <td>-</td>\n",
       "      <td>-</td>\n",
       "      <td>pqggjqjy</td>\n",
       "      <td>Reingreso por Fortalecimiento académico</td>\n",
       "      <td>GENERAL</td>\n",
       "      <td>pqggjqjy@urosario.edu.co</td>\n",
       "      <td>...</td>\n",
       "      <td>2.8</td>\n",
       "      <td>15</td>\n",
       "      <td>2.3</td>\n",
       "      <td>25</td>\n",
       "      <td>Carlos Alvarez</td>\n",
       "      <td>carlos.alvarez@urosario.edu.co</td>\n",
       "      <td>1</td>\n",
       "      <td>carlos.alvarez</td>\n",
       "      <td>2.535</td>\n",
       "      <td>0</td>\n",
       "    </tr>\n",
       "  </tbody>\n",
       "</table>\n",
       "<p>66 rows × 36 columns</p>\n",
       "</div>"
      ],
      "text/plain": [
       "     index  Documento_Ingreso  Documento_Actual  Codigo Apellido_1_Estudiante  \\\n",
       "924    990             221123             44867  751433                     -   \n",
       "925    991             166515             40599  749859                     -   \n",
       "926    992             133161             98669   31366                     -   \n",
       "927    993             164862             25568  111363                     -   \n",
       "928    994             879672             73231  667248                     -   \n",
       "..     ...                ...               ...     ...                   ...   \n",
       "985   1051             515977             27417  126984                     -   \n",
       "986   1052             989769             86022  706697                     -   \n",
       "987   1053             480565             94961   29130                     -   \n",
       "988   1054              43699              8785  130825                     -   \n",
       "989   1055              66252             36341  126266                     -   \n",
       "\n",
       "    Apellido_2_Estudiante Nombres_Estudiante  \\\n",
       "924                     -           alcjobxj   \n",
       "925                     -           orhawgyi   \n",
       "926                     -           mdfaizgp   \n",
       "927                     -           mwuaqnnz   \n",
       "928                     -           pgooxicb   \n",
       "..                    ...                ...   \n",
       "985                     -           jnkgwinp   \n",
       "986                     -           llnuonlp   \n",
       "987                     -           xrszqdqk   \n",
       "988                     -           tskxxthh   \n",
       "989                     -           pqggjqjy   \n",
       "\n",
       "                                      Acceso  \\\n",
       "924                        Nuevo al programa   \n",
       "925         Termino condición doble programa   \n",
       "926                           Doble Programa   \n",
       "927                               Extranjero   \n",
       "928                           Doble Programa   \n",
       "..                                       ...   \n",
       "985                               Extranjero   \n",
       "986  Reingreso por Fortalecimiento académico   \n",
       "987         Termino condición doble programa   \n",
       "988         Termino condición doble programa   \n",
       "989  Reingreso por Fortalecimiento académico   \n",
       "\n",
       "                             Subacceso      Correo_Institucional  ...  \\\n",
       "924  Bachillerato con Examen de Estado  alcjobxj@urosario.edu.co  ...   \n",
       "925                            GENERAL  orhawgyi@urosario.edu.co  ...   \n",
       "926                            GENERAL  mdfaizgp@urosario.edu.co  ...   \n",
       "927                            GENERAL  mwuaqnnz@urosario.edu.co  ...   \n",
       "928         Departamento de Admisiones  pgooxicb@urosario.edu.co  ...   \n",
       "..                                 ...                       ...  ...   \n",
       "985                            GENERAL  jnkgwinp@urosario.edu.co  ...   \n",
       "986                            GENERAL  llnuonlp@urosario.edu.co  ...   \n",
       "987         Departamento de Admisiones  xrszqdqk@urosario.edu.co  ...   \n",
       "988         Departamento de Admisiones  tskxxthh@urosario.edu.co  ...   \n",
       "989                            GENERAL  pqggjqjy@urosario.edu.co  ...   \n",
       "\n",
       "    Nota_4to_Corte Corte_4p Nota_5to_Corte  Corte_5p  Nombre_completo  \\\n",
       "924            3.6       15            4.5        25   Carlos Alvarez   \n",
       "925            4.5       15            4.2        25   Carlos Alvarez   \n",
       "926            4.2       15            4.1        25   Carlos Alvarez   \n",
       "927            3.5       15            3.5        25   Carlos Alvarez   \n",
       "928            2.8       15            3.8        25   Carlos Alvarez   \n",
       "..             ...      ...            ...       ...              ...   \n",
       "985            2.6       15            2.9        25   Carlos Alvarez   \n",
       "986            2.7       15            2.7        25   Carlos Alvarez   \n",
       "987            2.4       15            2.5        25   Carlos Alvarez   \n",
       "988            2.7       15            3.5        25   Carlos Alvarez   \n",
       "989            2.8       15            2.3        25   Carlos Alvarez   \n",
       "\n",
       "                             Correo Grupo         usuario  Nota_final Paso  \n",
       "924  carlos.alvarez@urosario.edu.co     1  carlos.alvarez       4.225    1  \n",
       "925  carlos.alvarez@urosario.edu.co     1  carlos.alvarez       4.105    1  \n",
       "926  carlos.alvarez@urosario.edu.co     1  carlos.alvarez       4.335    1  \n",
       "927  carlos.alvarez@urosario.edu.co     1  carlos.alvarez       3.540    1  \n",
       "928  carlos.alvarez@urosario.edu.co     1  carlos.alvarez       2.990    0  \n",
       "..                              ...   ...             ...         ...  ...  \n",
       "985  carlos.alvarez@urosario.edu.co     1  carlos.alvarez       2.655    0  \n",
       "986  carlos.alvarez@urosario.edu.co     1  carlos.alvarez       2.520    0  \n",
       "987  carlos.alvarez@urosario.edu.co     1  carlos.alvarez       2.485    0  \n",
       "988  carlos.alvarez@urosario.edu.co     1  carlos.alvarez       3.040    1  \n",
       "989  carlos.alvarez@urosario.edu.co     1  carlos.alvarez       2.535    0  \n",
       "\n",
       "[66 rows x 36 columns]"
      ]
     },
     "execution_count": 109,
     "metadata": {
     },
     "output_type": "execute_result"
    }
   ],
   "source": [
    "materia"
   ]
  },
  {
   "cell_type": "code",
   "execution_count": 110,
   "metadata": {
    "collapsed": false
   },
   "outputs": [
    {
     "data": {
      "text/html": [
       "<div>\n",
       "<style scoped>\n",
       "    .dataframe tbody tr th:only-of-type {\n",
       "        vertical-align: middle;\n",
       "    }\n",
       "\n",
       "    .dataframe tbody tr th {\n",
       "        vertical-align: top;\n",
       "    }\n",
       "\n",
       "    .dataframe thead th {\n",
       "        text-align: right;\n",
       "    }\n",
       "</style>\n",
       "<table border=\"1\" class=\"dataframe\">\n",
       "  <thead>\n",
       "    <tr style=\"text-align: right;\">\n",
       "      <th></th>\n",
       "      <th>Nota_1er_Corte</th>\n",
       "      <th>Nota_2do_Corte</th>\n",
       "    </tr>\n",
       "  </thead>\n",
       "  <tbody>\n",
       "    <tr>\n",
       "      <th>950</th>\n",
       "      <td>5.0</td>\n",
       "      <td>4.0</td>\n",
       "    </tr>\n",
       "    <tr>\n",
       "      <th>979</th>\n",
       "      <td>3.8</td>\n",
       "      <td>2.3</td>\n",
       "    </tr>\n",
       "    <tr>\n",
       "      <th>962</th>\n",
       "      <td>2.6</td>\n",
       "      <td>2.4</td>\n",
       "    </tr>\n",
       "    <tr>\n",
       "      <th>927</th>\n",
       "      <td>3.7</td>\n",
       "      <td>3.5</td>\n",
       "    </tr>\n",
       "    <tr>\n",
       "      <th>987</th>\n",
       "      <td>2.6</td>\n",
       "      <td>2.8</td>\n",
       "    </tr>\n",
       "    <tr>\n",
       "      <th>970</th>\n",
       "      <td>3.9</td>\n",
       "      <td>3.0</td>\n",
       "    </tr>\n",
       "    <tr>\n",
       "      <th>961</th>\n",
       "      <td>2.0</td>\n",
       "      <td>1.4</td>\n",
       "    </tr>\n",
       "    <tr>\n",
       "      <th>985</th>\n",
       "      <td>3.3</td>\n",
       "      <td>1.9</td>\n",
       "    </tr>\n",
       "    <tr>\n",
       "      <th>943</th>\n",
       "      <td>4.3</td>\n",
       "      <td>3.5</td>\n",
       "    </tr>\n",
       "    <tr>\n",
       "      <th>957</th>\n",
       "      <td>2.9</td>\n",
       "      <td>3.7</td>\n",
       "    </tr>\n",
       "    <tr>\n",
       "      <th>977</th>\n",
       "      <td>3.6</td>\n",
       "      <td>3.0</td>\n",
       "    </tr>\n",
       "    <tr>\n",
       "      <th>988</th>\n",
       "      <td>3.0</td>\n",
       "      <td>2.3</td>\n",
       "    </tr>\n",
       "    <tr>\n",
       "      <th>946</th>\n",
       "      <td>4.1</td>\n",
       "      <td>3.3</td>\n",
       "    </tr>\n",
       "    <tr>\n",
       "      <th>975</th>\n",
       "      <td>2.2</td>\n",
       "      <td>3.2</td>\n",
       "    </tr>\n",
       "    <tr>\n",
       "      <th>941</th>\n",
       "      <td>3.9</td>\n",
       "      <td>3.6</td>\n",
       "    </tr>\n",
       "    <tr>\n",
       "      <th>930</th>\n",
       "      <td>3.8</td>\n",
       "      <td>3.7</td>\n",
       "    </tr>\n",
       "    <tr>\n",
       "      <th>973</th>\n",
       "      <td>2.7</td>\n",
       "      <td>2.0</td>\n",
       "    </tr>\n",
       "    <tr>\n",
       "      <th>959</th>\n",
       "      <td>4.0</td>\n",
       "      <td>4.1</td>\n",
       "    </tr>\n",
       "    <tr>\n",
       "      <th>936</th>\n",
       "      <td>3.8</td>\n",
       "      <td>3.9</td>\n",
       "    </tr>\n",
       "    <tr>\n",
       "      <th>926</th>\n",
       "      <td>5.0</td>\n",
       "      <td>4.0</td>\n",
       "    </tr>\n",
       "  </tbody>\n",
       "</table>\n",
       "</div>"
      ],
      "text/plain": [
       "     Nota_1er_Corte  Nota_2do_Corte\n",
       "950             5.0             4.0\n",
       "979             3.8             2.3\n",
       "962             2.6             2.4\n",
       "927             3.7             3.5\n",
       "987             2.6             2.8\n",
       "970             3.9             3.0\n",
       "961             2.0             1.4\n",
       "985             3.3             1.9\n",
       "943             4.3             3.5\n",
       "957             2.9             3.7\n",
       "977             3.6             3.0\n",
       "988             3.0             2.3\n",
       "946             4.1             3.3\n",
       "975             2.2             3.2\n",
       "941             3.9             3.6\n",
       "930             3.8             3.7\n",
       "973             2.7             2.0\n",
       "959             4.0             4.1\n",
       "936             3.8             3.9\n",
       "926             5.0             4.0"
      ]
     },
     "execution_count": 110,
     "metadata": {
     },
     "output_type": "execute_result"
    }
   ],
   "source": [
    "X = materia[[\"Nota_1er_Corte\",\"Nota_2do_Corte\"]]\n",
    "Y = materia[[\"Paso\"]]\n",
    "X_train, X_test, Y_train, Y_test = train_test_split(X, Y, test_size=0.3)\n",
    "X_test"
   ]
  },
  {
   "cell_type": "code",
   "execution_count": 111,
   "metadata": {
    "collapsed": false
   },
   "outputs": [
   ],
   "source": [
    "def devolucion_estudiantes_riesgos_2(nombre_materia,X_test):\n",
    "    #X_test , datos nuevos para prediccion\n",
    "    #Return, retorna la lista de estudiantes que el modelo predijo que van a perder\n",
    "    nombre_materia = \"Calculo 2\"\n",
    "    filename = \"modelos/mejor_modelo_\"+nombre_materia+\"1,2.sav\"\n",
    "    loaded_model = pickle.load(open(filename, 'rb'))\n",
    "    #Xtest informción del primer corte o segundo corte\n",
    "    Y_pred = loaded_model.predict(X_test)\n",
    "    Prediccion = X_test\n",
    "    Prediccion[\"Pred\"]=Y_pred\n",
    "    idx = Prediccion.index[Prediccion[\"Pred\"]==0]\n",
    "    estudiantes = materia.loc[idx]\n",
    "    return estudiantes"
   ]
  },
  {
   "cell_type": "markdown",
   "metadata": {
    "collapsed": false
   },
   "source": [
    "## Mejor Modelo 1er Corte"
   ]
  },
  {
   "cell_type": "code",
   "execution_count": 130,
   "metadata": {
    "collapsed": false
   },
   "outputs": [
   ],
   "source": [
    "def mejor_modelo_general_1(materia):\n",
    "    X = materia[[\"Nota_1er_Corte\"]]\n",
    "    Y = materia[[\"Paso\"]]\n",
    "    X_train, X_test, Y_train, Y_test = train_test_split(X, Y, test_size=0.3)\n",
    "    mejor_modelo = lista_modelos[0] #Inicializando para eleccion de modelo\n",
    "    F15_mejor_modelo = 0 # Inicializando puntaje F.15, el cual es el que nos vamos a basar para la elección del modelo\n",
    "    for i in range(len(lista_modelos)):\n",
    "        modelo = lista_modelos[i]\n",
    "        modelo.fit(X_train,Y_train)\n",
    "        Y_pred = modelo.predict(X_test)\n",
    "        cm = confusion_matrix(Y_test,Y_pred,labels = [0, 1])\n",
    "        True_posit=cm[0][0]\n",
    "        True_neg=cm[1][1]\n",
    "        False_neg=[1][0]\n",
    "        False_posit=cm[0][1]\n",
    "        Total = True_posit+True_neg+False_neg+False_posit\n",
    "        Accuracy = (True_posit+True_neg)/Total\n",
    "        Accuracy_pass = (True_neg)/(True_neg+False_posit)\n",
    "        Accuracy_fail = (True_posit)/(True_posit+False_neg)\n",
    "        F15=((1+1.5*1.5)*True_posit)/((1+1.5*1.5)*True_posit+(1.5*1.5)*False_neg+False_posit)\n",
    "\n",
    "        if F15 > F15_mejor_modelo:\n",
    "            F15_mejor_modelo = F15\n",
    "            mejor_modelo = modelo\n",
    "\n",
    "        print(r\"F_{1.5}$:\" +str(F15))\n",
    "    return mejor_modelo,F15_mejor_modelo"
   ]
  },
  {
   "cell_type": "code",
   "execution_count": 131,
   "metadata": {
    "collapsed": false
   },
   "outputs": [
   ],
   "source": [
    "def mejor_modelo_1(materia,modelo_general):\n",
    "    X = materia[[\"Nota_1er_Corte\"]]\n",
    "    Y = materia[[\"Paso\"]]\n",
    "    X_train, X_test, Y_train, Y_test = train_test_split(X, Y, test_size=0.3)\n",
    "    if Y_train[\"Paso\"].nunique()==1: # Codigo para saber si solo posee una clase de prediccion o dos\n",
    "        Y_pred = modelo_general.predict(X_test)\n",
    "        cm = confusion_matrix(Y_test,Y_pred,labels = [0, 1])\n",
    "        True_posit=cm[0][0]\n",
    "        True_neg=cm[1][1]\n",
    "        False_neg=[1][0]\n",
    "        False_posit=cm[0][1]\n",
    "        Total = True_posit+True_neg+False_neg+False_posit\n",
    "        Accuracy = (True_posit+True_neg)/Total\n",
    "        Accuracy_pass = (True_neg)/(True_neg+False_posit)\n",
    "        Accuracy_fail = (True_posit)/(True_posit+False_neg)\n",
    "        F15=((1+1.5*1.5)*True_posit)/((1+1.5*1.5)*True_posit+(1.5*1.5)*False_neg+False_posit)\n",
    "        return modelo_general,F15\n",
    "    else:\n",
    "        mejor_modelo = lista_modelos[0] #Inicializando para eleccion de modelo\n",
    "        F15_mejor_modelo = 0 # Inicializando puntaje F.15, el cual es el que nos vamos a basar para la elección del modelo\n",
    "        for i in range(len(lista_modelos)):\n",
    "            modelo = lista_modelos[i]\n",
    "            modelo.fit(X_train,Y_train)\n",
    "            Y_pred = modelo.predict(X_test)\n",
    "            cm = confusion_matrix(Y_test,Y_pred,labels = [0, 1])\n",
    "            True_posit=cm[0][0]\n",
    "            True_neg=cm[1][1]\n",
    "            False_neg=[1][0]\n",
    "            False_posit=cm[0][1]\n",
    "            Total = True_posit+True_neg+False_neg+False_posit\n",
    "            Accuracy = (True_posit+True_neg)/Total\n",
    "            Accuracy_pass = (True_neg)/(True_neg+False_posit)\n",
    "            Accuracy_fail = (True_posit)/(True_posit+False_neg)\n",
    "            F15=((1+1.5*1.5)*True_posit)/((1+1.5*1.5)*True_posit+(1.5*1.5)*False_neg+False_posit)\n",
    "\n",
    "            if F15 > F15_mejor_modelo:\n",
    "                F15_mejor_modelo = F15\n",
    "                mejor_modelo = modelo\n",
    "\n",
    "            #print(r\"F_{1.5}$:\" +str(F15))\n",
    "        return mejor_modelo,F15_mejor_modelo"
   ]
  },
  {
   "cell_type": "code",
   "execution_count": 132,
   "metadata": {
    "collapsed": false
   },
   "outputs": [
   ],
   "source": [
    "def seleccionar_guardar_modelo_general_1(materia,nombre_materia):\n",
    "    mejor_modelo1,F15 = mejor_modelo_general_2(materia)\n",
    "    #Guardar el modelo en disco\n",
    "    filename = \"modelos/mejor_modelo_\"+nombre_materia+\"1.sav\"\n",
    "    pickle.dump(mejor_modelo1, open(filename, 'wb'))\n",
    "    # load the model from disk\n",
    "    loaded_model = pickle.load(open(filename, 'rb'))"
   ]
  },
  {
   "cell_type": "code",
   "execution_count": 133,
   "metadata": {
    "collapsed": false
   },
   "outputs": [
   ],
   "source": [
    "def seleccionar_guardar_modelo_1(materia,nombre_materia,modelo_general):\n",
    "    mejor_modelo1,F15 = mejor_modelo(materia,modelo_general)\n",
    "    #Guardar el modelo en disco\n",
    "    filename = \"modelos/mejor_modelo_\"+nombre_materia+\"1.sav\"\n",
    "    pickle.dump(mejor_modelo1, open(filename, 'wb'))\n",
    "    # load the model from disk\n",
    "    loaded_model = pickle.load(open(filename, 'rb'))"
   ]
  },
  {
   "cell_type": "markdown",
   "metadata": {
    "collapsed": false
   },
   "source": [
    "## Modelo general corte 1\n",
    "\n",
    "Este modelo general se aplicar para aquellas materias que no se pueda crear un modelo propio dado que todos los estudiantes han pasado la materia."
   ]
  },
  {
   "cell_type": "code",
   "execution_count": 134,
   "metadata": {
    "collapsed": false
   },
   "outputs": [
    {
     "name": "stdout",
     "output_type": "stream",
     "text": [
      "F_{1.5}$:0.9683766690091357\n",
      "F_{1.5}$:0.9560201874549387\n",
      "F_{1.5}$:0.9463235294117647\n",
      "F_{1.5}$:0.9653465346534653\n",
      "F_{1.5}$:0.8868378812199037\n",
      "F_{1.5}$:0.8868378812199037\n",
      "F_{1.5}$:0.8868378812199037\n",
      "F_{1.5}$:0.8868378812199037\n"
     ]
    },
    {
     "name": "stderr",
     "output_type": "stream",
     "text": [
      "/ext/anaconda-2019.03/lib/python3.7/site-packages/sklearn/naive_bayes.py:206: DataConversionWarning: A column-vector y was passed when a 1d array was expected. Please change the shape of y to (n_samples, ), for example using ravel().\n",
      "  y = column_or_1d(y, warn=True)\n",
      "/ext/anaconda-2019.03/lib/python3.7/site-packages/sklearn/utils/validation.py:760: DataConversionWarning: A column-vector y was passed when a 1d array was expected. Please change the shape of y to (n_samples, ), for example using ravel().\n",
      "  y = column_or_1d(y, warn=True)\n",
      "/ext/anaconda-2019.03/lib/python3.7/site-packages/ipykernel/__main__.py:9: DataConversionWarning: A column-vector y was passed when a 1d array was expected. Please change the shape of y to (n_samples, ), for example using ravel().\n",
      "/ext/anaconda-2019.03/lib/python3.7/site-packages/sklearn/naive_bayes.py:206: DataConversionWarning: A column-vector y was passed when a 1d array was expected. Please change the shape of y to (n_samples, ), for example using ravel().\n",
      "  y = column_or_1d(y, warn=True)\n",
      "/ext/anaconda-2019.03/lib/python3.7/site-packages/sklearn/utils/validation.py:760: DataConversionWarning: A column-vector y was passed when a 1d array was expected. Please change the shape of y to (n_samples, ), for example using ravel().\n",
      "  y = column_or_1d(y, warn=True)\n",
      "/ext/anaconda-2019.03/lib/python3.7/site-packages/ipykernel/__main__.py:9: DataConversionWarning: A column-vector y was passed when a 1d array was expected. Please change the shape of y to (n_samples, ), for example using ravel().\n"
     ]
    }
   ],
   "source": [
    "X_general = completo[[\"Nota_1er_Corte\"]]\n",
    "Y_general = completo[[\"Paso\"]]\n",
    "seleccionar_guardar_modelo_general_1(completo,\"Modelo_General\")\n",
    "modelo_general,F15_general = mejor_modelo_general_1(completo)"
   ]
  },
  {
   "cell_type": "code",
   "execution_count": 135,
   "metadata": {
    "collapsed": false
   },
   "outputs": [
    {
     "name": "stdout",
     "output_type": "stream",
     "text": [
      "Algebra lineal\n",
      "Algoritmos y estrucutra de datos\n",
      "Analisis de argumentos\n",
      "Analisis de textos\n",
      "Calculo\n",
      "Calculo 2\n",
      "Catedra Rosarista\n",
      "Constitucion politica e instruccion civica\n"
     ]
    },
    {
     "name": "stderr",
     "output_type": "stream",
     "text": [
      "/ext/anaconda-2019.03/lib/python3.7/site-packages/sklearn/naive_bayes.py:206: DataConversionWarning: A column-vector y was passed when a 1d array was expected. Please change the shape of y to (n_samples, ), for example using ravel().\n",
      "  y = column_or_1d(y, warn=True)\n",
      "/ext/anaconda-2019.03/lib/python3.7/site-packages/sklearn/utils/validation.py:760: DataConversionWarning: A column-vector y was passed when a 1d array was expected. Please change the shape of y to (n_samples, ), for example using ravel().\n",
      "  y = column_or_1d(y, warn=True)\n",
      "/ext/anaconda-2019.03/lib/python3.7/site-packages/ipykernel/__main__.py:23: DataConversionWarning: A column-vector y was passed when a 1d array was expected. Please change the shape of y to (n_samples, ), for example using ravel().\n",
      "/ext/anaconda-2019.03/lib/python3.7/site-packages/sklearn/naive_bayes.py:206: DataConversionWarning: A column-vector y was passed when a 1d array was expected. Please change the shape of y to (n_samples, ), for example using ravel().\n",
      "  y = column_or_1d(y, warn=True)\n",
      "/ext/anaconda-2019.03/lib/python3.7/site-packages/sklearn/utils/validation.py:760: DataConversionWarning: A column-vector y was passed when a 1d array was expected. Please change the shape of y to (n_samples, ), for example using ravel().\n",
      "  y = column_or_1d(y, warn=True)\n",
      "/ext/anaconda-2019.03/lib/python3.7/site-packages/ipykernel/__main__.py:23: DataConversionWarning: A column-vector y was passed when a 1d array was expected. Please change the shape of y to (n_samples, ), for example using ravel().\n",
      "/ext/anaconda-2019.03/lib/python3.7/site-packages/sklearn/naive_bayes.py:206: DataConversionWarning: A column-vector y was passed when a 1d array was expected. Please change the shape of y to (n_samples, ), for example using ravel().\n",
      "  y = column_or_1d(y, warn=True)\n",
      "/ext/anaconda-2019.03/lib/python3.7/site-packages/sklearn/utils/validation.py:760: DataConversionWarning: A column-vector y was passed when a 1d array was expected. Please change the shape of y to (n_samples, ), for example using ravel().\n",
      "  y = column_or_1d(y, warn=True)\n",
      "/ext/anaconda-2019.03/lib/python3.7/site-packages/ipykernel/__main__.py:23: DataConversionWarning: A column-vector y was passed when a 1d array was expected. Please change the shape of y to (n_samples, ), for example using ravel().\n",
      "/ext/anaconda-2019.03/lib/python3.7/site-packages/sklearn/naive_bayes.py:206: DataConversionWarning: A column-vector y was passed when a 1d array was expected. Please change the shape of y to (n_samples, ), for example using ravel().\n",
      "  y = column_or_1d(y, warn=True)\n",
      "/ext/anaconda-2019.03/lib/python3.7/site-packages/sklearn/utils/validation.py:760: DataConversionWarning: A column-vector y was passed when a 1d array was expected. Please change the shape of y to (n_samples, ), for example using ravel().\n",
      "  y = column_or_1d(y, warn=True)\n",
      "/ext/anaconda-2019.03/lib/python3.7/site-packages/ipykernel/__main__.py:23: DataConversionWarning: A column-vector y was passed when a 1d array was expected. Please change the shape of y to (n_samples, ), for example using ravel().\n",
      "/ext/anaconda-2019.03/lib/python3.7/site-packages/sklearn/naive_bayes.py:206: DataConversionWarning: A column-vector y was passed when a 1d array was expected. Please change the shape of y to (n_samples, ), for example using ravel().\n",
      "  y = column_or_1d(y, warn=True)\n",
      "/ext/anaconda-2019.03/lib/python3.7/site-packages/sklearn/utils/validation.py:760: DataConversionWarning: A column-vector y was passed when a 1d array was expected. Please change the shape of y to (n_samples, ), for example using ravel().\n",
      "  y = column_or_1d(y, warn=True)\n",
      "/ext/anaconda-2019.03/lib/python3.7/site-packages/ipykernel/__main__.py:23: DataConversionWarning: A column-vector y was passed when a 1d array was expected. Please change the shape of y to (n_samples, ), for example using ravel().\n",
      "/ext/anaconda-2019.03/lib/python3.7/site-packages/sklearn/naive_bayes.py:206: DataConversionWarning: A column-vector y was passed when a 1d array was expected. Please change the shape of y to (n_samples, ), for example using ravel().\n",
      "  y = column_or_1d(y, warn=True)\n",
      "/ext/anaconda-2019.03/lib/python3.7/site-packages/sklearn/utils/validation.py:760: DataConversionWarning: A column-vector y was passed when a 1d array was expected. Please change the shape of y to (n_samples, ), for example using ravel().\n",
      "  y = column_or_1d(y, warn=True)\n",
      "/ext/anaconda-2019.03/lib/python3.7/site-packages/ipykernel/__main__.py:23: DataConversionWarning: A column-vector y was passed when a 1d array was expected. Please change the shape of y to (n_samples, ), for example using ravel().\n",
      "/ext/anaconda-2019.03/lib/python3.7/site-packages/sklearn/naive_bayes.py:206: DataConversionWarning: A column-vector y was passed when a 1d array was expected. Please change the shape of y to (n_samples, ), for example using ravel().\n",
      "  y = column_or_1d(y, warn=True)\n",
      "/ext/anaconda-2019.03/lib/python3.7/site-packages/sklearn/utils/validation.py:760: DataConversionWarning: A column-vector y was passed when a 1d array was expected. Please change the shape of y to (n_samples, ), for example using ravel().\n",
      "  y = column_or_1d(y, warn=True)\n",
      "/ext/anaconda-2019.03/lib/python3.7/site-packages/ipykernel/__main__.py:23: DataConversionWarning: A column-vector y was passed when a 1d array was expected. Please change the shape of y to (n_samples, ), for example using ravel().\n",
      "/ext/anaconda-2019.03/lib/python3.7/site-packages/sklearn/naive_bayes.py:206: DataConversionWarning: A column-vector y was passed when a 1d array was expected. Please change the shape of y to (n_samples, ), for example using ravel().\n",
      "  y = column_or_1d(y, warn=True)\n",
      "/ext/anaconda-2019.03/lib/python3.7/site-packages/sklearn/utils/validation.py:760: DataConversionWarning: A column-vector y was passed when a 1d array was expected. Please change the shape of y to (n_samples, ), for example using ravel().\n",
      "  y = column_or_1d(y, warn=True)\n",
      "/ext/anaconda-2019.03/lib/python3.7/site-packages/ipykernel/__main__.py:23: DataConversionWarning: A column-vector y was passed when a 1d array was expected. Please change the shape of y to (n_samples, ), for example using ravel().\n"
     ]
    },
    {
     "name": "stdout",
     "output_type": "stream",
     "text": [
      "Cornerstone project\n",
      "Electiva HM 1\n",
      "Escritura de ensayos de opinion\n",
      "Etica\n",
      "Fundamentos de sistemas digitales\n",
      "Logica para ciencias de la computación\n",
      "Logica, teoria de numeros y conjuntos\n"
     ]
    },
    {
     "name": "stderr",
     "output_type": "stream",
     "text": [
      "/ext/anaconda-2019.03/lib/python3.7/site-packages/sklearn/naive_bayes.py:206: DataConversionWarning: A column-vector y was passed when a 1d array was expected. Please change the shape of y to (n_samples, ), for example using ravel().\n",
      "  y = column_or_1d(y, warn=True)\n",
      "/ext/anaconda-2019.03/lib/python3.7/site-packages/sklearn/utils/validation.py:760: DataConversionWarning: A column-vector y was passed when a 1d array was expected. Please change the shape of y to (n_samples, ), for example using ravel().\n",
      "  y = column_or_1d(y, warn=True)\n",
      "/ext/anaconda-2019.03/lib/python3.7/site-packages/ipykernel/__main__.py:23: DataConversionWarning: A column-vector y was passed when a 1d array was expected. Please change the shape of y to (n_samples, ), for example using ravel().\n",
      "/ext/anaconda-2019.03/lib/python3.7/site-packages/sklearn/naive_bayes.py:206: DataConversionWarning: A column-vector y was passed when a 1d array was expected. Please change the shape of y to (n_samples, ), for example using ravel().\n",
      "  y = column_or_1d(y, warn=True)\n",
      "/ext/anaconda-2019.03/lib/python3.7/site-packages/sklearn/utils/validation.py:760: DataConversionWarning: A column-vector y was passed when a 1d array was expected. Please change the shape of y to (n_samples, ), for example using ravel().\n",
      "  y = column_or_1d(y, warn=True)\n",
      "/ext/anaconda-2019.03/lib/python3.7/site-packages/ipykernel/__main__.py:23: DataConversionWarning: A column-vector y was passed when a 1d array was expected. Please change the shape of y to (n_samples, ), for example using ravel().\n",
      "/ext/anaconda-2019.03/lib/python3.7/site-packages/sklearn/naive_bayes.py:206: DataConversionWarning: A column-vector y was passed when a 1d array was expected. Please change the shape of y to (n_samples, ), for example using ravel().\n",
      "  y = column_or_1d(y, warn=True)\n",
      "/ext/anaconda-2019.03/lib/python3.7/site-packages/sklearn/utils/validation.py:760: DataConversionWarning: A column-vector y was passed when a 1d array was expected. Please change the shape of y to (n_samples, ), for example using ravel().\n",
      "  y = column_or_1d(y, warn=True)\n",
      "/ext/anaconda-2019.03/lib/python3.7/site-packages/ipykernel/__main__.py:23: DataConversionWarning: A column-vector y was passed when a 1d array was expected. Please change the shape of y to (n_samples, ), for example using ravel().\n",
      "/ext/anaconda-2019.03/lib/python3.7/site-packages/sklearn/naive_bayes.py:206: DataConversionWarning: A column-vector y was passed when a 1d array was expected. Please change the shape of y to (n_samples, ), for example using ravel().\n",
      "  y = column_or_1d(y, warn=True)\n",
      "/ext/anaconda-2019.03/lib/python3.7/site-packages/sklearn/utils/validation.py:760: DataConversionWarning: A column-vector y was passed when a 1d array was expected. Please change the shape of y to (n_samples, ), for example using ravel().\n",
      "  y = column_or_1d(y, warn=True)\n",
      "/ext/anaconda-2019.03/lib/python3.7/site-packages/ipykernel/__main__.py:23: DataConversionWarning: A column-vector y was passed when a 1d array was expected. Please change the shape of y to (n_samples, ), for example using ravel().\n",
      "/ext/anaconda-2019.03/lib/python3.7/site-packages/sklearn/naive_bayes.py:206: DataConversionWarning: A column-vector y was passed when a 1d array was expected. Please change the shape of y to (n_samples, ), for example using ravel().\n",
      "  y = column_or_1d(y, warn=True)\n",
      "/ext/anaconda-2019.03/lib/python3.7/site-packages/sklearn/utils/validation.py:760: DataConversionWarning: A column-vector y was passed when a 1d array was expected. Please change the shape of y to (n_samples, ), for example using ravel().\n",
      "  y = column_or_1d(y, warn=True)\n",
      "/ext/anaconda-2019.03/lib/python3.7/site-packages/ipykernel/__main__.py:23: DataConversionWarning: A column-vector y was passed when a 1d array was expected. Please change the shape of y to (n_samples, ), for example using ravel().\n",
      "/ext/anaconda-2019.03/lib/python3.7/site-packages/sklearn/naive_bayes.py:206: DataConversionWarning: A column-vector y was passed when a 1d array was expected. Please change the shape of y to (n_samples, ), for example using ravel().\n",
      "  y = column_or_1d(y, warn=True)\n",
      "/ext/anaconda-2019.03/lib/python3.7/site-packages/sklearn/utils/validation.py:760: DataConversionWarning: A column-vector y was passed when a 1d array was expected. Please change the shape of y to (n_samples, ), for example using ravel().\n",
      "  y = column_or_1d(y, warn=True)\n",
      "/ext/anaconda-2019.03/lib/python3.7/site-packages/ipykernel/__main__.py:23: DataConversionWarning: A column-vector y was passed when a 1d array was expected. Please change the shape of y to (n_samples, ), for example using ravel().\n"
     ]
    },
    {
     "name": "stdout",
     "output_type": "stream",
     "text": [
      "Manejo de base de datos\n",
      "Pensamiento matematico\n",
      "Probabilidad y estadistica 1\n",
      "Programacion de Computadores\n"
     ]
    },
    {
     "name": "stderr",
     "output_type": "stream",
     "text": [
      "/ext/anaconda-2019.03/lib/python3.7/site-packages/sklearn/naive_bayes.py:206: DataConversionWarning: A column-vector y was passed when a 1d array was expected. Please change the shape of y to (n_samples, ), for example using ravel().\n",
      "  y = column_or_1d(y, warn=True)\n",
      "/ext/anaconda-2019.03/lib/python3.7/site-packages/sklearn/utils/validation.py:760: DataConversionWarning: A column-vector y was passed when a 1d array was expected. Please change the shape of y to (n_samples, ), for example using ravel().\n",
      "  y = column_or_1d(y, warn=True)\n",
      "/ext/anaconda-2019.03/lib/python3.7/site-packages/ipykernel/__main__.py:23: DataConversionWarning: A column-vector y was passed when a 1d array was expected. Please change the shape of y to (n_samples, ), for example using ravel().\n",
      "/ext/anaconda-2019.03/lib/python3.7/site-packages/sklearn/naive_bayes.py:206: DataConversionWarning: A column-vector y was passed when a 1d array was expected. Please change the shape of y to (n_samples, ), for example using ravel().\n",
      "  y = column_or_1d(y, warn=True)\n",
      "/ext/anaconda-2019.03/lib/python3.7/site-packages/sklearn/utils/validation.py:760: DataConversionWarning: A column-vector y was passed when a 1d array was expected. Please change the shape of y to (n_samples, ), for example using ravel().\n",
      "  y = column_or_1d(y, warn=True)\n",
      "/ext/anaconda-2019.03/lib/python3.7/site-packages/ipykernel/__main__.py:23: DataConversionWarning: A column-vector y was passed when a 1d array was expected. Please change the shape of y to (n_samples, ), for example using ravel().\n",
      "/ext/anaconda-2019.03/lib/python3.7/site-packages/sklearn/naive_bayes.py:206: DataConversionWarning: A column-vector y was passed when a 1d array was expected. Please change the shape of y to (n_samples, ), for example using ravel().\n",
      "  y = column_or_1d(y, warn=True)\n",
      "/ext/anaconda-2019.03/lib/python3.7/site-packages/sklearn/utils/validation.py:760: DataConversionWarning: A column-vector y was passed when a 1d array was expected. Please change the shape of y to (n_samples, ), for example using ravel().\n",
      "  y = column_or_1d(y, warn=True)\n",
      "/ext/anaconda-2019.03/lib/python3.7/site-packages/ipykernel/__main__.py:23: DataConversionWarning: A column-vector y was passed when a 1d array was expected. Please change the shape of y to (n_samples, ), for example using ravel().\n",
      "/ext/anaconda-2019.03/lib/python3.7/site-packages/sklearn/naive_bayes.py:206: DataConversionWarning: A column-vector y was passed when a 1d array was expected. Please change the shape of y to (n_samples, ), for example using ravel().\n",
      "  y = column_or_1d(y, warn=True)\n",
      "/ext/anaconda-2019.03/lib/python3.7/site-packages/sklearn/utils/validation.py:760: DataConversionWarning: A column-vector y was passed when a 1d array was expected. Please change the shape of y to (n_samples, ), for example using ravel().\n",
      "  y = column_or_1d(y, warn=True)\n",
      "/ext/anaconda-2019.03/lib/python3.7/site-packages/ipykernel/__main__.py:23: DataConversionWarning: A column-vector y was passed when a 1d array was expected. Please change the shape of y to (n_samples, ), for example using ravel().\n",
      "/ext/anaconda-2019.03/lib/python3.7/site-packages/sklearn/naive_bayes.py:206: DataConversionWarning: A column-vector y was passed when a 1d array was expected. Please change the shape of y to (n_samples, ), for example using ravel().\n",
      "  y = column_or_1d(y, warn=True)\n",
      "/ext/anaconda-2019.03/lib/python3.7/site-packages/sklearn/utils/validation.py:760: DataConversionWarning: A column-vector y was passed when a 1d array was expected. Please change the shape of y to (n_samples, ), for example using ravel().\n",
      "  y = column_or_1d(y, warn=True)\n",
      "/ext/anaconda-2019.03/lib/python3.7/site-packages/ipykernel/__main__.py:23: DataConversionWarning: A column-vector y was passed when a 1d array was expected. Please change the shape of y to (n_samples, ), for example using ravel().\n"
     ]
    }
   ],
   "source": [
    "for i in range(len(lista_materias)):\n",
    "    nombre_materia = lista_materias[i]\n",
    "    materia = completo[completo[\"Nombre_Asignatura\"] == nombre_materia]\n",
    "    print(nombre_materia)\n",
    "    seleccionar_guardar_modelo_1(materia,nombre_materia,modelo_general)"
   ]
  },
  {
   "cell_type": "markdown",
   "metadata": {
    "collapsed": false
   },
   "source": [
    "## Modelos Ensemble\n",
    "Ayuda para voting classifier: https://www.geeksforgeeks.org/ml-voting-classifier-using-sklearn/"
   ]
  },
  {
   "cell_type": "markdown",
   "metadata": {
    "collapsed": false
   },
   "source": [
    "## Voting classifier\n",
    "A Voting Classifier is a machine learning model that trains on an ensemble of numerous models and predicts an output (class) based on their highest probability of chosen class as the output.\n",
    "It simply aggregates the findings of each classifier passed into Voting Classifier and predicts the output class based on the highest majority of voting. The idea is instead of creating separate dedicated models and finding the accuracy for each them, we create a single model which trains by these models and predicts output based on their combined majority of voting for each output class.\n",
    "\n",
    "Voting classifier supports two types of voting:\n",
    "* Hard voting:\n",
    "In hard voting, the predicted output class is a class with the highest majority of votes i.e the class which had the highest probability of being predicted by each of the classifiers. Suppose three classifiers predicted the output class(A, A, B), so here the majority predicted A as output. Hence A will be the final prediction.\n",
    "* Soft voting:\n",
    "In soft voting, the output class is the prediction based on the average of probability given to that class. Suppose given some input to three models, the prediction probability for class A = (0.30, 0.47, 0.53) and B = (0.20, 0.32, 0.40). So the average for class A is 0.4333 and B is 0.3067, the winner is clearly class A because it had the highest probability averaged by each classifier."
   ]
  },
  {
   "cell_type": "code",
   "execution_count": 88,
   "metadata": {
    "collapsed": false
   },
   "outputs": [
   ],
   "source": [
    "from sklearn.ensemble import VotingClassifier"
   ]
  },
  {
   "cell_type": "code",
   "execution_count": 89,
   "metadata": {
    "collapsed": false
   },
   "outputs": [
   ],
   "source": [
    "materia = completo[completo[\"Nombre_Asignatura\"]==\"Algebra lineal\"]"
   ]
  },
  {
   "cell_type": "code",
   "execution_count": 90,
   "metadata": {
    "collapsed": false
   },
   "outputs": [
   ],
   "source": [
    "# Separando datos de prueba y datos de entrenamiento\n",
    "X = materia[[\"Nota_1er_Corte\",\"Nota_2do_Corte\"]]\n",
    "Y = materia[[\"Paso\"]]\n",
    "#Y[\"Paso\"].nunique()==1 # Codigo para saber si solo posee una clase de prediccion o dos\n",
    "X_train, X_test, y_train, y_test = train_test_split(X,Y,test_size=0.3)\n",
    "y_train = np.array(y_train)"
   ]
  },
  {
   "cell_type": "code",
   "execution_count": 124,
   "metadata": {
    "collapsed": false
   },
   "outputs": [
   ],
   "source": [
    "# En estimator van tuplas (\"Etiqueta de modelo\",modelo)\n",
    "# Modelo Naive Bayes Classifier(NBC)\n",
    "gnb = GaussianNB()\n",
    "# Modelo Regresion logistica\n",
    "lr = LogisticRegression(solver='liblinear')\n",
    "# Modelo KNN\n",
    "knn = KNeighborsClassifier(n_neighbors=2)\n",
    "# Modelo SVM\n",
    "cls_rbf = svm.SVC(kernel='rbf')\n",
    "# Modelo arbol de decision (DTC)\n",
    "tree_clf = DecisionTreeClassifier(criterion = \"gini\",max_depth = 10,min_samples_leaf=5)\n",
    "\n",
    "estimator = [('KNN',knn),('GNB',gnb),('LR',lr),('DTC',tree_clf),('SVM',cls_rbf)]\n",
    "# No sé si tienen que ir los que ya fueron creados anteriormente o unos nuevos desde 0 no hay problema?"
   ]
  },
  {
   "cell_type": "code",
   "execution_count": 94,
   "metadata": {
    "collapsed": false
   },
   "outputs": [
    {
     "name": "stderr",
     "output_type": "stream",
     "text": [
      "/ext/anaconda-2019.03/lib/python3.7/site-packages/sklearn/preprocessing/_label.py:235: DataConversionWarning: A column-vector y was passed when a 1d array was expected. Please change the shape of y to (n_samples, ), for example using ravel().\n",
      "  y = column_or_1d(y, warn=True)\n",
      "/ext/anaconda-2019.03/lib/python3.7/site-packages/sklearn/preprocessing/_label.py:268: DataConversionWarning: A column-vector y was passed when a 1d array was expected. Please change the shape of y to (n_samples, ), for example using ravel().\n",
      "  y = column_or_1d(y, warn=True)\n"
     ]
    },
    {
     "data": {
      "text/plain": [
       "VotingClassifier(estimators=[('KNN',\n",
       "                              KNeighborsClassifier(algorithm='auto',\n",
       "                                                   leaf_size=30,\n",
       "                                                   metric='minkowski',\n",
       "                                                   metric_params=None,\n",
       "                                                   n_jobs=None, n_neighbors=2,\n",
       "                                                   p=2, weights='uniform')),\n",
       "                             ('GNB',\n",
       "                              GaussianNB(priors=None, var_smoothing=1e-09)),\n",
       "                             ('LR',\n",
       "                              LogisticRegression(C=1.0, class_weight=None,\n",
       "                                                 dual=False, fit_intercept=True,\n",
       "                                                 intercept_scaling=1,\n",
       "                                                 l1_ratio=None, max_iter=1...\n",
       "                                                     presort='deprecated',\n",
       "                                                     random_state=None,\n",
       "                                                     splitter='best')),\n",
       "                             ('SVM',\n",
       "                              SVC(C=1.0, break_ties=False, cache_size=200,\n",
       "                                  class_weight=None, coef0=0.0,\n",
       "                                  decision_function_shape='ovr', degree=3,\n",
       "                                  gamma='scale', kernel='rbf', max_iter=-1,\n",
       "                                  probability=False, random_state=None,\n",
       "                                  shrinking=True, tol=0.001, verbose=False))],\n",
       "                 flatten_transform=True, n_jobs=None, voting='hard',\n",
       "                 weights=None)"
      ]
     },
     "execution_count": 94,
     "metadata": {
     },
     "output_type": "execute_result"
    }
   ],
   "source": [
    "# Voting Classifier con hard voting\n",
    "vot_hard = VotingClassifier(estimators = estimator, voting = 'hard')\n",
    "vot_hard.fit(X_train, y_train)\n",
    "# y_pred = vot_hard.predict(X_test)"
   ]
  },
  {
   "cell_type": "code",
   "execution_count": 120,
   "metadata": {
    "collapsed": false
   },
   "outputs": [
    {
     "name": "stdout",
     "output_type": "stream",
     "text": [
      "Hard Voting accuracy Score  0\n",
      "Hard Voting precision Score  0\n"
     ]
    }
   ],
   "source": [
    "# using accuracy score metric to predict accuracy\n",
    "a_score = accuracy_score(y_test, y_pred)\n",
    "print(\"Hard Voting accuracy Score % d\" % a_score)\n",
    "# Precision score\n",
    "p_score = precision_score(y_test, y_pred)\n",
    "print(\"Hard Voting precision Score % d\" % p_score)"
   ]
  },
  {
   "cell_type": "code",
   "execution_count": 125,
   "metadata": {
    "collapsed": false,
    "scrolled": true
   },
   "outputs": [
    {
     "name": "stderr",
     "output_type": "stream",
     "text": [
      "/ext/anaconda-2019.03/lib/python3.7/site-packages/sklearn/preprocessing/_label.py:235: DataConversionWarning: A column-vector y was passed when a 1d array was expected. Please change the shape of y to (n_samples, ), for example using ravel().\n",
      "  y = column_or_1d(y, warn=True)\n",
      "/ext/anaconda-2019.03/lib/python3.7/site-packages/sklearn/preprocessing/_label.py:268: DataConversionWarning: A column-vector y was passed when a 1d array was expected. Please change the shape of y to (n_samples, ), for example using ravel().\n",
      "  y = column_or_1d(y, warn=True)\n"
     ]
    },
    {
     "ename": "AttributeError",
     "evalue": "predict_proba is not available when  probability=False",
     "output_type": "error",
     "traceback": [
      "\u001b[0;31m---------------------------------------------------------------------------\u001b[0m",
      "\u001b[0;31mAttributeError\u001b[0m                            Traceback (most recent call last)",
      "\u001b[0;32m<ipython-input-125-fc10ed1516fe>\u001b[0m in \u001b[0;36m<module>\u001b[0;34m()\u001b[0m\n\u001b[1;32m      2\u001b[0m \u001b[0mvot_soft\u001b[0m \u001b[0;34m=\u001b[0m \u001b[0mVotingClassifier\u001b[0m\u001b[0;34m(\u001b[0m\u001b[0mestimators\u001b[0m \u001b[0;34m=\u001b[0m \u001b[0mestimator\u001b[0m\u001b[0;34m,\u001b[0m \u001b[0mvoting\u001b[0m \u001b[0;34m=\u001b[0m\u001b[0;34m'soft'\u001b[0m\u001b[0;34m)\u001b[0m\u001b[0;34m\u001b[0m\u001b[0;34m\u001b[0m\u001b[0m\n\u001b[1;32m      3\u001b[0m \u001b[0mvot_soft\u001b[0m\u001b[0;34m.\u001b[0m\u001b[0mfit\u001b[0m\u001b[0;34m(\u001b[0m\u001b[0mX_train\u001b[0m\u001b[0;34m,\u001b[0m \u001b[0my_train\u001b[0m\u001b[0;34m)\u001b[0m\u001b[0;34m\u001b[0m\u001b[0;34m\u001b[0m\u001b[0m\n\u001b[0;32m----> 4\u001b[0;31m \u001b[0my_pred\u001b[0m \u001b[0;34m=\u001b[0m \u001b[0mvot_soft\u001b[0m\u001b[0;34m.\u001b[0m\u001b[0mpredict\u001b[0m\u001b[0;34m(\u001b[0m\u001b[0mX_test\u001b[0m\u001b[0;34m)\u001b[0m\u001b[0;34m\u001b[0m\u001b[0;34m\u001b[0m\u001b[0m\n\u001b[0m",
      "\u001b[0;32m/ext/anaconda-2019.03/lib/python3.7/site-packages/sklearn/ensemble/_voting.py\u001b[0m in \u001b[0;36mpredict\u001b[0;34m(self, X)\u001b[0m\n\u001b[1;32m    237\u001b[0m         \u001b[0mcheck_is_fitted\u001b[0m\u001b[0;34m(\u001b[0m\u001b[0mself\u001b[0m\u001b[0;34m)\u001b[0m\u001b[0;34m\u001b[0m\u001b[0;34m\u001b[0m\u001b[0m\n\u001b[1;32m    238\u001b[0m         \u001b[0;32mif\u001b[0m \u001b[0mself\u001b[0m\u001b[0;34m.\u001b[0m\u001b[0mvoting\u001b[0m \u001b[0;34m==\u001b[0m \u001b[0;34m'soft'\u001b[0m\u001b[0;34m:\u001b[0m\u001b[0;34m\u001b[0m\u001b[0;34m\u001b[0m\u001b[0m\n\u001b[0;32m--> 239\u001b[0;31m             \u001b[0mmaj\u001b[0m \u001b[0;34m=\u001b[0m \u001b[0mnp\u001b[0m\u001b[0;34m.\u001b[0m\u001b[0margmax\u001b[0m\u001b[0;34m(\u001b[0m\u001b[0mself\u001b[0m\u001b[0;34m.\u001b[0m\u001b[0mpredict_proba\u001b[0m\u001b[0;34m(\u001b[0m\u001b[0mX\u001b[0m\u001b[0;34m)\u001b[0m\u001b[0;34m,\u001b[0m \u001b[0maxis\u001b[0m\u001b[0;34m=\u001b[0m\u001b[0;36m1\u001b[0m\u001b[0;34m)\u001b[0m\u001b[0;34m\u001b[0m\u001b[0;34m\u001b[0m\u001b[0m\n\u001b[0m\u001b[1;32m    240\u001b[0m \u001b[0;34m\u001b[0m\u001b[0m\n\u001b[1;32m    241\u001b[0m         \u001b[0;32melse\u001b[0m\u001b[0;34m:\u001b[0m  \u001b[0;31m# 'hard' voting\u001b[0m\u001b[0;34m\u001b[0m\u001b[0;34m\u001b[0m\u001b[0m\n",
      "\u001b[0;32m/ext/anaconda-2019.03/lib/python3.7/site-packages/sklearn/ensemble/_voting.py\u001b[0m in \u001b[0;36m_predict_proba\u001b[0;34m(self, X)\u001b[0m\n\u001b[1;32m    257\u001b[0m         \u001b[0;34m\"\"\"Predict class probabilities for X in 'soft' voting.\"\"\"\u001b[0m\u001b[0;34m\u001b[0m\u001b[0;34m\u001b[0m\u001b[0m\n\u001b[1;32m    258\u001b[0m         \u001b[0mcheck_is_fitted\u001b[0m\u001b[0;34m(\u001b[0m\u001b[0mself\u001b[0m\u001b[0;34m)\u001b[0m\u001b[0;34m\u001b[0m\u001b[0;34m\u001b[0m\u001b[0m\n\u001b[0;32m--> 259\u001b[0;31m         avg = np.average(self._collect_probas(X), axis=0,\n\u001b[0m\u001b[1;32m    260\u001b[0m                          weights=self._weights_not_none)\n\u001b[1;32m    261\u001b[0m         \u001b[0;32mreturn\u001b[0m \u001b[0mavg\u001b[0m\u001b[0;34m\u001b[0m\u001b[0;34m\u001b[0m\u001b[0m\n",
      "\u001b[0;32m/ext/anaconda-2019.03/lib/python3.7/site-packages/sklearn/ensemble/_voting.py\u001b[0m in \u001b[0;36m_collect_probas\u001b[0;34m(self, X)\u001b[0m\n\u001b[1;32m    252\u001b[0m     \u001b[0;32mdef\u001b[0m \u001b[0m_collect_probas\u001b[0m\u001b[0;34m(\u001b[0m\u001b[0mself\u001b[0m\u001b[0;34m,\u001b[0m \u001b[0mX\u001b[0m\u001b[0;34m)\u001b[0m\u001b[0;34m:\u001b[0m\u001b[0;34m\u001b[0m\u001b[0;34m\u001b[0m\u001b[0m\n\u001b[1;32m    253\u001b[0m         \u001b[0;34m\"\"\"Collect results from clf.predict calls.\"\"\"\u001b[0m\u001b[0;34m\u001b[0m\u001b[0;34m\u001b[0m\u001b[0m\n\u001b[0;32m--> 254\u001b[0;31m         \u001b[0;32mreturn\u001b[0m \u001b[0mnp\u001b[0m\u001b[0;34m.\u001b[0m\u001b[0masarray\u001b[0m\u001b[0;34m(\u001b[0m\u001b[0;34m[\u001b[0m\u001b[0mclf\u001b[0m\u001b[0;34m.\u001b[0m\u001b[0mpredict_proba\u001b[0m\u001b[0;34m(\u001b[0m\u001b[0mX\u001b[0m\u001b[0;34m)\u001b[0m \u001b[0;32mfor\u001b[0m \u001b[0mclf\u001b[0m \u001b[0;32min\u001b[0m \u001b[0mself\u001b[0m\u001b[0;34m.\u001b[0m\u001b[0mestimators_\u001b[0m\u001b[0;34m]\u001b[0m\u001b[0;34m)\u001b[0m\u001b[0;34m\u001b[0m\u001b[0;34m\u001b[0m\u001b[0m\n\u001b[0m\u001b[1;32m    255\u001b[0m \u001b[0;34m\u001b[0m\u001b[0m\n\u001b[1;32m    256\u001b[0m     \u001b[0;32mdef\u001b[0m \u001b[0m_predict_proba\u001b[0m\u001b[0;34m(\u001b[0m\u001b[0mself\u001b[0m\u001b[0;34m,\u001b[0m \u001b[0mX\u001b[0m\u001b[0;34m)\u001b[0m\u001b[0;34m:\u001b[0m\u001b[0;34m\u001b[0m\u001b[0;34m\u001b[0m\u001b[0m\n",
      "\u001b[0;32m/ext/anaconda-2019.03/lib/python3.7/site-packages/sklearn/ensemble/_voting.py\u001b[0m in \u001b[0;36m<listcomp>\u001b[0;34m(.0)\u001b[0m\n\u001b[1;32m    252\u001b[0m     \u001b[0;32mdef\u001b[0m \u001b[0m_collect_probas\u001b[0m\u001b[0;34m(\u001b[0m\u001b[0mself\u001b[0m\u001b[0;34m,\u001b[0m \u001b[0mX\u001b[0m\u001b[0;34m)\u001b[0m\u001b[0;34m:\u001b[0m\u001b[0;34m\u001b[0m\u001b[0;34m\u001b[0m\u001b[0m\n\u001b[1;32m    253\u001b[0m         \u001b[0;34m\"\"\"Collect results from clf.predict calls.\"\"\"\u001b[0m\u001b[0;34m\u001b[0m\u001b[0;34m\u001b[0m\u001b[0m\n\u001b[0;32m--> 254\u001b[0;31m         \u001b[0;32mreturn\u001b[0m \u001b[0mnp\u001b[0m\u001b[0;34m.\u001b[0m\u001b[0masarray\u001b[0m\u001b[0;34m(\u001b[0m\u001b[0;34m[\u001b[0m\u001b[0mclf\u001b[0m\u001b[0;34m.\u001b[0m\u001b[0mpredict_proba\u001b[0m\u001b[0;34m(\u001b[0m\u001b[0mX\u001b[0m\u001b[0;34m)\u001b[0m \u001b[0;32mfor\u001b[0m \u001b[0mclf\u001b[0m \u001b[0;32min\u001b[0m \u001b[0mself\u001b[0m\u001b[0;34m.\u001b[0m\u001b[0mestimators_\u001b[0m\u001b[0;34m]\u001b[0m\u001b[0;34m)\u001b[0m\u001b[0;34m\u001b[0m\u001b[0;34m\u001b[0m\u001b[0m\n\u001b[0m\u001b[1;32m    255\u001b[0m \u001b[0;34m\u001b[0m\u001b[0m\n\u001b[1;32m    256\u001b[0m     \u001b[0;32mdef\u001b[0m \u001b[0m_predict_proba\u001b[0m\u001b[0;34m(\u001b[0m\u001b[0mself\u001b[0m\u001b[0;34m,\u001b[0m \u001b[0mX\u001b[0m\u001b[0;34m)\u001b[0m\u001b[0;34m:\u001b[0m\u001b[0;34m\u001b[0m\u001b[0;34m\u001b[0m\u001b[0m\n",
      "\u001b[0;32m/ext/anaconda-2019.03/lib/python3.7/site-packages/sklearn/svm/_base.py\u001b[0m in \u001b[0;36mpredict_proba\u001b[0;34m(self)\u001b[0m\n\u001b[1;32m    634\u001b[0m         \u001b[0mdatasets\u001b[0m\u001b[0;34m.\u001b[0m\u001b[0;34m\u001b[0m\u001b[0;34m\u001b[0m\u001b[0m\n\u001b[1;32m    635\u001b[0m         \"\"\"\n\u001b[0;32m--> 636\u001b[0;31m         \u001b[0mself\u001b[0m\u001b[0;34m.\u001b[0m\u001b[0m_check_proba\u001b[0m\u001b[0;34m(\u001b[0m\u001b[0;34m)\u001b[0m\u001b[0;34m\u001b[0m\u001b[0;34m\u001b[0m\u001b[0m\n\u001b[0m\u001b[1;32m    637\u001b[0m         \u001b[0;32mreturn\u001b[0m \u001b[0mself\u001b[0m\u001b[0;34m.\u001b[0m\u001b[0m_predict_proba\u001b[0m\u001b[0;34m\u001b[0m\u001b[0;34m\u001b[0m\u001b[0m\n\u001b[1;32m    638\u001b[0m \u001b[0;34m\u001b[0m\u001b[0m\n",
      "\u001b[0;32m/ext/anaconda-2019.03/lib/python3.7/site-packages/sklearn/svm/_base.py\u001b[0m in \u001b[0;36m_check_proba\u001b[0;34m(self)\u001b[0m\n\u001b[1;32m    601\u001b[0m     \u001b[0;32mdef\u001b[0m \u001b[0m_check_proba\u001b[0m\u001b[0;34m(\u001b[0m\u001b[0mself\u001b[0m\u001b[0;34m)\u001b[0m\u001b[0;34m:\u001b[0m\u001b[0;34m\u001b[0m\u001b[0;34m\u001b[0m\u001b[0m\n\u001b[1;32m    602\u001b[0m         \u001b[0;32mif\u001b[0m \u001b[0;32mnot\u001b[0m \u001b[0mself\u001b[0m\u001b[0;34m.\u001b[0m\u001b[0mprobability\u001b[0m\u001b[0;34m:\u001b[0m\u001b[0;34m\u001b[0m\u001b[0;34m\u001b[0m\u001b[0m\n\u001b[0;32m--> 603\u001b[0;31m             raise AttributeError(\"predict_proba is not available when \"\n\u001b[0m\u001b[1;32m    604\u001b[0m                                  \" probability=False\")\n\u001b[1;32m    605\u001b[0m         \u001b[0;32mif\u001b[0m \u001b[0mself\u001b[0m\u001b[0;34m.\u001b[0m\u001b[0m_impl\u001b[0m \u001b[0;32mnot\u001b[0m \u001b[0;32min\u001b[0m \u001b[0;34m(\u001b[0m\u001b[0;34m'c_svc'\u001b[0m\u001b[0;34m,\u001b[0m \u001b[0;34m'nu_svc'\u001b[0m\u001b[0;34m)\u001b[0m\u001b[0;34m:\u001b[0m\u001b[0;34m\u001b[0m\u001b[0;34m\u001b[0m\u001b[0m\n",
      "\u001b[0;31mAttributeError\u001b[0m: predict_proba is not available when  probability=False"
     ]
    }
   ],
   "source": [
    "# Voting Classifier with soft voting\n",
    "vot_soft = VotingClassifier(estimators = estimator, voting ='soft')\n",
    "vot_soft.fit(X_train, y_train)\n",
    "y_pred = vot_soft.predict(X_test)"
   ]
  },
  {
   "cell_type": "markdown",
   "metadata": {
    "collapsed": false
   },
   "source": [
    "## AdaBoost\n",
    "The core principle of AdaBoost is to fit a sequence of weak learners (i.e., models that are only slightly better than random guessing, such as small decision trees) on repeatedly modified versions of the data. The predictions from all of them are then combined through a weighted majority vote (or sum) to produce the final prediction. The data modifications at each so-called boosting iteration consist of applying weights \n",
    " to each of the training samples. Initially, those weights are all set to \n",
    ", so that the first step simply trains a weak learner on the original data. For each successive iteration, the sample weights are individually modified and the learning algorithm is reapplied to the reweighted data. At a given step, those training examples that were incorrectly predicted by the boosted model induced at the previous step have their weights increased, whereas the weights are decreased for those that were predicted correctly. As iterations proceed, examples that are difficult to predict receive ever-increasing influence. Each subsequent weak learner is thereby forced to concentrate on the examples that are missed by the previous ones in the sequence"
   ]
  },
  {
   "cell_type": "code",
   "execution_count": 114,
   "metadata": {
    "collapsed": false
   },
   "outputs": [
   ],
   "source": [
    "from sklearn.model_selection import cross_val_score\n",
    "from sklearn.ensemble import AdaBoostClassifier\n"
   ]
  },
  {
   "cell_type": "code",
   "execution_count": 119,
   "metadata": {
    "collapsed": false
   },
   "outputs": [
    {
     "data": {
      "text/plain": [
       "sklearn.ensemble._weight_boosting.AdaBoostClassifier"
      ]
     },
     "execution_count": 119,
     "metadata": {
     },
     "output_type": "execute_result"
    }
   ],
   "source": [
    "clf = AdaBoostClassifier(n_estimators=100)\n",
    "type(clf)"
   ]
  },
  {
   "cell_type": "code",
   "execution_count": 122,
   "metadata": {
    "collapsed": false
   },
   "outputs": [
    {
     "name": "stderr",
     "output_type": "stream",
     "text": [
      "/ext/anaconda-2019.03/lib/python3.7/site-packages/sklearn/utils/validation.py:760: DataConversionWarning: A column-vector y was passed when a 1d array was expected. Please change the shape of y to (n_samples, ), for example using ravel().\n",
      "  y = column_or_1d(y, warn=True)\n",
      "/ext/anaconda-2019.03/lib/python3.7/site-packages/sklearn/utils/validation.py:760: DataConversionWarning: A column-vector y was passed when a 1d array was expected. Please change the shape of y to (n_samples, ), for example using ravel().\n",
      "  y = column_or_1d(y, warn=True)\n"
     ]
    },
    {
     "name": "stderr",
     "output_type": "stream",
     "text": [
      "/ext/anaconda-2019.03/lib/python3.7/site-packages/sklearn/utils/validation.py:760: DataConversionWarning: A column-vector y was passed when a 1d array was expected. Please change the shape of y to (n_samples, ), for example using ravel().\n",
      "  y = column_or_1d(y, warn=True)\n",
      "/ext/anaconda-2019.03/lib/python3.7/site-packages/sklearn/utils/validation.py:760: DataConversionWarning: A column-vector y was passed when a 1d array was expected. Please change the shape of y to (n_samples, ), for example using ravel().\n",
      "  y = column_or_1d(y, warn=True)\n"
     ]
    },
    {
     "name": "stderr",
     "output_type": "stream",
     "text": [
      "/ext/anaconda-2019.03/lib/python3.7/site-packages/sklearn/utils/validation.py:760: DataConversionWarning: A column-vector y was passed when a 1d array was expected. Please change the shape of y to (n_samples, ), for example using ravel().\n",
      "  y = column_or_1d(y, warn=True)\n"
     ]
    },
    {
     "data": {
      "text/plain": [
       "0.8483516483516483"
      ]
     },
     "execution_count": 122,
     "metadata": {
     },
     "output_type": "execute_result"
    }
   ],
   "source": [
    "scores = cross_val_score(clf, X, Y, cv=5)\n",
    "scores.mean()"
   ]
  }
 ],
 "metadata": {
  "kernelspec": {
   "display_name": "Python 3 (Anaconda 2019)",
   "env": {
    "AR": "/ext/anaconda-2019.03/bin/x86_64-conda_cos6-linux-gnu-ar",
    "AS": "/ext/anaconda-2019.03/bin/x86_64-conda_cos6-linux-gnu-as",
    "CC": "/ext/anaconda-2019.03/bin/x86_64-conda_cos6-linux-gnu-cc",
    "CONDA_EXE": "/ext/anaconda-2019.03/bin/conda",
    "CONDA_PREFIX": "/ext/anaconda-2019.03",
    "CONDA_PYTHON_EXE": "/ext/anaconda-2019.03/bin/python",
    "CPP": "/ext/anaconda-2019.03/bin/x86_64-conda_cos6-linux-gnu-cpp",
    "CXX": "/ext/anaconda-2019.03/bin/x86_64-conda_cos6-linux-gnu-c++",
    "CXXFILT": "/ext/anaconda-2019.03/bin/x86_64-conda_cos6-linux-gnu-c++filt",
    "ELFEDIT": "/ext/anaconda-2019.03/bin/x86_64-conda_cos6-linux-gnu-elfedit",
    "F77": "/ext/anaconda-2019.03/bin/x86_64-conda_cos6-linux-gnu-gfortran",
    "F90": "/ext/anaconda-2019.03/bin/x86_64-conda_cos6-linux-gnu-gfortran",
    "F95": "/ext/anaconda-2019.03/bin/x86_64-conda_cos6-linux-gnu-f95",
    "FC": "/ext/anaconda-2019.03/bin/x86_64-conda_cos6-linux-gnu-gfortran",
    "GCC": "/ext/anaconda-2019.03/bin/x86_64-conda_cos6-linux-gnu-gcc",
    "GCC_AR": "/ext/anaconda-2019.03/bin/x86_64-conda_cos6-linux-gnu-gcc-ar",
    "GCC_NM": "/ext/anaconda-2019.03/bin/x86_64-conda_cos6-linux-gnu-gcc-nm",
    "GCC_RANLIB": "/ext/anaconda-2019.03/bin/x86_64-conda_cos6-linux-gnu-gcc-ranlib",
    "GDAL_DATA": "/ext/anaconda-2019.03/share/gdal",
    "GFORTRAN": "/ext/anaconda-2019.03/bin/x86_64-conda_cos6-linux-gnu-gfortran",
    "GPROF": "/ext/anaconda-2019.03/bin/x86_64-conda_cos6-linux-gnu-gprof",
    "GXX": "/ext/anaconda-2019.03/bin/x86_64-conda_cos6-linux-gnu-g++",
    "JAVA_HOME": "/ext/anaconda-2019.03",
    "JAVA_LD_LIBRARY_PATH": "/ext/anaconda-2019.03/lib/server",
    "LD": "/ext/anaconda-2019.03/bin/x86_64-conda_cos6-linux-gnu-ld",
    "LD_GOLD": "/ext/anaconda-2019.03/bin/x86_64-conda_cos6-linux-gnu-ld.gold",
    "LD_LIBRARY_PATH": "/ext/anaconda-2019.03/lib",
    "NM": "/ext/anaconda-2019.03/bin/x86_64-conda_cos6-linux-gnu-nm",
    "OBJCOPY": "/ext/anaconda-2019.03/bin/x86_64-conda_cos6-linux-gnu-objcopy",
    "OBJDUMP": "/ext/anaconda-2019.03/bin/x86_64-conda_cos6-linux-gnu-objdump",
    "OCAMLFIND_CONF": "/ext/anaconda-2019.03/etc/findlib.conf",
    "OCAMLLIB": "/ext/anaconda-2019.03/lib/ocaml",
    "OCAML_PREFIX": "/ext/anaconda-2019.03",
    "PATH": "/ext/anaconda-2019.03/bin:/ext/anaconda-2019.03/condabin:/cocalc/bin:/cocalc/src/smc-project/bin:/home/user/bin:/home/user/.local/bin:/ext/bin:/usr/lib/xpra:/opt/ghc/bin:/usr/local/bin:/usr/bin:/bin:/ext/data/homer/bin:/ext/data/weblogo:/ext/intellij/idea/bin:/ext/pycharm/pycharm/bin:/usr/lib/postgresql/10/bin",
    "PROJ_LIB": "/ext/anaconda-2019.03/share/proj",
    "PYTHONHOME": "/ext/anaconda-2019.03/lib/python3.7",
    "PYTHONPATH": "/ext/anaconda-2019.03/lib/python3.7:/ext/anaconda-2019.03/lib/python3.7/site-packages",
    "RANLIB": "/ext/anaconda-2019.03/bin/x86_64-conda_cos6-linux-gnu-ranlib",
    "READELF": "/ext/anaconda-2019.03/bin/x86_64-conda_cos6-linux-gnu-readelf",
    "RSTUDIO_WHICH_R": "/ext/anaconda-2019.03/bin/R",
    "SIZE": "/ext/anaconda-2019.03/bin/x86_64-conda_cos6-linux-gnu-size",
    "STRINGS": "/ext/anaconda-2019.03/bin/x86_64-conda_cos6-linux-gnu-strings",
    "STRIP": "/ext/anaconda-2019.03/bin/x86_64-conda_cos6-linux-gnu-strip"
   },
   "language": "python",
   "metadata": {
    "cocalc": {
     "description": "Python/R distribution for data science",
     "priority": 5,
     "url": "https://www.anaconda.com/distribution/"
    }
   },
   "name": "anaconda2019"
  },
  "language_info": {
   "codemirror_mode": {
    "name": "ipython",
    "version": 3
   },
   "file_extension": ".py",
   "mimetype": "text/x-python",
   "name": "python",
   "nbconvert_exporter": "python",
   "pygments_lexer": "ipython3",
   "version": "3.7.7"
  }
 },
 "nbformat": 4,
 "nbformat_minor": 4
}