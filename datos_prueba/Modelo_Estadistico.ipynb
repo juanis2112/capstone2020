{
 "cells": [
  {
   "cell_type": "code",
   "execution_count": 98,
   "metadata": {
    "collapsed": false
   },
   "outputs": [
   ],
   "source": [
    "import pandas as pd\n",
    "import numpy as np\n",
    "import seaborn as sns\n",
    "import matplotlib.pyplot as plt\n",
    "import seaborn as sns\n",
    "from sklearn.cluster import KMeans\n",
    "from sklearn.model_selection import train_test_split\n",
    "from sklearn.neighbors import KNeighborsClassifier\n",
    "from sklearn.naive_bayes import GaussianNB\n",
    "from sklearn.linear_model import LogisticRegression\n",
    "from sklearn.metrics import silhouette_score, confusion_matrix,classification_report\n",
    "from sklearn import metrics\n"
   ]
  },
  {
   "cell_type": "code",
   "execution_count": 2,
   "metadata": {
    "collapsed": false
   },
   "outputs": [
    {
     "data": {
      "text/html": [
       "<div>\n",
       "<style scoped>\n",
       "    .dataframe tbody tr th:only-of-type {\n",
       "        vertical-align: middle;\n",
       "    }\n",
       "\n",
       "    .dataframe tbody tr th {\n",
       "        vertical-align: top;\n",
       "    }\n",
       "\n",
       "    .dataframe thead th {\n",
       "        text-align: right;\n",
       "    }\n",
       "</style>\n",
       "<table border=\"1\" class=\"dataframe\">\n",
       "  <thead>\n",
       "    <tr style=\"text-align: right;\">\n",
       "      <th></th>\n",
       "      <th>index</th>\n",
       "      <th>Documento_Ingreso</th>\n",
       "      <th>Documento_Actual</th>\n",
       "      <th>Codigo</th>\n",
       "      <th>Apellido_1_Estudiante</th>\n",
       "      <th>Apellido_2_Estudiante</th>\n",
       "      <th>Nombres_Estudiante</th>\n",
       "      <th>Acceso</th>\n",
       "      <th>Subacceso</th>\n",
       "      <th>Correo_Institucional</th>\n",
       "      <th>...</th>\n",
       "      <th>Corte_3p</th>\n",
       "      <th>Nota_4to_Corte</th>\n",
       "      <th>Corte_4p</th>\n",
       "      <th>Nota_5to_Corte</th>\n",
       "      <th>Corte_5p</th>\n",
       "      <th>Nombre_completo</th>\n",
       "      <th>Correo</th>\n",
       "      <th>Grupo</th>\n",
       "      <th>usuario</th>\n",
       "      <th>Nota_final</th>\n",
       "    </tr>\n",
       "  </thead>\n",
       "  <tbody>\n",
       "    <tr>\n",
       "      <th>0</th>\n",
       "      <td>0</td>\n",
       "      <td>221123</td>\n",
       "      <td>44867</td>\n",
       "      <td>751433</td>\n",
       "      <td>-</td>\n",
       "      <td>-</td>\n",
       "      <td>alcjobxj</td>\n",
       "      <td>Nuevo al programa</td>\n",
       "      <td>Bachillerato con Examen de Estado</td>\n",
       "      <td>alcjobxj@urosario.edu.co</td>\n",
       "      <td>...</td>\n",
       "      <td>20</td>\n",
       "      <td>3.7</td>\n",
       "      <td>15</td>\n",
       "      <td>4.0</td>\n",
       "      <td>25</td>\n",
       "      <td>Norma Sarmiento</td>\n",
       "      <td>norma.sarmiento@urosario.edu.co</td>\n",
       "      <td>1</td>\n",
       "      <td>norma.sarmiento</td>\n",
       "      <td>3.855</td>\n",
       "    </tr>\n",
       "    <tr>\n",
       "      <th>1</th>\n",
       "      <td>1</td>\n",
       "      <td>166515</td>\n",
       "      <td>40599</td>\n",
       "      <td>749859</td>\n",
       "      <td>-</td>\n",
       "      <td>-</td>\n",
       "      <td>orhawgyi</td>\n",
       "      <td>Termino condición doble programa</td>\n",
       "      <td>GENERAL</td>\n",
       "      <td>orhawgyi@urosario.edu.co</td>\n",
       "      <td>...</td>\n",
       "      <td>20</td>\n",
       "      <td>3.5</td>\n",
       "      <td>15</td>\n",
       "      <td>3.5</td>\n",
       "      <td>25</td>\n",
       "      <td>Norma Sarmiento</td>\n",
       "      <td>norma.sarmiento@urosario.edu.co</td>\n",
       "      <td>1</td>\n",
       "      <td>norma.sarmiento</td>\n",
       "      <td>3.820</td>\n",
       "    </tr>\n",
       "    <tr>\n",
       "      <th>2</th>\n",
       "      <td>2</td>\n",
       "      <td>133161</td>\n",
       "      <td>98669</td>\n",
       "      <td>31366</td>\n",
       "      <td>-</td>\n",
       "      <td>-</td>\n",
       "      <td>mdfaizgp</td>\n",
       "      <td>Doble Programa</td>\n",
       "      <td>GENERAL</td>\n",
       "      <td>mdfaizgp@urosario.edu.co</td>\n",
       "      <td>...</td>\n",
       "      <td>20</td>\n",
       "      <td>3.9</td>\n",
       "      <td>15</td>\n",
       "      <td>3.6</td>\n",
       "      <td>25</td>\n",
       "      <td>Norma Sarmiento</td>\n",
       "      <td>norma.sarmiento@urosario.edu.co</td>\n",
       "      <td>1</td>\n",
       "      <td>norma.sarmiento</td>\n",
       "      <td>4.225</td>\n",
       "    </tr>\n",
       "    <tr>\n",
       "      <th>3</th>\n",
       "      <td>3</td>\n",
       "      <td>164862</td>\n",
       "      <td>25568</td>\n",
       "      <td>111363</td>\n",
       "      <td>-</td>\n",
       "      <td>-</td>\n",
       "      <td>mwuaqnnz</td>\n",
       "      <td>Extranjero</td>\n",
       "      <td>GENERAL</td>\n",
       "      <td>mwuaqnnz@urosario.edu.co</td>\n",
       "      <td>...</td>\n",
       "      <td>20</td>\n",
       "      <td>3.5</td>\n",
       "      <td>15</td>\n",
       "      <td>3.8</td>\n",
       "      <td>25</td>\n",
       "      <td>Norma Sarmiento</td>\n",
       "      <td>norma.sarmiento@urosario.edu.co</td>\n",
       "      <td>1</td>\n",
       "      <td>norma.sarmiento</td>\n",
       "      <td>3.575</td>\n",
       "    </tr>\n",
       "    <tr>\n",
       "      <th>4</th>\n",
       "      <td>4</td>\n",
       "      <td>879672</td>\n",
       "      <td>73231</td>\n",
       "      <td>667248</td>\n",
       "      <td>-</td>\n",
       "      <td>-</td>\n",
       "      <td>pgooxicb</td>\n",
       "      <td>Doble Programa</td>\n",
       "      <td>Departamento de Admisiones</td>\n",
       "      <td>pgooxicb@urosario.edu.co</td>\n",
       "      <td>...</td>\n",
       "      <td>20</td>\n",
       "      <td>2.6</td>\n",
       "      <td>15</td>\n",
       "      <td>2.7</td>\n",
       "      <td>25</td>\n",
       "      <td>Norma Sarmiento</td>\n",
       "      <td>norma.sarmiento@urosario.edu.co</td>\n",
       "      <td>1</td>\n",
       "      <td>norma.sarmiento</td>\n",
       "      <td>2.545</td>\n",
       "    </tr>\n",
       "    <tr>\n",
       "      <th>...</th>\n",
       "      <td>...</td>\n",
       "      <td>...</td>\n",
       "      <td>...</td>\n",
       "      <td>...</td>\n",
       "      <td>...</td>\n",
       "      <td>...</td>\n",
       "      <td>...</td>\n",
       "      <td>...</td>\n",
       "      <td>...</td>\n",
       "      <td>...</td>\n",
       "      <td>...</td>\n",
       "      <td>...</td>\n",
       "      <td>...</td>\n",
       "      <td>...</td>\n",
       "      <td>...</td>\n",
       "      <td>...</td>\n",
       "      <td>...</td>\n",
       "      <td>...</td>\n",
       "      <td>...</td>\n",
       "      <td>...</td>\n",
       "      <td>...</td>\n",
       "    </tr>\n",
       "    <tr>\n",
       "      <th>1249</th>\n",
       "      <td>1315</td>\n",
       "      <td>515977</td>\n",
       "      <td>27417</td>\n",
       "      <td>126984</td>\n",
       "      <td>-</td>\n",
       "      <td>-</td>\n",
       "      <td>jnkgwinp</td>\n",
       "      <td>Extranjero</td>\n",
       "      <td>GENERAL</td>\n",
       "      <td>jnkgwinp@urosario.edu.co</td>\n",
       "      <td>...</td>\n",
       "      <td>20</td>\n",
       "      <td>2.6</td>\n",
       "      <td>15</td>\n",
       "      <td>2.4</td>\n",
       "      <td>25</td>\n",
       "      <td>Lazaro Ramirez</td>\n",
       "      <td>lazaro.ramirez@urosario.edu.co</td>\n",
       "      <td>1</td>\n",
       "      <td>lazaro.ramirez</td>\n",
       "      <td>2.230</td>\n",
       "    </tr>\n",
       "    <tr>\n",
       "      <th>1250</th>\n",
       "      <td>1316</td>\n",
       "      <td>989769</td>\n",
       "      <td>86022</td>\n",
       "      <td>706697</td>\n",
       "      <td>-</td>\n",
       "      <td>-</td>\n",
       "      <td>llnuonlp</td>\n",
       "      <td>Reingreso por Fortalecimiento académico</td>\n",
       "      <td>GENERAL</td>\n",
       "      <td>llnuonlp@urosario.edu.co</td>\n",
       "      <td>...</td>\n",
       "      <td>20</td>\n",
       "      <td>3.1</td>\n",
       "      <td>15</td>\n",
       "      <td>2.2</td>\n",
       "      <td>25</td>\n",
       "      <td>Lazaro Ramirez</td>\n",
       "      <td>lazaro.ramirez@urosario.edu.co</td>\n",
       "      <td>1</td>\n",
       "      <td>lazaro.ramirez</td>\n",
       "      <td>2.755</td>\n",
       "    </tr>\n",
       "    <tr>\n",
       "      <th>1251</th>\n",
       "      <td>1317</td>\n",
       "      <td>480565</td>\n",
       "      <td>94961</td>\n",
       "      <td>29130</td>\n",
       "      <td>-</td>\n",
       "      <td>-</td>\n",
       "      <td>xrszqdqk</td>\n",
       "      <td>Termino condición doble programa</td>\n",
       "      <td>Departamento de Admisiones</td>\n",
       "      <td>xrszqdqk@urosario.edu.co</td>\n",
       "      <td>...</td>\n",
       "      <td>20</td>\n",
       "      <td>2.5</td>\n",
       "      <td>15</td>\n",
       "      <td>2.4</td>\n",
       "      <td>25</td>\n",
       "      <td>Lazaro Ramirez</td>\n",
       "      <td>lazaro.ramirez@urosario.edu.co</td>\n",
       "      <td>1</td>\n",
       "      <td>lazaro.ramirez</td>\n",
       "      <td>2.695</td>\n",
       "    </tr>\n",
       "    <tr>\n",
       "      <th>1252</th>\n",
       "      <td>1318</td>\n",
       "      <td>43699</td>\n",
       "      <td>8785</td>\n",
       "      <td>130825</td>\n",
       "      <td>-</td>\n",
       "      <td>-</td>\n",
       "      <td>tskxxthh</td>\n",
       "      <td>Termino condición doble programa</td>\n",
       "      <td>Departamento de Admisiones</td>\n",
       "      <td>tskxxthh@urosario.edu.co</td>\n",
       "      <td>...</td>\n",
       "      <td>20</td>\n",
       "      <td>2.7</td>\n",
       "      <td>15</td>\n",
       "      <td>2.6</td>\n",
       "      <td>25</td>\n",
       "      <td>Lazaro Ramirez</td>\n",
       "      <td>lazaro.ramirez@urosario.edu.co</td>\n",
       "      <td>1</td>\n",
       "      <td>lazaro.ramirez</td>\n",
       "      <td>2.655</td>\n",
       "    </tr>\n",
       "    <tr>\n",
       "      <th>1253</th>\n",
       "      <td>1319</td>\n",
       "      <td>66252</td>\n",
       "      <td>36341</td>\n",
       "      <td>126266</td>\n",
       "      <td>-</td>\n",
       "      <td>-</td>\n",
       "      <td>pqggjqjy</td>\n",
       "      <td>Reingreso por Fortalecimiento académico</td>\n",
       "      <td>GENERAL</td>\n",
       "      <td>pqggjqjy@urosario.edu.co</td>\n",
       "      <td>...</td>\n",
       "      <td>20</td>\n",
       "      <td>2.8</td>\n",
       "      <td>15</td>\n",
       "      <td>2.5</td>\n",
       "      <td>25</td>\n",
       "      <td>Lazaro Ramirez</td>\n",
       "      <td>lazaro.ramirez@urosario.edu.co</td>\n",
       "      <td>1</td>\n",
       "      <td>lazaro.ramirez</td>\n",
       "      <td>2.585</td>\n",
       "    </tr>\n",
       "  </tbody>\n",
       "</table>\n",
       "<p>1254 rows × 35 columns</p>\n",
       "</div>"
      ],
      "text/plain": [
       "      index  Documento_Ingreso  Documento_Actual  Codigo  \\\n",
       "0         0             221123             44867  751433   \n",
       "1         1             166515             40599  749859   \n",
       "2         2             133161             98669   31366   \n",
       "3         3             164862             25568  111363   \n",
       "4         4             879672             73231  667248   \n",
       "...     ...                ...               ...     ...   \n",
       "1249   1315             515977             27417  126984   \n",
       "1250   1316             989769             86022  706697   \n",
       "1251   1317             480565             94961   29130   \n",
       "1252   1318              43699              8785  130825   \n",
       "1253   1319              66252             36341  126266   \n",
       "\n",
       "     Apellido_1_Estudiante Apellido_2_Estudiante Nombres_Estudiante  \\\n",
       "0                        -                     -           alcjobxj   \n",
       "1                        -                     -           orhawgyi   \n",
       "2                        -                     -           mdfaizgp   \n",
       "3                        -                     -           mwuaqnnz   \n",
       "4                        -                     -           pgooxicb   \n",
       "...                    ...                   ...                ...   \n",
       "1249                     -                     -           jnkgwinp   \n",
       "1250                     -                     -           llnuonlp   \n",
       "1251                     -                     -           xrszqdqk   \n",
       "1252                     -                     -           tskxxthh   \n",
       "1253                     -                     -           pqggjqjy   \n",
       "\n",
       "                                       Acceso  \\\n",
       "0                           Nuevo al programa   \n",
       "1            Termino condición doble programa   \n",
       "2                              Doble Programa   \n",
       "3                                  Extranjero   \n",
       "4                              Doble Programa   \n",
       "...                                       ...   \n",
       "1249                               Extranjero   \n",
       "1250  Reingreso por Fortalecimiento académico   \n",
       "1251         Termino condición doble programa   \n",
       "1252         Termino condición doble programa   \n",
       "1253  Reingreso por Fortalecimiento académico   \n",
       "\n",
       "                              Subacceso      Correo_Institucional  ...  \\\n",
       "0     Bachillerato con Examen de Estado  alcjobxj@urosario.edu.co  ...   \n",
       "1                               GENERAL  orhawgyi@urosario.edu.co  ...   \n",
       "2                               GENERAL  mdfaizgp@urosario.edu.co  ...   \n",
       "3                               GENERAL  mwuaqnnz@urosario.edu.co  ...   \n",
       "4            Departamento de Admisiones  pgooxicb@urosario.edu.co  ...   \n",
       "...                                 ...                       ...  ...   \n",
       "1249                            GENERAL  jnkgwinp@urosario.edu.co  ...   \n",
       "1250                            GENERAL  llnuonlp@urosario.edu.co  ...   \n",
       "1251         Departamento de Admisiones  xrszqdqk@urosario.edu.co  ...   \n",
       "1252         Departamento de Admisiones  tskxxthh@urosario.edu.co  ...   \n",
       "1253                            GENERAL  pqggjqjy@urosario.edu.co  ...   \n",
       "\n",
       "     Corte_3p Nota_4to_Corte Corte_4p  Nota_5to_Corte  Corte_5p  \\\n",
       "0          20            3.7       15             4.0        25   \n",
       "1          20            3.5       15             3.5        25   \n",
       "2          20            3.9       15             3.6        25   \n",
       "3          20            3.5       15             3.8        25   \n",
       "4          20            2.6       15             2.7        25   \n",
       "...       ...            ...      ...             ...       ...   \n",
       "1249       20            2.6       15             2.4        25   \n",
       "1250       20            3.1       15             2.2        25   \n",
       "1251       20            2.5       15             2.4        25   \n",
       "1252       20            2.7       15             2.6        25   \n",
       "1253       20            2.8       15             2.5        25   \n",
       "\n",
       "      Nombre_completo                           Correo  Grupo  \\\n",
       "0     Norma Sarmiento  norma.sarmiento@urosario.edu.co      1   \n",
       "1     Norma Sarmiento  norma.sarmiento@urosario.edu.co      1   \n",
       "2     Norma Sarmiento  norma.sarmiento@urosario.edu.co      1   \n",
       "3     Norma Sarmiento  norma.sarmiento@urosario.edu.co      1   \n",
       "4     Norma Sarmiento  norma.sarmiento@urosario.edu.co      1   \n",
       "...               ...                              ...    ...   \n",
       "1249   Lazaro Ramirez   lazaro.ramirez@urosario.edu.co      1   \n",
       "1250   Lazaro Ramirez   lazaro.ramirez@urosario.edu.co      1   \n",
       "1251   Lazaro Ramirez   lazaro.ramirez@urosario.edu.co      1   \n",
       "1252   Lazaro Ramirez   lazaro.ramirez@urosario.edu.co      1   \n",
       "1253   Lazaro Ramirez   lazaro.ramirez@urosario.edu.co      1   \n",
       "\n",
       "              usuario Nota_final  \n",
       "0     norma.sarmiento      3.855  \n",
       "1     norma.sarmiento      3.820  \n",
       "2     norma.sarmiento      4.225  \n",
       "3     norma.sarmiento      3.575  \n",
       "4     norma.sarmiento      2.545  \n",
       "...               ...        ...  \n",
       "1249   lazaro.ramirez      2.230  \n",
       "1250   lazaro.ramirez      2.755  \n",
       "1251   lazaro.ramirez      2.695  \n",
       "1252   lazaro.ramirez      2.655  \n",
       "1253   lazaro.ramirez      2.585  \n",
       "\n",
       "[1254 rows x 35 columns]"
      ]
     },
     "execution_count": 2,
     "metadata": {
     },
     "output_type": "execute_result"
    }
   ],
   "source": [
    "completo = pd.read_csv(\"Datos_completos.csv\")\n",
    "completo"
   ]
  },
  {
   "cell_type": "markdown",
   "metadata": {
    "collapsed": false
   },
   "source": [
    "%%latex\n",
    "\\usepackage{amsmath,amssymb,amsfonts}\n",
    "\n"
   ]
  },
  {
   "cell_type": "markdown",
   "metadata": {
    "collapsed": false
   },
   "source": [
    "### Tareas\n",
    "1. Leer paper https://reader.elsevier.com/reader/sd/pii/S0360131516301634?token=DB86640804CC9FE6B7FB5B1D080396823D2094FD36E393FA33E1D62F8CCB331555272C9D164BCAFA28296E5B1C692630\n",
    "2. Ver cada uno sus modelos teoricos (Escribirlos aca en latex en español), y despues aplicarlo a la base de datos completos (Hecho - Falta Decision Tree)\n",
    "3. Reunion Lunes para explicarle al otro los modelos y la aplicación (Hecho)\n",
    "4. Hacer modelo por cada materia y si es posible que dependa de las notas obtenidas anteriormente en las pre-requisito.\n",
    "5. Generar distribución notas a partir de la base de datos de notas\n",
    "6. Sacar $F_{1.5}$, medidas precision\n",
    "\n",
    "Preguntas:\n",
    "1. Como podemos generar la distribucion de notas\n",
    "2. Hasta que corte seria ideal la alerta\n",
    "\n",
    "\n",
    "Ruiz : K-Nearest, Decision Tree\n",
    "Miguel : Regresion Logistica y Clasificador bayesiano"
   ]
  },
  {
   "cell_type": "markdown",
   "metadata": {
    "collapsed": false
   },
   "source": [
    "## Notas Paper Miguel\n",
    "\n",
    "* Que el estudiante sepa del modelo predictivo podria considerarse malo, ya que él podria creer que sus notas futuras ya estan predichas por el modelo. Luego seria ideal que solo lo supiera el administrador\n",
    "* Utilizaron tres notas de examenes como indicadores del performance durante el semestre. Asi como el GPA acumulativo fue tenido en cuenta y las notas en las materias pre-requisito de la materia.\n",
    "* Las primeras notas del semestre tienden a ser muy buenas predictoras de como van a ser el rendimiento del estudiante de la materia\n",
    "* Plantean que es mejor crear un modelo por cada materia que uno generalizado\n",
    "* Recomiendan este libro para ver los metodos: \"Principle of Data Mining,D.J. Hand, H. Mannila and P. Smyth MIT press, New York (2001)\", Link : https://www.researchgate.net/publication/220688376_Principles_of_Data_Mining (Se ve como bueno)\n",
    "* Calculan la precisión del modelo de los que pasaron con los que no, para encontrar un mejor modelo que prediga mejor a los malos. Si fueran unidos podria que un modelo diera menos errores en general pero que falle muchisimo en los malos estudiantes , lo cual seria un problema. Tambien calcularon un $F_{1.5}$ puntaje que le da mas peso a los estudiantes que fallaron que los que pasaron.\n",
    "* Utilizaron el coeficiente de Pearson para saber que tan corelacionadas estaban las variables explicativas, si pasaba de 0,3 las escogian. (Podriamos hacer eso)\n",
    "* Parece que es necesario acotar el numero de estudiantes de los datos de entrenamiento, para que el modelo no se descarrile. (Recordad base Juan F el numero de notas varia mucho).\n",
    "* Falso negativo : No identificar estudiantes que se encontraban en riesgo.\n",
    "* Termina siendo mejor haciendo un modelo combinado de otros modelos (Ensemble)."
   ]
  },
  {
   "cell_type": "markdown",
   "metadata": {
    "collapsed": false
   },
   "source": [
    "## K-Nearest Neighbours\n",
    "\n"
   ]
  },
  {
   "cell_type": "markdown",
   "metadata": {
    "collapsed": false
   },
   "source": [
    "K-Nearest Neighbours (KNN) es un modelo de aprendizaje supervisado. Se necesita de etiquetas de cada uno de los estudiantes en cada uno de los cortes o con el promedio final.\n",
    "\n"
   ]
  },
  {
   "cell_type": "markdown",
   "metadata": {
    "collapsed": false
   },
   "source": [
    "## K-means clustering\n",
    "Este es un modelo de aprendizaje no supervisado. Permite agrupar los estudiantes por clusters sin depender de etiquetas de algún tipo. El método crea etiquetas una vez indica a qué cluster pertenece cada registro."
   ]
  },
  {
   "cell_type": "code",
   "execution_count": 3,
   "metadata": {
    "collapsed": false
   },
   "outputs": [
    {
     "data": {
      "text/html": [
       "<div>\n",
       "<style scoped>\n",
       "    .dataframe tbody tr th:only-of-type {\n",
       "        vertical-align: middle;\n",
       "    }\n",
       "\n",
       "    .dataframe tbody tr th {\n",
       "        vertical-align: top;\n",
       "    }\n",
       "\n",
       "    .dataframe thead th {\n",
       "        text-align: right;\n",
       "    }\n",
       "</style>\n",
       "<table border=\"1\" class=\"dataframe\">\n",
       "  <thead>\n",
       "    <tr style=\"text-align: right;\">\n",
       "      <th></th>\n",
       "      <th>index</th>\n",
       "      <th>Documento_Ingreso</th>\n",
       "      <th>Documento_Actual</th>\n",
       "      <th>Codigo</th>\n",
       "      <th>Apellido_1_Estudiante</th>\n",
       "      <th>Apellido_2_Estudiante</th>\n",
       "      <th>Nombres_Estudiante</th>\n",
       "      <th>Acceso</th>\n",
       "      <th>Subacceso</th>\n",
       "      <th>Correo_Institucional</th>\n",
       "      <th>...</th>\n",
       "      <th>Corte_3p</th>\n",
       "      <th>Nota_4to_Corte</th>\n",
       "      <th>Corte_4p</th>\n",
       "      <th>Nota_5to_Corte</th>\n",
       "      <th>Corte_5p</th>\n",
       "      <th>Nombre_completo</th>\n",
       "      <th>Correo</th>\n",
       "      <th>Grupo</th>\n",
       "      <th>usuario</th>\n",
       "      <th>Nota_final</th>\n",
       "    </tr>\n",
       "  </thead>\n",
       "  <tbody>\n",
       "    <tr>\n",
       "      <th>66</th>\n",
       "      <td>66</td>\n",
       "      <td>221123</td>\n",
       "      <td>44867</td>\n",
       "      <td>751433</td>\n",
       "      <td>-</td>\n",
       "      <td>-</td>\n",
       "      <td>alcjobxj</td>\n",
       "      <td>Nuevo al programa</td>\n",
       "      <td>Bachillerato con Examen de Estado</td>\n",
       "      <td>alcjobxj@urosario.edu.co</td>\n",
       "      <td>...</td>\n",
       "      <td>20</td>\n",
       "      <td>3.4</td>\n",
       "      <td>15</td>\n",
       "      <td>4.3</td>\n",
       "      <td>25</td>\n",
       "      <td>Margot Salas</td>\n",
       "      <td>margot.salas@urosario.edu.co</td>\n",
       "      <td>1</td>\n",
       "      <td>margot.salas</td>\n",
       "      <td>3.905</td>\n",
       "    </tr>\n",
       "    <tr>\n",
       "      <th>67</th>\n",
       "      <td>67</td>\n",
       "      <td>166515</td>\n",
       "      <td>40599</td>\n",
       "      <td>749859</td>\n",
       "      <td>-</td>\n",
       "      <td>-</td>\n",
       "      <td>orhawgyi</td>\n",
       "      <td>Termino condición doble programa</td>\n",
       "      <td>GENERAL</td>\n",
       "      <td>orhawgyi@urosario.edu.co</td>\n",
       "      <td>...</td>\n",
       "      <td>20</td>\n",
       "      <td>3.4</td>\n",
       "      <td>15</td>\n",
       "      <td>4.2</td>\n",
       "      <td>25</td>\n",
       "      <td>Margot Salas</td>\n",
       "      <td>margot.salas@urosario.edu.co</td>\n",
       "      <td>1</td>\n",
       "      <td>margot.salas</td>\n",
       "      <td>4.040</td>\n",
       "    </tr>\n",
       "    <tr>\n",
       "      <th>68</th>\n",
       "      <td>68</td>\n",
       "      <td>133161</td>\n",
       "      <td>98669</td>\n",
       "      <td>31366</td>\n",
       "      <td>-</td>\n",
       "      <td>-</td>\n",
       "      <td>mdfaizgp</td>\n",
       "      <td>Doble Programa</td>\n",
       "      <td>GENERAL</td>\n",
       "      <td>mdfaizgp@urosario.edu.co</td>\n",
       "      <td>...</td>\n",
       "      <td>20</td>\n",
       "      <td>4.2</td>\n",
       "      <td>15</td>\n",
       "      <td>4.7</td>\n",
       "      <td>25</td>\n",
       "      <td>Margot Salas</td>\n",
       "      <td>margot.salas@urosario.edu.co</td>\n",
       "      <td>1</td>\n",
       "      <td>margot.salas</td>\n",
       "      <td>4.305</td>\n",
       "    </tr>\n",
       "    <tr>\n",
       "      <th>69</th>\n",
       "      <td>69</td>\n",
       "      <td>164862</td>\n",
       "      <td>25568</td>\n",
       "      <td>111363</td>\n",
       "      <td>-</td>\n",
       "      <td>-</td>\n",
       "      <td>mwuaqnnz</td>\n",
       "      <td>Extranjero</td>\n",
       "      <td>GENERAL</td>\n",
       "      <td>mwuaqnnz@urosario.edu.co</td>\n",
       "      <td>...</td>\n",
       "      <td>20</td>\n",
       "      <td>3.3</td>\n",
       "      <td>15</td>\n",
       "      <td>3.7</td>\n",
       "      <td>25</td>\n",
       "      <td>Margot Salas</td>\n",
       "      <td>margot.salas@urosario.edu.co</td>\n",
       "      <td>1</td>\n",
       "      <td>margot.salas</td>\n",
       "      <td>3.560</td>\n",
       "    </tr>\n",
       "    <tr>\n",
       "      <th>70</th>\n",
       "      <td>70</td>\n",
       "      <td>879672</td>\n",
       "      <td>73231</td>\n",
       "      <td>667248</td>\n",
       "      <td>-</td>\n",
       "      <td>-</td>\n",
       "      <td>pgooxicb</td>\n",
       "      <td>Doble Programa</td>\n",
       "      <td>Departamento de Admisiones</td>\n",
       "      <td>pgooxicb@urosario.edu.co</td>\n",
       "      <td>...</td>\n",
       "      <td>20</td>\n",
       "      <td>2.6</td>\n",
       "      <td>15</td>\n",
       "      <td>2.5</td>\n",
       "      <td>25</td>\n",
       "      <td>Margot Salas</td>\n",
       "      <td>margot.salas@urosario.edu.co</td>\n",
       "      <td>1</td>\n",
       "      <td>margot.salas</td>\n",
       "      <td>2.815</td>\n",
       "    </tr>\n",
       "    <tr>\n",
       "      <th>...</th>\n",
       "      <td>...</td>\n",
       "      <td>...</td>\n",
       "      <td>...</td>\n",
       "      <td>...</td>\n",
       "      <td>...</td>\n",
       "      <td>...</td>\n",
       "      <td>...</td>\n",
       "      <td>...</td>\n",
       "      <td>...</td>\n",
       "      <td>...</td>\n",
       "      <td>...</td>\n",
       "      <td>...</td>\n",
       "      <td>...</td>\n",
       "      <td>...</td>\n",
       "      <td>...</td>\n",
       "      <td>...</td>\n",
       "      <td>...</td>\n",
       "      <td>...</td>\n",
       "      <td>...</td>\n",
       "      <td>...</td>\n",
       "      <td>...</td>\n",
       "    </tr>\n",
       "    <tr>\n",
       "      <th>127</th>\n",
       "      <td>127</td>\n",
       "      <td>515977</td>\n",
       "      <td>27417</td>\n",
       "      <td>126984</td>\n",
       "      <td>-</td>\n",
       "      <td>-</td>\n",
       "      <td>jnkgwinp</td>\n",
       "      <td>Extranjero</td>\n",
       "      <td>GENERAL</td>\n",
       "      <td>jnkgwinp@urosario.edu.co</td>\n",
       "      <td>...</td>\n",
       "      <td>20</td>\n",
       "      <td>2.6</td>\n",
       "      <td>15</td>\n",
       "      <td>2.1</td>\n",
       "      <td>25</td>\n",
       "      <td>Margot Salas</td>\n",
       "      <td>margot.salas@urosario.edu.co</td>\n",
       "      <td>1</td>\n",
       "      <td>margot.salas</td>\n",
       "      <td>2.395</td>\n",
       "    </tr>\n",
       "    <tr>\n",
       "      <th>128</th>\n",
       "      <td>128</td>\n",
       "      <td>989769</td>\n",
       "      <td>86022</td>\n",
       "      <td>706697</td>\n",
       "      <td>-</td>\n",
       "      <td>-</td>\n",
       "      <td>llnuonlp</td>\n",
       "      <td>Reingreso por Fortalecimiento académico</td>\n",
       "      <td>GENERAL</td>\n",
       "      <td>llnuonlp@urosario.edu.co</td>\n",
       "      <td>...</td>\n",
       "      <td>20</td>\n",
       "      <td>2.9</td>\n",
       "      <td>15</td>\n",
       "      <td>2.2</td>\n",
       "      <td>25</td>\n",
       "      <td>Margot Salas</td>\n",
       "      <td>margot.salas@urosario.edu.co</td>\n",
       "      <td>1</td>\n",
       "      <td>margot.salas</td>\n",
       "      <td>2.505</td>\n",
       "    </tr>\n",
       "    <tr>\n",
       "      <th>129</th>\n",
       "      <td>129</td>\n",
       "      <td>480565</td>\n",
       "      <td>94961</td>\n",
       "      <td>29130</td>\n",
       "      <td>-</td>\n",
       "      <td>-</td>\n",
       "      <td>xrszqdqk</td>\n",
       "      <td>Termino condición doble programa</td>\n",
       "      <td>Departamento de Admisiones</td>\n",
       "      <td>xrszqdqk@urosario.edu.co</td>\n",
       "      <td>...</td>\n",
       "      <td>20</td>\n",
       "      <td>2.7</td>\n",
       "      <td>15</td>\n",
       "      <td>3.3</td>\n",
       "      <td>25</td>\n",
       "      <td>Margot Salas</td>\n",
       "      <td>margot.salas@urosario.edu.co</td>\n",
       "      <td>1</td>\n",
       "      <td>margot.salas</td>\n",
       "      <td>2.630</td>\n",
       "    </tr>\n",
       "    <tr>\n",
       "      <th>130</th>\n",
       "      <td>130</td>\n",
       "      <td>43699</td>\n",
       "      <td>8785</td>\n",
       "      <td>130825</td>\n",
       "      <td>-</td>\n",
       "      <td>-</td>\n",
       "      <td>tskxxthh</td>\n",
       "      <td>Termino condición doble programa</td>\n",
       "      <td>Departamento de Admisiones</td>\n",
       "      <td>tskxxthh@urosario.edu.co</td>\n",
       "      <td>...</td>\n",
       "      <td>20</td>\n",
       "      <td>3.0</td>\n",
       "      <td>15</td>\n",
       "      <td>3.0</td>\n",
       "      <td>25</td>\n",
       "      <td>Margot Salas</td>\n",
       "      <td>margot.salas@urosario.edu.co</td>\n",
       "      <td>1</td>\n",
       "      <td>margot.salas</td>\n",
       "      <td>2.500</td>\n",
       "    </tr>\n",
       "    <tr>\n",
       "      <th>131</th>\n",
       "      <td>131</td>\n",
       "      <td>66252</td>\n",
       "      <td>36341</td>\n",
       "      <td>126266</td>\n",
       "      <td>-</td>\n",
       "      <td>-</td>\n",
       "      <td>pqggjqjy</td>\n",
       "      <td>Reingreso por Fortalecimiento académico</td>\n",
       "      <td>GENERAL</td>\n",
       "      <td>pqggjqjy@urosario.edu.co</td>\n",
       "      <td>...</td>\n",
       "      <td>20</td>\n",
       "      <td>2.9</td>\n",
       "      <td>15</td>\n",
       "      <td>1.9</td>\n",
       "      <td>25</td>\n",
       "      <td>Margot Salas</td>\n",
       "      <td>margot.salas@urosario.edu.co</td>\n",
       "      <td>1</td>\n",
       "      <td>margot.salas</td>\n",
       "      <td>2.670</td>\n",
       "    </tr>\n",
       "  </tbody>\n",
       "</table>\n",
       "<p>66 rows × 35 columns</p>\n",
       "</div>"
      ],
      "text/plain": [
       "     index  Documento_Ingreso  Documento_Actual  Codigo Apellido_1_Estudiante  \\\n",
       "66      66             221123             44867  751433                     -   \n",
       "67      67             166515             40599  749859                     -   \n",
       "68      68             133161             98669   31366                     -   \n",
       "69      69             164862             25568  111363                     -   \n",
       "70      70             879672             73231  667248                     -   \n",
       "..     ...                ...               ...     ...                   ...   \n",
       "127    127             515977             27417  126984                     -   \n",
       "128    128             989769             86022  706697                     -   \n",
       "129    129             480565             94961   29130                     -   \n",
       "130    130              43699              8785  130825                     -   \n",
       "131    131              66252             36341  126266                     -   \n",
       "\n",
       "    Apellido_2_Estudiante Nombres_Estudiante  \\\n",
       "66                      -           alcjobxj   \n",
       "67                      -           orhawgyi   \n",
       "68                      -           mdfaizgp   \n",
       "69                      -           mwuaqnnz   \n",
       "70                      -           pgooxicb   \n",
       "..                    ...                ...   \n",
       "127                     -           jnkgwinp   \n",
       "128                     -           llnuonlp   \n",
       "129                     -           xrszqdqk   \n",
       "130                     -           tskxxthh   \n",
       "131                     -           pqggjqjy   \n",
       "\n",
       "                                      Acceso  \\\n",
       "66                         Nuevo al programa   \n",
       "67          Termino condición doble programa   \n",
       "68                            Doble Programa   \n",
       "69                                Extranjero   \n",
       "70                            Doble Programa   \n",
       "..                                       ...   \n",
       "127                               Extranjero   \n",
       "128  Reingreso por Fortalecimiento académico   \n",
       "129         Termino condición doble programa   \n",
       "130         Termino condición doble programa   \n",
       "131  Reingreso por Fortalecimiento académico   \n",
       "\n",
       "                             Subacceso      Correo_Institucional  ...  \\\n",
       "66   Bachillerato con Examen de Estado  alcjobxj@urosario.edu.co  ...   \n",
       "67                             GENERAL  orhawgyi@urosario.edu.co  ...   \n",
       "68                             GENERAL  mdfaizgp@urosario.edu.co  ...   \n",
       "69                             GENERAL  mwuaqnnz@urosario.edu.co  ...   \n",
       "70          Departamento de Admisiones  pgooxicb@urosario.edu.co  ...   \n",
       "..                                 ...                       ...  ...   \n",
       "127                            GENERAL  jnkgwinp@urosario.edu.co  ...   \n",
       "128                            GENERAL  llnuonlp@urosario.edu.co  ...   \n",
       "129         Departamento de Admisiones  xrszqdqk@urosario.edu.co  ...   \n",
       "130         Departamento de Admisiones  tskxxthh@urosario.edu.co  ...   \n",
       "131                            GENERAL  pqggjqjy@urosario.edu.co  ...   \n",
       "\n",
       "    Corte_3p Nota_4to_Corte Corte_4p  Nota_5to_Corte  Corte_5p  \\\n",
       "66        20            3.4       15             4.3        25   \n",
       "67        20            3.4       15             4.2        25   \n",
       "68        20            4.2       15             4.7        25   \n",
       "69        20            3.3       15             3.7        25   \n",
       "70        20            2.6       15             2.5        25   \n",
       "..       ...            ...      ...             ...       ...   \n",
       "127       20            2.6       15             2.1        25   \n",
       "128       20            2.9       15             2.2        25   \n",
       "129       20            2.7       15             3.3        25   \n",
       "130       20            3.0       15             3.0        25   \n",
       "131       20            2.9       15             1.9        25   \n",
       "\n",
       "     Nombre_completo                        Correo  Grupo       usuario  \\\n",
       "66      Margot Salas  margot.salas@urosario.edu.co      1  margot.salas   \n",
       "67      Margot Salas  margot.salas@urosario.edu.co      1  margot.salas   \n",
       "68      Margot Salas  margot.salas@urosario.edu.co      1  margot.salas   \n",
       "69      Margot Salas  margot.salas@urosario.edu.co      1  margot.salas   \n",
       "70      Margot Salas  margot.salas@urosario.edu.co      1  margot.salas   \n",
       "..               ...                           ...    ...           ...   \n",
       "127     Margot Salas  margot.salas@urosario.edu.co      1  margot.salas   \n",
       "128     Margot Salas  margot.salas@urosario.edu.co      1  margot.salas   \n",
       "129     Margot Salas  margot.salas@urosario.edu.co      1  margot.salas   \n",
       "130     Margot Salas  margot.salas@urosario.edu.co      1  margot.salas   \n",
       "131     Margot Salas  margot.salas@urosario.edu.co      1  margot.salas   \n",
       "\n",
       "    Nota_final  \n",
       "66       3.905  \n",
       "67       4.040  \n",
       "68       4.305  \n",
       "69       3.560  \n",
       "70       2.815  \n",
       "..         ...  \n",
       "127      2.395  \n",
       "128      2.505  \n",
       "129      2.630  \n",
       "130      2.500  \n",
       "131      2.670  \n",
       "\n",
       "[66 rows x 35 columns]"
      ]
     },
     "execution_count": 3,
     "metadata": {
     },
     "output_type": "execute_result"
    }
   ],
   "source": [
    "#Se selecciona el nombre de una asignatura\n",
    "materia = completo[completo[\"Nombre_Asignatura\"]==\"Algebra lineal\"]\n",
    "materia"
   ]
  },
  {
   "cell_type": "markdown",
   "metadata": {
    "collapsed": false
   },
   "source": [
    "Se selecciona el dataframe (o matriz) con las variables de interés"
   ]
  },
  {
   "cell_type": "code",
   "execution_count": 60,
   "metadata": {
    "collapsed": false
   },
   "outputs": [
   ],
   "source": [
    "#X = np.array(list(zip(x,y)))\n",
    "X = materia[[\"Nota_1er_Corte\",\"Nota_2do_Corte\"]]"
   ]
  },
  {
   "cell_type": "markdown",
   "metadata": {
    "collapsed": false
   },
   "source": [
    "## Análisis con KNN"
   ]
  },
  {
   "cell_type": "code",
   "execution_count": 87,
   "metadata": {
    "collapsed": false
   },
   "outputs": [
   ],
   "source": [
    "def funcion_paso(x):\n",
    "    #x nota final\n",
    "    #return si paso o perdio como etiquetas para modelos de predicción\n",
    "    if(x >= 3):\n",
    "        return 1\n",
    "    elif(x <3):\n",
    "        return 0"
   ]
  },
  {
   "cell_type": "code",
   "execution_count": 88,
   "metadata": {
    "collapsed": false
   },
   "outputs": [
    {
     "name": "stderr",
     "output_type": "stream",
     "text": [
      "/ext/anaconda-2019.03/lib/python3.7/site-packages/ipykernel/__main__.py:2: SettingWithCopyWarning: \n",
      "A value is trying to be set on a copy of a slice from a DataFrame.\n",
      "Try using .loc[row_indexer,col_indexer] = value instead\n",
      "\n",
      "See the caveats in the documentation: https://pandas.pydata.org/pandas-docs/stable/user_guide/indexing.html#returning-a-view-versus-a-copy\n",
      "  from ipykernel import kernelapp as app\n"
     ]
    }
   ],
   "source": [
    "#materia = completo[completo[\"Nombre_Asignatura\"]==\"Algebra lineal\"]\n",
    "materia[\"Paso\"] = materia.apply(lambda row: funcion_paso(row[\"Nota_final\"]),axis=1 )\n",
    "my_labels = materia[\"Paso\"]"
   ]
  },
  {
   "cell_type": "code",
   "execution_count": 89,
   "metadata": {
    "collapsed": false
   },
   "outputs": [
   ],
   "source": [
    "# DUDA: El análisis se hará con las columnas seleccionadas en X pero deberia hacerse con todas las columnas de los cortes\n",
    "X_train,X_test,Y_train,Y_test=train_test_split(X,my_labels)"
   ]
  },
  {
   "cell_type": "code",
   "execution_count": 90,
   "metadata": {
    "collapsed": false
   },
   "outputs": [
    {
     "data": {
      "text/html": [
       "<div>\n",
       "<style scoped>\n",
       "    .dataframe tbody tr th:only-of-type {\n",
       "        vertical-align: middle;\n",
       "    }\n",
       "\n",
       "    .dataframe tbody tr th {\n",
       "        vertical-align: top;\n",
       "    }\n",
       "\n",
       "    .dataframe thead th {\n",
       "        text-align: right;\n",
       "    }\n",
       "</style>\n",
       "<table border=\"1\" class=\"dataframe\">\n",
       "  <thead>\n",
       "    <tr style=\"text-align: right;\">\n",
       "      <th></th>\n",
       "      <th>Nota_1er_Corte</th>\n",
       "      <th>Nota_2do_Corte</th>\n",
       "    </tr>\n",
       "  </thead>\n",
       "  <tbody>\n",
       "    <tr>\n",
       "      <th>66</th>\n",
       "      <td>4.0</td>\n",
       "      <td>3.8</td>\n",
       "    </tr>\n",
       "    <tr>\n",
       "      <th>67</th>\n",
       "      <td>5.0</td>\n",
       "      <td>3.7</td>\n",
       "    </tr>\n",
       "    <tr>\n",
       "      <th>68</th>\n",
       "      <td>4.1</td>\n",
       "      <td>4.0</td>\n",
       "    </tr>\n",
       "    <tr>\n",
       "      <th>69</th>\n",
       "      <td>3.5</td>\n",
       "      <td>3.7</td>\n",
       "    </tr>\n",
       "    <tr>\n",
       "      <th>70</th>\n",
       "      <td>2.9</td>\n",
       "      <td>3.3</td>\n",
       "    </tr>\n",
       "    <tr>\n",
       "      <th>...</th>\n",
       "      <td>...</td>\n",
       "      <td>...</td>\n",
       "    </tr>\n",
       "    <tr>\n",
       "      <th>127</th>\n",
       "      <td>2.7</td>\n",
       "      <td>2.6</td>\n",
       "    </tr>\n",
       "    <tr>\n",
       "      <th>128</th>\n",
       "      <td>2.5</td>\n",
       "      <td>1.8</td>\n",
       "    </tr>\n",
       "    <tr>\n",
       "      <th>129</th>\n",
       "      <td>1.3</td>\n",
       "      <td>2.6</td>\n",
       "    </tr>\n",
       "    <tr>\n",
       "      <th>130</th>\n",
       "      <td>2.8</td>\n",
       "      <td>1.7</td>\n",
       "    </tr>\n",
       "    <tr>\n",
       "      <th>131</th>\n",
       "      <td>3.0</td>\n",
       "      <td>2.4</td>\n",
       "    </tr>\n",
       "  </tbody>\n",
       "</table>\n",
       "<p>66 rows × 2 columns</p>\n",
       "</div>"
      ],
      "text/plain": [
       "     Nota_1er_Corte  Nota_2do_Corte\n",
       "66              4.0             3.8\n",
       "67              5.0             3.7\n",
       "68              4.1             4.0\n",
       "69              3.5             3.7\n",
       "70              2.9             3.3\n",
       "..              ...             ...\n",
       "127             2.7             2.6\n",
       "128             2.5             1.8\n",
       "129             1.3             2.6\n",
       "130             2.8             1.7\n",
       "131             3.0             2.4\n",
       "\n",
       "[66 rows x 2 columns]"
      ]
     },
     "execution_count": 90,
     "metadata": {
     },
     "output_type": "execute_result"
    }
   ],
   "source": [
    "X"
   ]
  },
  {
   "cell_type": "code",
   "execution_count": 91,
   "metadata": {
    "collapsed": false
   },
   "outputs": [
   ],
   "source": [
    "n = 2 # numero de grupos, i.e., paso o no paso\n",
    "knn = KNeighborsClassifier(n_neighbors=n)"
   ]
  },
  {
   "cell_type": "code",
   "execution_count": 92,
   "metadata": {
    "collapsed": false
   },
   "outputs": [
    {
     "data": {
      "text/plain": [
       "KNeighborsClassifier(algorithm='auto', leaf_size=30, metric='minkowski',\n",
       "                     metric_params=None, n_jobs=None, n_neighbors=2, p=2,\n",
       "                     weights='uniform')"
      ]
     },
     "execution_count": 92,
     "metadata": {
     },
     "output_type": "execute_result"
    }
   ],
   "source": [
    "knn.fit(X_train,Y_train)"
   ]
  },
  {
   "cell_type": "code",
   "execution_count": 93,
   "metadata": {
    "collapsed": false
   },
   "outputs": [
    {
     "data": {
      "text/plain": [
       "0.8235294117647058"
      ]
     },
     "execution_count": 93,
     "metadata": {
     },
     "output_type": "execute_result"
    }
   ],
   "source": [
    "knn.score(X_test,Y_test) # Si es 1 es demasiado bueno"
   ]
  },
  {
   "cell_type": "code",
   "execution_count": 94,
   "metadata": {
    "collapsed": false
   },
   "outputs": [
    {
     "name": "stdout",
     "output_type": "stream",
     "text": [
      "Accuracy: 0.8235294117647058\n"
     ]
    }
   ],
   "source": [
    "y_pred=knn.predict(X_test)\n",
    "print(\"Accuracy:\",metrics.accuracy_score(Y_test, y_pred))"
   ]
  },
  {
   "cell_type": "code",
   "execution_count": 95,
   "metadata": {
    "collapsed": false
   },
   "outputs": [
   ],
   "source": [
    "# Prediciendo a partir de nuevos registros  de la misma dimension a los registros con los que se entrenó el modelo\n",
    "Y_pred = knn.predict(X_test)"
   ]
  },
  {
   "cell_type": "code",
   "execution_count": 97,
   "metadata": {
    "collapsed": false
   },
   "outputs": [
    {
     "data": {
      "image/png": "[encoded data removed]",
      "text/plain": [
       "<Figure size 576x576 with 1 Axes>"
      ]
     },
     "execution_count": 97,
     "metadata": {
      "image/png": {
       "height": 465,
       "width": 534
      },
      "needs_background": "light"
     },
     "output_type": "execute_result"
    }
   ],
   "source": [
    "# Matriz de confusion\n",
    "cm = confusion_matrix(Y_test,Y_pred,labels = [0, 1])\n",
    "\n",
    "fig, ax = plt.subplots(figsize=(8, 8))\n",
    "ax.imshow(cm)\n",
    "ax.grid(False)\n",
    "ax.xaxis.set(ticks=(0, 1), ticklabels=('Predicho 0: Perdio', 'Predicho 1: Paso'))\n",
    "ax.yaxis.set(ticks=(0, 1), ticklabels=('Actual 0: Perdio', 'Actual 1: Paso'))\n",
    "ax.set_ylim(1.5, -0.5)\n",
    "for i in range(2):\n",
    "    for j in range(2):\n",
    "        ax.text(j, i, cm[i, j], ha='center', va='center', color='red')\n",
    "plt.show()"
   ]
  },
  {
   "cell_type": "code",
   "execution_count": 105,
   "metadata": {
    "collapsed": false
   },
   "outputs": [
    {
     "name": "stdout",
     "output_type": "stream",
     "text": [
      "              precision    recall  f1-score   support\n",
      "\n",
      "           0       0.71      0.83      0.77         6\n",
      "           1       0.90      0.82      0.86        11\n",
      "\n",
      "    accuracy                           0.82        17\n",
      "   macro avg       0.81      0.83      0.81        17\n",
      "weighted avg       0.83      0.82      0.83        17\n",
      "\n"
     ]
    }
   ],
   "source": [
    "# Reporte de precision del modelo KNN:\n",
    "print(classification_report(Y_test,Y_pred,labels=[0,1]))"
   ]
  },
  {
   "cell_type": "markdown",
   "metadata": {
    "collapsed": false
   },
   "source": [
    "# Conclusion de modelos KNN y KMC a partir de estudiantes con resultados buenos y malos\n",
    "Los puntajes Elbow score y Silhouette score mostraron que 2 clusters es el mejor valor para hacer la clasificación de los datos. Como esta clasificación tiene en cuenta tanto las notas buenas como las malas se va a examinar ahora como fue la clasificación para los resultados malos y como se puede mejorar estas clasificaciones."
   ]
  },
  {
   "cell_type": "markdown",
   "metadata": {
    "collapsed": false
   },
   "source": [
    "## Clasificador Bayesiano"
   ]
  },
  {
   "cell_type": "markdown",
   "metadata": {
    "collapsed": false
   },
   "source": [
    "* *Probabilidad Condicional* : $P(Pase \\ algo | dado \\ que \\ paso \\ algo)$\n",
    "* *Probabilidad a Priori*: Probabilidad de un caso dividido por el numero total de casos.\n",
    "\n",
    "**Definición**\n",
    "\n",
    "Dado un conjunto de clasificaciones mutualmente exclusivo y exhaustivo de classificaciones $c_1,c_2,c_k$, las cuales poseen probabilidades a priori $P(c_1),P(c_2),...,P(c_k)$ respectivamente, y $n$ atributos $a_1,a_2,...,a_n$ para los cuales dada una instancia(record/registro) posee valores $v_1,v_2,...,v_n$ respectivamente, la probabilidad posterior de la clase $c_i$ que ocurre para la estancia especificad puede ser mostrada proporcionalmente a :\n",
    "\n",
    "\\begin{equation*}\n",
    "    P(c_i) \\times P(a_1=v_1 \\ y \\ a_2=v_2... \\ y \\ a_n=v_n|c_i)\n",
    "\\end{equation*}\n",
    "\n",
    "Suponiendo que la probabilidad de los atributos son independientes (Generalmente no pasa, pero sigue funcionando), el valor de esta expresión puede ser calculado utilizando el producto.\n",
    "\\begin{equation*}\n",
    "    P(c_i) \\times P(a_1=v_1|c_i) \\times P(a_2=v_2|c_i) \\times P(a_3=v_3|c_i) \\times P(a_3=v_3|c_i) \\times\n",
    "\\end{equation*}\n",
    "\n",
    "Se calcula este producto por cada valor de $i \\in [k]$ (Es decir cada clase) y se elige la clasificacion que posee el valor mas grande.\n",
    "\n",
    "__________________________________________________________________________\n",
    "\n",
    "Esta ultima expresión es escrita aveces como $P(C_i)\\times \\prod_{j=1}^n P(a_j=v_j | class =c_i)$. La suma de estas probabilidades no da 1, sin embargo se puede nomr"
   ]
  },
  {
   "cell_type": "code",
   "execution_count": 26,
   "metadata": {
    "collapsed": false
   },
   "outputs": [
    {
     "data": {
      "text/plain": [
       "66     3.905\n",
       "67     4.040\n",
       "68     4.305\n",
       "69     3.560\n",
       "70     2.815\n",
       "       ...  \n",
       "127    2.395\n",
       "128    2.505\n",
       "129    2.630\n",
       "130    2.500\n",
       "131    2.670\n",
       "Name: Nota_final, Length: 66, dtype: float64"
      ]
     },
     "execution_count": 26,
     "metadata": {
     },
     "output_type": "execute_result"
    }
   ],
   "source": [
    "materia[\"Nota_final\"]"
   ]
  },
  {
   "cell_type": "code",
   "execution_count": 54,
   "metadata": {
    "collapsed": false
   },
   "outputs": [
    {
     "ename": "SyntaxError",
     "evalue": "invalid syntax (<ipython-input-54-8709d2ba18ba>, line 2)",
     "output_type": "error",
     "traceback": [
      "\u001b[0;36m  File \u001b[0;32m\"<ipython-input-54-8709d2ba18ba>\"\u001b[0;36m, line \u001b[0;32m2\u001b[0m\n\u001b[0;31m    Y = materia[\"Paso\"]\u001b[0m\n\u001b[0m    ^\u001b[0m\n\u001b[0;31mSyntaxError\u001b[0m\u001b[0;31m:\u001b[0m invalid syntax\n"
     ]
    }
   ],
   "source": [
    "X = materia[[\"Nota_1er_Corte\"]\n",
    "Y = materia[\"Paso\"]"
   ]
  },
  {
   "cell_type": "code",
   "execution_count": 51,
   "metadata": {
    "collapsed": false
   },
   "outputs": [
    {
     "name": "stdout",
     "output_type": "stream",
     "text": [
      "Accuracy: 0.85\n"
     ]
    }
   ],
   "source": [
    "from sklearn import metrics\n",
    "X_train, X_test, y_train, y_test = train_test_split(X, Y, test_size=0.3)\n",
    "gnb = GaussianNB()\n",
    "gnb.fit(X_train,y_train)\n",
    "y_pred = gnb.predict(X_test)\n",
    "print(\"Accuracy:\",metrics.accuracy_score(y_test, y_pred))"
   ]
  },
  {
   "cell_type": "code",
   "execution_count": 53,
   "metadata": {
    "collapsed": false
   },
   "outputs": [
    {
     "data": {
      "image/png": "[encoded data removed]",
      "text/plain": [
       "<Figure size 576x576 with 1 Axes>"
      ]
     },
     "execution_count": 53,
     "metadata": {
      "image/png": {
       "height": 465,
       "width": 502
      },
      "needs_background": "light"
     },
     "output_type": "execute_result"
    }
   ],
   "source": [
    "cm = confusion_matrix(y_test,y_pred)\n",
    "\n",
    "fig, ax = plt.subplots(figsize=(8, 8))\n",
    "ax.imshow(cm)\n",
    "ax.grid(False)\n",
    "ax.xaxis.set(ticks=(0, 1), ticklabels=('Predicho 0: Perdio', 'Predicho 1: Paso'))\n",
    "ax.yaxis.set(ticks=(0, 1), ticklabels=('Actual 0: Perdio', 'Actual 1: Paso'))\n",
    "ax.set_ylim(1.5, -0.5)\n",
    "for i in range(2):\n",
    "    for j in range(2):\n",
    "        ax.text(j, i, cm[i, j], ha='center', va='center', color='red')\n",
    "plt.show()"
   ]
  },
  {
   "cell_type": "markdown",
   "metadata": {
    "collapsed": false
   },
   "source": [
    "## Regresion Logistica"
   ]
  },
  {
   "cell_type": "markdown",
   "metadata": {
    "collapsed": false
   },
   "source": [
    "La regresión logitica trabaja con posibilidades en vez de proporciones. Las posibilidades es simplemente la division/radio de proporción de los dos posibles resultados. Si $p$ es la proporcion de un resultado y $1-p$ la proporción del segundo resultado:\n",
    "\n",
    "\\begin{equation*}\n",
    "    posibilidades = \\frac{p}{1-p}\n",
    "\\end{equation*}\n",
    "\n",
    "La regresión logistica modela las posibilidades en terminos de variables explicativas. Es decir:\n",
    "\n",
    "\\begin{equation*}\n",
    "    log(\\frac{p}{1-p}) = B_0+B_1x\n",
    "\\end{equation*}\n",
    "\n",
    "Las probabilidades son estimadas con la función sigmoide $p(x)=\\frac{1}{1+exp(-f(x_1,x_2))}$"
   ]
  },
  {
   "cell_type": "code",
   "execution_count": 31,
   "metadata": {
    "collapsed": false
   },
   "outputs": [
   ],
   "source": [
    "model = LogisticRegression(solver='liblinear')"
   ]
  },
  {
   "cell_type": "code",
   "execution_count": 32,
   "metadata": {
    "collapsed": false
   },
   "outputs": [
   ],
   "source": [
    "result = model.fit(X_train,y_train)"
   ]
  },
  {
   "cell_type": "code",
   "execution_count": 33,
   "metadata": {
    "collapsed": false
   },
   "outputs": [
    {
     "name": "stdout",
     "output_type": "stream",
     "text": [
      "Accuracy: 0.9\n"
     ]
    }
   ],
   "source": [
    "y_pred=model.predict(X_test)\n",
    "print(\"Accuracy:\",metrics.accuracy_score(y_test, y_pred))"
   ]
  },
  {
   "cell_type": "code",
   "execution_count": 39,
   "metadata": {
    "collapsed": false
   },
   "outputs": [
    {
     "data": {
      "image/png": "[encoded data removed]",
      "text/plain": [
       "<Figure size 576x576 with 1 Axes>"
      ]
     },
     "execution_count": 39,
     "metadata": {
      "image/png": {
       "height": 465,
       "width": 502
      },
      "needs_background": "light"
     },
     "output_type": "execute_result"
    }
   ],
   "source": [
    "cm = confusion_matrix(y_test,y_pred)\n",
    "\n",
    "fig, ax = plt.subplots(figsize=(8, 8))\n",
    "ax.imshow(cm)\n",
    "ax.grid(False)\n",
    "ax.xaxis.set(ticks=(0, 1), ticklabels=('Predicho 0: Perdio', 'Predicho 1: Paso'))\n",
    "ax.yaxis.set(ticks=(0, 1), ticklabels=('Actual 0: Perdio', 'Actual 1: Paso'))\n",
    "ax.set_ylim(1.5, -0.5)\n",
    "for i in range(2):\n",
    "    for j in range(2):\n",
    "        ax.text(j, i, cm[i, j], ha='center', va='center', color='red')\n",
    "plt.show()"
   ]
  },
  {
   "cell_type": "code",
   "execution_count": 35,
   "metadata": {
    "collapsed": false
   },
   "outputs": [
    {
     "data": {
      "text/plain": [
       "array([[ 2,  2],\n",
       "       [ 0, 16]])"
      ]
     },
     "execution_count": 35,
     "metadata": {
     },
     "output_type": "execute_result"
    }
   ],
   "source": [
    "confusion_matrix(y_test,y_pred)"
   ]
  },
  {
   "cell_type": "code",
   "execution_count": 36,
   "metadata": {
    "collapsed": false
   },
   "outputs": [
    {
     "name": "stdout",
     "output_type": "stream",
     "text": [
      "              precision    recall  f1-score   support\n",
      "\n",
      "     no paso       1.00      0.50      0.67         4\n",
      "        paso       0.89      1.00      0.94        16\n",
      "\n",
      "    accuracy                           0.90        20\n",
      "   macro avg       0.94      0.75      0.80        20\n",
      "weighted avg       0.91      0.90      0.89        20\n",
      "\n"
     ]
    }
   ],
   "source": [
    "print(classification_report(y_test, y_pred))"
   ]
  },
  {
   "cell_type": "code",
   "execution_count": 37,
   "metadata": {
    "collapsed": false
   },
   "outputs": [
    {
     "ename": "AttributeError",
     "evalue": "'LogisticRegression' object has no attribute 'summary2'",
     "output_type": "error",
     "traceback": [
      "\u001b[0;31m---------------------------------------------------------------------------\u001b[0m",
      "\u001b[0;31mAttributeError\u001b[0m                            Traceback (most recent call last)",
      "\u001b[0;32m<ipython-input-37-9602f1fd3f92>\u001b[0m in \u001b[0;36m<module>\u001b[0;34m()\u001b[0m\n\u001b[0;32m----> 1\u001b[0;31m \u001b[0mresult\u001b[0m\u001b[0;34m.\u001b[0m\u001b[0msummary2\u001b[0m\u001b[0;34m(\u001b[0m\u001b[0;34m)\u001b[0m\u001b[0;34m\u001b[0m\u001b[0;34m\u001b[0m\u001b[0m\n\u001b[0m",
      "\u001b[0;31mAttributeError\u001b[0m: 'LogisticRegression' object has no attribute 'summary2'"
     ]
    }
   ],
   "source": [
    "result.summary2()"
   ]
  },
  {
   "cell_type": "code",
   "execution_count": 0,
   "metadata": {
    "collapsed": false
   },
   "outputs": [
   ],
   "source": [
   ]
  }
 ],
 "metadata": {
  "kernelspec": {
   "display_name": "Python 3 (Anaconda 2019)",
   "env": {
    "AR": "/ext/anaconda-2019.03/bin/x86_64-conda_cos6-linux-gnu-ar",
    "AS": "/ext/anaconda-2019.03/bin/x86_64-conda_cos6-linux-gnu-as",
    "CC": "/ext/anaconda-2019.03/bin/x86_64-conda_cos6-linux-gnu-cc",
    "CONDA_EXE": "/ext/anaconda-2019.03/bin/conda",
    "CONDA_PREFIX": "/ext/anaconda-2019.03",
    "CONDA_PYTHON_EXE": "/ext/anaconda-2019.03/bin/python",
    "CPP": "/ext/anaconda-2019.03/bin/x86_64-conda_cos6-linux-gnu-cpp",
    "CXX": "/ext/anaconda-2019.03/bin/x86_64-conda_cos6-linux-gnu-c++",
    "CXXFILT": "/ext/anaconda-2019.03/bin/x86_64-conda_cos6-linux-gnu-c++filt",
    "ELFEDIT": "/ext/anaconda-2019.03/bin/x86_64-conda_cos6-linux-gnu-elfedit",
    "F77": "/ext/anaconda-2019.03/bin/x86_64-conda_cos6-linux-gnu-gfortran",
    "F90": "/ext/anaconda-2019.03/bin/x86_64-conda_cos6-linux-gnu-gfortran",
    "F95": "/ext/anaconda-2019.03/bin/x86_64-conda_cos6-linux-gnu-f95",
    "FC": "/ext/anaconda-2019.03/bin/x86_64-conda_cos6-linux-gnu-gfortran",
    "GCC": "/ext/anaconda-2019.03/bin/x86_64-conda_cos6-linux-gnu-gcc",
    "GCC_AR": "/ext/anaconda-2019.03/bin/x86_64-conda_cos6-linux-gnu-gcc-ar",
    "GCC_NM": "/ext/anaconda-2019.03/bin/x86_64-conda_cos6-linux-gnu-gcc-nm",
    "GCC_RANLIB": "/ext/anaconda-2019.03/bin/x86_64-conda_cos6-linux-gnu-gcc-ranlib",
    "GDAL_DATA": "/ext/anaconda-2019.03/share/gdal",
    "GFORTRAN": "/ext/anaconda-2019.03/bin/x86_64-conda_cos6-linux-gnu-gfortran",
    "GPROF": "/ext/anaconda-2019.03/bin/x86_64-conda_cos6-linux-gnu-gprof",
    "GXX": "/ext/anaconda-2019.03/bin/x86_64-conda_cos6-linux-gnu-g++",
    "JAVA_HOME": "/ext/anaconda-2019.03",
    "JAVA_LD_LIBRARY_PATH": "/ext/anaconda-2019.03/lib/server",
    "LD": "/ext/anaconda-2019.03/bin/x86_64-conda_cos6-linux-gnu-ld",
    "LD_GOLD": "/ext/anaconda-2019.03/bin/x86_64-conda_cos6-linux-gnu-ld.gold",
    "LD_LIBRARY_PATH": "/ext/anaconda-2019.03/lib",
    "NM": "/ext/anaconda-2019.03/bin/x86_64-conda_cos6-linux-gnu-nm",
    "OBJCOPY": "/ext/anaconda-2019.03/bin/x86_64-conda_cos6-linux-gnu-objcopy",
    "OBJDUMP": "/ext/anaconda-2019.03/bin/x86_64-conda_cos6-linux-gnu-objdump",
    "OCAMLFIND_CONF": "/ext/anaconda-2019.03/etc/findlib.conf",
    "OCAMLLIB": "/ext/anaconda-2019.03/lib/ocaml",
    "OCAML_PREFIX": "/ext/anaconda-2019.03",
    "PATH": "/ext/anaconda-2019.03/bin:/ext/anaconda-2019.03/condabin:/cocalc/bin:/cocalc/src/smc-project/bin:/home/user/bin:/home/user/.local/bin:/ext/bin:/usr/lib/xpra:/opt/ghc/bin:/usr/local/bin:/usr/bin:/bin:/ext/data/homer/bin:/ext/data/weblogo:/ext/intellij/idea/bin:/ext/pycharm/pycharm/bin:/usr/lib/postgresql/10/bin",
    "PROJ_LIB": "/ext/anaconda-2019.03/share/proj",
    "PYTHONHOME": "/ext/anaconda-2019.03/lib/python3.7",
    "PYTHONPATH": "/ext/anaconda-2019.03/lib/python3.7:/ext/anaconda-2019.03/lib/python3.7/site-packages",
    "RANLIB": "/ext/anaconda-2019.03/bin/x86_64-conda_cos6-linux-gnu-ranlib",
    "READELF": "/ext/anaconda-2019.03/bin/x86_64-conda_cos6-linux-gnu-readelf",
    "RSTUDIO_WHICH_R": "/ext/anaconda-2019.03/bin/R",
    "SIZE": "/ext/anaconda-2019.03/bin/x86_64-conda_cos6-linux-gnu-size",
    "STRINGS": "/ext/anaconda-2019.03/bin/x86_64-conda_cos6-linux-gnu-strings",
    "STRIP": "/ext/anaconda-2019.03/bin/x86_64-conda_cos6-linux-gnu-strip"
   },
   "language": "python",
   "metadata": {
    "cocalc": {
     "description": "Python/R distribution for data science",
     "priority": 5,
     "url": "https://www.anaconda.com/distribution/"
    }
   },
   "name": "anaconda2019"
  },
  "language_info": {
   "codemirror_mode": {
    "name": "ipython",
    "version": 3
   },
   "file_extension": ".py",
   "mimetype": "text/x-python",
   "name": "python",
   "nbconvert_exporter": "python",
   "pygments_lexer": "ipython3",
   "version": "3.7.7"
  }
 },
 "nbformat": 4,
 "nbformat_minor": 4
}